{
 "cells": [
  {
   "cell_type": "markdown",
   "id": "3ee57a27",
   "metadata": {},
   "source": [
    "# Описание проекта"
   ]
  },
  {
   "cell_type": "markdown",
   "id": "abada71a",
   "metadata": {},
   "source": [
    "Колонки в `telecom_dataset.csv`:\n",
    "\n",
    "- `user_id` — Идентификатор клиентского аккаунта в сервисе\n",
    "- `date` — Дата статистики\n",
    "- `direction` — Направление вызовов (out - исходящий вызов, in — входящий вызов)\n",
    "- `internal` — Является ли звонок внутренним звонком между операторами клиента\n",
    "- `operator_id` — Идентификатор оператора\n",
    "- `is_missed_call` — Является ли звонок пропущенным\n",
    "- `calls_count` — Количество звонков\n",
    "- `call_duration` — Длительность звонка (без учета времени ожидания)\n",
    "- `total_call_duration` — Длительность звонка (с учетом времени ожидания)\n",
    "\n",
    "Колонки в `telecom_clients.csv`:\n",
    "\n",
    "- `user_id` — Идентификатор клиентского аккаунта в сервисе\n",
    "- `tariff_plan` — Текущий тарифный план клиента\n",
    "- `date_start` — Дата регистрации клиентв в сервисе"
   ]
  },
  {
   "cell_type": "markdown",
   "id": "5f631df6",
   "metadata": {},
   "source": [
    "# Шаг 1"
   ]
  },
  {
   "cell_type": "markdown",
   "id": "7051edd2",
   "metadata": {},
   "source": [
    "## Откроем таблицу и изучим общую информацию о данных"
   ]
  },
  {
   "cell_type": "code",
   "execution_count": 1,
   "id": "8eb01fe2",
   "metadata": {},
   "outputs": [],
   "source": [
    "# загружаем все нужные библиотеки\n",
    "\n",
    "import pandas as pd\n",
    "import datetime as dt\n",
    "import math as mth\n",
    "import pytz\n",
    "import matplotlib.pyplot as plt\n",
    "import seaborn as sns\n",
    "from scipy import stats as st\n",
    "import datetime as dt\n",
    "import numpy as np\n",
    "from datetime import datetime, timezone"
   ]
  },
  {
   "cell_type": "code",
   "execution_count": 2,
   "id": "36c18140",
   "metadata": {},
   "outputs": [
    {
     "data": {
      "text/html": [
       "<div>\n",
       "<style scoped>\n",
       "    .dataframe tbody tr th:only-of-type {\n",
       "        vertical-align: middle;\n",
       "    }\n",
       "\n",
       "    .dataframe tbody tr th {\n",
       "        vertical-align: top;\n",
       "    }\n",
       "\n",
       "    .dataframe thead th {\n",
       "        text-align: right;\n",
       "    }\n",
       "</style>\n",
       "<table border=\"1\" class=\"dataframe\">\n",
       "  <thead>\n",
       "    <tr style=\"text-align: right;\">\n",
       "      <th></th>\n",
       "      <th>user_id</th>\n",
       "      <th>tariff_plan</th>\n",
       "      <th>date_start</th>\n",
       "    </tr>\n",
       "  </thead>\n",
       "  <tbody>\n",
       "    <tr>\n",
       "      <th>0</th>\n",
       "      <td>166713</td>\n",
       "      <td>A</td>\n",
       "      <td>2019-08-15</td>\n",
       "    </tr>\n",
       "    <tr>\n",
       "      <th>1</th>\n",
       "      <td>166901</td>\n",
       "      <td>A</td>\n",
       "      <td>2019-08-23</td>\n",
       "    </tr>\n",
       "    <tr>\n",
       "      <th>2</th>\n",
       "      <td>168527</td>\n",
       "      <td>A</td>\n",
       "      <td>2019-10-29</td>\n",
       "    </tr>\n",
       "    <tr>\n",
       "      <th>3</th>\n",
       "      <td>167097</td>\n",
       "      <td>A</td>\n",
       "      <td>2019-09-01</td>\n",
       "    </tr>\n",
       "    <tr>\n",
       "      <th>4</th>\n",
       "      <td>168193</td>\n",
       "      <td>A</td>\n",
       "      <td>2019-10-16</td>\n",
       "    </tr>\n",
       "  </tbody>\n",
       "</table>\n",
       "</div>"
      ],
      "text/plain": [
       "   user_id tariff_plan  date_start\n",
       "0   166713           A  2019-08-15\n",
       "1   166901           A  2019-08-23\n",
       "2   168527           A  2019-10-29\n",
       "3   167097           A  2019-09-01\n",
       "4   168193           A  2019-10-16"
      ]
     },
     "metadata": {},
     "output_type": "display_data"
    },
    {
     "data": {
      "text/html": [
       "<div>\n",
       "<style scoped>\n",
       "    .dataframe tbody tr th:only-of-type {\n",
       "        vertical-align: middle;\n",
       "    }\n",
       "\n",
       "    .dataframe tbody tr th {\n",
       "        vertical-align: top;\n",
       "    }\n",
       "\n",
       "    .dataframe thead th {\n",
       "        text-align: right;\n",
       "    }\n",
       "</style>\n",
       "<table border=\"1\" class=\"dataframe\">\n",
       "  <thead>\n",
       "    <tr style=\"text-align: right;\">\n",
       "      <th></th>\n",
       "      <th>user_id</th>\n",
       "      <th>date</th>\n",
       "      <th>direction</th>\n",
       "      <th>internal</th>\n",
       "      <th>operator_id</th>\n",
       "      <th>is_missed_call</th>\n",
       "      <th>calls_count</th>\n",
       "      <th>call_duration</th>\n",
       "      <th>total_call_duration</th>\n",
       "    </tr>\n",
       "  </thead>\n",
       "  <tbody>\n",
       "    <tr>\n",
       "      <th>0</th>\n",
       "      <td>166377</td>\n",
       "      <td>2019-08-04 00:00:00+03:00</td>\n",
       "      <td>in</td>\n",
       "      <td>False</td>\n",
       "      <td>NaN</td>\n",
       "      <td>True</td>\n",
       "      <td>2</td>\n",
       "      <td>0</td>\n",
       "      <td>4</td>\n",
       "    </tr>\n",
       "    <tr>\n",
       "      <th>1</th>\n",
       "      <td>166377</td>\n",
       "      <td>2019-08-05 00:00:00+03:00</td>\n",
       "      <td>out</td>\n",
       "      <td>True</td>\n",
       "      <td>880022.0</td>\n",
       "      <td>True</td>\n",
       "      <td>3</td>\n",
       "      <td>0</td>\n",
       "      <td>5</td>\n",
       "    </tr>\n",
       "    <tr>\n",
       "      <th>2</th>\n",
       "      <td>166377</td>\n",
       "      <td>2019-08-05 00:00:00+03:00</td>\n",
       "      <td>out</td>\n",
       "      <td>True</td>\n",
       "      <td>880020.0</td>\n",
       "      <td>True</td>\n",
       "      <td>1</td>\n",
       "      <td>0</td>\n",
       "      <td>1</td>\n",
       "    </tr>\n",
       "    <tr>\n",
       "      <th>3</th>\n",
       "      <td>166377</td>\n",
       "      <td>2019-08-05 00:00:00+03:00</td>\n",
       "      <td>out</td>\n",
       "      <td>True</td>\n",
       "      <td>880020.0</td>\n",
       "      <td>False</td>\n",
       "      <td>1</td>\n",
       "      <td>10</td>\n",
       "      <td>18</td>\n",
       "    </tr>\n",
       "    <tr>\n",
       "      <th>4</th>\n",
       "      <td>166377</td>\n",
       "      <td>2019-08-05 00:00:00+03:00</td>\n",
       "      <td>out</td>\n",
       "      <td>False</td>\n",
       "      <td>880022.0</td>\n",
       "      <td>True</td>\n",
       "      <td>3</td>\n",
       "      <td>0</td>\n",
       "      <td>25</td>\n",
       "    </tr>\n",
       "  </tbody>\n",
       "</table>\n",
       "</div>"
      ],
      "text/plain": [
       "   user_id                       date direction internal  operator_id  \\\n",
       "0   166377  2019-08-04 00:00:00+03:00        in    False          NaN   \n",
       "1   166377  2019-08-05 00:00:00+03:00       out     True     880022.0   \n",
       "2   166377  2019-08-05 00:00:00+03:00       out     True     880020.0   \n",
       "3   166377  2019-08-05 00:00:00+03:00       out     True     880020.0   \n",
       "4   166377  2019-08-05 00:00:00+03:00       out    False     880022.0   \n",
       "\n",
       "   is_missed_call  calls_count  call_duration  total_call_duration  \n",
       "0            True            2              0                    4  \n",
       "1            True            3              0                    5  \n",
       "2            True            1              0                    1  \n",
       "3           False            1             10                   18  \n",
       "4            True            3              0                   25  "
      ]
     },
     "execution_count": 2,
     "metadata": {},
     "output_type": "execute_result"
    }
   ],
   "source": [
    "try:\n",
    "    data_clients = pd.read_csv('/datasets/telecom_clients.csv') # таблица с колл-центрами и их тарифными планами\n",
    "    data = pd.read_csv('/datasets/telecom_dataset.csv') # основная рабочая таблица с нужными данными для анализа\n",
    "except:\n",
    "    data_clients = pd.read_csv('C://Users//79231//Downloads//telecom_clients.csv')\n",
    "    data = pd.read_csv('C://Users//79231//Downloads//telecom_dataset.csv')\n",
    "    \n",
    "display(data_clients.head())\n",
    "data.head()"
   ]
  },
  {
   "cell_type": "code",
   "execution_count": 3,
   "id": "12ed3fd9",
   "metadata": {},
   "outputs": [
    {
     "name": "stdout",
     "output_type": "stream",
     "text": [
      "<class 'pandas.core.frame.DataFrame'>\n",
      "RangeIndex: 53902 entries, 0 to 53901\n",
      "Data columns (total 9 columns):\n",
      " #   Column               Non-Null Count  Dtype  \n",
      "---  ------               --------------  -----  \n",
      " 0   user_id              53902 non-null  int64  \n",
      " 1   date                 53902 non-null  object \n",
      " 2   direction            53902 non-null  object \n",
      " 3   internal             53785 non-null  object \n",
      " 4   operator_id          45730 non-null  float64\n",
      " 5   is_missed_call       53902 non-null  bool   \n",
      " 6   calls_count          53902 non-null  int64  \n",
      " 7   call_duration        53902 non-null  int64  \n",
      " 8   total_call_duration  53902 non-null  int64  \n",
      "dtypes: bool(1), float64(1), int64(4), object(3)\n",
      "memory usage: 3.3+ MB\n"
     ]
    }
   ],
   "source": [
    "data.info()"
   ]
  },
  {
   "cell_type": "code",
   "execution_count": 4,
   "id": "6013d3b0",
   "metadata": {},
   "outputs": [
    {
     "data": {
      "text/plain": [
       "9800"
      ]
     },
     "execution_count": 4,
     "metadata": {},
     "output_type": "execute_result"
    }
   ],
   "source": [
    "data.duplicated(keep=False).sum() # посчитаем количество дубликатов. \n",
    "                                  #Выводим keep=False, чтобы вывести все дубликаты по каждому колл-центру"
   ]
  },
  {
   "cell_type": "code",
   "execution_count": 5,
   "id": "2ff412f9",
   "metadata": {},
   "outputs": [
    {
     "data": {
      "text/html": [
       "<div>\n",
       "<style scoped>\n",
       "    .dataframe tbody tr th:only-of-type {\n",
       "        vertical-align: middle;\n",
       "    }\n",
       "\n",
       "    .dataframe tbody tr th {\n",
       "        vertical-align: top;\n",
       "    }\n",
       "\n",
       "    .dataframe thead th {\n",
       "        text-align: right;\n",
       "    }\n",
       "</style>\n",
       "<table border=\"1\" class=\"dataframe\">\n",
       "  <thead>\n",
       "    <tr style=\"text-align: right;\">\n",
       "      <th></th>\n",
       "      <th>user_id</th>\n",
       "      <th>date</th>\n",
       "      <th>direction</th>\n",
       "      <th>internal</th>\n",
       "      <th>operator_id</th>\n",
       "      <th>is_missed_call</th>\n",
       "      <th>calls_count</th>\n",
       "      <th>call_duration</th>\n",
       "      <th>total_call_duration</th>\n",
       "    </tr>\n",
       "  </thead>\n",
       "  <tbody>\n",
       "    <tr>\n",
       "      <th>6</th>\n",
       "      <td>166377</td>\n",
       "      <td>2019-08-05 00:00:00+03:00</td>\n",
       "      <td>out</td>\n",
       "      <td>False</td>\n",
       "      <td>880020.0</td>\n",
       "      <td>True</td>\n",
       "      <td>8</td>\n",
       "      <td>0</td>\n",
       "      <td>50</td>\n",
       "    </tr>\n",
       "    <tr>\n",
       "      <th>8</th>\n",
       "      <td>166377</td>\n",
       "      <td>2019-08-05 00:00:00+03:00</td>\n",
       "      <td>out</td>\n",
       "      <td>False</td>\n",
       "      <td>880020.0</td>\n",
       "      <td>True</td>\n",
       "      <td>8</td>\n",
       "      <td>0</td>\n",
       "      <td>50</td>\n",
       "    </tr>\n",
       "    <tr>\n",
       "      <th>27</th>\n",
       "      <td>166377</td>\n",
       "      <td>2019-08-12 00:00:00+03:00</td>\n",
       "      <td>in</td>\n",
       "      <td>False</td>\n",
       "      <td>NaN</td>\n",
       "      <td>True</td>\n",
       "      <td>2</td>\n",
       "      <td>0</td>\n",
       "      <td>34</td>\n",
       "    </tr>\n",
       "    <tr>\n",
       "      <th>28</th>\n",
       "      <td>166377</td>\n",
       "      <td>2019-08-12 00:00:00+03:00</td>\n",
       "      <td>in</td>\n",
       "      <td>False</td>\n",
       "      <td>NaN</td>\n",
       "      <td>True</td>\n",
       "      <td>2</td>\n",
       "      <td>0</td>\n",
       "      <td>34</td>\n",
       "    </tr>\n",
       "    <tr>\n",
       "      <th>38</th>\n",
       "      <td>166377</td>\n",
       "      <td>2019-08-14 00:00:00+03:00</td>\n",
       "      <td>in</td>\n",
       "      <td>False</td>\n",
       "      <td>NaN</td>\n",
       "      <td>True</td>\n",
       "      <td>1</td>\n",
       "      <td>0</td>\n",
       "      <td>3</td>\n",
       "    </tr>\n",
       "    <tr>\n",
       "      <th>...</th>\n",
       "      <td>...</td>\n",
       "      <td>...</td>\n",
       "      <td>...</td>\n",
       "      <td>...</td>\n",
       "      <td>...</td>\n",
       "      <td>...</td>\n",
       "      <td>...</td>\n",
       "      <td>...</td>\n",
       "      <td>...</td>\n",
       "    </tr>\n",
       "    <tr>\n",
       "      <th>53875</th>\n",
       "      <td>168601</td>\n",
       "      <td>2019-11-26 00:00:00+03:00</td>\n",
       "      <td>in</td>\n",
       "      <td>False</td>\n",
       "      <td>NaN</td>\n",
       "      <td>True</td>\n",
       "      <td>3</td>\n",
       "      <td>0</td>\n",
       "      <td>35</td>\n",
       "    </tr>\n",
       "    <tr>\n",
       "      <th>53883</th>\n",
       "      <td>168603</td>\n",
       "      <td>2019-11-20 00:00:00+03:00</td>\n",
       "      <td>out</td>\n",
       "      <td>False</td>\n",
       "      <td>959118.0</td>\n",
       "      <td>True</td>\n",
       "      <td>3</td>\n",
       "      <td>0</td>\n",
       "      <td>89</td>\n",
       "    </tr>\n",
       "    <tr>\n",
       "      <th>53885</th>\n",
       "      <td>168603</td>\n",
       "      <td>2019-11-20 00:00:00+03:00</td>\n",
       "      <td>out</td>\n",
       "      <td>False</td>\n",
       "      <td>959118.0</td>\n",
       "      <td>True</td>\n",
       "      <td>3</td>\n",
       "      <td>0</td>\n",
       "      <td>89</td>\n",
       "    </tr>\n",
       "    <tr>\n",
       "      <th>53899</th>\n",
       "      <td>168606</td>\n",
       "      <td>2019-11-15 00:00:00+03:00</td>\n",
       "      <td>out</td>\n",
       "      <td>True</td>\n",
       "      <td>957922.0</td>\n",
       "      <td>False</td>\n",
       "      <td>4</td>\n",
       "      <td>3130</td>\n",
       "      <td>3190</td>\n",
       "    </tr>\n",
       "    <tr>\n",
       "      <th>53900</th>\n",
       "      <td>168606</td>\n",
       "      <td>2019-11-15 00:00:00+03:00</td>\n",
       "      <td>out</td>\n",
       "      <td>True</td>\n",
       "      <td>957922.0</td>\n",
       "      <td>False</td>\n",
       "      <td>4</td>\n",
       "      <td>3130</td>\n",
       "      <td>3190</td>\n",
       "    </tr>\n",
       "  </tbody>\n",
       "</table>\n",
       "<p>9800 rows × 9 columns</p>\n",
       "</div>"
      ],
      "text/plain": [
       "       user_id                       date direction internal  operator_id  \\\n",
       "6       166377  2019-08-05 00:00:00+03:00       out    False     880020.0   \n",
       "8       166377  2019-08-05 00:00:00+03:00       out    False     880020.0   \n",
       "27      166377  2019-08-12 00:00:00+03:00        in    False          NaN   \n",
       "28      166377  2019-08-12 00:00:00+03:00        in    False          NaN   \n",
       "38      166377  2019-08-14 00:00:00+03:00        in    False          NaN   \n",
       "...        ...                        ...       ...      ...          ...   \n",
       "53875   168601  2019-11-26 00:00:00+03:00        in    False          NaN   \n",
       "53883   168603  2019-11-20 00:00:00+03:00       out    False     959118.0   \n",
       "53885   168603  2019-11-20 00:00:00+03:00       out    False     959118.0   \n",
       "53899   168606  2019-11-15 00:00:00+03:00       out     True     957922.0   \n",
       "53900   168606  2019-11-15 00:00:00+03:00       out     True     957922.0   \n",
       "\n",
       "       is_missed_call  calls_count  call_duration  total_call_duration  \n",
       "6                True            8              0                   50  \n",
       "8                True            8              0                   50  \n",
       "27               True            2              0                   34  \n",
       "28               True            2              0                   34  \n",
       "38               True            1              0                    3  \n",
       "...               ...          ...            ...                  ...  \n",
       "53875            True            3              0                   35  \n",
       "53883            True            3              0                   89  \n",
       "53885            True            3              0                   89  \n",
       "53899           False            4           3130                 3190  \n",
       "53900           False            4           3130                 3190  \n",
       "\n",
       "[9800 rows x 9 columns]"
      ]
     },
     "execution_count": 5,
     "metadata": {},
     "output_type": "execute_result"
    }
   ],
   "source": [
    "data[data.duplicated(keep=False)] # выведем строки-дубликаты"
   ]
  },
  {
   "cell_type": "markdown",
   "id": "34fd78c5",
   "metadata": {},
   "source": [
    "У нас есть 53902 данных о работе операторов. Из них в столбце operator_id есть 8172 пропуска (это 15% от общего кол-ва данных) и в internal есть 117 пропусков (это 0.2%), также 4900 строк-дубликатов. Также столбцы date и operator_id имеют не походящие типы, нужно будет их изменить в дальнейшем."
   ]
  },
  {
   "cell_type": "markdown",
   "id": "2f9c0ad0",
   "metadata": {},
   "source": [
    "# Шаг 2. Предобработка данных"
   ]
  },
  {
   "cell_type": "markdown",
   "id": "ee1cfc81",
   "metadata": {},
   "source": [
    "## Приведем столбец date к нужному типу данных"
   ]
  },
  {
   "cell_type": "code",
   "execution_count": 6,
   "id": "140ad232",
   "metadata": {},
   "outputs": [
    {
     "name": "stdout",
     "output_type": "stream",
     "text": [
      "<class 'pandas.core.frame.DataFrame'>\n",
      "RangeIndex: 53902 entries, 0 to 53901\n",
      "Data columns (total 9 columns):\n",
      " #   Column               Non-Null Count  Dtype         \n",
      "---  ------               --------------  -----         \n",
      " 0   user_id              53902 non-null  int64         \n",
      " 1   date                 53902 non-null  datetime64[ns]\n",
      " 2   direction            53902 non-null  object        \n",
      " 3   internal             53785 non-null  object        \n",
      " 4   operator_id          45730 non-null  float64       \n",
      " 5   is_missed_call       53902 non-null  bool          \n",
      " 6   calls_count          53902 non-null  int64         \n",
      " 7   call_duration        53902 non-null  int64         \n",
      " 8   total_call_duration  53902 non-null  int64         \n",
      "dtypes: bool(1), datetime64[ns](1), float64(1), int64(4), object(2)\n",
      "memory usage: 3.3+ MB\n"
     ]
    },
    {
     "data": {
      "text/plain": [
       "None"
      ]
     },
     "metadata": {},
     "output_type": "display_data"
    },
    {
     "data": {
      "text/html": [
       "<div>\n",
       "<style scoped>\n",
       "    .dataframe tbody tr th:only-of-type {\n",
       "        vertical-align: middle;\n",
       "    }\n",
       "\n",
       "    .dataframe tbody tr th {\n",
       "        vertical-align: top;\n",
       "    }\n",
       "\n",
       "    .dataframe thead th {\n",
       "        text-align: right;\n",
       "    }\n",
       "</style>\n",
       "<table border=\"1\" class=\"dataframe\">\n",
       "  <thead>\n",
       "    <tr style=\"text-align: right;\">\n",
       "      <th></th>\n",
       "      <th>user_id</th>\n",
       "      <th>date</th>\n",
       "      <th>direction</th>\n",
       "      <th>internal</th>\n",
       "      <th>operator_id</th>\n",
       "      <th>is_missed_call</th>\n",
       "      <th>calls_count</th>\n",
       "      <th>call_duration</th>\n",
       "      <th>total_call_duration</th>\n",
       "    </tr>\n",
       "  </thead>\n",
       "  <tbody>\n",
       "    <tr>\n",
       "      <th>0</th>\n",
       "      <td>166377</td>\n",
       "      <td>2019-08-04</td>\n",
       "      <td>in</td>\n",
       "      <td>False</td>\n",
       "      <td>NaN</td>\n",
       "      <td>True</td>\n",
       "      <td>2</td>\n",
       "      <td>0</td>\n",
       "      <td>4</td>\n",
       "    </tr>\n",
       "    <tr>\n",
       "      <th>1</th>\n",
       "      <td>166377</td>\n",
       "      <td>2019-08-05</td>\n",
       "      <td>out</td>\n",
       "      <td>True</td>\n",
       "      <td>880022.0</td>\n",
       "      <td>True</td>\n",
       "      <td>3</td>\n",
       "      <td>0</td>\n",
       "      <td>5</td>\n",
       "    </tr>\n",
       "    <tr>\n",
       "      <th>2</th>\n",
       "      <td>166377</td>\n",
       "      <td>2019-08-05</td>\n",
       "      <td>out</td>\n",
       "      <td>True</td>\n",
       "      <td>880020.0</td>\n",
       "      <td>True</td>\n",
       "      <td>1</td>\n",
       "      <td>0</td>\n",
       "      <td>1</td>\n",
       "    </tr>\n",
       "    <tr>\n",
       "      <th>3</th>\n",
       "      <td>166377</td>\n",
       "      <td>2019-08-05</td>\n",
       "      <td>out</td>\n",
       "      <td>True</td>\n",
       "      <td>880020.0</td>\n",
       "      <td>False</td>\n",
       "      <td>1</td>\n",
       "      <td>10</td>\n",
       "      <td>18</td>\n",
       "    </tr>\n",
       "    <tr>\n",
       "      <th>4</th>\n",
       "      <td>166377</td>\n",
       "      <td>2019-08-05</td>\n",
       "      <td>out</td>\n",
       "      <td>False</td>\n",
       "      <td>880022.0</td>\n",
       "      <td>True</td>\n",
       "      <td>3</td>\n",
       "      <td>0</td>\n",
       "      <td>25</td>\n",
       "    </tr>\n",
       "  </tbody>\n",
       "</table>\n",
       "</div>"
      ],
      "text/plain": [
       "   user_id       date direction internal  operator_id  is_missed_call  \\\n",
       "0   166377 2019-08-04        in    False          NaN            True   \n",
       "1   166377 2019-08-05       out     True     880022.0            True   \n",
       "2   166377 2019-08-05       out     True     880020.0            True   \n",
       "3   166377 2019-08-05       out     True     880020.0           False   \n",
       "4   166377 2019-08-05       out    False     880022.0            True   \n",
       "\n",
       "   calls_count  call_duration  total_call_duration  \n",
       "0            2              0                    4  \n",
       "1            3              0                    5  \n",
       "2            1              0                    1  \n",
       "3            1             10                   18  \n",
       "4            3              0                   25  "
      ]
     },
     "execution_count": 6,
     "metadata": {},
     "output_type": "execute_result"
    }
   ],
   "source": [
    "data['date'] = pd.to_datetime(data['date']) # у нас осталась тайм-зона\n",
    "data['date'] = data['date'].dt.date # оставим только дату\n",
    "data['date'] = pd.to_datetime(data['date']) # вернем формат datetime\n",
    "display(data.info())\n",
    "data.head()"
   ]
  },
  {
   "cell_type": "markdown",
   "id": "c6f932ff",
   "metadata": {},
   "source": [
    "## Обработаем пропуски в столбце operator_id и internal"
   ]
  },
  {
   "cell_type": "code",
   "execution_count": 7,
   "id": "92a1d86e",
   "metadata": {},
   "outputs": [
    {
     "data": {
      "text/html": [
       "<div>\n",
       "<style scoped>\n",
       "    .dataframe tbody tr th:only-of-type {\n",
       "        vertical-align: middle;\n",
       "    }\n",
       "\n",
       "    .dataframe tbody tr th {\n",
       "        vertical-align: top;\n",
       "    }\n",
       "\n",
       "    .dataframe thead th {\n",
       "        text-align: right;\n",
       "    }\n",
       "</style>\n",
       "<table border=\"1\" class=\"dataframe\">\n",
       "  <thead>\n",
       "    <tr style=\"text-align: right;\">\n",
       "      <th></th>\n",
       "      <th>user_id</th>\n",
       "      <th>date</th>\n",
       "      <th>direction</th>\n",
       "      <th>internal</th>\n",
       "      <th>operator_id</th>\n",
       "      <th>is_missed_call</th>\n",
       "      <th>calls_count</th>\n",
       "      <th>call_duration</th>\n",
       "      <th>total_call_duration</th>\n",
       "    </tr>\n",
       "  </thead>\n",
       "  <tbody>\n",
       "    <tr>\n",
       "      <th>0</th>\n",
       "      <td>166377</td>\n",
       "      <td>2019-08-04</td>\n",
       "      <td>in</td>\n",
       "      <td>False</td>\n",
       "      <td>NaN</td>\n",
       "      <td>True</td>\n",
       "      <td>2</td>\n",
       "      <td>0</td>\n",
       "      <td>4</td>\n",
       "    </tr>\n",
       "    <tr>\n",
       "      <th>7</th>\n",
       "      <td>166377</td>\n",
       "      <td>2019-08-05</td>\n",
       "      <td>in</td>\n",
       "      <td>False</td>\n",
       "      <td>NaN</td>\n",
       "      <td>True</td>\n",
       "      <td>6</td>\n",
       "      <td>0</td>\n",
       "      <td>35</td>\n",
       "    </tr>\n",
       "    <tr>\n",
       "      <th>9</th>\n",
       "      <td>166377</td>\n",
       "      <td>2019-08-06</td>\n",
       "      <td>in</td>\n",
       "      <td>False</td>\n",
       "      <td>NaN</td>\n",
       "      <td>True</td>\n",
       "      <td>4</td>\n",
       "      <td>0</td>\n",
       "      <td>62</td>\n",
       "    </tr>\n",
       "    <tr>\n",
       "      <th>17</th>\n",
       "      <td>166377</td>\n",
       "      <td>2019-08-07</td>\n",
       "      <td>in</td>\n",
       "      <td>False</td>\n",
       "      <td>NaN</td>\n",
       "      <td>True</td>\n",
       "      <td>2</td>\n",
       "      <td>0</td>\n",
       "      <td>24</td>\n",
       "    </tr>\n",
       "    <tr>\n",
       "      <th>27</th>\n",
       "      <td>166377</td>\n",
       "      <td>2019-08-12</td>\n",
       "      <td>in</td>\n",
       "      <td>False</td>\n",
       "      <td>NaN</td>\n",
       "      <td>True</td>\n",
       "      <td>2</td>\n",
       "      <td>0</td>\n",
       "      <td>34</td>\n",
       "    </tr>\n",
       "  </tbody>\n",
       "</table>\n",
       "</div>"
      ],
      "text/plain": [
       "    user_id       date direction internal  operator_id  is_missed_call  \\\n",
       "0    166377 2019-08-04        in    False          NaN            True   \n",
       "7    166377 2019-08-05        in    False          NaN            True   \n",
       "9    166377 2019-08-06        in    False          NaN            True   \n",
       "17   166377 2019-08-07        in    False          NaN            True   \n",
       "27   166377 2019-08-12        in    False          NaN            True   \n",
       "\n",
       "    calls_count  call_duration  total_call_duration  \n",
       "0             2              0                    4  \n",
       "7             6              0                   35  \n",
       "9             4              0                   62  \n",
       "17            2              0                   24  \n",
       "27            2              0                   34  "
      ]
     },
     "execution_count": 7,
     "metadata": {},
     "output_type": "execute_result"
    }
   ],
   "source": [
    "data_p = data[data['operator_id'].isna()] # выведем строки с пропущенными значениями\n",
    "data_p.head()"
   ]
  },
  {
   "cell_type": "markdown",
   "id": "02887331",
   "metadata": {},
   "source": [
    "У нас 15% пропусков. Это много, особенно учитывая то, что они находятся в главной для нас колонке, по которой мы будем определять id оператора. Удалить мы их просто так не можем, надо их обработать."
   ]
  },
  {
   "cell_type": "markdown",
   "id": "21db778a",
   "metadata": {},
   "source": [
    "Мы видим, что у нас пропущены значения по разным колл-центрам, однако обработаем таких операторов отдельно. Присвоим всем пропускам значение '-1'."
   ]
  },
  {
   "cell_type": "code",
   "execution_count": 8,
   "id": "c9e5d5a5",
   "metadata": {},
   "outputs": [
    {
     "data": {
      "text/html": [
       "<div>\n",
       "<style scoped>\n",
       "    .dataframe tbody tr th:only-of-type {\n",
       "        vertical-align: middle;\n",
       "    }\n",
       "\n",
       "    .dataframe tbody tr th {\n",
       "        vertical-align: top;\n",
       "    }\n",
       "\n",
       "    .dataframe thead th {\n",
       "        text-align: right;\n",
       "    }\n",
       "</style>\n",
       "<table border=\"1\" class=\"dataframe\">\n",
       "  <thead>\n",
       "    <tr style=\"text-align: right;\">\n",
       "      <th></th>\n",
       "      <th>user_id</th>\n",
       "      <th>date</th>\n",
       "      <th>direction</th>\n",
       "      <th>internal</th>\n",
       "      <th>operator_id</th>\n",
       "      <th>is_missed_call</th>\n",
       "      <th>calls_count</th>\n",
       "      <th>call_duration</th>\n",
       "      <th>total_call_duration</th>\n",
       "    </tr>\n",
       "  </thead>\n",
       "  <tbody>\n",
       "    <tr>\n",
       "      <th>0</th>\n",
       "      <td>166377</td>\n",
       "      <td>2019-08-04</td>\n",
       "      <td>in</td>\n",
       "      <td>False</td>\n",
       "      <td>-1</td>\n",
       "      <td>True</td>\n",
       "      <td>2</td>\n",
       "      <td>0</td>\n",
       "      <td>4</td>\n",
       "    </tr>\n",
       "    <tr>\n",
       "      <th>1</th>\n",
       "      <td>166377</td>\n",
       "      <td>2019-08-05</td>\n",
       "      <td>out</td>\n",
       "      <td>True</td>\n",
       "      <td>880022.0</td>\n",
       "      <td>True</td>\n",
       "      <td>3</td>\n",
       "      <td>0</td>\n",
       "      <td>5</td>\n",
       "    </tr>\n",
       "    <tr>\n",
       "      <th>2</th>\n",
       "      <td>166377</td>\n",
       "      <td>2019-08-05</td>\n",
       "      <td>out</td>\n",
       "      <td>True</td>\n",
       "      <td>880020.0</td>\n",
       "      <td>True</td>\n",
       "      <td>1</td>\n",
       "      <td>0</td>\n",
       "      <td>1</td>\n",
       "    </tr>\n",
       "    <tr>\n",
       "      <th>3</th>\n",
       "      <td>166377</td>\n",
       "      <td>2019-08-05</td>\n",
       "      <td>out</td>\n",
       "      <td>True</td>\n",
       "      <td>880020.0</td>\n",
       "      <td>False</td>\n",
       "      <td>1</td>\n",
       "      <td>10</td>\n",
       "      <td>18</td>\n",
       "    </tr>\n",
       "    <tr>\n",
       "      <th>4</th>\n",
       "      <td>166377</td>\n",
       "      <td>2019-08-05</td>\n",
       "      <td>out</td>\n",
       "      <td>False</td>\n",
       "      <td>880022.0</td>\n",
       "      <td>True</td>\n",
       "      <td>3</td>\n",
       "      <td>0</td>\n",
       "      <td>25</td>\n",
       "    </tr>\n",
       "  </tbody>\n",
       "</table>\n",
       "</div>"
      ],
      "text/plain": [
       "   user_id       date direction internal operator_id  is_missed_call  \\\n",
       "0   166377 2019-08-04        in    False          -1            True   \n",
       "1   166377 2019-08-05       out     True    880022.0            True   \n",
       "2   166377 2019-08-05       out     True    880020.0            True   \n",
       "3   166377 2019-08-05       out     True    880020.0           False   \n",
       "4   166377 2019-08-05       out    False    880022.0            True   \n",
       "\n",
       "   calls_count  call_duration  total_call_duration  \n",
       "0            2              0                    4  \n",
       "1            3              0                    5  \n",
       "2            1              0                    1  \n",
       "3            1             10                   18  \n",
       "4            3              0                   25  "
      ]
     },
     "execution_count": 8,
     "metadata": {},
     "output_type": "execute_result"
    }
   ],
   "source": [
    "data['operator_id'] = np.where(data['operator_id'].isnull(), '-1',data['operator_id'])\n",
    "data.head()"
   ]
  },
  {
   "cell_type": "code",
   "execution_count": 9,
   "id": "bf3c6216",
   "metadata": {},
   "outputs": [
    {
     "name": "stdout",
     "output_type": "stream",
     "text": [
      "<class 'pandas.core.frame.DataFrame'>\n",
      "RangeIndex: 53902 entries, 0 to 53901\n",
      "Data columns (total 9 columns):\n",
      " #   Column               Non-Null Count  Dtype         \n",
      "---  ------               --------------  -----         \n",
      " 0   user_id              53902 non-null  int64         \n",
      " 1   date                 53902 non-null  datetime64[ns]\n",
      " 2   direction            53902 non-null  object        \n",
      " 3   internal             53785 non-null  object        \n",
      " 4   operator_id          53902 non-null  string        \n",
      " 5   is_missed_call       53902 non-null  bool          \n",
      " 6   calls_count          53902 non-null  int64         \n",
      " 7   call_duration        53902 non-null  int64         \n",
      " 8   total_call_duration  53902 non-null  int64         \n",
      "dtypes: bool(1), datetime64[ns](1), int64(4), object(2), string(1)\n",
      "memory usage: 3.3+ MB\n"
     ]
    },
    {
     "data": {
      "text/plain": [
       "None"
      ]
     },
     "metadata": {},
     "output_type": "display_data"
    },
    {
     "data": {
      "text/html": [
       "<div>\n",
       "<style scoped>\n",
       "    .dataframe tbody tr th:only-of-type {\n",
       "        vertical-align: middle;\n",
       "    }\n",
       "\n",
       "    .dataframe tbody tr th {\n",
       "        vertical-align: top;\n",
       "    }\n",
       "\n",
       "    .dataframe thead th {\n",
       "        text-align: right;\n",
       "    }\n",
       "</style>\n",
       "<table border=\"1\" class=\"dataframe\">\n",
       "  <thead>\n",
       "    <tr style=\"text-align: right;\">\n",
       "      <th></th>\n",
       "      <th>user_id</th>\n",
       "      <th>date</th>\n",
       "      <th>direction</th>\n",
       "      <th>internal</th>\n",
       "      <th>operator_id</th>\n",
       "      <th>is_missed_call</th>\n",
       "      <th>calls_count</th>\n",
       "      <th>call_duration</th>\n",
       "      <th>total_call_duration</th>\n",
       "    </tr>\n",
       "  </thead>\n",
       "  <tbody>\n",
       "    <tr>\n",
       "      <th>0</th>\n",
       "      <td>166377</td>\n",
       "      <td>2019-08-04</td>\n",
       "      <td>in</td>\n",
       "      <td>False</td>\n",
       "      <td>-1</td>\n",
       "      <td>True</td>\n",
       "      <td>2</td>\n",
       "      <td>0</td>\n",
       "      <td>4</td>\n",
       "    </tr>\n",
       "    <tr>\n",
       "      <th>1</th>\n",
       "      <td>166377</td>\n",
       "      <td>2019-08-05</td>\n",
       "      <td>out</td>\n",
       "      <td>True</td>\n",
       "      <td>880022.0</td>\n",
       "      <td>True</td>\n",
       "      <td>3</td>\n",
       "      <td>0</td>\n",
       "      <td>5</td>\n",
       "    </tr>\n",
       "    <tr>\n",
       "      <th>2</th>\n",
       "      <td>166377</td>\n",
       "      <td>2019-08-05</td>\n",
       "      <td>out</td>\n",
       "      <td>True</td>\n",
       "      <td>880020.0</td>\n",
       "      <td>True</td>\n",
       "      <td>1</td>\n",
       "      <td>0</td>\n",
       "      <td>1</td>\n",
       "    </tr>\n",
       "    <tr>\n",
       "      <th>3</th>\n",
       "      <td>166377</td>\n",
       "      <td>2019-08-05</td>\n",
       "      <td>out</td>\n",
       "      <td>True</td>\n",
       "      <td>880020.0</td>\n",
       "      <td>False</td>\n",
       "      <td>1</td>\n",
       "      <td>10</td>\n",
       "      <td>18</td>\n",
       "    </tr>\n",
       "    <tr>\n",
       "      <th>4</th>\n",
       "      <td>166377</td>\n",
       "      <td>2019-08-05</td>\n",
       "      <td>out</td>\n",
       "      <td>False</td>\n",
       "      <td>880022.0</td>\n",
       "      <td>True</td>\n",
       "      <td>3</td>\n",
       "      <td>0</td>\n",
       "      <td>25</td>\n",
       "    </tr>\n",
       "  </tbody>\n",
       "</table>\n",
       "</div>"
      ],
      "text/plain": [
       "   user_id       date direction internal operator_id  is_missed_call  \\\n",
       "0   166377 2019-08-04        in    False          -1            True   \n",
       "1   166377 2019-08-05       out     True    880022.0            True   \n",
       "2   166377 2019-08-05       out     True    880020.0            True   \n",
       "3   166377 2019-08-05       out     True    880020.0           False   \n",
       "4   166377 2019-08-05       out    False    880022.0            True   \n",
       "\n",
       "   calls_count  call_duration  total_call_duration  \n",
       "0            2              0                    4  \n",
       "1            3              0                    5  \n",
       "2            1              0                    1  \n",
       "3            1             10                   18  \n",
       "4            3              0                   25  "
      ]
     },
     "execution_count": 9,
     "metadata": {},
     "output_type": "execute_result"
    }
   ],
   "source": [
    "# приведем столбец operator_id к целочисленному типу\n",
    "\n",
    "data['operator_id'] = data['operator_id'].convert_dtypes()\n",
    "display(data.info())\n",
    "data.head()"
   ]
  },
  {
   "cell_type": "code",
   "execution_count": 10,
   "id": "3650a63a",
   "metadata": {},
   "outputs": [
    {
     "data": {
      "text/html": [
       "<div>\n",
       "<style scoped>\n",
       "    .dataframe tbody tr th:only-of-type {\n",
       "        vertical-align: middle;\n",
       "    }\n",
       "\n",
       "    .dataframe tbody tr th {\n",
       "        vertical-align: top;\n",
       "    }\n",
       "\n",
       "    .dataframe thead th {\n",
       "        text-align: right;\n",
       "    }\n",
       "</style>\n",
       "<table border=\"1\" class=\"dataframe\">\n",
       "  <thead>\n",
       "    <tr style=\"text-align: right;\">\n",
       "      <th></th>\n",
       "      <th>user_id</th>\n",
       "      <th>date</th>\n",
       "      <th>direction</th>\n",
       "      <th>internal</th>\n",
       "      <th>operator_id</th>\n",
       "      <th>is_missed_call</th>\n",
       "      <th>calls_count</th>\n",
       "      <th>call_duration</th>\n",
       "      <th>total_call_duration</th>\n",
       "    </tr>\n",
       "  </thead>\n",
       "  <tbody>\n",
       "    <tr>\n",
       "      <th>1007</th>\n",
       "      <td>166405</td>\n",
       "      <td>2019-09-18</td>\n",
       "      <td>in</td>\n",
       "      <td>NaN</td>\n",
       "      <td>-1</td>\n",
       "      <td>True</td>\n",
       "      <td>1</td>\n",
       "      <td>0</td>\n",
       "      <td>59</td>\n",
       "    </tr>\n",
       "    <tr>\n",
       "      <th>1090</th>\n",
       "      <td>166405</td>\n",
       "      <td>2019-10-01</td>\n",
       "      <td>in</td>\n",
       "      <td>NaN</td>\n",
       "      <td>-1</td>\n",
       "      <td>True</td>\n",
       "      <td>1</td>\n",
       "      <td>0</td>\n",
       "      <td>1</td>\n",
       "    </tr>\n",
       "    <tr>\n",
       "      <th>1864</th>\n",
       "      <td>166406</td>\n",
       "      <td>2019-08-20</td>\n",
       "      <td>in</td>\n",
       "      <td>NaN</td>\n",
       "      <td>-1</td>\n",
       "      <td>True</td>\n",
       "      <td>1</td>\n",
       "      <td>0</td>\n",
       "      <td>36</td>\n",
       "    </tr>\n",
       "    <tr>\n",
       "      <th>1924</th>\n",
       "      <td>166406</td>\n",
       "      <td>2019-09-02</td>\n",
       "      <td>in</td>\n",
       "      <td>NaN</td>\n",
       "      <td>879898.0</td>\n",
       "      <td>False</td>\n",
       "      <td>1</td>\n",
       "      <td>2</td>\n",
       "      <td>9</td>\n",
       "    </tr>\n",
       "    <tr>\n",
       "      <th>6210</th>\n",
       "      <td>166541</td>\n",
       "      <td>2019-09-26</td>\n",
       "      <td>in</td>\n",
       "      <td>NaN</td>\n",
       "      <td>908960.0</td>\n",
       "      <td>False</td>\n",
       "      <td>1</td>\n",
       "      <td>393</td>\n",
       "      <td>423</td>\n",
       "    </tr>\n",
       "    <tr>\n",
       "      <th>...</th>\n",
       "      <td>...</td>\n",
       "      <td>...</td>\n",
       "      <td>...</td>\n",
       "      <td>...</td>\n",
       "      <td>...</td>\n",
       "      <td>...</td>\n",
       "      <td>...</td>\n",
       "      <td>...</td>\n",
       "      <td>...</td>\n",
       "    </tr>\n",
       "    <tr>\n",
       "      <th>52462</th>\n",
       "      <td>168361</td>\n",
       "      <td>2019-11-09</td>\n",
       "      <td>in</td>\n",
       "      <td>NaN</td>\n",
       "      <td>-1</td>\n",
       "      <td>True</td>\n",
       "      <td>6</td>\n",
       "      <td>0</td>\n",
       "      <td>14</td>\n",
       "    </tr>\n",
       "    <tr>\n",
       "      <th>52590</th>\n",
       "      <td>168361</td>\n",
       "      <td>2019-11-13</td>\n",
       "      <td>in</td>\n",
       "      <td>NaN</td>\n",
       "      <td>-1</td>\n",
       "      <td>True</td>\n",
       "      <td>2</td>\n",
       "      <td>0</td>\n",
       "      <td>6</td>\n",
       "    </tr>\n",
       "    <tr>\n",
       "      <th>52621</th>\n",
       "      <td>168361</td>\n",
       "      <td>2019-11-14</td>\n",
       "      <td>in</td>\n",
       "      <td>NaN</td>\n",
       "      <td>-1</td>\n",
       "      <td>True</td>\n",
       "      <td>1</td>\n",
       "      <td>0</td>\n",
       "      <td>2</td>\n",
       "    </tr>\n",
       "    <tr>\n",
       "      <th>53717</th>\n",
       "      <td>168579</td>\n",
       "      <td>2019-11-09</td>\n",
       "      <td>in</td>\n",
       "      <td>NaN</td>\n",
       "      <td>-1</td>\n",
       "      <td>True</td>\n",
       "      <td>1</td>\n",
       "      <td>0</td>\n",
       "      <td>18</td>\n",
       "    </tr>\n",
       "    <tr>\n",
       "      <th>53799</th>\n",
       "      <td>168598</td>\n",
       "      <td>2019-11-22</td>\n",
       "      <td>in</td>\n",
       "      <td>NaN</td>\n",
       "      <td>958394.0</td>\n",
       "      <td>False</td>\n",
       "      <td>1</td>\n",
       "      <td>11</td>\n",
       "      <td>17</td>\n",
       "    </tr>\n",
       "  </tbody>\n",
       "</table>\n",
       "<p>117 rows × 9 columns</p>\n",
       "</div>"
      ],
      "text/plain": [
       "       user_id       date direction internal operator_id  is_missed_call  \\\n",
       "1007    166405 2019-09-18        in      NaN          -1            True   \n",
       "1090    166405 2019-10-01        in      NaN          -1            True   \n",
       "1864    166406 2019-08-20        in      NaN          -1            True   \n",
       "1924    166406 2019-09-02        in      NaN    879898.0           False   \n",
       "6210    166541 2019-09-26        in      NaN    908960.0           False   \n",
       "...        ...        ...       ...      ...         ...             ...   \n",
       "52462   168361 2019-11-09        in      NaN          -1            True   \n",
       "52590   168361 2019-11-13        in      NaN          -1            True   \n",
       "52621   168361 2019-11-14        in      NaN          -1            True   \n",
       "53717   168579 2019-11-09        in      NaN          -1            True   \n",
       "53799   168598 2019-11-22        in      NaN    958394.0           False   \n",
       "\n",
       "       calls_count  call_duration  total_call_duration  \n",
       "1007             1              0                   59  \n",
       "1090             1              0                    1  \n",
       "1864             1              0                   36  \n",
       "1924             1              2                    9  \n",
       "6210             1            393                  423  \n",
       "...            ...            ...                  ...  \n",
       "52462            6              0                   14  \n",
       "52590            2              0                    6  \n",
       "52621            1              0                    2  \n",
       "53717            1              0                   18  \n",
       "53799            1             11                   17  \n",
       "\n",
       "[117 rows x 9 columns]"
      ]
     },
     "execution_count": 10,
     "metadata": {},
     "output_type": "execute_result"
    }
   ],
   "source": [
    "data[data['internal'].isna()] # выведем строки с пропущенными значениями"
   ]
  },
  {
   "cell_type": "markdown",
   "id": "fcd225e2",
   "metadata": {},
   "source": [
    "Строк с пропущенными значениями внутренней линии у нас всего 117 штук, это 0.2% от общего количества данных.\n",
    "Удалим их."
   ]
  },
  {
   "cell_type": "code",
   "execution_count": 11,
   "id": "29e828a6",
   "metadata": {},
   "outputs": [],
   "source": [
    "data = data.dropna()"
   ]
  },
  {
   "cell_type": "markdown",
   "id": "0287794a",
   "metadata": {},
   "source": [
    "## Обработаем\\удалим дубликаты"
   ]
  },
  {
   "cell_type": "code",
   "execution_count": 12,
   "id": "b169d18b",
   "metadata": {},
   "outputs": [
    {
     "data": {
      "text/html": [
       "<div>\n",
       "<style scoped>\n",
       "    .dataframe tbody tr th:only-of-type {\n",
       "        vertical-align: middle;\n",
       "    }\n",
       "\n",
       "    .dataframe tbody tr th {\n",
       "        vertical-align: top;\n",
       "    }\n",
       "\n",
       "    .dataframe thead th {\n",
       "        text-align: right;\n",
       "    }\n",
       "</style>\n",
       "<table border=\"1\" class=\"dataframe\">\n",
       "  <thead>\n",
       "    <tr style=\"text-align: right;\">\n",
       "      <th></th>\n",
       "      <th>user_id</th>\n",
       "      <th>date</th>\n",
       "      <th>direction</th>\n",
       "      <th>internal</th>\n",
       "      <th>operator_id</th>\n",
       "      <th>is_missed_call</th>\n",
       "      <th>calls_count</th>\n",
       "      <th>call_duration</th>\n",
       "      <th>total_call_duration</th>\n",
       "    </tr>\n",
       "  </thead>\n",
       "  <tbody>\n",
       "    <tr>\n",
       "      <th>6</th>\n",
       "      <td>166377</td>\n",
       "      <td>2019-08-05</td>\n",
       "      <td>out</td>\n",
       "      <td>False</td>\n",
       "      <td>880020.0</td>\n",
       "      <td>True</td>\n",
       "      <td>8</td>\n",
       "      <td>0</td>\n",
       "      <td>50</td>\n",
       "    </tr>\n",
       "    <tr>\n",
       "      <th>8</th>\n",
       "      <td>166377</td>\n",
       "      <td>2019-08-05</td>\n",
       "      <td>out</td>\n",
       "      <td>False</td>\n",
       "      <td>880020.0</td>\n",
       "      <td>True</td>\n",
       "      <td>8</td>\n",
       "      <td>0</td>\n",
       "      <td>50</td>\n",
       "    </tr>\n",
       "    <tr>\n",
       "      <th>27</th>\n",
       "      <td>166377</td>\n",
       "      <td>2019-08-12</td>\n",
       "      <td>in</td>\n",
       "      <td>False</td>\n",
       "      <td>-1</td>\n",
       "      <td>True</td>\n",
       "      <td>2</td>\n",
       "      <td>0</td>\n",
       "      <td>34</td>\n",
       "    </tr>\n",
       "    <tr>\n",
       "      <th>28</th>\n",
       "      <td>166377</td>\n",
       "      <td>2019-08-12</td>\n",
       "      <td>in</td>\n",
       "      <td>False</td>\n",
       "      <td>-1</td>\n",
       "      <td>True</td>\n",
       "      <td>2</td>\n",
       "      <td>0</td>\n",
       "      <td>34</td>\n",
       "    </tr>\n",
       "    <tr>\n",
       "      <th>38</th>\n",
       "      <td>166377</td>\n",
       "      <td>2019-08-14</td>\n",
       "      <td>in</td>\n",
       "      <td>False</td>\n",
       "      <td>-1</td>\n",
       "      <td>True</td>\n",
       "      <td>1</td>\n",
       "      <td>0</td>\n",
       "      <td>3</td>\n",
       "    </tr>\n",
       "    <tr>\n",
       "      <th>...</th>\n",
       "      <td>...</td>\n",
       "      <td>...</td>\n",
       "      <td>...</td>\n",
       "      <td>...</td>\n",
       "      <td>...</td>\n",
       "      <td>...</td>\n",
       "      <td>...</td>\n",
       "      <td>...</td>\n",
       "      <td>...</td>\n",
       "    </tr>\n",
       "    <tr>\n",
       "      <th>53875</th>\n",
       "      <td>168601</td>\n",
       "      <td>2019-11-26</td>\n",
       "      <td>in</td>\n",
       "      <td>False</td>\n",
       "      <td>-1</td>\n",
       "      <td>True</td>\n",
       "      <td>3</td>\n",
       "      <td>0</td>\n",
       "      <td>35</td>\n",
       "    </tr>\n",
       "    <tr>\n",
       "      <th>53883</th>\n",
       "      <td>168603</td>\n",
       "      <td>2019-11-20</td>\n",
       "      <td>out</td>\n",
       "      <td>False</td>\n",
       "      <td>959118.0</td>\n",
       "      <td>True</td>\n",
       "      <td>3</td>\n",
       "      <td>0</td>\n",
       "      <td>89</td>\n",
       "    </tr>\n",
       "    <tr>\n",
       "      <th>53885</th>\n",
       "      <td>168603</td>\n",
       "      <td>2019-11-20</td>\n",
       "      <td>out</td>\n",
       "      <td>False</td>\n",
       "      <td>959118.0</td>\n",
       "      <td>True</td>\n",
       "      <td>3</td>\n",
       "      <td>0</td>\n",
       "      <td>89</td>\n",
       "    </tr>\n",
       "    <tr>\n",
       "      <th>53899</th>\n",
       "      <td>168606</td>\n",
       "      <td>2019-11-15</td>\n",
       "      <td>out</td>\n",
       "      <td>True</td>\n",
       "      <td>957922.0</td>\n",
       "      <td>False</td>\n",
       "      <td>4</td>\n",
       "      <td>3130</td>\n",
       "      <td>3190</td>\n",
       "    </tr>\n",
       "    <tr>\n",
       "      <th>53900</th>\n",
       "      <td>168606</td>\n",
       "      <td>2019-11-15</td>\n",
       "      <td>out</td>\n",
       "      <td>True</td>\n",
       "      <td>957922.0</td>\n",
       "      <td>False</td>\n",
       "      <td>4</td>\n",
       "      <td>3130</td>\n",
       "      <td>3190</td>\n",
       "    </tr>\n",
       "  </tbody>\n",
       "</table>\n",
       "<p>9786 rows × 9 columns</p>\n",
       "</div>"
      ],
      "text/plain": [
       "       user_id       date direction internal operator_id  is_missed_call  \\\n",
       "6       166377 2019-08-05       out    False    880020.0            True   \n",
       "8       166377 2019-08-05       out    False    880020.0            True   \n",
       "27      166377 2019-08-12        in    False          -1            True   \n",
       "28      166377 2019-08-12        in    False          -1            True   \n",
       "38      166377 2019-08-14        in    False          -1            True   \n",
       "...        ...        ...       ...      ...         ...             ...   \n",
       "53875   168601 2019-11-26        in    False          -1            True   \n",
       "53883   168603 2019-11-20       out    False    959118.0            True   \n",
       "53885   168603 2019-11-20       out    False    959118.0            True   \n",
       "53899   168606 2019-11-15       out     True    957922.0           False   \n",
       "53900   168606 2019-11-15       out     True    957922.0           False   \n",
       "\n",
       "       calls_count  call_duration  total_call_duration  \n",
       "6                8              0                   50  \n",
       "8                8              0                   50  \n",
       "27               2              0                   34  \n",
       "28               2              0                   34  \n",
       "38               1              0                    3  \n",
       "...            ...            ...                  ...  \n",
       "53875            3              0                   35  \n",
       "53883            3              0                   89  \n",
       "53885            3              0                   89  \n",
       "53899            4           3130                 3190  \n",
       "53900            4           3130                 3190  \n",
       "\n",
       "[9786 rows x 9 columns]"
      ]
     },
     "execution_count": 12,
     "metadata": {},
     "output_type": "execute_result"
    }
   ],
   "source": [
    "data[data.duplicated(keep=False)]"
   ]
  },
  {
   "cell_type": "code",
   "execution_count": 13,
   "id": "a649e572",
   "metadata": {},
   "outputs": [
    {
     "data": {
      "text/html": [
       "<div>\n",
       "<style scoped>\n",
       "    .dataframe tbody tr th:only-of-type {\n",
       "        vertical-align: middle;\n",
       "    }\n",
       "\n",
       "    .dataframe tbody tr th {\n",
       "        vertical-align: top;\n",
       "    }\n",
       "\n",
       "    .dataframe thead th {\n",
       "        text-align: right;\n",
       "    }\n",
       "</style>\n",
       "<table border=\"1\" class=\"dataframe\">\n",
       "  <thead>\n",
       "    <tr style=\"text-align: right;\">\n",
       "      <th></th>\n",
       "      <th>user_id</th>\n",
       "      <th>date</th>\n",
       "      <th>direction</th>\n",
       "      <th>internal</th>\n",
       "      <th>operator_id</th>\n",
       "      <th>is_missed_call</th>\n",
       "      <th>calls_count</th>\n",
       "      <th>call_duration</th>\n",
       "      <th>total_call_duration</th>\n",
       "    </tr>\n",
       "  </thead>\n",
       "  <tbody>\n",
       "    <tr>\n",
       "      <th>0</th>\n",
       "      <td>166377</td>\n",
       "      <td>2019-08-04</td>\n",
       "      <td>in</td>\n",
       "      <td>False</td>\n",
       "      <td>-1</td>\n",
       "      <td>True</td>\n",
       "      <td>2</td>\n",
       "      <td>0</td>\n",
       "      <td>4</td>\n",
       "    </tr>\n",
       "    <tr>\n",
       "      <th>1</th>\n",
       "      <td>166377</td>\n",
       "      <td>2019-08-05</td>\n",
       "      <td>out</td>\n",
       "      <td>True</td>\n",
       "      <td>880022.0</td>\n",
       "      <td>True</td>\n",
       "      <td>3</td>\n",
       "      <td>0</td>\n",
       "      <td>5</td>\n",
       "    </tr>\n",
       "    <tr>\n",
       "      <th>2</th>\n",
       "      <td>166377</td>\n",
       "      <td>2019-08-05</td>\n",
       "      <td>out</td>\n",
       "      <td>True</td>\n",
       "      <td>880020.0</td>\n",
       "      <td>True</td>\n",
       "      <td>1</td>\n",
       "      <td>0</td>\n",
       "      <td>1</td>\n",
       "    </tr>\n",
       "    <tr>\n",
       "      <th>3</th>\n",
       "      <td>166377</td>\n",
       "      <td>2019-08-05</td>\n",
       "      <td>out</td>\n",
       "      <td>True</td>\n",
       "      <td>880020.0</td>\n",
       "      <td>False</td>\n",
       "      <td>1</td>\n",
       "      <td>10</td>\n",
       "      <td>18</td>\n",
       "    </tr>\n",
       "    <tr>\n",
       "      <th>4</th>\n",
       "      <td>166377</td>\n",
       "      <td>2019-08-05</td>\n",
       "      <td>out</td>\n",
       "      <td>False</td>\n",
       "      <td>880022.0</td>\n",
       "      <td>True</td>\n",
       "      <td>3</td>\n",
       "      <td>0</td>\n",
       "      <td>25</td>\n",
       "    </tr>\n",
       "    <tr>\n",
       "      <th>...</th>\n",
       "      <td>...</td>\n",
       "      <td>...</td>\n",
       "      <td>...</td>\n",
       "      <td>...</td>\n",
       "      <td>...</td>\n",
       "      <td>...</td>\n",
       "      <td>...</td>\n",
       "      <td>...</td>\n",
       "      <td>...</td>\n",
       "    </tr>\n",
       "    <tr>\n",
       "      <th>48887</th>\n",
       "      <td>168606</td>\n",
       "      <td>2019-11-10</td>\n",
       "      <td>out</td>\n",
       "      <td>True</td>\n",
       "      <td>957922.0</td>\n",
       "      <td>False</td>\n",
       "      <td>1</td>\n",
       "      <td>0</td>\n",
       "      <td>25</td>\n",
       "    </tr>\n",
       "    <tr>\n",
       "      <th>48888</th>\n",
       "      <td>168606</td>\n",
       "      <td>2019-11-10</td>\n",
       "      <td>out</td>\n",
       "      <td>True</td>\n",
       "      <td>957922.0</td>\n",
       "      <td>True</td>\n",
       "      <td>1</td>\n",
       "      <td>0</td>\n",
       "      <td>38</td>\n",
       "    </tr>\n",
       "    <tr>\n",
       "      <th>48889</th>\n",
       "      <td>168606</td>\n",
       "      <td>2019-11-11</td>\n",
       "      <td>out</td>\n",
       "      <td>True</td>\n",
       "      <td>957922.0</td>\n",
       "      <td>False</td>\n",
       "      <td>2</td>\n",
       "      <td>479</td>\n",
       "      <td>501</td>\n",
       "    </tr>\n",
       "    <tr>\n",
       "      <th>48890</th>\n",
       "      <td>168606</td>\n",
       "      <td>2019-11-15</td>\n",
       "      <td>out</td>\n",
       "      <td>True</td>\n",
       "      <td>957922.0</td>\n",
       "      <td>False</td>\n",
       "      <td>4</td>\n",
       "      <td>3130</td>\n",
       "      <td>3190</td>\n",
       "    </tr>\n",
       "    <tr>\n",
       "      <th>48891</th>\n",
       "      <td>168606</td>\n",
       "      <td>2019-11-19</td>\n",
       "      <td>in</td>\n",
       "      <td>False</td>\n",
       "      <td>-1</td>\n",
       "      <td>True</td>\n",
       "      <td>2</td>\n",
       "      <td>0</td>\n",
       "      <td>64</td>\n",
       "    </tr>\n",
       "  </tbody>\n",
       "</table>\n",
       "<p>48892 rows × 9 columns</p>\n",
       "</div>"
      ],
      "text/plain": [
       "       user_id       date direction internal operator_id  is_missed_call  \\\n",
       "0       166377 2019-08-04        in    False          -1            True   \n",
       "1       166377 2019-08-05       out     True    880022.0            True   \n",
       "2       166377 2019-08-05       out     True    880020.0            True   \n",
       "3       166377 2019-08-05       out     True    880020.0           False   \n",
       "4       166377 2019-08-05       out    False    880022.0            True   \n",
       "...        ...        ...       ...      ...         ...             ...   \n",
       "48887   168606 2019-11-10       out     True    957922.0           False   \n",
       "48888   168606 2019-11-10       out     True    957922.0            True   \n",
       "48889   168606 2019-11-11       out     True    957922.0           False   \n",
       "48890   168606 2019-11-15       out     True    957922.0           False   \n",
       "48891   168606 2019-11-19        in    False          -1            True   \n",
       "\n",
       "       calls_count  call_duration  total_call_duration  \n",
       "0                2              0                    4  \n",
       "1                3              0                    5  \n",
       "2                1              0                    1  \n",
       "3                1             10                   18  \n",
       "4                3              0                   25  \n",
       "...            ...            ...                  ...  \n",
       "48887            1              0                   25  \n",
       "48888            1              0                   38  \n",
       "48889            2            479                  501  \n",
       "48890            4           3130                 3190  \n",
       "48891            2              0                   64  \n",
       "\n",
       "[48892 rows x 9 columns]"
      ]
     },
     "execution_count": 13,
     "metadata": {},
     "output_type": "execute_result"
    }
   ],
   "source": [
    "data = data.drop_duplicates().reset_index(drop=True) # удалим дубликаты в каждом колл-центре\n",
    "data"
   ]
  },
  {
   "cell_type": "markdown",
   "id": "a0e523fe",
   "metadata": {},
   "source": [
    "# Шаг 3. Исследовательский анализ данных"
   ]
  },
  {
   "cell_type": "markdown",
   "id": "82a9f2ca",
   "metadata": {},
   "source": [
    "## Проверим выбросы"
   ]
  },
  {
   "cell_type": "code",
   "execution_count": 14,
   "id": "b4c6600d",
   "metadata": {},
   "outputs": [
    {
     "data": {
      "text/plain": [
       "count    48892.000000\n",
       "mean        16.495214\n",
       "std         63.671633\n",
       "min          1.000000\n",
       "25%          1.000000\n",
       "50%          4.000000\n",
       "75%         12.000000\n",
       "max       4817.000000\n",
       "Name: calls_count, dtype: float64"
      ]
     },
     "metadata": {},
     "output_type": "display_data"
    },
    {
     "data": {
      "text/plain": [
       "count     48892.000000\n",
       "mean        868.088788\n",
       "std        3779.549967\n",
       "min           0.000000\n",
       "25%           0.000000\n",
       "50%          37.000000\n",
       "75%         573.000000\n",
       "max      144395.000000\n",
       "Name: call_duration, dtype: float64"
      ]
     },
     "metadata": {},
     "output_type": "display_data"
    },
    {
     "data": {
      "text/plain": [
       "count     48892.000000\n",
       "mean       1158.976458\n",
       "std        4456.180933\n",
       "min           0.000000\n",
       "25%          46.000000\n",
       "50%         210.000000\n",
       "75%         902.000000\n",
       "max      166155.000000\n",
       "Name: total_call_duration, dtype: float64"
      ]
     },
     "execution_count": 14,
     "metadata": {},
     "output_type": "execute_result"
    }
   ],
   "source": [
    "display(data['calls_count'].describe())\n",
    "display(data['call_duration'].describe())\n",
    "data['total_call_duration'].describe()"
   ]
  },
  {
   "cell_type": "code",
   "execution_count": 15,
   "id": "35b63be8",
   "metadata": {},
   "outputs": [
    {
     "name": "stderr",
     "output_type": "stream",
     "text": [
      "C:\\ProgramData\\Anaconda3\\lib\\site-packages\\seaborn\\_decorators.py:36: FutureWarning: Pass the following variable as a keyword arg: x. From version 0.12, the only valid positional argument will be `data`, and passing other arguments without an explicit keyword will result in an error or misinterpretation.\n",
      "  warnings.warn(\n"
     ]
    },
    {
     "data": {
      "image/png": "[encoded data removed]",
      "text/plain": [
       "<Figure size 432x288 with 1 Axes>"
      ]
     },
     "metadata": {
      "needs_background": "light"
     },
     "output_type": "display_data"
    }
   ],
   "source": [
    "sns.boxplot(data['calls_count'])\n",
    "plt.title('Разброс показателей по количеству звонков на одного оператора')\n",
    "plt.xlabel('Количество звонков')\n",
    "plt.show()"
   ]
  },
  {
   "cell_type": "code",
   "execution_count": 16,
   "id": "07308931",
   "metadata": {},
   "outputs": [
    {
     "name": "stderr",
     "output_type": "stream",
     "text": [
      "C:\\ProgramData\\Anaconda3\\lib\\site-packages\\seaborn\\_decorators.py:36: FutureWarning: Pass the following variable as a keyword arg: x. From version 0.12, the only valid positional argument will be `data`, and passing other arguments without an explicit keyword will result in an error or misinterpretation.\n",
      "  warnings.warn(\n"
     ]
    },
    {
     "data": {
      "image/png": "[encoded data removed]",
      "text/plain": [
       "<Figure size 432x288 with 1 Axes>"
      ]
     },
     "metadata": {
      "needs_background": "light"
     },
     "output_type": "display_data"
    }
   ],
   "source": [
    "sns.boxplot(data['call_duration'])\n",
    "plt.title('Разброс показателей по продолжительности звонков на одного оператора')\n",
    "plt.xlabel('Продолжительность звонка')\n",
    "plt.show()"
   ]
  },
  {
   "cell_type": "code",
   "execution_count": 17,
   "id": "14561996",
   "metadata": {},
   "outputs": [
    {
     "name": "stderr",
     "output_type": "stream",
     "text": [
      "C:\\ProgramData\\Anaconda3\\lib\\site-packages\\seaborn\\_decorators.py:36: FutureWarning: Pass the following variable as a keyword arg: x. From version 0.12, the only valid positional argument will be `data`, and passing other arguments without an explicit keyword will result in an error or misinterpretation.\n",
      "  warnings.warn(\n"
     ]
    },
    {
     "data": {
      "image/png": "[encoded data removed]",
      "text/plain": [
       "<Figure size 432x288 with 1 Axes>"
      ]
     },
     "metadata": {
      "needs_background": "light"
     },
     "output_type": "display_data"
    }
   ],
   "source": [
    "sns.boxplot(data['total_call_duration'])\n",
    "plt.title('Разброс показателей по продолжительности звонков (с учетом ожидания) на одного оператора')\n",
    "plt.xlabel('Продолжительность звонков')\n",
    "plt.show()"
   ]
  },
  {
   "cell_type": "markdown",
   "id": "5de427a4",
   "metadata": {},
   "source": [
    "Мы видим явные выбросы в данных: \n",
    "- 4817 звонков в день\n",
    "- 144395 секунд (40 часов) в день длительность разговоров \n",
    "- 166155 секунд (46 часов) в день длительность разговоров (с учетом времени ожидания)\n",
    "\n",
    "Удалим данные, которые находятся за пределами нормальных значений (выше 95 перцентиля)."
   ]
  },
  {
   "cell_type": "code",
   "execution_count": 18,
   "id": "510f1fee",
   "metadata": {},
   "outputs": [
    {
     "data": {
      "text/html": [
       "<div>\n",
       "<style scoped>\n",
       "    .dataframe tbody tr th:only-of-type {\n",
       "        vertical-align: middle;\n",
       "    }\n",
       "\n",
       "    .dataframe tbody tr th {\n",
       "        vertical-align: top;\n",
       "    }\n",
       "\n",
       "    .dataframe thead th {\n",
       "        text-align: right;\n",
       "    }\n",
       "</style>\n",
       "<table border=\"1\" class=\"dataframe\">\n",
       "  <thead>\n",
       "    <tr style=\"text-align: right;\">\n",
       "      <th></th>\n",
       "      <th>user_id</th>\n",
       "      <th>date</th>\n",
       "      <th>direction</th>\n",
       "      <th>internal</th>\n",
       "      <th>operator_id</th>\n",
       "      <th>is_missed_call</th>\n",
       "      <th>calls_count</th>\n",
       "      <th>call_duration</th>\n",
       "      <th>total_call_duration</th>\n",
       "    </tr>\n",
       "  </thead>\n",
       "  <tbody>\n",
       "    <tr>\n",
       "      <th>0</th>\n",
       "      <td>166377</td>\n",
       "      <td>2019-08-04</td>\n",
       "      <td>in</td>\n",
       "      <td>False</td>\n",
       "      <td>-1</td>\n",
       "      <td>True</td>\n",
       "      <td>2</td>\n",
       "      <td>0</td>\n",
       "      <td>4</td>\n",
       "    </tr>\n",
       "    <tr>\n",
       "      <th>1</th>\n",
       "      <td>166377</td>\n",
       "      <td>2019-08-05</td>\n",
       "      <td>out</td>\n",
       "      <td>True</td>\n",
       "      <td>880022.0</td>\n",
       "      <td>True</td>\n",
       "      <td>3</td>\n",
       "      <td>0</td>\n",
       "      <td>5</td>\n",
       "    </tr>\n",
       "    <tr>\n",
       "      <th>2</th>\n",
       "      <td>166377</td>\n",
       "      <td>2019-08-05</td>\n",
       "      <td>out</td>\n",
       "      <td>True</td>\n",
       "      <td>880020.0</td>\n",
       "      <td>True</td>\n",
       "      <td>1</td>\n",
       "      <td>0</td>\n",
       "      <td>1</td>\n",
       "    </tr>\n",
       "    <tr>\n",
       "      <th>3</th>\n",
       "      <td>166377</td>\n",
       "      <td>2019-08-05</td>\n",
       "      <td>out</td>\n",
       "      <td>True</td>\n",
       "      <td>880020.0</td>\n",
       "      <td>False</td>\n",
       "      <td>1</td>\n",
       "      <td>10</td>\n",
       "      <td>18</td>\n",
       "    </tr>\n",
       "    <tr>\n",
       "      <th>4</th>\n",
       "      <td>166377</td>\n",
       "      <td>2019-08-05</td>\n",
       "      <td>out</td>\n",
       "      <td>False</td>\n",
       "      <td>880022.0</td>\n",
       "      <td>True</td>\n",
       "      <td>3</td>\n",
       "      <td>0</td>\n",
       "      <td>25</td>\n",
       "    </tr>\n",
       "    <tr>\n",
       "      <th>...</th>\n",
       "      <td>...</td>\n",
       "      <td>...</td>\n",
       "      <td>...</td>\n",
       "      <td>...</td>\n",
       "      <td>...</td>\n",
       "      <td>...</td>\n",
       "      <td>...</td>\n",
       "      <td>...</td>\n",
       "      <td>...</td>\n",
       "    </tr>\n",
       "    <tr>\n",
       "      <th>48887</th>\n",
       "      <td>168606</td>\n",
       "      <td>2019-11-10</td>\n",
       "      <td>out</td>\n",
       "      <td>True</td>\n",
       "      <td>957922.0</td>\n",
       "      <td>False</td>\n",
       "      <td>1</td>\n",
       "      <td>0</td>\n",
       "      <td>25</td>\n",
       "    </tr>\n",
       "    <tr>\n",
       "      <th>48888</th>\n",
       "      <td>168606</td>\n",
       "      <td>2019-11-10</td>\n",
       "      <td>out</td>\n",
       "      <td>True</td>\n",
       "      <td>957922.0</td>\n",
       "      <td>True</td>\n",
       "      <td>1</td>\n",
       "      <td>0</td>\n",
       "      <td>38</td>\n",
       "    </tr>\n",
       "    <tr>\n",
       "      <th>48889</th>\n",
       "      <td>168606</td>\n",
       "      <td>2019-11-11</td>\n",
       "      <td>out</td>\n",
       "      <td>True</td>\n",
       "      <td>957922.0</td>\n",
       "      <td>False</td>\n",
       "      <td>2</td>\n",
       "      <td>479</td>\n",
       "      <td>501</td>\n",
       "    </tr>\n",
       "    <tr>\n",
       "      <th>48890</th>\n",
       "      <td>168606</td>\n",
       "      <td>2019-11-15</td>\n",
       "      <td>out</td>\n",
       "      <td>True</td>\n",
       "      <td>957922.0</td>\n",
       "      <td>False</td>\n",
       "      <td>4</td>\n",
       "      <td>3130</td>\n",
       "      <td>3190</td>\n",
       "    </tr>\n",
       "    <tr>\n",
       "      <th>48891</th>\n",
       "      <td>168606</td>\n",
       "      <td>2019-11-19</td>\n",
       "      <td>in</td>\n",
       "      <td>False</td>\n",
       "      <td>-1</td>\n",
       "      <td>True</td>\n",
       "      <td>2</td>\n",
       "      <td>0</td>\n",
       "      <td>64</td>\n",
       "    </tr>\n",
       "  </tbody>\n",
       "</table>\n",
       "<p>46461 rows × 9 columns</p>\n",
       "</div>"
      ],
      "text/plain": [
       "       user_id       date direction internal operator_id  is_missed_call  \\\n",
       "0       166377 2019-08-04        in    False          -1            True   \n",
       "1       166377 2019-08-05       out     True    880022.0            True   \n",
       "2       166377 2019-08-05       out     True    880020.0            True   \n",
       "3       166377 2019-08-05       out     True    880020.0           False   \n",
       "4       166377 2019-08-05       out    False    880022.0            True   \n",
       "...        ...        ...       ...      ...         ...             ...   \n",
       "48887   168606 2019-11-10       out     True    957922.0           False   \n",
       "48888   168606 2019-11-10       out     True    957922.0            True   \n",
       "48889   168606 2019-11-11       out     True    957922.0           False   \n",
       "48890   168606 2019-11-15       out     True    957922.0           False   \n",
       "48891   168606 2019-11-19        in    False          -1            True   \n",
       "\n",
       "       calls_count  call_duration  total_call_duration  \n",
       "0                2              0                    4  \n",
       "1                3              0                    5  \n",
       "2                1              0                    1  \n",
       "3                1             10                   18  \n",
       "4                3              0                   25  \n",
       "...            ...            ...                  ...  \n",
       "48887            1              0                   25  \n",
       "48888            1              0                   38  \n",
       "48889            2            479                  501  \n",
       "48890            4           3130                 3190  \n",
       "48891            2              0                   64  \n",
       "\n",
       "[46461 rows x 9 columns]"
      ]
     },
     "execution_count": 18,
     "metadata": {},
     "output_type": "execute_result"
    }
   ],
   "source": [
    "data = data[data['calls_count'] <= data['calls_count'].quantile(0.95)]\n",
    "data"
   ]
  },
  {
   "cell_type": "code",
   "execution_count": 19,
   "id": "ec946fcf",
   "metadata": {},
   "outputs": [
    {
     "data": {
      "text/plain": [
       "count    46461.000000\n",
       "mean         8.508857\n",
       "std         11.708323\n",
       "min          1.000000\n",
       "25%          1.000000\n",
       "50%          3.000000\n",
       "75%         10.000000\n",
       "max         62.000000\n",
       "Name: calls_count, dtype: float64"
      ]
     },
     "metadata": {},
     "output_type": "display_data"
    },
    {
     "data": {
      "text/plain": [
       "count    46461.000000\n",
       "mean       534.357181\n",
       "std       1176.811324\n",
       "min          0.000000\n",
       "25%          0.000000\n",
       "50%         36.000000\n",
       "75%        512.000000\n",
       "max      26175.000000\n",
       "Name: call_duration, dtype: float64"
      ]
     },
     "metadata": {},
     "output_type": "display_data"
    },
    {
     "data": {
      "text/plain": [
       "count    46461.000000\n",
       "mean       680.891048\n",
       "std       1271.710116\n",
       "min          0.000000\n",
       "25%         43.000000\n",
       "50%        181.000000\n",
       "75%        718.000000\n",
       "max      26347.000000\n",
       "Name: total_call_duration, dtype: float64"
      ]
     },
     "execution_count": 19,
     "metadata": {},
     "output_type": "execute_result"
    }
   ],
   "source": [
    "display(data['calls_count'].describe())\n",
    "display(data['call_duration'].describe())\n",
    "data['total_call_duration'].describe()"
   ]
  },
  {
   "cell_type": "markdown",
   "id": "e1831375",
   "metadata": {},
   "source": [
    "Данные очищены от выбросов. Теперь у нас количество звонков максимум 36 в день, продолжительность чуть больше 5 часов, а с учетом времени ожидания суммарно ближе к 6 часам. Данные выглядят корректно."
   ]
  },
  {
   "cell_type": "markdown",
   "id": "758f587b",
   "metadata": {},
   "source": [
    "## Проверить, что каждый оператор работает только с одним колл-центром (user_id). Если нет, определить как поступить с такими операторами"
   ]
  },
  {
   "cell_type": "code",
   "execution_count": 20,
   "id": "d1ab7e83",
   "metadata": {},
   "outputs": [
    {
     "data": {
      "text/html": [
       "<div>\n",
       "<style scoped>\n",
       "    .dataframe tbody tr th:only-of-type {\n",
       "        vertical-align: middle;\n",
       "    }\n",
       "\n",
       "    .dataframe tbody tr th {\n",
       "        vertical-align: top;\n",
       "    }\n",
       "\n",
       "    .dataframe thead th {\n",
       "        text-align: right;\n",
       "    }\n",
       "</style>\n",
       "<table border=\"1\" class=\"dataframe\">\n",
       "  <thead>\n",
       "    <tr style=\"text-align: right;\">\n",
       "      <th></th>\n",
       "      <th>operator_id</th>\n",
       "      <th>user_id</th>\n",
       "    </tr>\n",
       "  </thead>\n",
       "  <tbody>\n",
       "    <tr>\n",
       "      <th>1092</th>\n",
       "      <td>-1</td>\n",
       "      <td>305</td>\n",
       "    </tr>\n",
       "  </tbody>\n",
       "</table>\n",
       "</div>"
      ],
      "text/plain": [
       "     operator_id  user_id\n",
       "1092          -1      305"
      ]
     },
     "execution_count": 20,
     "metadata": {},
     "output_type": "execute_result"
    }
   ],
   "source": [
    "data_check = data.pivot_table(index=['operator_id'], values='user_id', aggfunc='nunique').sort_values('user_id').reset_index()\n",
    "data_check.query('user_id > 1')"
   ]
  },
  {
   "cell_type": "markdown",
   "id": "e9aa880a",
   "metadata": {},
   "source": [
    "У нас нет операторов, которые принадлежат к нескольким колл-центрам. Каждый оператор зарегистрирован только в одном колл-центре.\n",
    "Исключением являются операторы, по которым в столбце operator_id стоял пропуск."
   ]
  },
  {
   "cell_type": "markdown",
   "id": "6e8e165c",
   "metadata": {},
   "source": [
    "## Разделить колл-центры на тех, кто преимущественно работает с исходящими звонками клиентам и тех, кто работает на входящий поток (data_out и data_in)"
   ]
  },
  {
   "cell_type": "markdown",
   "id": "362f5fb5",
   "metadata": {},
   "source": [
    "### Сгрупируем данные по user_id и посчитаем direction"
   ]
  },
  {
   "cell_type": "code",
   "execution_count": 21,
   "id": "714c80f0",
   "metadata": {},
   "outputs": [
    {
     "data": {
      "text/html": [
       "<div>\n",
       "<style scoped>\n",
       "    .dataframe tbody tr th:only-of-type {\n",
       "        vertical-align: middle;\n",
       "    }\n",
       "\n",
       "    .dataframe tbody tr th {\n",
       "        vertical-align: top;\n",
       "    }\n",
       "\n",
       "    .dataframe thead th {\n",
       "        text-align: right;\n",
       "    }\n",
       "</style>\n",
       "<table border=\"1\" class=\"dataframe\">\n",
       "  <thead>\n",
       "    <tr style=\"text-align: right;\">\n",
       "      <th></th>\n",
       "      <th>user_id</th>\n",
       "      <th>date</th>\n",
       "      <th>internal</th>\n",
       "      <th>operator_id</th>\n",
       "      <th>is_missed_call</th>\n",
       "      <th>calls_count</th>\n",
       "      <th>call_duration</th>\n",
       "      <th>total_call_duration</th>\n",
       "      <th>direction_in</th>\n",
       "      <th>direction_out</th>\n",
       "    </tr>\n",
       "  </thead>\n",
       "  <tbody>\n",
       "    <tr>\n",
       "      <th>0</th>\n",
       "      <td>166377</td>\n",
       "      <td>2019-08-04</td>\n",
       "      <td>False</td>\n",
       "      <td>-1</td>\n",
       "      <td>True</td>\n",
       "      <td>2</td>\n",
       "      <td>0</td>\n",
       "      <td>4</td>\n",
       "      <td>1</td>\n",
       "      <td>0</td>\n",
       "    </tr>\n",
       "    <tr>\n",
       "      <th>1</th>\n",
       "      <td>166377</td>\n",
       "      <td>2019-08-05</td>\n",
       "      <td>True</td>\n",
       "      <td>880022.0</td>\n",
       "      <td>True</td>\n",
       "      <td>3</td>\n",
       "      <td>0</td>\n",
       "      <td>5</td>\n",
       "      <td>0</td>\n",
       "      <td>1</td>\n",
       "    </tr>\n",
       "    <tr>\n",
       "      <th>2</th>\n",
       "      <td>166377</td>\n",
       "      <td>2019-08-05</td>\n",
       "      <td>True</td>\n",
       "      <td>880020.0</td>\n",
       "      <td>True</td>\n",
       "      <td>1</td>\n",
       "      <td>0</td>\n",
       "      <td>1</td>\n",
       "      <td>0</td>\n",
       "      <td>1</td>\n",
       "    </tr>\n",
       "    <tr>\n",
       "      <th>3</th>\n",
       "      <td>166377</td>\n",
       "      <td>2019-08-05</td>\n",
       "      <td>True</td>\n",
       "      <td>880020.0</td>\n",
       "      <td>False</td>\n",
       "      <td>1</td>\n",
       "      <td>10</td>\n",
       "      <td>18</td>\n",
       "      <td>0</td>\n",
       "      <td>1</td>\n",
       "    </tr>\n",
       "    <tr>\n",
       "      <th>4</th>\n",
       "      <td>166377</td>\n",
       "      <td>2019-08-05</td>\n",
       "      <td>False</td>\n",
       "      <td>880022.0</td>\n",
       "      <td>True</td>\n",
       "      <td>3</td>\n",
       "      <td>0</td>\n",
       "      <td>25</td>\n",
       "      <td>0</td>\n",
       "      <td>1</td>\n",
       "    </tr>\n",
       "    <tr>\n",
       "      <th>...</th>\n",
       "      <td>...</td>\n",
       "      <td>...</td>\n",
       "      <td>...</td>\n",
       "      <td>...</td>\n",
       "      <td>...</td>\n",
       "      <td>...</td>\n",
       "      <td>...</td>\n",
       "      <td>...</td>\n",
       "      <td>...</td>\n",
       "      <td>...</td>\n",
       "    </tr>\n",
       "    <tr>\n",
       "      <th>48887</th>\n",
       "      <td>168606</td>\n",
       "      <td>2019-11-10</td>\n",
       "      <td>True</td>\n",
       "      <td>957922.0</td>\n",
       "      <td>False</td>\n",
       "      <td>1</td>\n",
       "      <td>0</td>\n",
       "      <td>25</td>\n",
       "      <td>0</td>\n",
       "      <td>1</td>\n",
       "    </tr>\n",
       "    <tr>\n",
       "      <th>48888</th>\n",
       "      <td>168606</td>\n",
       "      <td>2019-11-10</td>\n",
       "      <td>True</td>\n",
       "      <td>957922.0</td>\n",
       "      <td>True</td>\n",
       "      <td>1</td>\n",
       "      <td>0</td>\n",
       "      <td>38</td>\n",
       "      <td>0</td>\n",
       "      <td>1</td>\n",
       "    </tr>\n",
       "    <tr>\n",
       "      <th>48889</th>\n",
       "      <td>168606</td>\n",
       "      <td>2019-11-11</td>\n",
       "      <td>True</td>\n",
       "      <td>957922.0</td>\n",
       "      <td>False</td>\n",
       "      <td>2</td>\n",
       "      <td>479</td>\n",
       "      <td>501</td>\n",
       "      <td>0</td>\n",
       "      <td>1</td>\n",
       "    </tr>\n",
       "    <tr>\n",
       "      <th>48890</th>\n",
       "      <td>168606</td>\n",
       "      <td>2019-11-15</td>\n",
       "      <td>True</td>\n",
       "      <td>957922.0</td>\n",
       "      <td>False</td>\n",
       "      <td>4</td>\n",
       "      <td>3130</td>\n",
       "      <td>3190</td>\n",
       "      <td>0</td>\n",
       "      <td>1</td>\n",
       "    </tr>\n",
       "    <tr>\n",
       "      <th>48891</th>\n",
       "      <td>168606</td>\n",
       "      <td>2019-11-19</td>\n",
       "      <td>False</td>\n",
       "      <td>-1</td>\n",
       "      <td>True</td>\n",
       "      <td>2</td>\n",
       "      <td>0</td>\n",
       "      <td>64</td>\n",
       "      <td>1</td>\n",
       "      <td>0</td>\n",
       "    </tr>\n",
       "  </tbody>\n",
       "</table>\n",
       "<p>46461 rows × 10 columns</p>\n",
       "</div>"
      ],
      "text/plain": [
       "       user_id       date internal operator_id  is_missed_call  calls_count  \\\n",
       "0       166377 2019-08-04    False          -1            True            2   \n",
       "1       166377 2019-08-05     True    880022.0            True            3   \n",
       "2       166377 2019-08-05     True    880020.0            True            1   \n",
       "3       166377 2019-08-05     True    880020.0           False            1   \n",
       "4       166377 2019-08-05    False    880022.0            True            3   \n",
       "...        ...        ...      ...         ...             ...          ...   \n",
       "48887   168606 2019-11-10     True    957922.0           False            1   \n",
       "48888   168606 2019-11-10     True    957922.0            True            1   \n",
       "48889   168606 2019-11-11     True    957922.0           False            2   \n",
       "48890   168606 2019-11-15     True    957922.0           False            4   \n",
       "48891   168606 2019-11-19    False          -1            True            2   \n",
       "\n",
       "       call_duration  total_call_duration  direction_in  direction_out  \n",
       "0                  0                    4             1              0  \n",
       "1                  0                    5             0              1  \n",
       "2                  0                    1             0              1  \n",
       "3                 10                   18             0              1  \n",
       "4                  0                   25             0              1  \n",
       "...              ...                  ...           ...            ...  \n",
       "48887              0                   25             0              1  \n",
       "48888              0                   38             0              1  \n",
       "48889            479                  501             0              1  \n",
       "48890           3130                 3190             0              1  \n",
       "48891              0                   64             1              0  \n",
       "\n",
       "[46461 rows x 10 columns]"
      ]
     },
     "execution_count": 21,
     "metadata": {},
     "output_type": "execute_result"
    }
   ],
   "source": [
    "data_group = pd.get_dummies(data, columns=['direction'])\n",
    "data_group"
   ]
  },
  {
   "cell_type": "code",
   "execution_count": 22,
   "id": "f1c98135",
   "metadata": {},
   "outputs": [
    {
     "data": {
      "text/html": [
       "<div>\n",
       "<style scoped>\n",
       "    .dataframe tbody tr th:only-of-type {\n",
       "        vertical-align: middle;\n",
       "    }\n",
       "\n",
       "    .dataframe tbody tr th {\n",
       "        vertical-align: top;\n",
       "    }\n",
       "\n",
       "    .dataframe thead th {\n",
       "        text-align: right;\n",
       "    }\n",
       "</style>\n",
       "<table border=\"1\" class=\"dataframe\">\n",
       "  <thead>\n",
       "    <tr style=\"text-align: right;\">\n",
       "      <th></th>\n",
       "      <th>direction_in</th>\n",
       "      <th>direction_out</th>\n",
       "    </tr>\n",
       "    <tr>\n",
       "      <th>user_id</th>\n",
       "      <th></th>\n",
       "      <th></th>\n",
       "    </tr>\n",
       "  </thead>\n",
       "  <tbody>\n",
       "    <tr>\n",
       "      <th>166377</th>\n",
       "      <td>110.0</td>\n",
       "      <td>409.0</td>\n",
       "    </tr>\n",
       "    <tr>\n",
       "      <th>166391</th>\n",
       "      <td>19.0</td>\n",
       "      <td>1.0</td>\n",
       "    </tr>\n",
       "    <tr>\n",
       "      <th>166392</th>\n",
       "      <td>93.0</td>\n",
       "      <td>0.0</td>\n",
       "    </tr>\n",
       "    <tr>\n",
       "      <th>166399</th>\n",
       "      <td>20.0</td>\n",
       "      <td>0.0</td>\n",
       "    </tr>\n",
       "    <tr>\n",
       "      <th>166405</th>\n",
       "      <td>342.0</td>\n",
       "      <td>575.0</td>\n",
       "    </tr>\n",
       "    <tr>\n",
       "      <th>...</th>\n",
       "      <td>...</td>\n",
       "      <td>...</td>\n",
       "    </tr>\n",
       "    <tr>\n",
       "      <th>168583</th>\n",
       "      <td>24.0</td>\n",
       "      <td>0.0</td>\n",
       "    </tr>\n",
       "    <tr>\n",
       "      <th>168598</th>\n",
       "      <td>22.0</td>\n",
       "      <td>0.0</td>\n",
       "    </tr>\n",
       "    <tr>\n",
       "      <th>168601</th>\n",
       "      <td>31.0</td>\n",
       "      <td>38.0</td>\n",
       "    </tr>\n",
       "    <tr>\n",
       "      <th>168603</th>\n",
       "      <td>1.0</td>\n",
       "      <td>6.0</td>\n",
       "    </tr>\n",
       "    <tr>\n",
       "      <th>168606</th>\n",
       "      <td>4.0</td>\n",
       "      <td>7.0</td>\n",
       "    </tr>\n",
       "  </tbody>\n",
       "</table>\n",
       "<p>307 rows × 2 columns</p>\n",
       "</div>"
      ],
      "text/plain": [
       "         direction_in  direction_out\n",
       "user_id                             \n",
       "166377          110.0          409.0\n",
       "166391           19.0            1.0\n",
       "166392           93.0            0.0\n",
       "166399           20.0            0.0\n",
       "166405          342.0          575.0\n",
       "...               ...            ...\n",
       "168583           24.0            0.0\n",
       "168598           22.0            0.0\n",
       "168601           31.0           38.0\n",
       "168603            1.0            6.0\n",
       "168606            4.0            7.0\n",
       "\n",
       "[307 rows x 2 columns]"
      ]
     },
     "execution_count": 22,
     "metadata": {},
     "output_type": "execute_result"
    }
   ],
   "source": [
    "data_group = data_group.groupby('user_id').agg({'direction_in': 'sum', 'direction_out': 'sum'})\n",
    "data_group"
   ]
  },
  {
   "cell_type": "markdown",
   "id": "609ea585",
   "metadata": {},
   "source": [
    "### Для колл-центров, у которых направление (direction) out>in (т.е. количество ихсодящих звонков превышает входящие) определить в data_out. Аналогично для колл-центров, у которых in>out определить их в data_in, т.к. колл-центр для входящих клиентов. Задание выполнить с помощью написания функции"
   ]
  },
  {
   "cell_type": "markdown",
   "id": "9fac9ccf",
   "metadata": {},
   "source": [
    "Разделим колл-центры на три категории:\n",
    "- входящие\n",
    "- исходящие\n",
    "- промежуточные (данные по вход. и исх. звонкам отличаются на 30%)"
   ]
  },
  {
   "cell_type": "code",
   "execution_count": 23,
   "id": "1c6ac35f",
   "metadata": {},
   "outputs": [],
   "source": [
    "def in_out(row):\n",
    "    if row['direction_in'] == 0:\n",
    "        return 'out'\n",
    "    elif row['direction_out'] == 0:\n",
    "        return 'in'\n",
    "    elif 0.7 <= row['direction_out'] / row['direction_in'] <= 1.3: \n",
    "        return 'both'\n",
    "    elif 0.7 <= row['direction_in'] / row['direction_out'] <= 1.3:\n",
    "        return 'both'\n",
    "    elif row['direction_in'] > row['direction_out']:\n",
    "        return 'in'\n",
    "    elif row['direction_in'] < row['direction_out']:\n",
    "        return 'out'"
   ]
  },
  {
   "cell_type": "code",
   "execution_count": 24,
   "id": "f2b5ea1b",
   "metadata": {},
   "outputs": [
    {
     "data": {
      "text/html": [
       "<div>\n",
       "<style scoped>\n",
       "    .dataframe tbody tr th:only-of-type {\n",
       "        vertical-align: middle;\n",
       "    }\n",
       "\n",
       "    .dataframe tbody tr th {\n",
       "        vertical-align: top;\n",
       "    }\n",
       "\n",
       "    .dataframe thead th {\n",
       "        text-align: right;\n",
       "    }\n",
       "</style>\n",
       "<table border=\"1\" class=\"dataframe\">\n",
       "  <thead>\n",
       "    <tr style=\"text-align: right;\">\n",
       "      <th></th>\n",
       "      <th>user_id</th>\n",
       "      <th>direction_in</th>\n",
       "      <th>direction_out</th>\n",
       "      <th>type</th>\n",
       "    </tr>\n",
       "  </thead>\n",
       "  <tbody>\n",
       "    <tr>\n",
       "      <th>0</th>\n",
       "      <td>166377</td>\n",
       "      <td>110.0</td>\n",
       "      <td>409.0</td>\n",
       "      <td>out</td>\n",
       "    </tr>\n",
       "    <tr>\n",
       "      <th>1</th>\n",
       "      <td>166391</td>\n",
       "      <td>19.0</td>\n",
       "      <td>1.0</td>\n",
       "      <td>in</td>\n",
       "    </tr>\n",
       "    <tr>\n",
       "      <th>2</th>\n",
       "      <td>166392</td>\n",
       "      <td>93.0</td>\n",
       "      <td>0.0</td>\n",
       "      <td>in</td>\n",
       "    </tr>\n",
       "    <tr>\n",
       "      <th>3</th>\n",
       "      <td>166399</td>\n",
       "      <td>20.0</td>\n",
       "      <td>0.0</td>\n",
       "      <td>in</td>\n",
       "    </tr>\n",
       "    <tr>\n",
       "      <th>4</th>\n",
       "      <td>166405</td>\n",
       "      <td>342.0</td>\n",
       "      <td>575.0</td>\n",
       "      <td>out</td>\n",
       "    </tr>\n",
       "    <tr>\n",
       "      <th>...</th>\n",
       "      <td>...</td>\n",
       "      <td>...</td>\n",
       "      <td>...</td>\n",
       "      <td>...</td>\n",
       "    </tr>\n",
       "    <tr>\n",
       "      <th>302</th>\n",
       "      <td>168583</td>\n",
       "      <td>24.0</td>\n",
       "      <td>0.0</td>\n",
       "      <td>in</td>\n",
       "    </tr>\n",
       "    <tr>\n",
       "      <th>303</th>\n",
       "      <td>168598</td>\n",
       "      <td>22.0</td>\n",
       "      <td>0.0</td>\n",
       "      <td>in</td>\n",
       "    </tr>\n",
       "    <tr>\n",
       "      <th>304</th>\n",
       "      <td>168601</td>\n",
       "      <td>31.0</td>\n",
       "      <td>38.0</td>\n",
       "      <td>both</td>\n",
       "    </tr>\n",
       "    <tr>\n",
       "      <th>305</th>\n",
       "      <td>168603</td>\n",
       "      <td>1.0</td>\n",
       "      <td>6.0</td>\n",
       "      <td>out</td>\n",
       "    </tr>\n",
       "    <tr>\n",
       "      <th>306</th>\n",
       "      <td>168606</td>\n",
       "      <td>4.0</td>\n",
       "      <td>7.0</td>\n",
       "      <td>out</td>\n",
       "    </tr>\n",
       "  </tbody>\n",
       "</table>\n",
       "<p>307 rows × 4 columns</p>\n",
       "</div>"
      ],
      "text/plain": [
       "     user_id  direction_in  direction_out  type\n",
       "0     166377         110.0          409.0   out\n",
       "1     166391          19.0            1.0    in\n",
       "2     166392          93.0            0.0    in\n",
       "3     166399          20.0            0.0    in\n",
       "4     166405         342.0          575.0   out\n",
       "..       ...           ...            ...   ...\n",
       "302   168583          24.0            0.0    in\n",
       "303   168598          22.0            0.0    in\n",
       "304   168601          31.0           38.0  both\n",
       "305   168603           1.0            6.0   out\n",
       "306   168606           4.0            7.0   out\n",
       "\n",
       "[307 rows x 4 columns]"
      ]
     },
     "execution_count": 24,
     "metadata": {},
     "output_type": "execute_result"
    }
   ],
   "source": [
    "data_group['type'] = data_group.apply(in_out, axis=1)\n",
    "data_group.reset_index(inplace=True)\n",
    "data_group"
   ]
  },
  {
   "cell_type": "code",
   "execution_count": 25,
   "id": "94d6431f",
   "metadata": {},
   "outputs": [
    {
     "data": {
      "text/html": [
       "<div>\n",
       "<style scoped>\n",
       "    .dataframe tbody tr th:only-of-type {\n",
       "        vertical-align: middle;\n",
       "    }\n",
       "\n",
       "    .dataframe tbody tr th {\n",
       "        vertical-align: top;\n",
       "    }\n",
       "\n",
       "    .dataframe thead th {\n",
       "        text-align: right;\n",
       "    }\n",
       "</style>\n",
       "<table border=\"1\" class=\"dataframe\">\n",
       "  <thead>\n",
       "    <tr style=\"text-align: right;\">\n",
       "      <th></th>\n",
       "      <th>user_id</th>\n",
       "      <th>date</th>\n",
       "      <th>direction</th>\n",
       "      <th>internal</th>\n",
       "      <th>operator_id</th>\n",
       "      <th>is_missed_call</th>\n",
       "      <th>calls_count</th>\n",
       "      <th>call_duration</th>\n",
       "      <th>total_call_duration</th>\n",
       "      <th>type</th>\n",
       "    </tr>\n",
       "  </thead>\n",
       "  <tbody>\n",
       "    <tr>\n",
       "      <th>0</th>\n",
       "      <td>166377</td>\n",
       "      <td>2019-08-04</td>\n",
       "      <td>in</td>\n",
       "      <td>False</td>\n",
       "      <td>-1</td>\n",
       "      <td>True</td>\n",
       "      <td>2</td>\n",
       "      <td>0</td>\n",
       "      <td>4</td>\n",
       "      <td>out</td>\n",
       "    </tr>\n",
       "    <tr>\n",
       "      <th>1</th>\n",
       "      <td>166377</td>\n",
       "      <td>2019-08-05</td>\n",
       "      <td>out</td>\n",
       "      <td>True</td>\n",
       "      <td>880022.0</td>\n",
       "      <td>True</td>\n",
       "      <td>3</td>\n",
       "      <td>0</td>\n",
       "      <td>5</td>\n",
       "      <td>out</td>\n",
       "    </tr>\n",
       "    <tr>\n",
       "      <th>2</th>\n",
       "      <td>166377</td>\n",
       "      <td>2019-08-05</td>\n",
       "      <td>out</td>\n",
       "      <td>True</td>\n",
       "      <td>880020.0</td>\n",
       "      <td>True</td>\n",
       "      <td>1</td>\n",
       "      <td>0</td>\n",
       "      <td>1</td>\n",
       "      <td>out</td>\n",
       "    </tr>\n",
       "    <tr>\n",
       "      <th>3</th>\n",
       "      <td>166377</td>\n",
       "      <td>2019-08-05</td>\n",
       "      <td>out</td>\n",
       "      <td>True</td>\n",
       "      <td>880020.0</td>\n",
       "      <td>False</td>\n",
       "      <td>1</td>\n",
       "      <td>10</td>\n",
       "      <td>18</td>\n",
       "      <td>out</td>\n",
       "    </tr>\n",
       "    <tr>\n",
       "      <th>4</th>\n",
       "      <td>166377</td>\n",
       "      <td>2019-08-05</td>\n",
       "      <td>out</td>\n",
       "      <td>False</td>\n",
       "      <td>880022.0</td>\n",
       "      <td>True</td>\n",
       "      <td>3</td>\n",
       "      <td>0</td>\n",
       "      <td>25</td>\n",
       "      <td>out</td>\n",
       "    </tr>\n",
       "    <tr>\n",
       "      <th>...</th>\n",
       "      <td>...</td>\n",
       "      <td>...</td>\n",
       "      <td>...</td>\n",
       "      <td>...</td>\n",
       "      <td>...</td>\n",
       "      <td>...</td>\n",
       "      <td>...</td>\n",
       "      <td>...</td>\n",
       "      <td>...</td>\n",
       "      <td>...</td>\n",
       "    </tr>\n",
       "    <tr>\n",
       "      <th>46456</th>\n",
       "      <td>168606</td>\n",
       "      <td>2019-11-10</td>\n",
       "      <td>out</td>\n",
       "      <td>True</td>\n",
       "      <td>957922.0</td>\n",
       "      <td>False</td>\n",
       "      <td>1</td>\n",
       "      <td>0</td>\n",
       "      <td>25</td>\n",
       "      <td>out</td>\n",
       "    </tr>\n",
       "    <tr>\n",
       "      <th>46457</th>\n",
       "      <td>168606</td>\n",
       "      <td>2019-11-10</td>\n",
       "      <td>out</td>\n",
       "      <td>True</td>\n",
       "      <td>957922.0</td>\n",
       "      <td>True</td>\n",
       "      <td>1</td>\n",
       "      <td>0</td>\n",
       "      <td>38</td>\n",
       "      <td>out</td>\n",
       "    </tr>\n",
       "    <tr>\n",
       "      <th>46458</th>\n",
       "      <td>168606</td>\n",
       "      <td>2019-11-11</td>\n",
       "      <td>out</td>\n",
       "      <td>True</td>\n",
       "      <td>957922.0</td>\n",
       "      <td>False</td>\n",
       "      <td>2</td>\n",
       "      <td>479</td>\n",
       "      <td>501</td>\n",
       "      <td>out</td>\n",
       "    </tr>\n",
       "    <tr>\n",
       "      <th>46459</th>\n",
       "      <td>168606</td>\n",
       "      <td>2019-11-15</td>\n",
       "      <td>out</td>\n",
       "      <td>True</td>\n",
       "      <td>957922.0</td>\n",
       "      <td>False</td>\n",
       "      <td>4</td>\n",
       "      <td>3130</td>\n",
       "      <td>3190</td>\n",
       "      <td>out</td>\n",
       "    </tr>\n",
       "    <tr>\n",
       "      <th>46460</th>\n",
       "      <td>168606</td>\n",
       "      <td>2019-11-19</td>\n",
       "      <td>in</td>\n",
       "      <td>False</td>\n",
       "      <td>-1</td>\n",
       "      <td>True</td>\n",
       "      <td>2</td>\n",
       "      <td>0</td>\n",
       "      <td>64</td>\n",
       "      <td>out</td>\n",
       "    </tr>\n",
       "  </tbody>\n",
       "</table>\n",
       "<p>23401 rows × 10 columns</p>\n",
       "</div>"
      ],
      "text/plain": [
       "       user_id       date direction internal operator_id  is_missed_call  \\\n",
       "0       166377 2019-08-04        in    False          -1            True   \n",
       "1       166377 2019-08-05       out     True    880022.0            True   \n",
       "2       166377 2019-08-05       out     True    880020.0            True   \n",
       "3       166377 2019-08-05       out     True    880020.0           False   \n",
       "4       166377 2019-08-05       out    False    880022.0            True   \n",
       "...        ...        ...       ...      ...         ...             ...   \n",
       "46456   168606 2019-11-10       out     True    957922.0           False   \n",
       "46457   168606 2019-11-10       out     True    957922.0            True   \n",
       "46458   168606 2019-11-11       out     True    957922.0           False   \n",
       "46459   168606 2019-11-15       out     True    957922.0           False   \n",
       "46460   168606 2019-11-19        in    False          -1            True   \n",
       "\n",
       "       calls_count  call_duration  total_call_duration type  \n",
       "0                2              0                    4  out  \n",
       "1                3              0                    5  out  \n",
       "2                1              0                    1  out  \n",
       "3                1             10                   18  out  \n",
       "4                3              0                   25  out  \n",
       "...            ...            ...                  ...  ...  \n",
       "46456            1              0                   25  out  \n",
       "46457            1              0                   38  out  \n",
       "46458            2            479                  501  out  \n",
       "46459            4           3130                 3190  out  \n",
       "46460            2              0                   64  out  \n",
       "\n",
       "[23401 rows x 10 columns]"
      ]
     },
     "execution_count": 25,
     "metadata": {},
     "output_type": "execute_result"
    }
   ],
   "source": [
    "# выделим датасет с колл-центрами,работающими на исходящие звонки\n",
    "\n",
    "data_out = data.merge(data_group, on='user_id')\n",
    "data_out = data_out.drop(columns={'direction_in', 'direction_out'})\n",
    "data_out = data_out.query('type == \"out\"')\n",
    "data_out"
   ]
  },
  {
   "cell_type": "code",
   "execution_count": 26,
   "id": "9fb78d7d",
   "metadata": {},
   "outputs": [
    {
     "data": {
      "text/html": [
       "<div>\n",
       "<style scoped>\n",
       "    .dataframe tbody tr th:only-of-type {\n",
       "        vertical-align: middle;\n",
       "    }\n",
       "\n",
       "    .dataframe tbody tr th {\n",
       "        vertical-align: top;\n",
       "    }\n",
       "\n",
       "    .dataframe thead th {\n",
       "        text-align: right;\n",
       "    }\n",
       "</style>\n",
       "<table border=\"1\" class=\"dataframe\">\n",
       "  <thead>\n",
       "    <tr style=\"text-align: right;\">\n",
       "      <th></th>\n",
       "      <th>user_id</th>\n",
       "      <th>date</th>\n",
       "      <th>direction</th>\n",
       "      <th>internal</th>\n",
       "      <th>operator_id</th>\n",
       "      <th>is_missed_call</th>\n",
       "      <th>calls_count</th>\n",
       "      <th>call_duration</th>\n",
       "      <th>total_call_duration</th>\n",
       "      <th>type</th>\n",
       "    </tr>\n",
       "  </thead>\n",
       "  <tbody>\n",
       "    <tr>\n",
       "      <th>519</th>\n",
       "      <td>166391</td>\n",
       "      <td>2019-08-06</td>\n",
       "      <td>in</td>\n",
       "      <td>False</td>\n",
       "      <td>882476.0</td>\n",
       "      <td>False</td>\n",
       "      <td>1</td>\n",
       "      <td>175</td>\n",
       "      <td>186</td>\n",
       "      <td>in</td>\n",
       "    </tr>\n",
       "    <tr>\n",
       "      <th>520</th>\n",
       "      <td>166391</td>\n",
       "      <td>2019-08-06</td>\n",
       "      <td>in</td>\n",
       "      <td>True</td>\n",
       "      <td>-1</td>\n",
       "      <td>True</td>\n",
       "      <td>3</td>\n",
       "      <td>0</td>\n",
       "      <td>163</td>\n",
       "      <td>in</td>\n",
       "    </tr>\n",
       "    <tr>\n",
       "      <th>521</th>\n",
       "      <td>166391</td>\n",
       "      <td>2019-08-07</td>\n",
       "      <td>in</td>\n",
       "      <td>True</td>\n",
       "      <td>882478.0</td>\n",
       "      <td>False</td>\n",
       "      <td>2</td>\n",
       "      <td>11</td>\n",
       "      <td>74</td>\n",
       "      <td>in</td>\n",
       "    </tr>\n",
       "    <tr>\n",
       "      <th>522</th>\n",
       "      <td>166391</td>\n",
       "      <td>2019-08-07</td>\n",
       "      <td>in</td>\n",
       "      <td>False</td>\n",
       "      <td>882478.0</td>\n",
       "      <td>False</td>\n",
       "      <td>1</td>\n",
       "      <td>57</td>\n",
       "      <td>70</td>\n",
       "      <td>in</td>\n",
       "    </tr>\n",
       "    <tr>\n",
       "      <th>523</th>\n",
       "      <td>166391</td>\n",
       "      <td>2019-08-07</td>\n",
       "      <td>out</td>\n",
       "      <td>True</td>\n",
       "      <td>882478.0</td>\n",
       "      <td>True</td>\n",
       "      <td>1</td>\n",
       "      <td>0</td>\n",
       "      <td>7</td>\n",
       "      <td>in</td>\n",
       "    </tr>\n",
       "    <tr>\n",
       "      <th>...</th>\n",
       "      <td>...</td>\n",
       "      <td>...</td>\n",
       "      <td>...</td>\n",
       "      <td>...</td>\n",
       "      <td>...</td>\n",
       "      <td>...</td>\n",
       "      <td>...</td>\n",
       "      <td>...</td>\n",
       "      <td>...</td>\n",
       "      <td>...</td>\n",
       "    </tr>\n",
       "    <tr>\n",
       "      <th>46369</th>\n",
       "      <td>168598</td>\n",
       "      <td>2019-11-25</td>\n",
       "      <td>in</td>\n",
       "      <td>False</td>\n",
       "      <td>958394.0</td>\n",
       "      <td>False</td>\n",
       "      <td>4</td>\n",
       "      <td>2108</td>\n",
       "      <td>2134</td>\n",
       "      <td>in</td>\n",
       "    </tr>\n",
       "    <tr>\n",
       "      <th>46370</th>\n",
       "      <td>168598</td>\n",
       "      <td>2019-11-25</td>\n",
       "      <td>in</td>\n",
       "      <td>False</td>\n",
       "      <td>-1</td>\n",
       "      <td>True</td>\n",
       "      <td>1</td>\n",
       "      <td>0</td>\n",
       "      <td>18</td>\n",
       "      <td>in</td>\n",
       "    </tr>\n",
       "    <tr>\n",
       "      <th>46371</th>\n",
       "      <td>168598</td>\n",
       "      <td>2019-11-27</td>\n",
       "      <td>in</td>\n",
       "      <td>False</td>\n",
       "      <td>958394.0</td>\n",
       "      <td>False</td>\n",
       "      <td>2</td>\n",
       "      <td>89</td>\n",
       "      <td>100</td>\n",
       "      <td>in</td>\n",
       "    </tr>\n",
       "    <tr>\n",
       "      <th>46372</th>\n",
       "      <td>168598</td>\n",
       "      <td>2019-11-28</td>\n",
       "      <td>in</td>\n",
       "      <td>False</td>\n",
       "      <td>958394.0</td>\n",
       "      <td>False</td>\n",
       "      <td>7</td>\n",
       "      <td>1316</td>\n",
       "      <td>1359</td>\n",
       "      <td>in</td>\n",
       "    </tr>\n",
       "    <tr>\n",
       "      <th>46373</th>\n",
       "      <td>168598</td>\n",
       "      <td>2019-11-28</td>\n",
       "      <td>in</td>\n",
       "      <td>False</td>\n",
       "      <td>-1</td>\n",
       "      <td>True</td>\n",
       "      <td>2</td>\n",
       "      <td>0</td>\n",
       "      <td>0</td>\n",
       "      <td>in</td>\n",
       "    </tr>\n",
       "  </tbody>\n",
       "</table>\n",
       "<p>7783 rows × 10 columns</p>\n",
       "</div>"
      ],
      "text/plain": [
       "       user_id       date direction internal operator_id  is_missed_call  \\\n",
       "519     166391 2019-08-06        in    False    882476.0           False   \n",
       "520     166391 2019-08-06        in     True          -1            True   \n",
       "521     166391 2019-08-07        in     True    882478.0           False   \n",
       "522     166391 2019-08-07        in    False    882478.0           False   \n",
       "523     166391 2019-08-07       out     True    882478.0            True   \n",
       "...        ...        ...       ...      ...         ...             ...   \n",
       "46369   168598 2019-11-25        in    False    958394.0           False   \n",
       "46370   168598 2019-11-25        in    False          -1            True   \n",
       "46371   168598 2019-11-27        in    False    958394.0           False   \n",
       "46372   168598 2019-11-28        in    False    958394.0           False   \n",
       "46373   168598 2019-11-28        in    False          -1            True   \n",
       "\n",
       "       calls_count  call_duration  total_call_duration type  \n",
       "519              1            175                  186   in  \n",
       "520              3              0                  163   in  \n",
       "521              2             11                   74   in  \n",
       "522              1             57                   70   in  \n",
       "523              1              0                    7   in  \n",
       "...            ...            ...                  ...  ...  \n",
       "46369            4           2108                 2134   in  \n",
       "46370            1              0                   18   in  \n",
       "46371            2             89                  100   in  \n",
       "46372            7           1316                 1359   in  \n",
       "46373            2              0                    0   in  \n",
       "\n",
       "[7783 rows x 10 columns]"
      ]
     },
     "execution_count": 26,
     "metadata": {},
     "output_type": "execute_result"
    }
   ],
   "source": [
    "# выделим датасет с колл-центрами,работающие на входящие звонки\n",
    "\n",
    "data_in = data.merge(data_group, on='user_id')\n",
    "data_in = data_in.drop(columns={'direction_in', 'direction_out'})\n",
    "data_in = data_in.query('type == \"in\"')\n",
    "data_in"
   ]
  },
  {
   "cell_type": "code",
   "execution_count": 27,
   "id": "4197d22a",
   "metadata": {},
   "outputs": [
    {
     "data": {
      "text/html": [
       "<div>\n",
       "<style scoped>\n",
       "    .dataframe tbody tr th:only-of-type {\n",
       "        vertical-align: middle;\n",
       "    }\n",
       "\n",
       "    .dataframe tbody tr th {\n",
       "        vertical-align: top;\n",
       "    }\n",
       "\n",
       "    .dataframe thead th {\n",
       "        text-align: right;\n",
       "    }\n",
       "</style>\n",
       "<table border=\"1\" class=\"dataframe\">\n",
       "  <thead>\n",
       "    <tr style=\"text-align: right;\">\n",
       "      <th></th>\n",
       "      <th>user_id</th>\n",
       "      <th>date</th>\n",
       "      <th>direction</th>\n",
       "      <th>internal</th>\n",
       "      <th>operator_id</th>\n",
       "      <th>is_missed_call</th>\n",
       "      <th>calls_count</th>\n",
       "      <th>call_duration</th>\n",
       "      <th>total_call_duration</th>\n",
       "      <th>type</th>\n",
       "    </tr>\n",
       "  </thead>\n",
       "  <tbody>\n",
       "    <tr>\n",
       "      <th>3508</th>\n",
       "      <td>166503</td>\n",
       "      <td>2019-08-08</td>\n",
       "      <td>out</td>\n",
       "      <td>False</td>\n",
       "      <td>884412.0</td>\n",
       "      <td>False</td>\n",
       "      <td>2</td>\n",
       "      <td>50</td>\n",
       "      <td>66</td>\n",
       "      <td>both</td>\n",
       "    </tr>\n",
       "    <tr>\n",
       "      <th>3509</th>\n",
       "      <td>166503</td>\n",
       "      <td>2019-08-08</td>\n",
       "      <td>out</td>\n",
       "      <td>True</td>\n",
       "      <td>884412.0</td>\n",
       "      <td>True</td>\n",
       "      <td>3</td>\n",
       "      <td>0</td>\n",
       "      <td>36</td>\n",
       "      <td>both</td>\n",
       "    </tr>\n",
       "    <tr>\n",
       "      <th>3510</th>\n",
       "      <td>166503</td>\n",
       "      <td>2019-08-08</td>\n",
       "      <td>in</td>\n",
       "      <td>True</td>\n",
       "      <td>-1</td>\n",
       "      <td>True</td>\n",
       "      <td>1</td>\n",
       "      <td>0</td>\n",
       "      <td>11</td>\n",
       "      <td>both</td>\n",
       "    </tr>\n",
       "    <tr>\n",
       "      <th>3511</th>\n",
       "      <td>166503</td>\n",
       "      <td>2019-08-08</td>\n",
       "      <td>out</td>\n",
       "      <td>False</td>\n",
       "      <td>884412.0</td>\n",
       "      <td>True</td>\n",
       "      <td>1</td>\n",
       "      <td>0</td>\n",
       "      <td>5</td>\n",
       "      <td>both</td>\n",
       "    </tr>\n",
       "    <tr>\n",
       "      <th>3512</th>\n",
       "      <td>166503</td>\n",
       "      <td>2019-08-09</td>\n",
       "      <td>in</td>\n",
       "      <td>True</td>\n",
       "      <td>-1</td>\n",
       "      <td>True</td>\n",
       "      <td>5</td>\n",
       "      <td>0</td>\n",
       "      <td>123</td>\n",
       "      <td>both</td>\n",
       "    </tr>\n",
       "  </tbody>\n",
       "</table>\n",
       "</div>"
      ],
      "text/plain": [
       "      user_id       date direction internal operator_id  is_missed_call  \\\n",
       "3508   166503 2019-08-08       out    False    884412.0           False   \n",
       "3509   166503 2019-08-08       out     True    884412.0            True   \n",
       "3510   166503 2019-08-08        in     True          -1            True   \n",
       "3511   166503 2019-08-08       out    False    884412.0            True   \n",
       "3512   166503 2019-08-09        in     True          -1            True   \n",
       "\n",
       "      calls_count  call_duration  total_call_duration  type  \n",
       "3508            2             50                   66  both  \n",
       "3509            3              0                   36  both  \n",
       "3510            1              0                   11  both  \n",
       "3511            1              0                    5  both  \n",
       "3512            5              0                  123  both  "
      ]
     },
     "execution_count": 27,
     "metadata": {},
     "output_type": "execute_result"
    }
   ],
   "source": [
    "# выделим датасет с промужуточными колл-центрами\n",
    "\n",
    "data_both = data.merge(data_group, on='user_id')\n",
    "data_both = data_both.drop(columns={'direction_in', 'direction_out'})\n",
    "data_both = data_both.query('type == \"both\"')\n",
    "data_both.head()"
   ]
  },
  {
   "cell_type": "markdown",
   "id": "41488658",
   "metadata": {},
   "source": [
    "Посмотрим наглядно распределение типов колл-центров."
   ]
  },
  {
   "cell_type": "code",
   "execution_count": 28,
   "id": "0c8ebef3",
   "metadata": {},
   "outputs": [
    {
     "data": {
      "image/png": "[encoded data removed]",
      "text/plain": [
       "<Figure size 432x288 with 1 Axes>"
      ]
     },
     "metadata": {
      "needs_background": "light"
     },
     "output_type": "display_data"
    }
   ],
   "source": [
    "pd.Series(data_group['type']).hist(range = (0, 3), bins=20)\n",
    "plt.title('Распределение типов колл-центров')\n",
    "plt.xlabel('Типы колл-центров')\n",
    "plt.ylabel('Количество колл-центров')\n",
    "plt.show()"
   ]
  },
  {
   "cell_type": "markdown",
   "id": "c103a465",
   "metadata": {},
   "source": [
    "## Посчитаем количество исходящих вызовов в data_out в группировке по операторам; посчитаем среднюю длительность звонка, отсортируем по возрастанию. Построим столбчатую диаграмму по полученым данным"
   ]
  },
  {
   "cell_type": "code",
   "execution_count": 29,
   "id": "ddb0e31d",
   "metadata": {},
   "outputs": [
    {
     "data": {
      "text/html": [
       "<div>\n",
       "<style scoped>\n",
       "    .dataframe tbody tr th:only-of-type {\n",
       "        vertical-align: middle;\n",
       "    }\n",
       "\n",
       "    .dataframe tbody tr th {\n",
       "        vertical-align: top;\n",
       "    }\n",
       "\n",
       "    .dataframe thead th {\n",
       "        text-align: right;\n",
       "    }\n",
       "</style>\n",
       "<table border=\"1\" class=\"dataframe\">\n",
       "  <thead>\n",
       "    <tr style=\"text-align: right;\">\n",
       "      <th></th>\n",
       "      <th>user_id</th>\n",
       "      <th>date</th>\n",
       "      <th>direction</th>\n",
       "      <th>internal</th>\n",
       "      <th>operator_id</th>\n",
       "      <th>is_missed_call</th>\n",
       "      <th>calls_count</th>\n",
       "      <th>call_duration</th>\n",
       "      <th>total_call_duration</th>\n",
       "      <th>type</th>\n",
       "    </tr>\n",
       "  </thead>\n",
       "  <tbody>\n",
       "    <tr>\n",
       "      <th>1</th>\n",
       "      <td>166377</td>\n",
       "      <td>2019-08-05</td>\n",
       "      <td>out</td>\n",
       "      <td>True</td>\n",
       "      <td>880022.0</td>\n",
       "      <td>True</td>\n",
       "      <td>3</td>\n",
       "      <td>0</td>\n",
       "      <td>5</td>\n",
       "      <td>out</td>\n",
       "    </tr>\n",
       "    <tr>\n",
       "      <th>2</th>\n",
       "      <td>166377</td>\n",
       "      <td>2019-08-05</td>\n",
       "      <td>out</td>\n",
       "      <td>True</td>\n",
       "      <td>880020.0</td>\n",
       "      <td>True</td>\n",
       "      <td>1</td>\n",
       "      <td>0</td>\n",
       "      <td>1</td>\n",
       "      <td>out</td>\n",
       "    </tr>\n",
       "    <tr>\n",
       "      <th>3</th>\n",
       "      <td>166377</td>\n",
       "      <td>2019-08-05</td>\n",
       "      <td>out</td>\n",
       "      <td>True</td>\n",
       "      <td>880020.0</td>\n",
       "      <td>False</td>\n",
       "      <td>1</td>\n",
       "      <td>10</td>\n",
       "      <td>18</td>\n",
       "      <td>out</td>\n",
       "    </tr>\n",
       "    <tr>\n",
       "      <th>4</th>\n",
       "      <td>166377</td>\n",
       "      <td>2019-08-05</td>\n",
       "      <td>out</td>\n",
       "      <td>False</td>\n",
       "      <td>880022.0</td>\n",
       "      <td>True</td>\n",
       "      <td>3</td>\n",
       "      <td>0</td>\n",
       "      <td>25</td>\n",
       "      <td>out</td>\n",
       "    </tr>\n",
       "    <tr>\n",
       "      <th>5</th>\n",
       "      <td>166377</td>\n",
       "      <td>2019-08-05</td>\n",
       "      <td>out</td>\n",
       "      <td>False</td>\n",
       "      <td>880020.0</td>\n",
       "      <td>False</td>\n",
       "      <td>2</td>\n",
       "      <td>3</td>\n",
       "      <td>29</td>\n",
       "      <td>out</td>\n",
       "    </tr>\n",
       "    <tr>\n",
       "      <th>...</th>\n",
       "      <td>...</td>\n",
       "      <td>...</td>\n",
       "      <td>...</td>\n",
       "      <td>...</td>\n",
       "      <td>...</td>\n",
       "      <td>...</td>\n",
       "      <td>...</td>\n",
       "      <td>...</td>\n",
       "      <td>...</td>\n",
       "      <td>...</td>\n",
       "    </tr>\n",
       "    <tr>\n",
       "      <th>46455</th>\n",
       "      <td>168606</td>\n",
       "      <td>2019-11-09</td>\n",
       "      <td>out</td>\n",
       "      <td>False</td>\n",
       "      <td>957922.0</td>\n",
       "      <td>False</td>\n",
       "      <td>4</td>\n",
       "      <td>551</td>\n",
       "      <td>593</td>\n",
       "      <td>out</td>\n",
       "    </tr>\n",
       "    <tr>\n",
       "      <th>46456</th>\n",
       "      <td>168606</td>\n",
       "      <td>2019-11-10</td>\n",
       "      <td>out</td>\n",
       "      <td>True</td>\n",
       "      <td>957922.0</td>\n",
       "      <td>False</td>\n",
       "      <td>1</td>\n",
       "      <td>0</td>\n",
       "      <td>25</td>\n",
       "      <td>out</td>\n",
       "    </tr>\n",
       "    <tr>\n",
       "      <th>46457</th>\n",
       "      <td>168606</td>\n",
       "      <td>2019-11-10</td>\n",
       "      <td>out</td>\n",
       "      <td>True</td>\n",
       "      <td>957922.0</td>\n",
       "      <td>True</td>\n",
       "      <td>1</td>\n",
       "      <td>0</td>\n",
       "      <td>38</td>\n",
       "      <td>out</td>\n",
       "    </tr>\n",
       "    <tr>\n",
       "      <th>46458</th>\n",
       "      <td>168606</td>\n",
       "      <td>2019-11-11</td>\n",
       "      <td>out</td>\n",
       "      <td>True</td>\n",
       "      <td>957922.0</td>\n",
       "      <td>False</td>\n",
       "      <td>2</td>\n",
       "      <td>479</td>\n",
       "      <td>501</td>\n",
       "      <td>out</td>\n",
       "    </tr>\n",
       "    <tr>\n",
       "      <th>46459</th>\n",
       "      <td>168606</td>\n",
       "      <td>2019-11-15</td>\n",
       "      <td>out</td>\n",
       "      <td>True</td>\n",
       "      <td>957922.0</td>\n",
       "      <td>False</td>\n",
       "      <td>4</td>\n",
       "      <td>3130</td>\n",
       "      <td>3190</td>\n",
       "      <td>out</td>\n",
       "    </tr>\n",
       "  </tbody>\n",
       "</table>\n",
       "<p>17603 rows × 10 columns</p>\n",
       "</div>"
      ],
      "text/plain": [
       "       user_id       date direction internal operator_id  is_missed_call  \\\n",
       "1       166377 2019-08-05       out     True    880022.0            True   \n",
       "2       166377 2019-08-05       out     True    880020.0            True   \n",
       "3       166377 2019-08-05       out     True    880020.0           False   \n",
       "4       166377 2019-08-05       out    False    880022.0            True   \n",
       "5       166377 2019-08-05       out    False    880020.0           False   \n",
       "...        ...        ...       ...      ...         ...             ...   \n",
       "46455   168606 2019-11-09       out    False    957922.0           False   \n",
       "46456   168606 2019-11-10       out     True    957922.0           False   \n",
       "46457   168606 2019-11-10       out     True    957922.0            True   \n",
       "46458   168606 2019-11-11       out     True    957922.0           False   \n",
       "46459   168606 2019-11-15       out     True    957922.0           False   \n",
       "\n",
       "       calls_count  call_duration  total_call_duration type  \n",
       "1                3              0                    5  out  \n",
       "2                1              0                    1  out  \n",
       "3                1             10                   18  out  \n",
       "4                3              0                   25  out  \n",
       "5                2              3                   29  out  \n",
       "...            ...            ...                  ...  ...  \n",
       "46455            4            551                  593  out  \n",
       "46456            1              0                   25  out  \n",
       "46457            1              0                   38  out  \n",
       "46458            2            479                  501  out  \n",
       "46459            4           3130                 3190  out  \n",
       "\n",
       "[17603 rows x 10 columns]"
      ]
     },
     "execution_count": 29,
     "metadata": {},
     "output_type": "execute_result"
    }
   ],
   "source": [
    "data_out = data_out.query('direction == \"out\"') # отфильтруем исходящие звонки\n",
    "data_out"
   ]
  },
  {
   "cell_type": "markdown",
   "id": "86916ee9",
   "metadata": {},
   "source": [
    "Для исходящих звонков у нас есть показатель internal, который принимает значения True и False, что значит соответственно переводился звонок на другого оператора или нет. \n",
    "\n",
    "Разделим датасет на два по этому параметру и посмотрим по отдельности."
   ]
  },
  {
   "cell_type": "code",
   "execution_count": 30,
   "id": "9d3704f7",
   "metadata": {},
   "outputs": [
    {
     "data": {
      "text/html": [
       "<div>\n",
       "<style scoped>\n",
       "    .dataframe tbody tr th:only-of-type {\n",
       "        vertical-align: middle;\n",
       "    }\n",
       "\n",
       "    .dataframe tbody tr th {\n",
       "        vertical-align: top;\n",
       "    }\n",
       "\n",
       "    .dataframe thead th {\n",
       "        text-align: right;\n",
       "    }\n",
       "</style>\n",
       "<table border=\"1\" class=\"dataframe\">\n",
       "  <thead>\n",
       "    <tr style=\"text-align: right;\">\n",
       "      <th></th>\n",
       "      <th>user_id</th>\n",
       "      <th>date</th>\n",
       "      <th>direction</th>\n",
       "      <th>internal</th>\n",
       "      <th>operator_id</th>\n",
       "      <th>is_missed_call</th>\n",
       "      <th>calls_count</th>\n",
       "      <th>call_duration</th>\n",
       "      <th>total_call_duration</th>\n",
       "      <th>type</th>\n",
       "    </tr>\n",
       "  </thead>\n",
       "  <tbody>\n",
       "    <tr>\n",
       "      <th>1</th>\n",
       "      <td>166377</td>\n",
       "      <td>2019-08-05</td>\n",
       "      <td>out</td>\n",
       "      <td>True</td>\n",
       "      <td>880022.0</td>\n",
       "      <td>True</td>\n",
       "      <td>3</td>\n",
       "      <td>0</td>\n",
       "      <td>5</td>\n",
       "      <td>out</td>\n",
       "    </tr>\n",
       "    <tr>\n",
       "      <th>2</th>\n",
       "      <td>166377</td>\n",
       "      <td>2019-08-05</td>\n",
       "      <td>out</td>\n",
       "      <td>True</td>\n",
       "      <td>880020.0</td>\n",
       "      <td>True</td>\n",
       "      <td>1</td>\n",
       "      <td>0</td>\n",
       "      <td>1</td>\n",
       "      <td>out</td>\n",
       "    </tr>\n",
       "    <tr>\n",
       "      <th>3</th>\n",
       "      <td>166377</td>\n",
       "      <td>2019-08-05</td>\n",
       "      <td>out</td>\n",
       "      <td>True</td>\n",
       "      <td>880020.0</td>\n",
       "      <td>False</td>\n",
       "      <td>1</td>\n",
       "      <td>10</td>\n",
       "      <td>18</td>\n",
       "      <td>out</td>\n",
       "    </tr>\n",
       "    <tr>\n",
       "      <th>11</th>\n",
       "      <td>166377</td>\n",
       "      <td>2019-08-06</td>\n",
       "      <td>out</td>\n",
       "      <td>True</td>\n",
       "      <td>881278.0</td>\n",
       "      <td>True</td>\n",
       "      <td>2</td>\n",
       "      <td>0</td>\n",
       "      <td>5</td>\n",
       "      <td>out</td>\n",
       "    </tr>\n",
       "    <tr>\n",
       "      <th>24</th>\n",
       "      <td>166377</td>\n",
       "      <td>2019-08-12</td>\n",
       "      <td>out</td>\n",
       "      <td>True</td>\n",
       "      <td>880028.0</td>\n",
       "      <td>True</td>\n",
       "      <td>1</td>\n",
       "      <td>0</td>\n",
       "      <td>26</td>\n",
       "      <td>out</td>\n",
       "    </tr>\n",
       "    <tr>\n",
       "      <th>...</th>\n",
       "      <td>...</td>\n",
       "      <td>...</td>\n",
       "      <td>...</td>\n",
       "      <td>...</td>\n",
       "      <td>...</td>\n",
       "      <td>...</td>\n",
       "      <td>...</td>\n",
       "      <td>...</td>\n",
       "      <td>...</td>\n",
       "      <td>...</td>\n",
       "    </tr>\n",
       "    <tr>\n",
       "      <th>46064</th>\n",
       "      <td>168412</td>\n",
       "      <td>2019-11-28</td>\n",
       "      <td>out</td>\n",
       "      <td>True</td>\n",
       "      <td>952468.0</td>\n",
       "      <td>True</td>\n",
       "      <td>11</td>\n",
       "      <td>0</td>\n",
       "      <td>0</td>\n",
       "      <td>out</td>\n",
       "    </tr>\n",
       "    <tr>\n",
       "      <th>46456</th>\n",
       "      <td>168606</td>\n",
       "      <td>2019-11-10</td>\n",
       "      <td>out</td>\n",
       "      <td>True</td>\n",
       "      <td>957922.0</td>\n",
       "      <td>False</td>\n",
       "      <td>1</td>\n",
       "      <td>0</td>\n",
       "      <td>25</td>\n",
       "      <td>out</td>\n",
       "    </tr>\n",
       "    <tr>\n",
       "      <th>46457</th>\n",
       "      <td>168606</td>\n",
       "      <td>2019-11-10</td>\n",
       "      <td>out</td>\n",
       "      <td>True</td>\n",
       "      <td>957922.0</td>\n",
       "      <td>True</td>\n",
       "      <td>1</td>\n",
       "      <td>0</td>\n",
       "      <td>38</td>\n",
       "      <td>out</td>\n",
       "    </tr>\n",
       "    <tr>\n",
       "      <th>46458</th>\n",
       "      <td>168606</td>\n",
       "      <td>2019-11-11</td>\n",
       "      <td>out</td>\n",
       "      <td>True</td>\n",
       "      <td>957922.0</td>\n",
       "      <td>False</td>\n",
       "      <td>2</td>\n",
       "      <td>479</td>\n",
       "      <td>501</td>\n",
       "      <td>out</td>\n",
       "    </tr>\n",
       "    <tr>\n",
       "      <th>46459</th>\n",
       "      <td>168606</td>\n",
       "      <td>2019-11-15</td>\n",
       "      <td>out</td>\n",
       "      <td>True</td>\n",
       "      <td>957922.0</td>\n",
       "      <td>False</td>\n",
       "      <td>4</td>\n",
       "      <td>3130</td>\n",
       "      <td>3190</td>\n",
       "      <td>out</td>\n",
       "    </tr>\n",
       "  </tbody>\n",
       "</table>\n",
       "<p>4165 rows × 10 columns</p>\n",
       "</div>"
      ],
      "text/plain": [
       "       user_id       date direction internal operator_id  is_missed_call  \\\n",
       "1       166377 2019-08-05       out     True    880022.0            True   \n",
       "2       166377 2019-08-05       out     True    880020.0            True   \n",
       "3       166377 2019-08-05       out     True    880020.0           False   \n",
       "11      166377 2019-08-06       out     True    881278.0            True   \n",
       "24      166377 2019-08-12       out     True    880028.0            True   \n",
       "...        ...        ...       ...      ...         ...             ...   \n",
       "46064   168412 2019-11-28       out     True    952468.0            True   \n",
       "46456   168606 2019-11-10       out     True    957922.0           False   \n",
       "46457   168606 2019-11-10       out     True    957922.0            True   \n",
       "46458   168606 2019-11-11       out     True    957922.0           False   \n",
       "46459   168606 2019-11-15       out     True    957922.0           False   \n",
       "\n",
       "       calls_count  call_duration  total_call_duration type  \n",
       "1                3              0                    5  out  \n",
       "2                1              0                    1  out  \n",
       "3                1             10                   18  out  \n",
       "11               2              0                    5  out  \n",
       "24               1              0                   26  out  \n",
       "...            ...            ...                  ...  ...  \n",
       "46064           11              0                    0  out  \n",
       "46456            1              0                   25  out  \n",
       "46457            1              0                   38  out  \n",
       "46458            2            479                  501  out  \n",
       "46459            4           3130                 3190  out  \n",
       "\n",
       "[4165 rows x 10 columns]"
      ]
     },
     "execution_count": 30,
     "metadata": {},
     "output_type": "execute_result"
    }
   ],
   "source": [
    "data_out_true = data_out.query('direction == \"out\" and internal == True')\n",
    "data_out_true"
   ]
  },
  {
   "cell_type": "code",
   "execution_count": 31,
   "id": "4b2ca46e",
   "metadata": {},
   "outputs": [
    {
     "data": {
      "text/html": [
       "<div>\n",
       "<style scoped>\n",
       "    .dataframe tbody tr th:only-of-type {\n",
       "        vertical-align: middle;\n",
       "    }\n",
       "\n",
       "    .dataframe tbody tr th {\n",
       "        vertical-align: top;\n",
       "    }\n",
       "\n",
       "    .dataframe thead th {\n",
       "        text-align: right;\n",
       "    }\n",
       "</style>\n",
       "<table border=\"1\" class=\"dataframe\">\n",
       "  <thead>\n",
       "    <tr style=\"text-align: right;\">\n",
       "      <th></th>\n",
       "      <th>user_id</th>\n",
       "      <th>date</th>\n",
       "      <th>direction</th>\n",
       "      <th>internal</th>\n",
       "      <th>operator_id</th>\n",
       "      <th>is_missed_call</th>\n",
       "      <th>calls_count</th>\n",
       "      <th>call_duration</th>\n",
       "      <th>total_call_duration</th>\n",
       "      <th>type</th>\n",
       "    </tr>\n",
       "  </thead>\n",
       "  <tbody>\n",
       "    <tr>\n",
       "      <th>4</th>\n",
       "      <td>166377</td>\n",
       "      <td>2019-08-05</td>\n",
       "      <td>out</td>\n",
       "      <td>False</td>\n",
       "      <td>880022.0</td>\n",
       "      <td>True</td>\n",
       "      <td>3</td>\n",
       "      <td>0</td>\n",
       "      <td>25</td>\n",
       "      <td>out</td>\n",
       "    </tr>\n",
       "    <tr>\n",
       "      <th>5</th>\n",
       "      <td>166377</td>\n",
       "      <td>2019-08-05</td>\n",
       "      <td>out</td>\n",
       "      <td>False</td>\n",
       "      <td>880020.0</td>\n",
       "      <td>False</td>\n",
       "      <td>2</td>\n",
       "      <td>3</td>\n",
       "      <td>29</td>\n",
       "      <td>out</td>\n",
       "    </tr>\n",
       "    <tr>\n",
       "      <th>6</th>\n",
       "      <td>166377</td>\n",
       "      <td>2019-08-05</td>\n",
       "      <td>out</td>\n",
       "      <td>False</td>\n",
       "      <td>880020.0</td>\n",
       "      <td>True</td>\n",
       "      <td>8</td>\n",
       "      <td>0</td>\n",
       "      <td>50</td>\n",
       "      <td>out</td>\n",
       "    </tr>\n",
       "    <tr>\n",
       "      <th>9</th>\n",
       "      <td>166377</td>\n",
       "      <td>2019-08-06</td>\n",
       "      <td>out</td>\n",
       "      <td>False</td>\n",
       "      <td>881278.0</td>\n",
       "      <td>True</td>\n",
       "      <td>3</td>\n",
       "      <td>0</td>\n",
       "      <td>29</td>\n",
       "      <td>out</td>\n",
       "    </tr>\n",
       "    <tr>\n",
       "      <th>10</th>\n",
       "      <td>166377</td>\n",
       "      <td>2019-08-06</td>\n",
       "      <td>out</td>\n",
       "      <td>False</td>\n",
       "      <td>880020.0</td>\n",
       "      <td>True</td>\n",
       "      <td>5</td>\n",
       "      <td>0</td>\n",
       "      <td>70</td>\n",
       "      <td>out</td>\n",
       "    </tr>\n",
       "    <tr>\n",
       "      <th>...</th>\n",
       "      <td>...</td>\n",
       "      <td>...</td>\n",
       "      <td>...</td>\n",
       "      <td>...</td>\n",
       "      <td>...</td>\n",
       "      <td>...</td>\n",
       "      <td>...</td>\n",
       "      <td>...</td>\n",
       "      <td>...</td>\n",
       "      <td>...</td>\n",
       "    </tr>\n",
       "    <tr>\n",
       "      <th>46447</th>\n",
       "      <td>168603</td>\n",
       "      <td>2019-11-21</td>\n",
       "      <td>out</td>\n",
       "      <td>False</td>\n",
       "      <td>959118.0</td>\n",
       "      <td>False</td>\n",
       "      <td>5</td>\n",
       "      <td>338</td>\n",
       "      <td>423</td>\n",
       "      <td>out</td>\n",
       "    </tr>\n",
       "    <tr>\n",
       "      <th>46448</th>\n",
       "      <td>168603</td>\n",
       "      <td>2019-11-27</td>\n",
       "      <td>out</td>\n",
       "      <td>False</td>\n",
       "      <td>959118.0</td>\n",
       "      <td>False</td>\n",
       "      <td>1</td>\n",
       "      <td>76</td>\n",
       "      <td>99</td>\n",
       "      <td>out</td>\n",
       "    </tr>\n",
       "    <tr>\n",
       "      <th>46450</th>\n",
       "      <td>168606</td>\n",
       "      <td>2019-11-08</td>\n",
       "      <td>out</td>\n",
       "      <td>False</td>\n",
       "      <td>957922.0</td>\n",
       "      <td>True</td>\n",
       "      <td>2</td>\n",
       "      <td>0</td>\n",
       "      <td>40</td>\n",
       "      <td>out</td>\n",
       "    </tr>\n",
       "    <tr>\n",
       "      <th>46452</th>\n",
       "      <td>168606</td>\n",
       "      <td>2019-11-08</td>\n",
       "      <td>out</td>\n",
       "      <td>False</td>\n",
       "      <td>957922.0</td>\n",
       "      <td>False</td>\n",
       "      <td>2</td>\n",
       "      <td>255</td>\n",
       "      <td>328</td>\n",
       "      <td>out</td>\n",
       "    </tr>\n",
       "    <tr>\n",
       "      <th>46455</th>\n",
       "      <td>168606</td>\n",
       "      <td>2019-11-09</td>\n",
       "      <td>out</td>\n",
       "      <td>False</td>\n",
       "      <td>957922.0</td>\n",
       "      <td>False</td>\n",
       "      <td>4</td>\n",
       "      <td>551</td>\n",
       "      <td>593</td>\n",
       "      <td>out</td>\n",
       "    </tr>\n",
       "  </tbody>\n",
       "</table>\n",
       "<p>13438 rows × 10 columns</p>\n",
       "</div>"
      ],
      "text/plain": [
       "       user_id       date direction internal operator_id  is_missed_call  \\\n",
       "4       166377 2019-08-05       out    False    880022.0            True   \n",
       "5       166377 2019-08-05       out    False    880020.0           False   \n",
       "6       166377 2019-08-05       out    False    880020.0            True   \n",
       "9       166377 2019-08-06       out    False    881278.0            True   \n",
       "10      166377 2019-08-06       out    False    880020.0            True   \n",
       "...        ...        ...       ...      ...         ...             ...   \n",
       "46447   168603 2019-11-21       out    False    959118.0           False   \n",
       "46448   168603 2019-11-27       out    False    959118.0           False   \n",
       "46450   168606 2019-11-08       out    False    957922.0            True   \n",
       "46452   168606 2019-11-08       out    False    957922.0           False   \n",
       "46455   168606 2019-11-09       out    False    957922.0           False   \n",
       "\n",
       "       calls_count  call_duration  total_call_duration type  \n",
       "4                3              0                   25  out  \n",
       "5                2              3                   29  out  \n",
       "6                8              0                   50  out  \n",
       "9                3              0                   29  out  \n",
       "10               5              0                   70  out  \n",
       "...            ...            ...                  ...  ...  \n",
       "46447            5            338                  423  out  \n",
       "46448            1             76                   99  out  \n",
       "46450            2              0                   40  out  \n",
       "46452            2            255                  328  out  \n",
       "46455            4            551                  593  out  \n",
       "\n",
       "[13438 rows x 10 columns]"
      ]
     },
     "execution_count": 31,
     "metadata": {},
     "output_type": "execute_result"
    }
   ],
   "source": [
    "data_out_false = data_out.query('direction == \"out\" and internal == False')\n",
    "data_out_false"
   ]
  },
  {
   "cell_type": "markdown",
   "id": "d99fa518",
   "metadata": {},
   "source": [
    "Посмотрим, сколько в среднем звонков делает каждый оператор, а также, сколько в среднем времени уходит на один звонок."
   ]
  },
  {
   "cell_type": "code",
   "execution_count": 32,
   "id": "a4c25652",
   "metadata": {},
   "outputs": [
    {
     "data": {
      "text/html": [
       "<div>\n",
       "<style scoped>\n",
       "    .dataframe tbody tr th:only-of-type {\n",
       "        vertical-align: middle;\n",
       "    }\n",
       "\n",
       "    .dataframe tbody tr th {\n",
       "        vertical-align: top;\n",
       "    }\n",
       "\n",
       "    .dataframe thead th {\n",
       "        text-align: right;\n",
       "    }\n",
       "</style>\n",
       "<table border=\"1\" class=\"dataframe\">\n",
       "  <thead>\n",
       "    <tr style=\"text-align: right;\">\n",
       "      <th></th>\n",
       "      <th>user_id</th>\n",
       "      <th>operator_id</th>\n",
       "      <th>calls_count</th>\n",
       "      <th>call_duration</th>\n",
       "    </tr>\n",
       "  </thead>\n",
       "  <tbody>\n",
       "    <tr>\n",
       "      <th>0</th>\n",
       "      <td>167176</td>\n",
       "      <td>905480.0</td>\n",
       "      <td>1.000000</td>\n",
       "      <td>0.000000</td>\n",
       "    </tr>\n",
       "    <tr>\n",
       "      <th>1</th>\n",
       "      <td>167626</td>\n",
       "      <td>919476.0</td>\n",
       "      <td>1.000000</td>\n",
       "      <td>0.000000</td>\n",
       "    </tr>\n",
       "    <tr>\n",
       "      <th>2</th>\n",
       "      <td>166997</td>\n",
       "      <td>903312.0</td>\n",
       "      <td>1.000000</td>\n",
       "      <td>12.200000</td>\n",
       "    </tr>\n",
       "    <tr>\n",
       "      <th>3</th>\n",
       "      <td>167626</td>\n",
       "      <td>919906.0</td>\n",
       "      <td>1.000000</td>\n",
       "      <td>0.000000</td>\n",
       "    </tr>\n",
       "    <tr>\n",
       "      <th>4</th>\n",
       "      <td>166940</td>\n",
       "      <td>897030.0</td>\n",
       "      <td>1.000000</td>\n",
       "      <td>0.000000</td>\n",
       "    </tr>\n",
       "    <tr>\n",
       "      <th>...</th>\n",
       "      <td>...</td>\n",
       "      <td>...</td>\n",
       "      <td>...</td>\n",
       "      <td>...</td>\n",
       "    </tr>\n",
       "    <tr>\n",
       "      <th>342</th>\n",
       "      <td>166916</td>\n",
       "      <td>906394.0</td>\n",
       "      <td>6.303030</td>\n",
       "      <td>315.045455</td>\n",
       "    </tr>\n",
       "    <tr>\n",
       "      <th>343</th>\n",
       "      <td>166843</td>\n",
       "      <td>913868.0</td>\n",
       "      <td>7.000000</td>\n",
       "      <td>0.000000</td>\n",
       "    </tr>\n",
       "    <tr>\n",
       "      <th>344</th>\n",
       "      <td>168336</td>\n",
       "      <td>969380.0</td>\n",
       "      <td>7.000000</td>\n",
       "      <td>0.000000</td>\n",
       "    </tr>\n",
       "    <tr>\n",
       "      <th>345</th>\n",
       "      <td>168412</td>\n",
       "      <td>952468.0</td>\n",
       "      <td>8.090909</td>\n",
       "      <td>0.000000</td>\n",
       "    </tr>\n",
       "    <tr>\n",
       "      <th>346</th>\n",
       "      <td>168412</td>\n",
       "      <td>952466.0</td>\n",
       "      <td>9.000000</td>\n",
       "      <td>0.000000</td>\n",
       "    </tr>\n",
       "  </tbody>\n",
       "</table>\n",
       "<p>347 rows × 4 columns</p>\n",
       "</div>"
      ],
      "text/plain": [
       "     user_id operator_id  calls_count  call_duration\n",
       "0     167176    905480.0     1.000000       0.000000\n",
       "1     167626    919476.0     1.000000       0.000000\n",
       "2     166997    903312.0     1.000000      12.200000\n",
       "3     167626    919906.0     1.000000       0.000000\n",
       "4     166940    897030.0     1.000000       0.000000\n",
       "..       ...         ...          ...            ...\n",
       "342   166916    906394.0     6.303030     315.045455\n",
       "343   166843    913868.0     7.000000       0.000000\n",
       "344   168336    969380.0     7.000000       0.000000\n",
       "345   168412    952468.0     8.090909       0.000000\n",
       "346   168412    952466.0     9.000000       0.000000\n",
       "\n",
       "[347 rows x 4 columns]"
      ]
     },
     "execution_count": 32,
     "metadata": {},
     "output_type": "execute_result"
    }
   ],
   "source": [
    "data_out_true = data_out_true.groupby(['user_id', 'operator_id']).agg({'calls_count': 'mean', 'call_duration': 'mean'}).sort_values('calls_count').reset_index()\n",
    "data_out_true"
   ]
  },
  {
   "cell_type": "markdown",
   "id": "61159e6c",
   "metadata": {},
   "source": [
    "Мы определили операторов, у которых в среднем было небольшое количество звонков и продолжительность их в среднем тоже была минимальна. При том, эти операторы еще и переводили звонки на своих коллег. Серьезный повод задуматься об их неэффективности. \n",
    "\n",
    "Посмотрим график для наглядности."
   ]
  },
  {
   "cell_type": "code",
   "execution_count": 33,
   "id": "1617d968",
   "metadata": {},
   "outputs": [
    {
     "data": {
      "text/html": [
       "<div>\n",
       "<style scoped>\n",
       "    .dataframe tbody tr th:only-of-type {\n",
       "        vertical-align: middle;\n",
       "    }\n",
       "\n",
       "    .dataframe tbody tr th {\n",
       "        vertical-align: top;\n",
       "    }\n",
       "\n",
       "    .dataframe thead th {\n",
       "        text-align: right;\n",
       "    }\n",
       "</style>\n",
       "<table border=\"1\" class=\"dataframe\">\n",
       "  <thead>\n",
       "    <tr style=\"text-align: right;\">\n",
       "      <th></th>\n",
       "      <th>user_id</th>\n",
       "      <th>operator_id</th>\n",
       "      <th>calls_count</th>\n",
       "      <th>call_duration</th>\n",
       "    </tr>\n",
       "  </thead>\n",
       "  <tbody>\n",
       "    <tr>\n",
       "      <th>0</th>\n",
       "      <td>166377</td>\n",
       "      <td>-1</td>\n",
       "      <td>1.0</td>\n",
       "      <td>0.00</td>\n",
       "    </tr>\n",
       "    <tr>\n",
       "      <th>1</th>\n",
       "      <td>167497</td>\n",
       "      <td>918958.0</td>\n",
       "      <td>1.0</td>\n",
       "      <td>0.00</td>\n",
       "    </tr>\n",
       "    <tr>\n",
       "      <th>2</th>\n",
       "      <td>166507</td>\n",
       "      <td>883898.0</td>\n",
       "      <td>1.0</td>\n",
       "      <td>70.00</td>\n",
       "    </tr>\n",
       "    <tr>\n",
       "      <th>3</th>\n",
       "      <td>167497</td>\n",
       "      <td>-1</td>\n",
       "      <td>1.0</td>\n",
       "      <td>0.00</td>\n",
       "    </tr>\n",
       "    <tr>\n",
       "      <th>4</th>\n",
       "      <td>167475</td>\n",
       "      <td>914816.0</td>\n",
       "      <td>1.0</td>\n",
       "      <td>385.75</td>\n",
       "    </tr>\n",
       "  </tbody>\n",
       "</table>\n",
       "</div>"
      ],
      "text/plain": [
       "   user_id operator_id  calls_count  call_duration\n",
       "0   166377          -1          1.0           0.00\n",
       "1   167497    918958.0          1.0           0.00\n",
       "2   166507    883898.0          1.0          70.00\n",
       "3   167497          -1          1.0           0.00\n",
       "4   167475    914816.0          1.0         385.75"
      ]
     },
     "execution_count": 33,
     "metadata": {},
     "output_type": "execute_result"
    }
   ],
   "source": [
    "data_out_false = data_out_false.groupby(['user_id', 'operator_id']).agg({'calls_count': 'mean', 'call_duration': 'mean'}).sort_values('calls_count').reset_index()\n",
    "data_out_false.head()"
   ]
  },
  {
   "cell_type": "code",
   "execution_count": 34,
   "id": "16bb63f2",
   "metadata": {},
   "outputs": [
    {
     "data": {
      "image/png": "[encoded data removed]",
      "text/plain": [
       "<Figure size 432x288 with 1 Axes>"
      ]
     },
     "metadata": {
      "needs_background": "light"
     },
     "output_type": "display_data"
    }
   ],
   "source": [
    "pd.Series(data_out_true['calls_count']).hist(range = (0, 15), bins=100)\n",
    "plt.title('Распределение количества звонков по операторам, переводящим звонки')\n",
    "plt.xlabel('Количество звонков')\n",
    "plt.ylabel('Частота')\n",
    "plt.show()"
   ]
  },
  {
   "cell_type": "code",
   "execution_count": 35,
   "id": "e4b504c0",
   "metadata": {},
   "outputs": [
    {
     "data": {
      "image/png": "[encoded data removed]",
      "text/plain": [
       "<Figure size 432x288 with 1 Axes>"
      ]
     },
     "metadata": {
      "needs_background": "light"
     },
     "output_type": "display_data"
    }
   ],
   "source": [
    "pd.Series(data_out_false['calls_count']).hist(range = (0, 15), bins=100)\n",
    "plt.title('Распределение количества звонков по операторам не перводящим звонки')\n",
    "plt.xlabel('Количество звонков')\n",
    "plt.ylabel('Частота')\n",
    "plt.show()"
   ]
  },
  {
   "cell_type": "markdown",
   "id": "058d7e9b",
   "metadata": {},
   "source": [
    "Чтобы достоверно определить границу эффективности, определим, сколько в среднем вывозов может обработать оператор за рабочую смену (8 часов).\n",
    "\n",
    "Для расчета данного показателя у нас есть два нужных столбца: calls_count и call_duration. Проверим максимальное значение в столбце с продолжительностью звонка."
   ]
  },
  {
   "cell_type": "code",
   "execution_count": 36,
   "id": "92ba8431",
   "metadata": {},
   "outputs": [
    {
     "data": {
      "text/plain": [
       "16339"
      ]
     },
     "execution_count": 36,
     "metadata": {},
     "output_type": "execute_result"
    }
   ],
   "source": [
    "data_out['call_duration'].max()"
   ]
  },
  {
   "cell_type": "markdown",
   "id": "45ba78e1",
   "metadata": {},
   "source": [
    "У нас получилось всего 4,6 часов. Маловато. Значит, вероятнее всего нужно перемножить значения двух столбцов calls_count и call_duration."
   ]
  },
  {
   "cell_type": "code",
   "execution_count": 37,
   "id": "2f846e79",
   "metadata": {},
   "outputs": [
    {
     "name": "stderr",
     "output_type": "stream",
     "text": [
      "C:\\Users\\79231\\AppData\\Local\\Temp/ipykernel_11192/1262752519.py:1: SettingWithCopyWarning: \n",
      "A value is trying to be set on a copy of a slice from a DataFrame.\n",
      "Try using .loc[row_indexer,col_indexer] = value instead\n",
      "\n",
      "See the caveats in the documentation: https://pandas.pydata.org/pandas-docs/stable/user_guide/indexing.html#returning-a-view-versus-a-copy\n",
      "  data_out['full_duration'] = data_out['call_duration'] * data_out['calls_count']\n"
     ]
    }
   ],
   "source": [
    "data_out['full_duration'] = data_out['call_duration'] * data_out['calls_count']"
   ]
  },
  {
   "cell_type": "markdown",
   "id": "2292c5d8",
   "metadata": {},
   "source": [
    "Посмотрим, сколько в среднем звонков делает каждый оператор."
   ]
  },
  {
   "cell_type": "code",
   "execution_count": 38,
   "id": "9bb5a45f",
   "metadata": {},
   "outputs": [],
   "source": [
    "data_work = data_out.groupby(['date', 'operator_id']).agg({'calls_count': 'sum', 'full_duration': 'sum'}).reset_index()\n",
    "\n",
    "# сразу сделаем срез по 8 часовой смене. Однако брать ровно 8 часов сильно \"жестко\", возьмем промежутов от 7,5 до 8 часов.\n",
    "#С учетом того, что оператор может делать перерывы между звонками и/или звонки идут не один за другим\n",
    "\n",
    "data_work = data_work.query('full_duration >= 27000')\n",
    "data_work = data_work.query('full_duration <= 28800')"
   ]
  },
  {
   "cell_type": "markdown",
   "id": "f51084f1",
   "metadata": {},
   "source": [
    "Для того, чтобы определить границу эффективности по количеству звонков за смену для каждого оператора, возьмем медианное значение по отобранным данным. Среднее брать не рационально, так как данный показатель может легко смеситься, если кто-то из операторов будет работать чуть усерднее (или наоборот). При медианном же значении такого не будет. "
   ]
  },
  {
   "cell_type": "code",
   "execution_count": 39,
   "id": "245dcc82",
   "metadata": {},
   "outputs": [
    {
     "data": {
      "text/plain": [
       "27.0"
      ]
     },
     "execution_count": 39,
     "metadata": {},
     "output_type": "execute_result"
    }
   ],
   "source": [
    "data_work['calls_count'].median()"
   ]
  },
  {
   "cell_type": "markdown",
   "id": "fee4f497",
   "metadata": {},
   "source": [
    "Также посмотрим распределение звонков в день."
   ]
  },
  {
   "cell_type": "code",
   "execution_count": 40,
   "id": "eb0bce0c",
   "metadata": {},
   "outputs": [
    {
     "data": {
      "image/png": "[encoded data removed]",
      "text/plain": [
       "<Figure size 432x288 with 1 Axes>"
      ]
     },
     "metadata": {
      "needs_background": "light"
     },
     "output_type": "display_data"
    }
   ],
   "source": [
    "pd.Series(data_out['calls_count']).hist(range = (0, 70), bins=20)\n",
    "plt.title('Распределение количества звонков в день на одного оператора')\n",
    "plt.xlabel('Количество звонков')\n",
    "plt.ylabel('Частота')\n",
    "plt.show()"
   ]
  },
  {
   "cell_type": "markdown",
   "id": "f7a583e3",
   "metadata": {},
   "source": [
    "По нашим данным мы получили число 27. Столько звонков оператор может совершить за рабочую смену. Однако, нельзя говорить, что это граница эффективности. Это скорее показывает норму звонков в день.\n",
    "\n",
    "При этом, по графику мы видим, что основная часть операторов совершает в пределах 10 звонков в день. Между 27 и 10 достаточно большой разрыв.\n",
    "\n",
    "Не будем ориентироваться на большинство операторов. Возьмем некоторое промежуточное значение за графницу эффектиновсти. Определим, что операторы, совершающие меньше 19 звонков в день - неэффективные.."
   ]
  },
  {
   "cell_type": "code",
   "execution_count": 41,
   "id": "c9d62a2e",
   "metadata": {},
   "outputs": [],
   "source": [
    "data_work_ = data_out.groupby(['date', 'user_id', 'operator_id']).agg({'calls_count': 'sum', 'full_duration': 'sum'}).reset_index()"
   ]
  },
  {
   "cell_type": "code",
   "execution_count": 42,
   "id": "7d701079",
   "metadata": {},
   "outputs": [
    {
     "data": {
      "text/html": [
       "<div>\n",
       "<style scoped>\n",
       "    .dataframe tbody tr th:only-of-type {\n",
       "        vertical-align: middle;\n",
       "    }\n",
       "\n",
       "    .dataframe tbody tr th {\n",
       "        vertical-align: top;\n",
       "    }\n",
       "\n",
       "    .dataframe thead th {\n",
       "        text-align: right;\n",
       "    }\n",
       "</style>\n",
       "<table border=\"1\" class=\"dataframe\">\n",
       "  <thead>\n",
       "    <tr style=\"text-align: right;\">\n",
       "      <th></th>\n",
       "      <th>user_id</th>\n",
       "      <th>operator_id</th>\n",
       "    </tr>\n",
       "  </thead>\n",
       "  <tbody>\n",
       "    <tr>\n",
       "      <th>0</th>\n",
       "      <td>166406</td>\n",
       "      <td>879896.0</td>\n",
       "    </tr>\n",
       "    <tr>\n",
       "      <th>1</th>\n",
       "      <td>166406</td>\n",
       "      <td>879898.0</td>\n",
       "    </tr>\n",
       "    <tr>\n",
       "      <th>2</th>\n",
       "      <td>166406</td>\n",
       "      <td>880240.0</td>\n",
       "    </tr>\n",
       "    <tr>\n",
       "      <th>3</th>\n",
       "      <td>166406</td>\n",
       "      <td>879896.0</td>\n",
       "    </tr>\n",
       "    <tr>\n",
       "      <th>4</th>\n",
       "      <td>166406</td>\n",
       "      <td>879898.0</td>\n",
       "    </tr>\n",
       "  </tbody>\n",
       "</table>\n",
       "</div>"
      ],
      "text/plain": [
       "   user_id operator_id\n",
       "0   166406    879896.0\n",
       "1   166406    879898.0\n",
       "2   166406    880240.0\n",
       "3   166406    879896.0\n",
       "4   166406    879898.0"
      ]
     },
     "execution_count": 42,
     "metadata": {},
     "output_type": "execute_result"
    }
   ],
   "source": [
    "not_effective = data_work_.query('calls_count < 19')\n",
    "not_effective = not_effective[['user_id', 'operator_id']]\n",
    "not_effective.head()"
   ]
  },
  {
   "cell_type": "markdown",
   "id": "3409fdb1",
   "metadata": {},
   "source": [
    "## Определим долю пропущенных вызовов на единицу звонка для каждого оператора"
   ]
  },
  {
   "cell_type": "code",
   "execution_count": 43,
   "id": "dc0f101b",
   "metadata": {},
   "outputs": [],
   "source": [
    "missed = data_out.query('is_missed_call == True') # отфильтурем только пропущенные звонки"
   ]
  },
  {
   "cell_type": "markdown",
   "id": "935e468a",
   "metadata": {},
   "source": [
    "Проверим их получше. Убедимся, что если звонок пропущен, то и длительность звонка = 0."
   ]
  },
  {
   "cell_type": "code",
   "execution_count": 44,
   "id": "d333e89c",
   "metadata": {},
   "outputs": [
    {
     "data": {
      "text/html": [
       "<div>\n",
       "<style scoped>\n",
       "    .dataframe tbody tr th:only-of-type {\n",
       "        vertical-align: middle;\n",
       "    }\n",
       "\n",
       "    .dataframe tbody tr th {\n",
       "        vertical-align: top;\n",
       "    }\n",
       "\n",
       "    .dataframe thead th {\n",
       "        text-align: right;\n",
       "    }\n",
       "</style>\n",
       "<table border=\"1\" class=\"dataframe\">\n",
       "  <thead>\n",
       "    <tr style=\"text-align: right;\">\n",
       "      <th></th>\n",
       "      <th>call_duration</th>\n",
       "    </tr>\n",
       "    <tr>\n",
       "      <th>is_missed_call</th>\n",
       "      <th></th>\n",
       "    </tr>\n",
       "  </thead>\n",
       "  <tbody>\n",
       "    <tr>\n",
       "      <th>True</th>\n",
       "      <td>721</td>\n",
       "    </tr>\n",
       "  </tbody>\n",
       "</table>\n",
       "</div>"
      ],
      "text/plain": [
       "                call_duration\n",
       "is_missed_call               \n",
       "True                      721"
      ]
     },
     "execution_count": 44,
     "metadata": {},
     "output_type": "execute_result"
    }
   ],
   "source": [
    "missed.groupby('is_missed_call').agg({'call_duration': 'sum'})"
   ]
  },
  {
   "cell_type": "markdown",
   "id": "b3c67117",
   "metadata": {},
   "source": [
    "Мы не получили ожидаемые данные. У нас есть строки, где при наличии пропущенного входящего звонка есть некоторая продолжительность. Это не корректно. В дальнейшем исключим эти данные из анализа."
   ]
  },
  {
   "cell_type": "code",
   "execution_count": 45,
   "id": "58bf8017",
   "metadata": {},
   "outputs": [
    {
     "data": {
      "text/html": [
       "<div>\n",
       "<style scoped>\n",
       "    .dataframe tbody tr th:only-of-type {\n",
       "        vertical-align: middle;\n",
       "    }\n",
       "\n",
       "    .dataframe tbody tr th {\n",
       "        vertical-align: top;\n",
       "    }\n",
       "\n",
       "    .dataframe thead th {\n",
       "        text-align: right;\n",
       "    }\n",
       "</style>\n",
       "<table border=\"1\" class=\"dataframe\">\n",
       "  <thead>\n",
       "    <tr style=\"text-align: right;\">\n",
       "      <th></th>\n",
       "      <th>user_id</th>\n",
       "      <th>date</th>\n",
       "      <th>direction</th>\n",
       "      <th>internal</th>\n",
       "      <th>operator_id</th>\n",
       "      <th>is_missed_call</th>\n",
       "      <th>calls_count</th>\n",
       "      <th>call_duration</th>\n",
       "      <th>total_call_duration</th>\n",
       "      <th>type</th>\n",
       "      <th>full_duration</th>\n",
       "    </tr>\n",
       "  </thead>\n",
       "  <tbody>\n",
       "    <tr>\n",
       "      <th>1</th>\n",
       "      <td>166377</td>\n",
       "      <td>2019-08-05</td>\n",
       "      <td>out</td>\n",
       "      <td>True</td>\n",
       "      <td>880022.0</td>\n",
       "      <td>True</td>\n",
       "      <td>3</td>\n",
       "      <td>0</td>\n",
       "      <td>5</td>\n",
       "      <td>out</td>\n",
       "      <td>0</td>\n",
       "    </tr>\n",
       "    <tr>\n",
       "      <th>2</th>\n",
       "      <td>166377</td>\n",
       "      <td>2019-08-05</td>\n",
       "      <td>out</td>\n",
       "      <td>True</td>\n",
       "      <td>880020.0</td>\n",
       "      <td>True</td>\n",
       "      <td>1</td>\n",
       "      <td>0</td>\n",
       "      <td>1</td>\n",
       "      <td>out</td>\n",
       "      <td>0</td>\n",
       "    </tr>\n",
       "    <tr>\n",
       "      <th>3</th>\n",
       "      <td>166377</td>\n",
       "      <td>2019-08-05</td>\n",
       "      <td>out</td>\n",
       "      <td>True</td>\n",
       "      <td>880020.0</td>\n",
       "      <td>False</td>\n",
       "      <td>1</td>\n",
       "      <td>10</td>\n",
       "      <td>18</td>\n",
       "      <td>out</td>\n",
       "      <td>10</td>\n",
       "    </tr>\n",
       "    <tr>\n",
       "      <th>4</th>\n",
       "      <td>166377</td>\n",
       "      <td>2019-08-05</td>\n",
       "      <td>out</td>\n",
       "      <td>False</td>\n",
       "      <td>880022.0</td>\n",
       "      <td>True</td>\n",
       "      <td>3</td>\n",
       "      <td>0</td>\n",
       "      <td>25</td>\n",
       "      <td>out</td>\n",
       "      <td>0</td>\n",
       "    </tr>\n",
       "    <tr>\n",
       "      <th>5</th>\n",
       "      <td>166377</td>\n",
       "      <td>2019-08-05</td>\n",
       "      <td>out</td>\n",
       "      <td>False</td>\n",
       "      <td>880020.0</td>\n",
       "      <td>False</td>\n",
       "      <td>2</td>\n",
       "      <td>3</td>\n",
       "      <td>29</td>\n",
       "      <td>out</td>\n",
       "      <td>6</td>\n",
       "    </tr>\n",
       "  </tbody>\n",
       "</table>\n",
       "</div>"
      ],
      "text/plain": [
       "   user_id       date direction internal operator_id  is_missed_call  \\\n",
       "1   166377 2019-08-05       out     True    880022.0            True   \n",
       "2   166377 2019-08-05       out     True    880020.0            True   \n",
       "3   166377 2019-08-05       out     True    880020.0           False   \n",
       "4   166377 2019-08-05       out    False    880022.0            True   \n",
       "5   166377 2019-08-05       out    False    880020.0           False   \n",
       "\n",
       "   calls_count  call_duration  total_call_duration type  full_duration  \n",
       "1            3              0                    5  out              0  \n",
       "2            1              0                    1  out              0  \n",
       "3            1             10                   18  out             10  \n",
       "4            3              0                   25  out              0  \n",
       "5            2              3                   29  out              6  "
      ]
     },
     "execution_count": 45,
     "metadata": {},
     "output_type": "execute_result"
    }
   ],
   "source": [
    "data_out = data_out[~((data_out['is_missed_call'] == True) & (data_out['call_duration'] > 0))]\n",
    "data_out.head()"
   ]
  },
  {
   "cell_type": "markdown",
   "id": "ee3f6743",
   "metadata": {},
   "source": [
    "Теперь, когда обработали не корректные данные, связанные с пропусками, посчитаем долю пропущенных звонков на каждого оператора."
   ]
  },
  {
   "cell_type": "code",
   "execution_count": 46,
   "id": "b438e635",
   "metadata": {},
   "outputs": [],
   "source": [
    "data_out_ = data_out.groupby(['user_id', 'operator_id']).agg({'calls_count': 'sum'}).reset_index() # считаем суммарное кол-во звонков"
   ]
  },
  {
   "cell_type": "code",
   "execution_count": 47,
   "id": "1ebdb91b",
   "metadata": {},
   "outputs": [],
   "source": [
    "data_out_miss_ = missed.groupby(['user_id', 'operator_id']).agg({'calls_count': 'sum'}).reset_index() # считаем кол-во пропущуенных"
   ]
  },
  {
   "cell_type": "code",
   "execution_count": 48,
   "id": "69d78f0f",
   "metadata": {},
   "outputs": [],
   "source": [
    "# так как мы всем пропускам operator_id присвоили -1, то у нас будут некорректно отображаться user_id. Исключим их из расчетов\n",
    "\n",
    "out_miss = data_out_.merge(data_out_miss_, on='operator_id')\n",
    "out_miss = out_miss.query('operator_id != \"-1\"')"
   ]
  },
  {
   "cell_type": "code",
   "execution_count": 49,
   "id": "5a9da795",
   "metadata": {},
   "outputs": [
    {
     "data": {
      "text/html": [
       "<div>\n",
       "<style scoped>\n",
       "    .dataframe tbody tr th:only-of-type {\n",
       "        vertical-align: middle;\n",
       "    }\n",
       "\n",
       "    .dataframe tbody tr th {\n",
       "        vertical-align: top;\n",
       "    }\n",
       "\n",
       "    .dataframe thead th {\n",
       "        text-align: right;\n",
       "    }\n",
       "</style>\n",
       "<table border=\"1\" class=\"dataframe\">\n",
       "  <thead>\n",
       "    <tr style=\"text-align: right;\">\n",
       "      <th></th>\n",
       "      <th>user_id_x</th>\n",
       "      <th>operator_id</th>\n",
       "      <th>miss_ratio</th>\n",
       "    </tr>\n",
       "  </thead>\n",
       "  <tbody>\n",
       "    <tr>\n",
       "      <th>771</th>\n",
       "      <td>166680</td>\n",
       "      <td>919418.0</td>\n",
       "      <td>1.0</td>\n",
       "    </tr>\n",
       "    <tr>\n",
       "      <th>786</th>\n",
       "      <td>166688</td>\n",
       "      <td>890226.0</td>\n",
       "      <td>1.0</td>\n",
       "    </tr>\n",
       "    <tr>\n",
       "      <th>972</th>\n",
       "      <td>167580</td>\n",
       "      <td>960674.0</td>\n",
       "      <td>1.0</td>\n",
       "    </tr>\n",
       "    <tr>\n",
       "      <th>741</th>\n",
       "      <td>166520</td>\n",
       "      <td>885682.0</td>\n",
       "      <td>1.0</td>\n",
       "    </tr>\n",
       "    <tr>\n",
       "      <th>964</th>\n",
       "      <td>167580</td>\n",
       "      <td>937366.0</td>\n",
       "      <td>1.0</td>\n",
       "    </tr>\n",
       "  </tbody>\n",
       "</table>\n",
       "</div>"
      ],
      "text/plain": [
       "     user_id_x operator_id  miss_ratio\n",
       "771     166680    919418.0         1.0\n",
       "786     166688    890226.0         1.0\n",
       "972     167580    960674.0         1.0\n",
       "741     166520    885682.0         1.0\n",
       "964     167580    937366.0         1.0"
      ]
     },
     "execution_count": 49,
     "metadata": {},
     "output_type": "execute_result"
    }
   ],
   "source": [
    "out_miss['miss_ratio'] = out_miss['calls_count_y'] / out_miss['calls_count_x'] # считаем долю пропусков\n",
    "out_miss = out_miss[['user_id_x', 'operator_id', 'miss_ratio']].sort_values('miss_ratio', ascending=False)\n",
    "out_miss.head()"
   ]
  },
  {
   "cell_type": "markdown",
   "id": "32f6fc34",
   "metadata": {},
   "source": [
    "У нас есть не малое количество 100% пропусков. Так как мы говорим про исходящие колл-центры, то недозвон до клиента вполне возможен, однако их все равно не должно быть много.\n",
    "\n",
    "Как возможную границу неэффективности возьмем 50% пропусков. Так как менеджер мог позвонить одному клиенту два раза и дозвониться только во второй раз. "
   ]
  },
  {
   "cell_type": "code",
   "execution_count": 50,
   "id": "8722fd08",
   "metadata": {},
   "outputs": [
    {
     "data": {
      "text/html": [
       "<div>\n",
       "<style scoped>\n",
       "    .dataframe tbody tr th:only-of-type {\n",
       "        vertical-align: middle;\n",
       "    }\n",
       "\n",
       "    .dataframe tbody tr th {\n",
       "        vertical-align: top;\n",
       "    }\n",
       "\n",
       "    .dataframe thead th {\n",
       "        text-align: right;\n",
       "    }\n",
       "</style>\n",
       "<table border=\"1\" class=\"dataframe\">\n",
       "  <thead>\n",
       "    <tr style=\"text-align: right;\">\n",
       "      <th></th>\n",
       "      <th>user_id</th>\n",
       "      <th>operator_id</th>\n",
       "    </tr>\n",
       "  </thead>\n",
       "  <tbody>\n",
       "    <tr>\n",
       "      <th>771</th>\n",
       "      <td>166680</td>\n",
       "      <td>919418.0</td>\n",
       "    </tr>\n",
       "    <tr>\n",
       "      <th>786</th>\n",
       "      <td>166688</td>\n",
       "      <td>890226.0</td>\n",
       "    </tr>\n",
       "    <tr>\n",
       "      <th>972</th>\n",
       "      <td>167580</td>\n",
       "      <td>960674.0</td>\n",
       "    </tr>\n",
       "    <tr>\n",
       "      <th>741</th>\n",
       "      <td>166520</td>\n",
       "      <td>885682.0</td>\n",
       "    </tr>\n",
       "    <tr>\n",
       "      <th>964</th>\n",
       "      <td>167580</td>\n",
       "      <td>937366.0</td>\n",
       "    </tr>\n",
       "  </tbody>\n",
       "</table>\n",
       "</div>"
      ],
      "text/plain": [
       "     user_id operator_id\n",
       "771   166680    919418.0\n",
       "786   166688    890226.0\n",
       "972   167580    960674.0\n",
       "741   166520    885682.0\n",
       "964   167580    937366.0"
      ]
     },
     "execution_count": 50,
     "metadata": {},
     "output_type": "execute_result"
    }
   ],
   "source": [
    "not_effective_1 = out_miss.query('miss_ratio > 0.5')\n",
    "not_effective_1 = not_effective_1[['user_id_x', 'operator_id']]\n",
    "not_effective_1 = not_effective_1.rename(columns={'user_id_x': 'user_id'})\n",
    "not_effective_1.head()"
   ]
  },
  {
   "cell_type": "markdown",
   "id": "962f945e",
   "metadata": {},
   "source": [
    "## На основании п. 5.4-5.5 определим операторов, которые в среднем сделали наименьшее количество звонков среди всех, при этом с большой долей пропусков на единицу звонка"
   ]
  },
  {
   "cell_type": "markdown",
   "id": "90aaca2f",
   "metadata": {},
   "source": [
    "Неэффектиным оператором исходящего звонков будем считать:\n",
    "- делает меньше 19 звонков в день\n",
    "- имеет больше 50% пропущенных звонков"
   ]
  },
  {
   "cell_type": "code",
   "execution_count": 51,
   "id": "e1a0cd1f",
   "metadata": {},
   "outputs": [
    {
     "data": {
      "text/html": [
       "<div>\n",
       "<style scoped>\n",
       "    .dataframe tbody tr th:only-of-type {\n",
       "        vertical-align: middle;\n",
       "    }\n",
       "\n",
       "    .dataframe tbody tr th {\n",
       "        vertical-align: top;\n",
       "    }\n",
       "\n",
       "    .dataframe thead th {\n",
       "        text-align: right;\n",
       "    }\n",
       "</style>\n",
       "<table border=\"1\" class=\"dataframe\">\n",
       "  <thead>\n",
       "    <tr style=\"text-align: right;\">\n",
       "      <th></th>\n",
       "      <th>user_id</th>\n",
       "      <th>operator_id</th>\n",
       "    </tr>\n",
       "  </thead>\n",
       "  <tbody>\n",
       "    <tr>\n",
       "      <th>0</th>\n",
       "      <td>166406</td>\n",
       "      <td>879896.0</td>\n",
       "    </tr>\n",
       "    <tr>\n",
       "      <th>1</th>\n",
       "      <td>166406</td>\n",
       "      <td>879898.0</td>\n",
       "    </tr>\n",
       "    <tr>\n",
       "      <th>2</th>\n",
       "      <td>166406</td>\n",
       "      <td>880240.0</td>\n",
       "    </tr>\n",
       "    <tr>\n",
       "      <th>3</th>\n",
       "      <td>166406</td>\n",
       "      <td>879896.0</td>\n",
       "    </tr>\n",
       "    <tr>\n",
       "      <th>4</th>\n",
       "      <td>166406</td>\n",
       "      <td>879898.0</td>\n",
       "    </tr>\n",
       "  </tbody>\n",
       "</table>\n",
       "</div>"
      ],
      "text/plain": [
       "   user_id operator_id\n",
       "0   166406    879896.0\n",
       "1   166406    879898.0\n",
       "2   166406    880240.0\n",
       "3   166406    879896.0\n",
       "4   166406    879898.0"
      ]
     },
     "metadata": {},
     "output_type": "display_data"
    },
    {
     "data": {
      "text/html": [
       "<div>\n",
       "<style scoped>\n",
       "    .dataframe tbody tr th:only-of-type {\n",
       "        vertical-align: middle;\n",
       "    }\n",
       "\n",
       "    .dataframe tbody tr th {\n",
       "        vertical-align: top;\n",
       "    }\n",
       "\n",
       "    .dataframe thead th {\n",
       "        text-align: right;\n",
       "    }\n",
       "</style>\n",
       "<table border=\"1\" class=\"dataframe\">\n",
       "  <thead>\n",
       "    <tr style=\"text-align: right;\">\n",
       "      <th></th>\n",
       "      <th>user_id</th>\n",
       "      <th>operator_id</th>\n",
       "    </tr>\n",
       "  </thead>\n",
       "  <tbody>\n",
       "    <tr>\n",
       "      <th>771</th>\n",
       "      <td>166680</td>\n",
       "      <td>919418.0</td>\n",
       "    </tr>\n",
       "    <tr>\n",
       "      <th>786</th>\n",
       "      <td>166688</td>\n",
       "      <td>890226.0</td>\n",
       "    </tr>\n",
       "    <tr>\n",
       "      <th>972</th>\n",
       "      <td>167580</td>\n",
       "      <td>960674.0</td>\n",
       "    </tr>\n",
       "    <tr>\n",
       "      <th>741</th>\n",
       "      <td>166520</td>\n",
       "      <td>885682.0</td>\n",
       "    </tr>\n",
       "    <tr>\n",
       "      <th>964</th>\n",
       "      <td>167580</td>\n",
       "      <td>937366.0</td>\n",
       "    </tr>\n",
       "  </tbody>\n",
       "</table>\n",
       "</div>"
      ],
      "text/plain": [
       "     user_id operator_id\n",
       "771   166680    919418.0\n",
       "786   166688    890226.0\n",
       "972   167580    960674.0\n",
       "741   166520    885682.0\n",
       "964   167580    937366.0"
      ]
     },
     "metadata": {},
     "output_type": "display_data"
    }
   ],
   "source": [
    "# пока не будем объединять датасеты, выведем по отдельности\n",
    "\n",
    "display(not_effective.head())\n",
    "display(not_effective_1.head())"
   ]
  },
  {
   "cell_type": "markdown",
   "id": "d17476f2",
   "metadata": {},
   "source": [
    "## Посчитаем количество пропущенных вызовов в data_in в группировке по операторам, отсортировать по возрастанию. Посчитаем долю пропусков на единицу звонка"
   ]
  },
  {
   "cell_type": "markdown",
   "id": "db19b628",
   "metadata": {},
   "source": [
    "Проверим получше пропущенные звонки. Убедимся, что если звонок пропущен, то и длительность звонка = 0."
   ]
  },
  {
   "cell_type": "code",
   "execution_count": 52,
   "id": "12bf1721",
   "metadata": {},
   "outputs": [
    {
     "data": {
      "text/html": [
       "<div>\n",
       "<style scoped>\n",
       "    .dataframe tbody tr th:only-of-type {\n",
       "        vertical-align: middle;\n",
       "    }\n",
       "\n",
       "    .dataframe tbody tr th {\n",
       "        vertical-align: top;\n",
       "    }\n",
       "\n",
       "    .dataframe thead th {\n",
       "        text-align: right;\n",
       "    }\n",
       "</style>\n",
       "<table border=\"1\" class=\"dataframe\">\n",
       "  <thead>\n",
       "    <tr style=\"text-align: right;\">\n",
       "      <th></th>\n",
       "      <th>call_duration</th>\n",
       "    </tr>\n",
       "    <tr>\n",
       "      <th>is_missed_call</th>\n",
       "      <th></th>\n",
       "    </tr>\n",
       "  </thead>\n",
       "  <tbody>\n",
       "    <tr>\n",
       "      <th>True</th>\n",
       "      <td>1935</td>\n",
       "    </tr>\n",
       "  </tbody>\n",
       "</table>\n",
       "</div>"
      ],
      "text/plain": [
       "                call_duration\n",
       "is_missed_call               \n",
       "True                     1935"
      ]
     },
     "execution_count": 52,
     "metadata": {},
     "output_type": "execute_result"
    }
   ],
   "source": [
    "data_in.query('is_missed_call == True').groupby('is_missed_call').agg({'call_duration': 'sum'})"
   ]
  },
  {
   "cell_type": "markdown",
   "id": "805e8296",
   "metadata": {},
   "source": [
    "Мы не получили ожидаемые данные. У нас есть строки, где при наличии пропущенного входящего звонка есть некоторая продолжительность. Это не корректно. В дальнейшем исключим эти данные из анализа."
   ]
  },
  {
   "cell_type": "code",
   "execution_count": 53,
   "id": "f955cca1",
   "metadata": {
    "scrolled": true
   },
   "outputs": [
    {
     "data": {
      "text/html": [
       "<div>\n",
       "<style scoped>\n",
       "    .dataframe tbody tr th:only-of-type {\n",
       "        vertical-align: middle;\n",
       "    }\n",
       "\n",
       "    .dataframe tbody tr th {\n",
       "        vertical-align: top;\n",
       "    }\n",
       "\n",
       "    .dataframe thead th {\n",
       "        text-align: right;\n",
       "    }\n",
       "</style>\n",
       "<table border=\"1\" class=\"dataframe\">\n",
       "  <thead>\n",
       "    <tr style=\"text-align: right;\">\n",
       "      <th></th>\n",
       "      <th>user_id</th>\n",
       "      <th>date</th>\n",
       "      <th>direction</th>\n",
       "      <th>internal</th>\n",
       "      <th>operator_id</th>\n",
       "      <th>is_missed_call</th>\n",
       "      <th>calls_count</th>\n",
       "      <th>call_duration</th>\n",
       "      <th>total_call_duration</th>\n",
       "      <th>type</th>\n",
       "    </tr>\n",
       "  </thead>\n",
       "  <tbody>\n",
       "    <tr>\n",
       "      <th>519</th>\n",
       "      <td>166391</td>\n",
       "      <td>2019-08-06</td>\n",
       "      <td>in</td>\n",
       "      <td>False</td>\n",
       "      <td>882476.0</td>\n",
       "      <td>False</td>\n",
       "      <td>1</td>\n",
       "      <td>175</td>\n",
       "      <td>186</td>\n",
       "      <td>in</td>\n",
       "    </tr>\n",
       "    <tr>\n",
       "      <th>520</th>\n",
       "      <td>166391</td>\n",
       "      <td>2019-08-06</td>\n",
       "      <td>in</td>\n",
       "      <td>True</td>\n",
       "      <td>-1</td>\n",
       "      <td>True</td>\n",
       "      <td>3</td>\n",
       "      <td>0</td>\n",
       "      <td>163</td>\n",
       "      <td>in</td>\n",
       "    </tr>\n",
       "    <tr>\n",
       "      <th>521</th>\n",
       "      <td>166391</td>\n",
       "      <td>2019-08-07</td>\n",
       "      <td>in</td>\n",
       "      <td>True</td>\n",
       "      <td>882478.0</td>\n",
       "      <td>False</td>\n",
       "      <td>2</td>\n",
       "      <td>11</td>\n",
       "      <td>74</td>\n",
       "      <td>in</td>\n",
       "    </tr>\n",
       "    <tr>\n",
       "      <th>522</th>\n",
       "      <td>166391</td>\n",
       "      <td>2019-08-07</td>\n",
       "      <td>in</td>\n",
       "      <td>False</td>\n",
       "      <td>882478.0</td>\n",
       "      <td>False</td>\n",
       "      <td>1</td>\n",
       "      <td>57</td>\n",
       "      <td>70</td>\n",
       "      <td>in</td>\n",
       "    </tr>\n",
       "    <tr>\n",
       "      <th>523</th>\n",
       "      <td>166391</td>\n",
       "      <td>2019-08-07</td>\n",
       "      <td>out</td>\n",
       "      <td>True</td>\n",
       "      <td>882478.0</td>\n",
       "      <td>True</td>\n",
       "      <td>1</td>\n",
       "      <td>0</td>\n",
       "      <td>7</td>\n",
       "      <td>in</td>\n",
       "    </tr>\n",
       "  </tbody>\n",
       "</table>\n",
       "</div>"
      ],
      "text/plain": [
       "     user_id       date direction internal operator_id  is_missed_call  \\\n",
       "519   166391 2019-08-06        in    False    882476.0           False   \n",
       "520   166391 2019-08-06        in     True          -1            True   \n",
       "521   166391 2019-08-07        in     True    882478.0           False   \n",
       "522   166391 2019-08-07        in    False    882478.0           False   \n",
       "523   166391 2019-08-07       out     True    882478.0            True   \n",
       "\n",
       "     calls_count  call_duration  total_call_duration type  \n",
       "519            1            175                  186   in  \n",
       "520            3              0                  163   in  \n",
       "521            2             11                   74   in  \n",
       "522            1             57                   70   in  \n",
       "523            1              0                    7   in  "
      ]
     },
     "execution_count": 53,
     "metadata": {},
     "output_type": "execute_result"
    }
   ],
   "source": [
    "data_in = data_in[~((data_in['is_missed_call'] == True) & (data_in['call_duration'] > 0))]\n",
    "data_in.head()"
   ]
  },
  {
   "cell_type": "code",
   "execution_count": 54,
   "id": "c46836a6",
   "metadata": {},
   "outputs": [],
   "source": [
    "data_in = data_in.query('direction == \"in\"') # отфильтруем исходящие звонки"
   ]
  },
  {
   "cell_type": "code",
   "execution_count": 55,
   "id": "1a0839c7",
   "metadata": {},
   "outputs": [
    {
     "data": {
      "text/html": [
       "<div>\n",
       "<style scoped>\n",
       "    .dataframe tbody tr th:only-of-type {\n",
       "        vertical-align: middle;\n",
       "    }\n",
       "\n",
       "    .dataframe tbody tr th {\n",
       "        vertical-align: top;\n",
       "    }\n",
       "\n",
       "    .dataframe thead th {\n",
       "        text-align: right;\n",
       "    }\n",
       "</style>\n",
       "<table border=\"1\" class=\"dataframe\">\n",
       "  <thead>\n",
       "    <tr style=\"text-align: right;\">\n",
       "      <th></th>\n",
       "      <th>user_id</th>\n",
       "      <th>date</th>\n",
       "      <th>direction</th>\n",
       "      <th>internal</th>\n",
       "      <th>operator_id</th>\n",
       "      <th>is_missed_call</th>\n",
       "      <th>calls_count</th>\n",
       "      <th>call_duration</th>\n",
       "      <th>total_call_duration</th>\n",
       "      <th>type</th>\n",
       "    </tr>\n",
       "  </thead>\n",
       "  <tbody>\n",
       "    <tr>\n",
       "      <th>520</th>\n",
       "      <td>166391</td>\n",
       "      <td>2019-08-06</td>\n",
       "      <td>in</td>\n",
       "      <td>True</td>\n",
       "      <td>-1</td>\n",
       "      <td>True</td>\n",
       "      <td>3</td>\n",
       "      <td>0</td>\n",
       "      <td>163</td>\n",
       "      <td>in</td>\n",
       "    </tr>\n",
       "    <tr>\n",
       "      <th>524</th>\n",
       "      <td>166391</td>\n",
       "      <td>2019-08-07</td>\n",
       "      <td>in</td>\n",
       "      <td>False</td>\n",
       "      <td>-1</td>\n",
       "      <td>True</td>\n",
       "      <td>2</td>\n",
       "      <td>0</td>\n",
       "      <td>71</td>\n",
       "      <td>in</td>\n",
       "    </tr>\n",
       "    <tr>\n",
       "      <th>525</th>\n",
       "      <td>166391</td>\n",
       "      <td>2019-08-08</td>\n",
       "      <td>in</td>\n",
       "      <td>False</td>\n",
       "      <td>-1</td>\n",
       "      <td>True</td>\n",
       "      <td>1</td>\n",
       "      <td>0</td>\n",
       "      <td>20</td>\n",
       "      <td>in</td>\n",
       "    </tr>\n",
       "    <tr>\n",
       "      <th>526</th>\n",
       "      <td>166391</td>\n",
       "      <td>2019-08-09</td>\n",
       "      <td>in</td>\n",
       "      <td>False</td>\n",
       "      <td>-1</td>\n",
       "      <td>True</td>\n",
       "      <td>1</td>\n",
       "      <td>0</td>\n",
       "      <td>33</td>\n",
       "      <td>in</td>\n",
       "    </tr>\n",
       "    <tr>\n",
       "      <th>527</th>\n",
       "      <td>166391</td>\n",
       "      <td>2019-08-10</td>\n",
       "      <td>in</td>\n",
       "      <td>True</td>\n",
       "      <td>-1</td>\n",
       "      <td>True</td>\n",
       "      <td>1</td>\n",
       "      <td>0</td>\n",
       "      <td>38</td>\n",
       "      <td>in</td>\n",
       "    </tr>\n",
       "    <tr>\n",
       "      <th>...</th>\n",
       "      <td>...</td>\n",
       "      <td>...</td>\n",
       "      <td>...</td>\n",
       "      <td>...</td>\n",
       "      <td>...</td>\n",
       "      <td>...</td>\n",
       "      <td>...</td>\n",
       "      <td>...</td>\n",
       "      <td>...</td>\n",
       "      <td>...</td>\n",
       "    </tr>\n",
       "    <tr>\n",
       "      <th>46363</th>\n",
       "      <td>168598</td>\n",
       "      <td>2019-11-17</td>\n",
       "      <td>in</td>\n",
       "      <td>False</td>\n",
       "      <td>-1</td>\n",
       "      <td>True</td>\n",
       "      <td>3</td>\n",
       "      <td>0</td>\n",
       "      <td>46</td>\n",
       "      <td>in</td>\n",
       "    </tr>\n",
       "    <tr>\n",
       "      <th>46364</th>\n",
       "      <td>168598</td>\n",
       "      <td>2019-11-18</td>\n",
       "      <td>in</td>\n",
       "      <td>False</td>\n",
       "      <td>-1</td>\n",
       "      <td>True</td>\n",
       "      <td>9</td>\n",
       "      <td>0</td>\n",
       "      <td>112</td>\n",
       "      <td>in</td>\n",
       "    </tr>\n",
       "    <tr>\n",
       "      <th>46365</th>\n",
       "      <td>168598</td>\n",
       "      <td>2019-11-19</td>\n",
       "      <td>in</td>\n",
       "      <td>False</td>\n",
       "      <td>-1</td>\n",
       "      <td>True</td>\n",
       "      <td>8</td>\n",
       "      <td>0</td>\n",
       "      <td>79</td>\n",
       "      <td>in</td>\n",
       "    </tr>\n",
       "    <tr>\n",
       "      <th>46370</th>\n",
       "      <td>168598</td>\n",
       "      <td>2019-11-25</td>\n",
       "      <td>in</td>\n",
       "      <td>False</td>\n",
       "      <td>-1</td>\n",
       "      <td>True</td>\n",
       "      <td>1</td>\n",
       "      <td>0</td>\n",
       "      <td>18</td>\n",
       "      <td>in</td>\n",
       "    </tr>\n",
       "    <tr>\n",
       "      <th>46373</th>\n",
       "      <td>168598</td>\n",
       "      <td>2019-11-28</td>\n",
       "      <td>in</td>\n",
       "      <td>False</td>\n",
       "      <td>-1</td>\n",
       "      <td>True</td>\n",
       "      <td>2</td>\n",
       "      <td>0</td>\n",
       "      <td>0</td>\n",
       "      <td>in</td>\n",
       "    </tr>\n",
       "  </tbody>\n",
       "</table>\n",
       "<p>2807 rows × 10 columns</p>\n",
       "</div>"
      ],
      "text/plain": [
       "       user_id       date direction internal operator_id  is_missed_call  \\\n",
       "520     166391 2019-08-06        in     True          -1            True   \n",
       "524     166391 2019-08-07        in    False          -1            True   \n",
       "525     166391 2019-08-08        in    False          -1            True   \n",
       "526     166391 2019-08-09        in    False          -1            True   \n",
       "527     166391 2019-08-10        in     True          -1            True   \n",
       "...        ...        ...       ...      ...         ...             ...   \n",
       "46363   168598 2019-11-17        in    False          -1            True   \n",
       "46364   168598 2019-11-18        in    False          -1            True   \n",
       "46365   168598 2019-11-19        in    False          -1            True   \n",
       "46370   168598 2019-11-25        in    False          -1            True   \n",
       "46373   168598 2019-11-28        in    False          -1            True   \n",
       "\n",
       "       calls_count  call_duration  total_call_duration type  \n",
       "520              3              0                  163   in  \n",
       "524              2              0                   71   in  \n",
       "525              1              0                   20   in  \n",
       "526              1              0                   33   in  \n",
       "527              1              0                   38   in  \n",
       "...            ...            ...                  ...  ...  \n",
       "46363            3              0                   46   in  \n",
       "46364            9              0                  112   in  \n",
       "46365            8              0                   79   in  \n",
       "46370            1              0                   18   in  \n",
       "46373            2              0                    0   in  \n",
       "\n",
       "[2807 rows x 10 columns]"
      ]
     },
     "execution_count": 55,
     "metadata": {},
     "output_type": "execute_result"
    }
   ],
   "source": [
    "data_miss = data_in.query('is_missed_call == True') # отфильтруем только входящие пропущенные звонки\n",
    "data_miss"
   ]
  },
  {
   "cell_type": "markdown",
   "id": "12a451fd",
   "metadata": {},
   "source": [
    "Теперь, когда обработали не корректные данные, связанные с пропусками, посчитаем долю пропущенных звонков на каждого оператора."
   ]
  },
  {
   "cell_type": "code",
   "execution_count": 56,
   "id": "f676a891",
   "metadata": {},
   "outputs": [],
   "source": [
    "data_in_ = data_in.groupby(['user_id', 'operator_id']).agg({'calls_count': 'sum'}).reset_index() # считаем суммарное кол-во звонков"
   ]
  },
  {
   "cell_type": "code",
   "execution_count": 57,
   "id": "736736b2",
   "metadata": {},
   "outputs": [],
   "source": [
    "data_in_miss_ = data_miss.groupby(['user_id', 'operator_id']).agg({'calls_count': 'sum'}).reset_index() # считаем кол-во пропущуенных"
   ]
  },
  {
   "cell_type": "code",
   "execution_count": 58,
   "id": "95e30a07",
   "metadata": {},
   "outputs": [],
   "source": [
    "# так как мы всем пропускам operator_id присвоили -1, то у нас будут некорректно отображаться user_id. Исключим их из расчетов\n",
    "\n",
    "in_miss = data_in_.merge(data_in_miss_, on='operator_id')\n",
    "in_miss = in_miss.query('operator_id != \"-1\"')"
   ]
  },
  {
   "cell_type": "code",
   "execution_count": 59,
   "id": "95dfe506",
   "metadata": {},
   "outputs": [
    {
     "data": {
      "text/html": [
       "<div>\n",
       "<style scoped>\n",
       "    .dataframe tbody tr th:only-of-type {\n",
       "        vertical-align: middle;\n",
       "    }\n",
       "\n",
       "    .dataframe tbody tr th {\n",
       "        vertical-align: top;\n",
       "    }\n",
       "\n",
       "    .dataframe thead th {\n",
       "        text-align: right;\n",
       "    }\n",
       "</style>\n",
       "<table border=\"1\" class=\"dataframe\">\n",
       "  <thead>\n",
       "    <tr style=\"text-align: right;\">\n",
       "      <th></th>\n",
       "      <th>user_id_x</th>\n",
       "      <th>operator_id</th>\n",
       "      <th>miss_ratio</th>\n",
       "    </tr>\n",
       "  </thead>\n",
       "  <tbody>\n",
       "    <tr>\n",
       "      <th>23452</th>\n",
       "      <td>168004</td>\n",
       "      <td>934098.0</td>\n",
       "      <td>0.333333</td>\n",
       "    </tr>\n",
       "    <tr>\n",
       "      <th>23420</th>\n",
       "      <td>166837</td>\n",
       "      <td>930242.0</td>\n",
       "      <td>0.250000</td>\n",
       "    </tr>\n",
       "    <tr>\n",
       "      <th>23435</th>\n",
       "      <td>167162</td>\n",
       "      <td>905300.0</td>\n",
       "      <td>0.240000</td>\n",
       "    </tr>\n",
       "    <tr>\n",
       "      <th>23438</th>\n",
       "      <td>167200</td>\n",
       "      <td>905862.0</td>\n",
       "      <td>0.147059</td>\n",
       "    </tr>\n",
       "    <tr>\n",
       "      <th>23411</th>\n",
       "      <td>166487</td>\n",
       "      <td>959312.0</td>\n",
       "      <td>0.125000</td>\n",
       "    </tr>\n",
       "  </tbody>\n",
       "</table>\n",
       "</div>"
      ],
      "text/plain": [
       "       user_id_x operator_id  miss_ratio\n",
       "23452     168004    934098.0    0.333333\n",
       "23420     166837    930242.0    0.250000\n",
       "23435     167162    905300.0    0.240000\n",
       "23438     167200    905862.0    0.147059\n",
       "23411     166487    959312.0    0.125000"
      ]
     },
     "execution_count": 59,
     "metadata": {},
     "output_type": "execute_result"
    }
   ],
   "source": [
    "in_miss['miss_ratio'] = in_miss['calls_count_y'] / in_miss['calls_count_x'] # считаем долю пропусков\n",
    "in_miss = in_miss[['user_id_x', 'operator_id', 'miss_ratio']].sort_values('miss_ratio', ascending=False)\n",
    "in_miss.head()"
   ]
  },
  {
   "cell_type": "markdown",
   "id": "02c04914",
   "metadata": {},
   "source": [
    "У нас минимальный показатель 0.33, в целом неплохо. Для нас неважно, перевел он их на другого оператора или звонок сорвался - у таких операторов минимальное количество звонков и высокая доля пропусков, что явно говорит об их неэффективности по данному параметру. \n",
    "\n",
    "Так как мы обрабатываем входящюю линию, то пропущенный звонок в данном случае не приемлим. Даже 1 пропущенный звонок в день это много. Допустим, что считается приемлемым 1 пропущенный звонок за три дня.\n",
    "\n",
    "Исходя из всего вышесказанного возьмем за границу долю в 0.3 и сделаем список всех операторов, у которых доля пропусков выше этого значения."
   ]
  },
  {
   "cell_type": "code",
   "execution_count": 60,
   "id": "fd704efc",
   "metadata": {},
   "outputs": [
    {
     "data": {
      "text/html": [
       "<div>\n",
       "<style scoped>\n",
       "    .dataframe tbody tr th:only-of-type {\n",
       "        vertical-align: middle;\n",
       "    }\n",
       "\n",
       "    .dataframe tbody tr th {\n",
       "        vertical-align: top;\n",
       "    }\n",
       "\n",
       "    .dataframe thead th {\n",
       "        text-align: right;\n",
       "    }\n",
       "</style>\n",
       "<table border=\"1\" class=\"dataframe\">\n",
       "  <thead>\n",
       "    <tr style=\"text-align: right;\">\n",
       "      <th></th>\n",
       "      <th>user_id_x</th>\n",
       "      <th>operator_id</th>\n",
       "      <th>miss_ratio</th>\n",
       "    </tr>\n",
       "  </thead>\n",
       "  <tbody>\n",
       "    <tr>\n",
       "      <th>23452</th>\n",
       "      <td>168004</td>\n",
       "      <td>934098.0</td>\n",
       "      <td>0.333333</td>\n",
       "    </tr>\n",
       "  </tbody>\n",
       "</table>\n",
       "</div>"
      ],
      "text/plain": [
       "       user_id_x operator_id  miss_ratio\n",
       "23452     168004    934098.0    0.333333"
      ]
     },
     "execution_count": 60,
     "metadata": {},
     "output_type": "execute_result"
    }
   ],
   "source": [
    "in_miss = in_miss.query('miss_ratio >= 0.3')\n",
    "in_miss.head()"
   ]
  },
  {
   "cell_type": "markdown",
   "id": "5d28ebce",
   "metadata": {},
   "source": [
    "Добавим этот список к существующим."
   ]
  },
  {
   "cell_type": "code",
   "execution_count": 61,
   "id": "92581c3f",
   "metadata": {},
   "outputs": [
    {
     "data": {
      "text/html": [
       "<div>\n",
       "<style scoped>\n",
       "    .dataframe tbody tr th:only-of-type {\n",
       "        vertical-align: middle;\n",
       "    }\n",
       "\n",
       "    .dataframe tbody tr th {\n",
       "        vertical-align: top;\n",
       "    }\n",
       "\n",
       "    .dataframe thead th {\n",
       "        text-align: right;\n",
       "    }\n",
       "</style>\n",
       "<table border=\"1\" class=\"dataframe\">\n",
       "  <thead>\n",
       "    <tr style=\"text-align: right;\">\n",
       "      <th></th>\n",
       "      <th>user_id</th>\n",
       "      <th>operator_id</th>\n",
       "    </tr>\n",
       "  </thead>\n",
       "  <tbody>\n",
       "    <tr>\n",
       "      <th>23452</th>\n",
       "      <td>168004</td>\n",
       "      <td>934098.0</td>\n",
       "    </tr>\n",
       "  </tbody>\n",
       "</table>\n",
       "</div>"
      ],
      "text/plain": [
       "       user_id operator_id\n",
       "23452   168004    934098.0"
      ]
     },
     "execution_count": 61,
     "metadata": {},
     "output_type": "execute_result"
    }
   ],
   "source": [
    "not_effective_2 = in_miss[['user_id_x', 'operator_id']]\n",
    "not_effective_2 = not_effective_2.rename(columns={'user_id_x': 'user_id'})\n",
    "not_effective_2.head()"
   ]
  },
  {
   "cell_type": "markdown",
   "id": "a6145b14",
   "metadata": {},
   "source": [
    "## Посчитаем количество входящих вызовов в data_in в группировке по операторам; посчитаем среднюю длительность звонка, отсортируем по возрастанию. Построим столбчатую диаграмму по полученым данным"
   ]
  },
  {
   "cell_type": "markdown",
   "id": "8bf95823",
   "metadata": {},
   "source": [
    "Для входящих операторов не будем разделять звонки по параметру internal, проверим это позже при необходимости. Сгруппируем сразу данные по операторам и посмотрим данные в среднем."
   ]
  },
  {
   "cell_type": "code",
   "execution_count": 62,
   "id": "4cdc4870",
   "metadata": {},
   "outputs": [
    {
     "data": {
      "text/html": [
       "<div>\n",
       "<style scoped>\n",
       "    .dataframe tbody tr th:only-of-type {\n",
       "        vertical-align: middle;\n",
       "    }\n",
       "\n",
       "    .dataframe tbody tr th {\n",
       "        vertical-align: top;\n",
       "    }\n",
       "\n",
       "    .dataframe thead th {\n",
       "        text-align: right;\n",
       "    }\n",
       "</style>\n",
       "<table border=\"1\" class=\"dataframe\">\n",
       "  <thead>\n",
       "    <tr style=\"text-align: right;\">\n",
       "      <th></th>\n",
       "      <th>user_id</th>\n",
       "      <th>operator_id</th>\n",
       "      <th>calls_count</th>\n",
       "      <th>call_duration</th>\n",
       "      <th>total_call_duration</th>\n",
       "    </tr>\n",
       "  </thead>\n",
       "  <tbody>\n",
       "    <tr>\n",
       "      <th>0</th>\n",
       "      <td>166975</td>\n",
       "      <td>899906.0</td>\n",
       "      <td>1.000000</td>\n",
       "      <td>626.000000</td>\n",
       "      <td>645.000000</td>\n",
       "    </tr>\n",
       "    <tr>\n",
       "      <th>1</th>\n",
       "      <td>167621</td>\n",
       "      <td>918888.0</td>\n",
       "      <td>1.000000</td>\n",
       "      <td>19.000000</td>\n",
       "      <td>28.375000</td>\n",
       "    </tr>\n",
       "    <tr>\n",
       "      <th>2</th>\n",
       "      <td>166604</td>\n",
       "      <td>893400.0</td>\n",
       "      <td>1.000000</td>\n",
       "      <td>29.500000</td>\n",
       "      <td>49.000000</td>\n",
       "    </tr>\n",
       "    <tr>\n",
       "      <th>3</th>\n",
       "      <td>168303</td>\n",
       "      <td>-1</td>\n",
       "      <td>1.000000</td>\n",
       "      <td>0.000000</td>\n",
       "      <td>10.500000</td>\n",
       "    </tr>\n",
       "    <tr>\n",
       "      <th>4</th>\n",
       "      <td>167286</td>\n",
       "      <td>909768.0</td>\n",
       "      <td>1.000000</td>\n",
       "      <td>278.642857</td>\n",
       "      <td>320.642857</td>\n",
       "    </tr>\n",
       "    <tr>\n",
       "      <th>...</th>\n",
       "      <td>...</td>\n",
       "      <td>...</td>\n",
       "      <td>...</td>\n",
       "      <td>...</td>\n",
       "      <td>...</td>\n",
       "    </tr>\n",
       "    <tr>\n",
       "      <th>403</th>\n",
       "      <td>167521</td>\n",
       "      <td>-1</td>\n",
       "      <td>25.338462</td>\n",
       "      <td>0.000000</td>\n",
       "      <td>757.676923</td>\n",
       "    </tr>\n",
       "    <tr>\n",
       "      <th>404</th>\n",
       "      <td>166582</td>\n",
       "      <td>-1</td>\n",
       "      <td>27.808219</td>\n",
       "      <td>0.000000</td>\n",
       "      <td>328.753425</td>\n",
       "    </tr>\n",
       "    <tr>\n",
       "      <th>405</th>\n",
       "      <td>167631</td>\n",
       "      <td>-1</td>\n",
       "      <td>29.000000</td>\n",
       "      <td>0.000000</td>\n",
       "      <td>0.000000</td>\n",
       "    </tr>\n",
       "    <tr>\n",
       "      <th>406</th>\n",
       "      <td>167599</td>\n",
       "      <td>954086.0</td>\n",
       "      <td>31.000000</td>\n",
       "      <td>277.000000</td>\n",
       "      <td>341.000000</td>\n",
       "    </tr>\n",
       "    <tr>\n",
       "      <th>407</th>\n",
       "      <td>167521</td>\n",
       "      <td>919794.0</td>\n",
       "      <td>34.580645</td>\n",
       "      <td>2691.677419</td>\n",
       "      <td>3683.000000</td>\n",
       "    </tr>\n",
       "  </tbody>\n",
       "</table>\n",
       "<p>408 rows × 5 columns</p>\n",
       "</div>"
      ],
      "text/plain": [
       "     user_id operator_id  calls_count  call_duration  total_call_duration\n",
       "0     166975    899906.0     1.000000     626.000000           645.000000\n",
       "1     167621    918888.0     1.000000      19.000000            28.375000\n",
       "2     166604    893400.0     1.000000      29.500000            49.000000\n",
       "3     168303          -1     1.000000       0.000000            10.500000\n",
       "4     167286    909768.0     1.000000     278.642857           320.642857\n",
       "..       ...         ...          ...            ...                  ...\n",
       "403   167521          -1    25.338462       0.000000           757.676923\n",
       "404   166582          -1    27.808219       0.000000           328.753425\n",
       "405   167631          -1    29.000000       0.000000             0.000000\n",
       "406   167599    954086.0    31.000000     277.000000           341.000000\n",
       "407   167521    919794.0    34.580645    2691.677419          3683.000000\n",
       "\n",
       "[408 rows x 5 columns]"
      ]
     },
     "execution_count": 62,
     "metadata": {},
     "output_type": "execute_result"
    }
   ],
   "source": [
    "data_in_group = data_in.groupby(['user_id', 'operator_id']).agg({'calls_count': 'mean', 'call_duration': 'mean', 'total_call_duration': 'mean'}).sort_values('calls_count').reset_index()\n",
    "data_in_group"
   ]
  },
  {
   "cell_type": "markdown",
   "id": "27bdf28e",
   "metadata": {},
   "source": [
    "Важный параментр для определения неэффективных входящих операторов - время ожидания. Добавим колонку с \"чистым\" среднем временем ожидания."
   ]
  },
  {
   "cell_type": "code",
   "execution_count": 63,
   "id": "583fd5c4",
   "metadata": {},
   "outputs": [
    {
     "data": {
      "text/html": [
       "<div>\n",
       "<style scoped>\n",
       "    .dataframe tbody tr th:only-of-type {\n",
       "        vertical-align: middle;\n",
       "    }\n",
       "\n",
       "    .dataframe tbody tr th {\n",
       "        vertical-align: top;\n",
       "    }\n",
       "\n",
       "    .dataframe thead th {\n",
       "        text-align: right;\n",
       "    }\n",
       "</style>\n",
       "<table border=\"1\" class=\"dataframe\">\n",
       "  <thead>\n",
       "    <tr style=\"text-align: right;\">\n",
       "      <th></th>\n",
       "      <th>user_id</th>\n",
       "      <th>operator_id</th>\n",
       "      <th>calls_count</th>\n",
       "      <th>call_duration</th>\n",
       "      <th>total_call_duration</th>\n",
       "      <th>duration_mean</th>\n",
       "    </tr>\n",
       "  </thead>\n",
       "  <tbody>\n",
       "    <tr>\n",
       "      <th>0</th>\n",
       "      <td>166975</td>\n",
       "      <td>899906.0</td>\n",
       "      <td>1.000000</td>\n",
       "      <td>626.000000</td>\n",
       "      <td>645.000000</td>\n",
       "      <td>19.000000</td>\n",
       "    </tr>\n",
       "    <tr>\n",
       "      <th>1</th>\n",
       "      <td>167621</td>\n",
       "      <td>918888.0</td>\n",
       "      <td>1.000000</td>\n",
       "      <td>19.000000</td>\n",
       "      <td>28.375000</td>\n",
       "      <td>9.375000</td>\n",
       "    </tr>\n",
       "    <tr>\n",
       "      <th>2</th>\n",
       "      <td>166604</td>\n",
       "      <td>893400.0</td>\n",
       "      <td>1.000000</td>\n",
       "      <td>29.500000</td>\n",
       "      <td>49.000000</td>\n",
       "      <td>19.500000</td>\n",
       "    </tr>\n",
       "    <tr>\n",
       "      <th>3</th>\n",
       "      <td>168303</td>\n",
       "      <td>-1</td>\n",
       "      <td>1.000000</td>\n",
       "      <td>0.000000</td>\n",
       "      <td>10.500000</td>\n",
       "      <td>10.500000</td>\n",
       "    </tr>\n",
       "    <tr>\n",
       "      <th>4</th>\n",
       "      <td>167286</td>\n",
       "      <td>909768.0</td>\n",
       "      <td>1.000000</td>\n",
       "      <td>278.642857</td>\n",
       "      <td>320.642857</td>\n",
       "      <td>42.000000</td>\n",
       "    </tr>\n",
       "    <tr>\n",
       "      <th>...</th>\n",
       "      <td>...</td>\n",
       "      <td>...</td>\n",
       "      <td>...</td>\n",
       "      <td>...</td>\n",
       "      <td>...</td>\n",
       "      <td>...</td>\n",
       "    </tr>\n",
       "    <tr>\n",
       "      <th>403</th>\n",
       "      <td>167521</td>\n",
       "      <td>-1</td>\n",
       "      <td>25.338462</td>\n",
       "      <td>0.000000</td>\n",
       "      <td>757.676923</td>\n",
       "      <td>757.676923</td>\n",
       "    </tr>\n",
       "    <tr>\n",
       "      <th>404</th>\n",
       "      <td>166582</td>\n",
       "      <td>-1</td>\n",
       "      <td>27.808219</td>\n",
       "      <td>0.000000</td>\n",
       "      <td>328.753425</td>\n",
       "      <td>328.753425</td>\n",
       "    </tr>\n",
       "    <tr>\n",
       "      <th>405</th>\n",
       "      <td>167631</td>\n",
       "      <td>-1</td>\n",
       "      <td>29.000000</td>\n",
       "      <td>0.000000</td>\n",
       "      <td>0.000000</td>\n",
       "      <td>0.000000</td>\n",
       "    </tr>\n",
       "    <tr>\n",
       "      <th>406</th>\n",
       "      <td>167599</td>\n",
       "      <td>954086.0</td>\n",
       "      <td>31.000000</td>\n",
       "      <td>277.000000</td>\n",
       "      <td>341.000000</td>\n",
       "      <td>64.000000</td>\n",
       "    </tr>\n",
       "    <tr>\n",
       "      <th>407</th>\n",
       "      <td>167521</td>\n",
       "      <td>919794.0</td>\n",
       "      <td>34.580645</td>\n",
       "      <td>2691.677419</td>\n",
       "      <td>3683.000000</td>\n",
       "      <td>991.322581</td>\n",
       "    </tr>\n",
       "  </tbody>\n",
       "</table>\n",
       "<p>408 rows × 6 columns</p>\n",
       "</div>"
      ],
      "text/plain": [
       "     user_id operator_id  calls_count  call_duration  total_call_duration  \\\n",
       "0     166975    899906.0     1.000000     626.000000           645.000000   \n",
       "1     167621    918888.0     1.000000      19.000000            28.375000   \n",
       "2     166604    893400.0     1.000000      29.500000            49.000000   \n",
       "3     168303          -1     1.000000       0.000000            10.500000   \n",
       "4     167286    909768.0     1.000000     278.642857           320.642857   \n",
       "..       ...         ...          ...            ...                  ...   \n",
       "403   167521          -1    25.338462       0.000000           757.676923   \n",
       "404   166582          -1    27.808219       0.000000           328.753425   \n",
       "405   167631          -1    29.000000       0.000000             0.000000   \n",
       "406   167599    954086.0    31.000000     277.000000           341.000000   \n",
       "407   167521    919794.0    34.580645    2691.677419          3683.000000   \n",
       "\n",
       "     duration_mean  \n",
       "0        19.000000  \n",
       "1         9.375000  \n",
       "2        19.500000  \n",
       "3        10.500000  \n",
       "4        42.000000  \n",
       "..             ...  \n",
       "403     757.676923  \n",
       "404     328.753425  \n",
       "405       0.000000  \n",
       "406      64.000000  \n",
       "407     991.322581  \n",
       "\n",
       "[408 rows x 6 columns]"
      ]
     },
     "execution_count": 63,
     "metadata": {},
     "output_type": "execute_result"
    }
   ],
   "source": [
    "data_in_group['duration_mean'] = data_in_group['total_call_duration'] - data_in_group['call_duration']\n",
    "data_in_group"
   ]
  },
  {
   "cell_type": "markdown",
   "id": "4b968b8e",
   "metadata": {},
   "source": [
    "Посмотрим наглядно как распределяются данные."
   ]
  },
  {
   "cell_type": "code",
   "execution_count": 64,
   "id": "884e9052",
   "metadata": {},
   "outputs": [
    {
     "data": {
      "image/png": "[encoded data removed]",
      "text/plain": [
       "<Figure size 432x288 with 1 Axes>"
      ]
     },
     "metadata": {
      "needs_background": "light"
     },
     "output_type": "display_data"
    }
   ],
   "source": [
    "pd.Series(data_in_group['calls_count']).hist(range = (0, 30), bins=20)\n",
    "plt.title('Распределение количества звонков на одного оператора')\n",
    "plt.xlabel('Количество звонков')\n",
    "plt.ylabel('Частота')\n",
    "plt.show()"
   ]
  },
  {
   "cell_type": "code",
   "execution_count": 65,
   "id": "3b0e2622",
   "metadata": {},
   "outputs": [
    {
     "data": {
      "image/png": "[encoded data removed]",
      "text/plain": [
       "<Figure size 432x288 with 1 Axes>"
      ]
     },
     "metadata": {
      "needs_background": "light"
     },
     "output_type": "display_data"
    }
   ],
   "source": [
    "pd.Series(data_in_group['call_duration']).hist(range = (0, 30), bins=20)\n",
    "plt.title('Распределение продолжительности звонков на одного оператора')\n",
    "plt.xlabel('Продолжительность звонков')\n",
    "plt.ylabel('Частота')\n",
    "plt.show()"
   ]
  },
  {
   "cell_type": "code",
   "execution_count": 66,
   "id": "2763c763",
   "metadata": {},
   "outputs": [
    {
     "data": {
      "image/png": "[encoded data removed]",
      "text/plain": [
       "<Figure size 432x288 with 1 Axes>"
      ]
     },
     "metadata": {
      "needs_background": "light"
     },
     "output_type": "display_data"
    }
   ],
   "source": [
    "pd.Series(data_in_group['duration_mean']).hist(range = (0, 120), bins=20)\n",
    "plt.title('Распределение ожидания звонков на одного оператора')\n",
    "plt.xlabel('Продолжительность ожидания')\n",
    "plt.ylabel('Частота')\n",
    "plt.show()"
   ]
  },
  {
   "cell_type": "markdown",
   "id": "7a8d153e",
   "metadata": {},
   "source": [
    "Чтобы достоверно определить границу эффективности, определим, сколько в среднем вывозов может обработать оператор вхоядщей линии за рабочую смену (8 часов)."
   ]
  },
  {
   "cell_type": "code",
   "execution_count": 67,
   "id": "468bb6ec",
   "metadata": {},
   "outputs": [],
   "source": [
    "data_in['full_duration'] = data_in['call_duration'] * data_in['calls_count']"
   ]
  },
  {
   "cell_type": "markdown",
   "id": "559d894b",
   "metadata": {},
   "source": [
    "Посмотрим, сколько в среднем звонков делает оператор входящей линии."
   ]
  },
  {
   "cell_type": "code",
   "execution_count": 68,
   "id": "2e9b2699",
   "metadata": {},
   "outputs": [],
   "source": [
    "data_work_in = data_in.groupby(['date', 'operator_id']).agg({'calls_count': 'sum', 'full_duration': 'sum'}).reset_index()\n",
    "\n",
    "# сразу сделаем срез по 8 часовой смене. Однако брать ровно 8 часов сильно \"жестко\", возьмем промежутов от 7,5 до 8 часов.\n",
    "#С учетом того, что оператор может делать перерывы между звонками и/или звонки идут не один за другим\n",
    "\n",
    "data_work_in = data_work_in.query('full_duration >= 27000')\n",
    "data_work_in = data_work_in.query('full_duration <= 28800')"
   ]
  },
  {
   "cell_type": "markdown",
   "id": "cf671cdb",
   "metadata": {},
   "source": [
    "Для того, чтобы определить границу эффективности по количеству звонков за смену для каждого оператора, возьмем медианное значение по отобранным данным. Среднее брать не рационально, так как данный показатель может легко смеситься, если кто-то из операторов будет работать чуть усерднее (или наоборот). При медианном же значении такого не будет."
   ]
  },
  {
   "cell_type": "code",
   "execution_count": 69,
   "id": "1e9c1a8e",
   "metadata": {},
   "outputs": [
    {
     "data": {
      "text/plain": [
       "19.0"
      ]
     },
     "execution_count": 69,
     "metadata": {},
     "output_type": "execute_result"
    }
   ],
   "source": [
    "data_work_in['calls_count'].median()"
   ]
  },
  {
   "cell_type": "markdown",
   "id": "69a0d4a0",
   "metadata": {},
   "source": [
    "Также посмотрим на распределение звонков в день на каждого оператора."
   ]
  },
  {
   "cell_type": "code",
   "execution_count": 70,
   "id": "11e45e24",
   "metadata": {},
   "outputs": [
    {
     "data": {
      "image/png": "[encoded data removed]",
      "text/plain": [
       "<Figure size 432x288 with 1 Axes>"
      ]
     },
     "metadata": {
      "needs_background": "light"
     },
     "output_type": "display_data"
    }
   ],
   "source": [
    "pd.Series(data_in['calls_count']).hist(range = (0, 70), bins=20)\n",
    "plt.title('Распределение количества звонков в день на одного оператора')\n",
    "plt.xlabel('Количество звонков')\n",
    "plt.ylabel('Частота')\n",
    "plt.show()"
   ]
  },
  {
   "cell_type": "markdown",
   "id": "314513d5",
   "metadata": {},
   "source": [
    "По нашим данным мы получили число 19. Столько звонков оператор может совершить за рабочую смену. Однако, нельзя говорить, что это граница эффективности. Это скорее показывает норму звонков в день.\n",
    "\n",
    "При этом, по графику мы видим, что основная часть операторов обрабатывает в пределах 5 звонков в день. Между 19 и 5 достаточно большой разрыв.\n",
    "\n",
    "Не будем ориентироваться на большинство операторов. Возьмем некоторое промежуточное значение за графницу эффектиновсти. Определим, что входящие операторы, обрабатывающие меньше 12 звонков в день - неэффективные."
   ]
  },
  {
   "cell_type": "code",
   "execution_count": 71,
   "id": "c8aa02ad",
   "metadata": {},
   "outputs": [],
   "source": [
    "data_work_in_ = data_in.groupby(['date', 'user_id', 'operator_id']).agg({'calls_count': 'sum', 'full_duration': 'sum'}).reset_index()"
   ]
  },
  {
   "cell_type": "markdown",
   "id": "627ecae5",
   "metadata": {},
   "source": [
    "Для того, чтобы определить границу времени ожидания оттолкнемся от данных клиентов, а не от работы операторов (которые могут искусственно изменять границы своей работы). Так, например, определим, когда пользователи в среднем сладут трубку, после какой секунды. \n",
    "\n",
    "Для этого отфильтруем данные, когда звонок входящий и пропущенный и посмотрим распределение длительности ожидания."
   ]
  },
  {
   "cell_type": "code",
   "execution_count": 72,
   "id": "0fa90ce7",
   "metadata": {},
   "outputs": [
    {
     "data": {
      "image/png": "[encoded data removed]",
      "text/plain": [
       "<Figure size 432x288 with 1 Axes>"
      ]
     },
     "metadata": {
      "needs_background": "light"
     },
     "output_type": "display_data"
    }
   ],
   "source": [
    "pd.Series(data_miss['total_call_duration']).hist(range = (0, 70), bins=14)\n",
    "plt.title('Распределение длительности ожидания на одного оператора')\n",
    "plt.xlabel('Количество звонков')\n",
    "plt.ylabel('Частота')\n",
    "plt.show()"
   ]
  },
  {
   "cell_type": "markdown",
   "id": "4b994834",
   "metadata": {},
   "source": [
    "Мы видим два скачка: один явный, на 5 секундах, второй не сильно явный, но есть - на 35 секундах.\n",
    "\n",
    "Вероятнее всего данные распределились таким образом потому, что некоторые клиенты кладут трубку почти сразу, не желая ждать. Другая же часть клиентов готова ждать, но не больше 30-35 секунд. После этого значения показатели плавно снижаются и уже не имеют такой большой частоты.\n",
    "\n",
    "Поэтому, примем за границу неэффективности по показателю ожидания (как границу терпения клиентов) равную 35 секундам."
   ]
  },
  {
   "cell_type": "markdown",
   "id": "a6f20d11",
   "metadata": {},
   "source": [
    "## На основании п. 5.7-5.8 определим операторов, которые в среднем обработали наименьшее количество звонков среди всех, при этом с большой долей пропусков на единицу звонка и большой долей времени ожидания"
   ]
  },
  {
   "cell_type": "markdown",
   "id": "e6c4c5b8",
   "metadata": {},
   "source": [
    "Итого для входящих операторов у нас следующие критерии неэффективности:\n",
    "- количество звонков < 12\n",
    "- доля пропусков >= 0.3\n",
    "- ожидание > 35"
   ]
  },
  {
   "cell_type": "markdown",
   "id": "6b09050b",
   "metadata": {},
   "source": [
    "По пропускам мы уже выше сделали отдельный датасет not_effective_2."
   ]
  },
  {
   "cell_type": "code",
   "execution_count": 73,
   "id": "62f3bd2c",
   "metadata": {},
   "outputs": [
    {
     "data": {
      "text/html": [
       "<div>\n",
       "<style scoped>\n",
       "    .dataframe tbody tr th:only-of-type {\n",
       "        vertical-align: middle;\n",
       "    }\n",
       "\n",
       "    .dataframe tbody tr th {\n",
       "        vertical-align: top;\n",
       "    }\n",
       "\n",
       "    .dataframe thead th {\n",
       "        text-align: right;\n",
       "    }\n",
       "</style>\n",
       "<table border=\"1\" class=\"dataframe\">\n",
       "  <thead>\n",
       "    <tr style=\"text-align: right;\">\n",
       "      <th></th>\n",
       "      <th>user_id</th>\n",
       "      <th>operator_id</th>\n",
       "    </tr>\n",
       "  </thead>\n",
       "  <tbody>\n",
       "    <tr>\n",
       "      <th>0</th>\n",
       "      <td>166392</td>\n",
       "      <td>-1</td>\n",
       "    </tr>\n",
       "    <tr>\n",
       "      <th>1</th>\n",
       "      <td>166428</td>\n",
       "      <td>-1</td>\n",
       "    </tr>\n",
       "    <tr>\n",
       "      <th>2</th>\n",
       "      <td>166391</td>\n",
       "      <td>-1</td>\n",
       "    </tr>\n",
       "    <tr>\n",
       "      <th>3</th>\n",
       "      <td>166391</td>\n",
       "      <td>882476.0</td>\n",
       "    </tr>\n",
       "    <tr>\n",
       "      <th>4</th>\n",
       "      <td>166392</td>\n",
       "      <td>-1</td>\n",
       "    </tr>\n",
       "  </tbody>\n",
       "</table>\n",
       "</div>"
      ],
      "text/plain": [
       "   user_id operator_id\n",
       "0   166392          -1\n",
       "1   166428          -1\n",
       "2   166391          -1\n",
       "3   166391    882476.0\n",
       "4   166392          -1"
      ]
     },
     "execution_count": 73,
     "metadata": {},
     "output_type": "execute_result"
    }
   ],
   "source": [
    "# выведем список таких операторов\n",
    "\n",
    "not_effective_3 = data_work_in_.query('calls_count < 12')\n",
    "not_effective_3 = not_effective_3[['user_id', 'operator_id']]\n",
    "not_effective_3.head()"
   ]
  },
  {
   "cell_type": "markdown",
   "id": "c81e9e16",
   "metadata": {},
   "source": [
    "Так как, к сожалению, по пропущенным операторам (-1) значения считаются не корретными, исключим их из таблицы."
   ]
  },
  {
   "cell_type": "code",
   "execution_count": 74,
   "id": "83dce23a",
   "metadata": {},
   "outputs": [],
   "source": [
    "not_effective_3 = not_effective_3.query('operator_id != \"-1\"')"
   ]
  },
  {
   "cell_type": "code",
   "execution_count": 75,
   "id": "93a8eb2a",
   "metadata": {},
   "outputs": [
    {
     "data": {
      "text/html": [
       "<div>\n",
       "<style scoped>\n",
       "    .dataframe tbody tr th:only-of-type {\n",
       "        vertical-align: middle;\n",
       "    }\n",
       "\n",
       "    .dataframe tbody tr th {\n",
       "        vertical-align: top;\n",
       "    }\n",
       "\n",
       "    .dataframe thead th {\n",
       "        text-align: right;\n",
       "    }\n",
       "</style>\n",
       "<table border=\"1\" class=\"dataframe\">\n",
       "  <thead>\n",
       "    <tr style=\"text-align: right;\">\n",
       "      <th></th>\n",
       "      <th>user_id</th>\n",
       "      <th>operator_id</th>\n",
       "    </tr>\n",
       "  </thead>\n",
       "  <tbody>\n",
       "    <tr>\n",
       "      <th>2412</th>\n",
       "      <td>166428</td>\n",
       "      <td>882680.0</td>\n",
       "    </tr>\n",
       "    <tr>\n",
       "      <th>2510</th>\n",
       "      <td>166482</td>\n",
       "      <td>934076.0</td>\n",
       "    </tr>\n",
       "    <tr>\n",
       "      <th>5734</th>\n",
       "      <td>166541</td>\n",
       "      <td>908960.0</td>\n",
       "    </tr>\n",
       "    <tr>\n",
       "      <th>5780</th>\n",
       "      <td>166541</td>\n",
       "      <td>908960.0</td>\n",
       "    </tr>\n",
       "    <tr>\n",
       "      <th>5786</th>\n",
       "      <td>166541</td>\n",
       "      <td>908960.0</td>\n",
       "    </tr>\n",
       "  </tbody>\n",
       "</table>\n",
       "</div>"
      ],
      "text/plain": [
       "      user_id operator_id\n",
       "2412   166428    882680.0\n",
       "2510   166482    934076.0\n",
       "5734   166541    908960.0\n",
       "5780   166541    908960.0\n",
       "5786   166541    908960.0"
      ]
     },
     "execution_count": 75,
     "metadata": {},
     "output_type": "execute_result"
    }
   ],
   "source": [
    "not_effective_5 = data_miss.query('total_call_duration > 35') # сделаем список неэффективных операторов по ожиданию\n",
    "not_effective_5 = not_effective_5[['user_id', 'operator_id']]\n",
    "not_effective_5 = not_effective_5.query('operator_id != \"-1\"')\n",
    "not_effective_5.head()"
   ]
  },
  {
   "cell_type": "markdown",
   "id": "d5734b23",
   "metadata": {},
   "source": [
    "## Посчитаем количество пропущенных вызовов в data_both в группировке по операторам, отсортировать по возрастанию. Посчитаем долю пропусков на единицу звонка"
   ]
  },
  {
   "cell_type": "code",
   "execution_count": 76,
   "id": "1c629d8d",
   "metadata": {},
   "outputs": [],
   "source": [
    "data_both_miss = data_both.query('is_missed_call == True') # отфильтурем только пропущенные звонки"
   ]
  },
  {
   "cell_type": "markdown",
   "id": "579c7f57",
   "metadata": {},
   "source": [
    "Проверим получше пропущенные звонки. Убедимся, что если звонок пропущен, то и длительность звонка = 0."
   ]
  },
  {
   "cell_type": "code",
   "execution_count": 77,
   "id": "aea6d6f2",
   "metadata": {},
   "outputs": [
    {
     "data": {
      "text/html": [
       "<div>\n",
       "<style scoped>\n",
       "    .dataframe tbody tr th:only-of-type {\n",
       "        vertical-align: middle;\n",
       "    }\n",
       "\n",
       "    .dataframe tbody tr th {\n",
       "        vertical-align: top;\n",
       "    }\n",
       "\n",
       "    .dataframe thead th {\n",
       "        text-align: right;\n",
       "    }\n",
       "</style>\n",
       "<table border=\"1\" class=\"dataframe\">\n",
       "  <thead>\n",
       "    <tr style=\"text-align: right;\">\n",
       "      <th></th>\n",
       "      <th>call_duration</th>\n",
       "    </tr>\n",
       "    <tr>\n",
       "      <th>is_missed_call</th>\n",
       "      <th></th>\n",
       "    </tr>\n",
       "  </thead>\n",
       "  <tbody>\n",
       "    <tr>\n",
       "      <th>True</th>\n",
       "      <td>16028</td>\n",
       "    </tr>\n",
       "  </tbody>\n",
       "</table>\n",
       "</div>"
      ],
      "text/plain": [
       "                call_duration\n",
       "is_missed_call               \n",
       "True                    16028"
      ]
     },
     "execution_count": 77,
     "metadata": {},
     "output_type": "execute_result"
    }
   ],
   "source": [
    "data_both_miss.groupby('is_missed_call').agg({'call_duration': 'sum'})"
   ]
  },
  {
   "cell_type": "markdown",
   "id": "b2752e77",
   "metadata": {},
   "source": [
    "Мы не получили ожидаемые данные. У нас есть строки, где при наличии пропущенного входящего звонка есть некоторая продолжительность. Это не корректно. В дальнейшем исключим эти данные из анализа."
   ]
  },
  {
   "cell_type": "code",
   "execution_count": 78,
   "id": "f5381019",
   "metadata": {},
   "outputs": [
    {
     "data": {
      "text/html": [
       "<div>\n",
       "<style scoped>\n",
       "    .dataframe tbody tr th:only-of-type {\n",
       "        vertical-align: middle;\n",
       "    }\n",
       "\n",
       "    .dataframe tbody tr th {\n",
       "        vertical-align: top;\n",
       "    }\n",
       "\n",
       "    .dataframe thead th {\n",
       "        text-align: right;\n",
       "    }\n",
       "</style>\n",
       "<table border=\"1\" class=\"dataframe\">\n",
       "  <thead>\n",
       "    <tr style=\"text-align: right;\">\n",
       "      <th></th>\n",
       "      <th>user_id</th>\n",
       "      <th>date</th>\n",
       "      <th>direction</th>\n",
       "      <th>internal</th>\n",
       "      <th>operator_id</th>\n",
       "      <th>is_missed_call</th>\n",
       "      <th>calls_count</th>\n",
       "      <th>call_duration</th>\n",
       "      <th>total_call_duration</th>\n",
       "      <th>type</th>\n",
       "    </tr>\n",
       "  </thead>\n",
       "  <tbody>\n",
       "    <tr>\n",
       "      <th>3508</th>\n",
       "      <td>166503</td>\n",
       "      <td>2019-08-08</td>\n",
       "      <td>out</td>\n",
       "      <td>False</td>\n",
       "      <td>884412.0</td>\n",
       "      <td>False</td>\n",
       "      <td>2</td>\n",
       "      <td>50</td>\n",
       "      <td>66</td>\n",
       "      <td>both</td>\n",
       "    </tr>\n",
       "    <tr>\n",
       "      <th>3509</th>\n",
       "      <td>166503</td>\n",
       "      <td>2019-08-08</td>\n",
       "      <td>out</td>\n",
       "      <td>True</td>\n",
       "      <td>884412.0</td>\n",
       "      <td>True</td>\n",
       "      <td>3</td>\n",
       "      <td>0</td>\n",
       "      <td>36</td>\n",
       "      <td>both</td>\n",
       "    </tr>\n",
       "    <tr>\n",
       "      <th>3510</th>\n",
       "      <td>166503</td>\n",
       "      <td>2019-08-08</td>\n",
       "      <td>in</td>\n",
       "      <td>True</td>\n",
       "      <td>-1</td>\n",
       "      <td>True</td>\n",
       "      <td>1</td>\n",
       "      <td>0</td>\n",
       "      <td>11</td>\n",
       "      <td>both</td>\n",
       "    </tr>\n",
       "    <tr>\n",
       "      <th>3511</th>\n",
       "      <td>166503</td>\n",
       "      <td>2019-08-08</td>\n",
       "      <td>out</td>\n",
       "      <td>False</td>\n",
       "      <td>884412.0</td>\n",
       "      <td>True</td>\n",
       "      <td>1</td>\n",
       "      <td>0</td>\n",
       "      <td>5</td>\n",
       "      <td>both</td>\n",
       "    </tr>\n",
       "    <tr>\n",
       "      <th>3512</th>\n",
       "      <td>166503</td>\n",
       "      <td>2019-08-09</td>\n",
       "      <td>in</td>\n",
       "      <td>True</td>\n",
       "      <td>-1</td>\n",
       "      <td>True</td>\n",
       "      <td>5</td>\n",
       "      <td>0</td>\n",
       "      <td>123</td>\n",
       "      <td>both</td>\n",
       "    </tr>\n",
       "  </tbody>\n",
       "</table>\n",
       "</div>"
      ],
      "text/plain": [
       "      user_id       date direction internal operator_id  is_missed_call  \\\n",
       "3508   166503 2019-08-08       out    False    884412.0           False   \n",
       "3509   166503 2019-08-08       out     True    884412.0            True   \n",
       "3510   166503 2019-08-08        in     True          -1            True   \n",
       "3511   166503 2019-08-08       out    False    884412.0            True   \n",
       "3512   166503 2019-08-09        in     True          -1            True   \n",
       "\n",
       "      calls_count  call_duration  total_call_duration  type  \n",
       "3508            2             50                   66  both  \n",
       "3509            3              0                   36  both  \n",
       "3510            1              0                   11  both  \n",
       "3511            1              0                    5  both  \n",
       "3512            5              0                  123  both  "
      ]
     },
     "execution_count": 78,
     "metadata": {},
     "output_type": "execute_result"
    }
   ],
   "source": [
    "data_both = data_both[~((data_both['is_missed_call'] == True) & (data_both['call_duration'] > 0))]\n",
    "data_both.head()"
   ]
  },
  {
   "cell_type": "markdown",
   "id": "93d95de9",
   "metadata": {},
   "source": [
    "Посчитаем долю пропущенных звонков для каждого оператора."
   ]
  },
  {
   "cell_type": "markdown",
   "id": "51ff2791",
   "metadata": {},
   "source": [
    "Так как мы присваивали значение -1 для всех операторов с NaN, то в дальнейшем объединение пройдет не корректно, поэтому исключим данные из анализа."
   ]
  },
  {
   "cell_type": "code",
   "execution_count": 79,
   "id": "a87c7f83",
   "metadata": {},
   "outputs": [],
   "source": [
    "data_both = data_both.query('operator_id != \"-1\"')\n",
    "data_both_miss = data_both_miss.query('operator_id != \"-1\"')"
   ]
  },
  {
   "cell_type": "code",
   "execution_count": 80,
   "id": "ecdb2183",
   "metadata": {},
   "outputs": [],
   "source": [
    "data_both_ = data_both.groupby(['user_id', 'operator_id']).agg({'calls_count': 'sum'}).reset_index() # считаем суммарное кол-во звонков"
   ]
  },
  {
   "cell_type": "code",
   "execution_count": 81,
   "id": "7dd0441e",
   "metadata": {},
   "outputs": [],
   "source": [
    "data_both_miss_ = data_both_miss.groupby(['user_id', 'operator_id']).agg({'calls_count': 'sum'}).reset_index() # считаем кол-во пропущуенных"
   ]
  },
  {
   "cell_type": "code",
   "execution_count": 82,
   "id": "50103b6b",
   "metadata": {},
   "outputs": [
    {
     "data": {
      "text/html": [
       "<div>\n",
       "<style scoped>\n",
       "    .dataframe tbody tr th:only-of-type {\n",
       "        vertical-align: middle;\n",
       "    }\n",
       "\n",
       "    .dataframe tbody tr th {\n",
       "        vertical-align: top;\n",
       "    }\n",
       "\n",
       "    .dataframe thead th {\n",
       "        text-align: right;\n",
       "    }\n",
       "</style>\n",
       "<table border=\"1\" class=\"dataframe\">\n",
       "  <thead>\n",
       "    <tr style=\"text-align: right;\">\n",
       "      <th></th>\n",
       "      <th>user_id</th>\n",
       "      <th>operator_id</th>\n",
       "      <th>miss_ratio</th>\n",
       "    </tr>\n",
       "  </thead>\n",
       "  <tbody>\n",
       "    <tr>\n",
       "      <th>173</th>\n",
       "      <td>168187</td>\n",
       "      <td>937772.0</td>\n",
       "      <td>1.000000</td>\n",
       "    </tr>\n",
       "    <tr>\n",
       "      <th>72</th>\n",
       "      <td>167016</td>\n",
       "      <td>962904.0</td>\n",
       "      <td>1.000000</td>\n",
       "    </tr>\n",
       "    <tr>\n",
       "      <th>87</th>\n",
       "      <td>167122</td>\n",
       "      <td>909308.0</td>\n",
       "      <td>1.000000</td>\n",
       "    </tr>\n",
       "    <tr>\n",
       "      <th>165</th>\n",
       "      <td>168187</td>\n",
       "      <td>937716.0</td>\n",
       "      <td>1.000000</td>\n",
       "    </tr>\n",
       "    <tr>\n",
       "      <th>24</th>\n",
       "      <td>166774</td>\n",
       "      <td>891976.0</td>\n",
       "      <td>1.000000</td>\n",
       "    </tr>\n",
       "    <tr>\n",
       "      <th>...</th>\n",
       "      <td>...</td>\n",
       "      <td>...</td>\n",
       "      <td>...</td>\n",
       "    </tr>\n",
       "    <tr>\n",
       "      <th>67</th>\n",
       "      <td>166983</td>\n",
       "      <td>909134.0</td>\n",
       "      <td>0.029851</td>\n",
       "    </tr>\n",
       "    <tr>\n",
       "      <th>199</th>\n",
       "      <td>168187</td>\n",
       "      <td>937962.0</td>\n",
       "      <td>0.028302</td>\n",
       "    </tr>\n",
       "    <tr>\n",
       "      <th>197</th>\n",
       "      <td>168187</td>\n",
       "      <td>937958.0</td>\n",
       "      <td>0.027397</td>\n",
       "    </tr>\n",
       "    <tr>\n",
       "      <th>198</th>\n",
       "      <td>168187</td>\n",
       "      <td>937960.0</td>\n",
       "      <td>0.009804</td>\n",
       "    </tr>\n",
       "    <tr>\n",
       "      <th>39</th>\n",
       "      <td>166901</td>\n",
       "      <td>896012.0</td>\n",
       "      <td>0.004098</td>\n",
       "    </tr>\n",
       "  </tbody>\n",
       "</table>\n",
       "<p>243 rows × 3 columns</p>\n",
       "</div>"
      ],
      "text/plain": [
       "     user_id operator_id  miss_ratio\n",
       "173   168187    937772.0    1.000000\n",
       "72    167016    962904.0    1.000000\n",
       "87    167122    909308.0    1.000000\n",
       "165   168187    937716.0    1.000000\n",
       "24    166774    891976.0    1.000000\n",
       "..       ...         ...         ...\n",
       "67    166983    909134.0    0.029851\n",
       "199   168187    937962.0    0.028302\n",
       "197   168187    937958.0    0.027397\n",
       "198   168187    937960.0    0.009804\n",
       "39    166901    896012.0    0.004098\n",
       "\n",
       "[243 rows x 3 columns]"
      ]
     },
     "execution_count": 82,
     "metadata": {},
     "output_type": "execute_result"
    }
   ],
   "source": [
    "both_miss = data_both_.merge(data_both_miss_, on='operator_id')\n",
    "both_miss['miss_ratio'] = both_miss['calls_count_y'] / both_miss['calls_count_x'] # считаем долю пропусков\n",
    "both_miss = both_miss[['user_id_x', 'operator_id', 'miss_ratio']].sort_values('miss_ratio', ascending=False)\n",
    "both_miss = both_miss.rename(columns={'user_id_x': 'user_id'})\n",
    "both_miss"
   ]
  },
  {
   "cell_type": "markdown",
   "id": "b5bfff3e",
   "metadata": {},
   "source": [
    "У нас также есть операторы, которые на 100% обработанных звонков сделали 100% пропусков. Несмотря на то, что у нас промежуточный тип колл-центра, это все равно недопустимо.\n",
    "\n",
    "Посмотрим, каких звонков у нас совершается больше-входящих или исходящих, по эти данным и определим границу-50 или 30%."
   ]
  },
  {
   "cell_type": "code",
   "execution_count": 83,
   "id": "30fc2268",
   "metadata": {},
   "outputs": [
    {
     "data": {
      "text/plain": [
       "out    7976\n",
       "in     4911\n",
       "Name: direction, dtype: int64"
      ]
     },
     "execution_count": 83,
     "metadata": {},
     "output_type": "execute_result"
    }
   ],
   "source": [
    "data_both['direction'].value_counts()"
   ]
  },
  {
   "cell_type": "markdown",
   "id": "ba1b3fa8",
   "metadata": {},
   "source": [
    "Больше совершается все-таки исходящих звонков. Принимаем операторов, у которых доля пропущенных звонков > 0.5 как неэффективных."
   ]
  },
  {
   "cell_type": "code",
   "execution_count": 84,
   "id": "53f2d297",
   "metadata": {},
   "outputs": [
    {
     "data": {
      "text/html": [
       "<div>\n",
       "<style scoped>\n",
       "    .dataframe tbody tr th:only-of-type {\n",
       "        vertical-align: middle;\n",
       "    }\n",
       "\n",
       "    .dataframe tbody tr th {\n",
       "        vertical-align: top;\n",
       "    }\n",
       "\n",
       "    .dataframe thead th {\n",
       "        text-align: right;\n",
       "    }\n",
       "</style>\n",
       "<table border=\"1\" class=\"dataframe\">\n",
       "  <thead>\n",
       "    <tr style=\"text-align: right;\">\n",
       "      <th></th>\n",
       "      <th>user_id</th>\n",
       "      <th>operator_id</th>\n",
       "    </tr>\n",
       "  </thead>\n",
       "  <tbody>\n",
       "    <tr>\n",
       "      <th>173</th>\n",
       "      <td>168187</td>\n",
       "      <td>937772.0</td>\n",
       "    </tr>\n",
       "    <tr>\n",
       "      <th>72</th>\n",
       "      <td>167016</td>\n",
       "      <td>962904.0</td>\n",
       "    </tr>\n",
       "    <tr>\n",
       "      <th>87</th>\n",
       "      <td>167122</td>\n",
       "      <td>909308.0</td>\n",
       "    </tr>\n",
       "    <tr>\n",
       "      <th>165</th>\n",
       "      <td>168187</td>\n",
       "      <td>937716.0</td>\n",
       "    </tr>\n",
       "    <tr>\n",
       "      <th>24</th>\n",
       "      <td>166774</td>\n",
       "      <td>891976.0</td>\n",
       "    </tr>\n",
       "  </tbody>\n",
       "</table>\n",
       "</div>"
      ],
      "text/plain": [
       "     user_id operator_id\n",
       "173   168187    937772.0\n",
       "72    167016    962904.0\n",
       "87    167122    909308.0\n",
       "165   168187    937716.0\n",
       "24    166774    891976.0"
      ]
     },
     "execution_count": 84,
     "metadata": {},
     "output_type": "execute_result"
    }
   ],
   "source": [
    "not_effective_6 = both_miss.query('miss_ratio > 0.5')\n",
    "not_effective_6 = not_effective_6[['user_id', 'operator_id']]\n",
    "not_effective_6.head()"
   ]
  },
  {
   "cell_type": "markdown",
   "id": "b9f8d01d",
   "metadata": {},
   "source": [
    "## Посчитаем количество входящих вызовов в data_both в группировке по операторам; посчитаем среднюю длительность звонка, отсортируем по возрастанию. Построим столбчатую диаграмму по полученым данным"
   ]
  },
  {
   "cell_type": "code",
   "execution_count": 85,
   "id": "9070236d",
   "metadata": {},
   "outputs": [
    {
     "data": {
      "text/html": [
       "<div>\n",
       "<style scoped>\n",
       "    .dataframe tbody tr th:only-of-type {\n",
       "        vertical-align: middle;\n",
       "    }\n",
       "\n",
       "    .dataframe tbody tr th {\n",
       "        vertical-align: top;\n",
       "    }\n",
       "\n",
       "    .dataframe thead th {\n",
       "        text-align: right;\n",
       "    }\n",
       "</style>\n",
       "<table border=\"1\" class=\"dataframe\">\n",
       "  <thead>\n",
       "    <tr style=\"text-align: right;\">\n",
       "      <th></th>\n",
       "      <th>user_id</th>\n",
       "      <th>operator_id</th>\n",
       "      <th>calls_count</th>\n",
       "      <th>call_duration</th>\n",
       "      <th>total_call_duration</th>\n",
       "    </tr>\n",
       "  </thead>\n",
       "  <tbody>\n",
       "    <tr>\n",
       "      <th>0</th>\n",
       "      <td>166971</td>\n",
       "      <td>914626.0</td>\n",
       "      <td>1.000000</td>\n",
       "      <td>0.000000</td>\n",
       "      <td>0.000000</td>\n",
       "    </tr>\n",
       "    <tr>\n",
       "      <th>1</th>\n",
       "      <td>168187</td>\n",
       "      <td>937772.0</td>\n",
       "      <td>1.000000</td>\n",
       "      <td>0.000000</td>\n",
       "      <td>18.000000</td>\n",
       "    </tr>\n",
       "    <tr>\n",
       "      <th>2</th>\n",
       "      <td>168187</td>\n",
       "      <td>937770.0</td>\n",
       "      <td>1.000000</td>\n",
       "      <td>0.000000</td>\n",
       "      <td>37.000000</td>\n",
       "    </tr>\n",
       "    <tr>\n",
       "      <th>3</th>\n",
       "      <td>166711</td>\n",
       "      <td>891254.0</td>\n",
       "      <td>1.000000</td>\n",
       "      <td>79.000000</td>\n",
       "      <td>105.000000</td>\n",
       "    </tr>\n",
       "    <tr>\n",
       "      <th>4</th>\n",
       "      <td>168187</td>\n",
       "      <td>937720.0</td>\n",
       "      <td>1.000000</td>\n",
       "      <td>9.000000</td>\n",
       "      <td>45.000000</td>\n",
       "    </tr>\n",
       "    <tr>\n",
       "      <th>...</th>\n",
       "      <td>...</td>\n",
       "      <td>...</td>\n",
       "      <td>...</td>\n",
       "      <td>...</td>\n",
       "      <td>...</td>\n",
       "    </tr>\n",
       "    <tr>\n",
       "      <th>283</th>\n",
       "      <td>168252</td>\n",
       "      <td>940634.0</td>\n",
       "      <td>27.500000</td>\n",
       "      <td>1334.803571</td>\n",
       "      <td>1824.946429</td>\n",
       "    </tr>\n",
       "    <tr>\n",
       "      <th>284</th>\n",
       "      <td>168252</td>\n",
       "      <td>940658.0</td>\n",
       "      <td>27.513514</td>\n",
       "      <td>1447.716216</td>\n",
       "      <td>1801.554054</td>\n",
       "    </tr>\n",
       "    <tr>\n",
       "      <th>285</th>\n",
       "      <td>168252</td>\n",
       "      <td>961064.0</td>\n",
       "      <td>28.750000</td>\n",
       "      <td>1121.500000</td>\n",
       "      <td>1729.437500</td>\n",
       "    </tr>\n",
       "    <tr>\n",
       "      <th>286</th>\n",
       "      <td>166941</td>\n",
       "      <td>896386.0</td>\n",
       "      <td>38.000000</td>\n",
       "      <td>2068.000000</td>\n",
       "      <td>2993.000000</td>\n",
       "    </tr>\n",
       "    <tr>\n",
       "      <th>287</th>\n",
       "      <td>167112</td>\n",
       "      <td>951648.0</td>\n",
       "      <td>40.250000</td>\n",
       "      <td>1181.500000</td>\n",
       "      <td>1910.250000</td>\n",
       "    </tr>\n",
       "  </tbody>\n",
       "</table>\n",
       "<p>288 rows × 5 columns</p>\n",
       "</div>"
      ],
      "text/plain": [
       "     user_id operator_id  calls_count  call_duration  total_call_duration\n",
       "0     166971    914626.0     1.000000       0.000000             0.000000\n",
       "1     168187    937772.0     1.000000       0.000000            18.000000\n",
       "2     168187    937770.0     1.000000       0.000000            37.000000\n",
       "3     166711    891254.0     1.000000      79.000000           105.000000\n",
       "4     168187    937720.0     1.000000       9.000000            45.000000\n",
       "..       ...         ...          ...            ...                  ...\n",
       "283   168252    940634.0    27.500000    1334.803571          1824.946429\n",
       "284   168252    940658.0    27.513514    1447.716216          1801.554054\n",
       "285   168252    961064.0    28.750000    1121.500000          1729.437500\n",
       "286   166941    896386.0    38.000000    2068.000000          2993.000000\n",
       "287   167112    951648.0    40.250000    1181.500000          1910.250000\n",
       "\n",
       "[288 rows x 5 columns]"
      ]
     },
     "execution_count": 85,
     "metadata": {},
     "output_type": "execute_result"
    }
   ],
   "source": [
    "data_both_group = data_both.groupby(['user_id', 'operator_id']).agg({'calls_count': 'mean', 'call_duration': 'mean', 'total_call_duration': 'mean'}).sort_values('calls_count').reset_index()\n",
    "data_both_group"
   ]
  },
  {
   "cell_type": "markdown",
   "id": "f74d50d8",
   "metadata": {},
   "source": [
    "Добавим колонку с \"чистым\" среднем временем ожидания."
   ]
  },
  {
   "cell_type": "code",
   "execution_count": 86,
   "id": "cda1921f",
   "metadata": {},
   "outputs": [
    {
     "data": {
      "text/html": [
       "<div>\n",
       "<style scoped>\n",
       "    .dataframe tbody tr th:only-of-type {\n",
       "        vertical-align: middle;\n",
       "    }\n",
       "\n",
       "    .dataframe tbody tr th {\n",
       "        vertical-align: top;\n",
       "    }\n",
       "\n",
       "    .dataframe thead th {\n",
       "        text-align: right;\n",
       "    }\n",
       "</style>\n",
       "<table border=\"1\" class=\"dataframe\">\n",
       "  <thead>\n",
       "    <tr style=\"text-align: right;\">\n",
       "      <th></th>\n",
       "      <th>user_id</th>\n",
       "      <th>operator_id</th>\n",
       "      <th>calls_count</th>\n",
       "      <th>call_duration</th>\n",
       "      <th>total_call_duration</th>\n",
       "      <th>duration_mean</th>\n",
       "    </tr>\n",
       "  </thead>\n",
       "  <tbody>\n",
       "    <tr>\n",
       "      <th>0</th>\n",
       "      <td>166971</td>\n",
       "      <td>914626.0</td>\n",
       "      <td>1.000000</td>\n",
       "      <td>0.000000</td>\n",
       "      <td>0.000000</td>\n",
       "      <td>0.000000</td>\n",
       "    </tr>\n",
       "    <tr>\n",
       "      <th>1</th>\n",
       "      <td>168187</td>\n",
       "      <td>937772.0</td>\n",
       "      <td>1.000000</td>\n",
       "      <td>0.000000</td>\n",
       "      <td>18.000000</td>\n",
       "      <td>18.000000</td>\n",
       "    </tr>\n",
       "    <tr>\n",
       "      <th>2</th>\n",
       "      <td>168187</td>\n",
       "      <td>937770.0</td>\n",
       "      <td>1.000000</td>\n",
       "      <td>0.000000</td>\n",
       "      <td>37.000000</td>\n",
       "      <td>37.000000</td>\n",
       "    </tr>\n",
       "    <tr>\n",
       "      <th>3</th>\n",
       "      <td>166711</td>\n",
       "      <td>891254.0</td>\n",
       "      <td>1.000000</td>\n",
       "      <td>79.000000</td>\n",
       "      <td>105.000000</td>\n",
       "      <td>26.000000</td>\n",
       "    </tr>\n",
       "    <tr>\n",
       "      <th>4</th>\n",
       "      <td>168187</td>\n",
       "      <td>937720.0</td>\n",
       "      <td>1.000000</td>\n",
       "      <td>9.000000</td>\n",
       "      <td>45.000000</td>\n",
       "      <td>36.000000</td>\n",
       "    </tr>\n",
       "    <tr>\n",
       "      <th>...</th>\n",
       "      <td>...</td>\n",
       "      <td>...</td>\n",
       "      <td>...</td>\n",
       "      <td>...</td>\n",
       "      <td>...</td>\n",
       "      <td>...</td>\n",
       "    </tr>\n",
       "    <tr>\n",
       "      <th>283</th>\n",
       "      <td>168252</td>\n",
       "      <td>940634.0</td>\n",
       "      <td>27.500000</td>\n",
       "      <td>1334.803571</td>\n",
       "      <td>1824.946429</td>\n",
       "      <td>490.142857</td>\n",
       "    </tr>\n",
       "    <tr>\n",
       "      <th>284</th>\n",
       "      <td>168252</td>\n",
       "      <td>940658.0</td>\n",
       "      <td>27.513514</td>\n",
       "      <td>1447.716216</td>\n",
       "      <td>1801.554054</td>\n",
       "      <td>353.837838</td>\n",
       "    </tr>\n",
       "    <tr>\n",
       "      <th>285</th>\n",
       "      <td>168252</td>\n",
       "      <td>961064.0</td>\n",
       "      <td>28.750000</td>\n",
       "      <td>1121.500000</td>\n",
       "      <td>1729.437500</td>\n",
       "      <td>607.937500</td>\n",
       "    </tr>\n",
       "    <tr>\n",
       "      <th>286</th>\n",
       "      <td>166941</td>\n",
       "      <td>896386.0</td>\n",
       "      <td>38.000000</td>\n",
       "      <td>2068.000000</td>\n",
       "      <td>2993.000000</td>\n",
       "      <td>925.000000</td>\n",
       "    </tr>\n",
       "    <tr>\n",
       "      <th>287</th>\n",
       "      <td>167112</td>\n",
       "      <td>951648.0</td>\n",
       "      <td>40.250000</td>\n",
       "      <td>1181.500000</td>\n",
       "      <td>1910.250000</td>\n",
       "      <td>728.750000</td>\n",
       "    </tr>\n",
       "  </tbody>\n",
       "</table>\n",
       "<p>288 rows × 6 columns</p>\n",
       "</div>"
      ],
      "text/plain": [
       "     user_id operator_id  calls_count  call_duration  total_call_duration  \\\n",
       "0     166971    914626.0     1.000000       0.000000             0.000000   \n",
       "1     168187    937772.0     1.000000       0.000000            18.000000   \n",
       "2     168187    937770.0     1.000000       0.000000            37.000000   \n",
       "3     166711    891254.0     1.000000      79.000000           105.000000   \n",
       "4     168187    937720.0     1.000000       9.000000            45.000000   \n",
       "..       ...         ...          ...            ...                  ...   \n",
       "283   168252    940634.0    27.500000    1334.803571          1824.946429   \n",
       "284   168252    940658.0    27.513514    1447.716216          1801.554054   \n",
       "285   168252    961064.0    28.750000    1121.500000          1729.437500   \n",
       "286   166941    896386.0    38.000000    2068.000000          2993.000000   \n",
       "287   167112    951648.0    40.250000    1181.500000          1910.250000   \n",
       "\n",
       "     duration_mean  \n",
       "0         0.000000  \n",
       "1        18.000000  \n",
       "2        37.000000  \n",
       "3        26.000000  \n",
       "4        36.000000  \n",
       "..             ...  \n",
       "283     490.142857  \n",
       "284     353.837838  \n",
       "285     607.937500  \n",
       "286     925.000000  \n",
       "287     728.750000  \n",
       "\n",
       "[288 rows x 6 columns]"
      ]
     },
     "execution_count": 86,
     "metadata": {},
     "output_type": "execute_result"
    }
   ],
   "source": [
    "data_both_group['duration_mean'] = data_both_group['total_call_duration'] - data_both_group['call_duration']\n",
    "data_both_group"
   ]
  },
  {
   "cell_type": "markdown",
   "id": "c6e3b38d",
   "metadata": {},
   "source": [
    "Посмотрим на распределение данных."
   ]
  },
  {
   "cell_type": "code",
   "execution_count": 87,
   "id": "6db40483",
   "metadata": {},
   "outputs": [
    {
     "data": {
      "image/png": "[encoded data removed]",
      "text/plain": [
       "<Figure size 432x288 with 1 Axes>"
      ]
     },
     "metadata": {
      "needs_background": "light"
     },
     "output_type": "display_data"
    }
   ],
   "source": [
    "pd.Series(data_both_group['calls_count']).hist(range = (0, 30), bins=20)\n",
    "plt.title('Распределение количества звонков на одного оператора')\n",
    "plt.xlabel('Количество звонков')\n",
    "plt.ylabel('Частота')\n",
    "plt.show()"
   ]
  },
  {
   "cell_type": "code",
   "execution_count": 88,
   "id": "f8419e89",
   "metadata": {},
   "outputs": [
    {
     "data": {
      "image/png": "[encoded data removed]",
      "text/plain": [
       "<Figure size 432x288 with 1 Axes>"
      ]
     },
     "metadata": {
      "needs_background": "light"
     },
     "output_type": "display_data"
    }
   ],
   "source": [
    "pd.Series(data_both_group['call_duration']).hist(range = (0, 120), bins=20)\n",
    "plt.title('Распределение продолжительности звонков на одного оператора')\n",
    "plt.xlabel('Продолжительность звонков')\n",
    "plt.ylabel('Частота')\n",
    "plt.show()"
   ]
  },
  {
   "cell_type": "code",
   "execution_count": 89,
   "id": "2fc22756",
   "metadata": {},
   "outputs": [
    {
     "data": {
      "image/png": "[encoded data removed]",
      "text/plain": [
       "<Figure size 432x288 with 1 Axes>"
      ]
     },
     "metadata": {
      "needs_background": "light"
     },
     "output_type": "display_data"
    }
   ],
   "source": [
    "pd.Series(data_both_group['duration_mean']).hist(range = (0, 120), bins=20)\n",
    "plt.title('Распределение ожидания звонков на одного оператора')\n",
    "plt.xlabel('Продолжительность ожидания')\n",
    "plt.ylabel('Частота')\n",
    "plt.show()"
   ]
  },
  {
   "cell_type": "markdown",
   "id": "cbfd8c06",
   "metadata": {},
   "source": [
    "Аналогично входящим и исходящим колл-центрам определим сколько в среднем делает звонков за смену оператор промежуточного типа."
   ]
  },
  {
   "cell_type": "code",
   "execution_count": 90,
   "id": "916536f7",
   "metadata": {},
   "outputs": [],
   "source": [
    "data_both['full_duration'] = data_both['call_duration'] * data_both['calls_count']"
   ]
  },
  {
   "cell_type": "code",
   "execution_count": 91,
   "id": "e8e0abca",
   "metadata": {},
   "outputs": [],
   "source": [
    "data_work_both = data_both.groupby(['date', 'operator_id']).agg({'calls_count': 'sum', 'full_duration': 'sum'}).reset_index()\n",
    "\n",
    "# сразу сделаем срез по 8 часовой смене. Однако брать ровно 8 часов сильно \"жестко\", возьмем промежутов от 7,5 до 8 часов.\n",
    "#С учетом того, что оператор может делать перерывы между звонками и/или звонки идут не один за другим\n",
    "\n",
    "data_work_both = data_work_both.query('full_duration >= 27000')\n",
    "data_work_both = data_work_both.query('full_duration <= 28800')"
   ]
  },
  {
   "cell_type": "code",
   "execution_count": 92,
   "id": "bc41db1f",
   "metadata": {},
   "outputs": [
    {
     "data": {
      "text/plain": [
       "30.5"
      ]
     },
     "execution_count": 92,
     "metadata": {},
     "output_type": "execute_result"
    }
   ],
   "source": [
    "data_work_both['calls_count'].median()"
   ]
  },
  {
   "cell_type": "code",
   "execution_count": 93,
   "id": "becf79c4",
   "metadata": {},
   "outputs": [
    {
     "data": {
      "image/png": "[encoded data removed]",
      "text/plain": [
       "<Figure size 432x288 with 1 Axes>"
      ]
     },
     "metadata": {
      "needs_background": "light"
     },
     "output_type": "display_data"
    }
   ],
   "source": [
    "pd.Series(data_both['calls_count']).hist(range = (0, 70), bins=14)\n",
    "plt.title('Распределение количества звонков в день на одного оператора')\n",
    "plt.xlabel('Количество звонков')\n",
    "plt.ylabel('Частота')\n",
    "plt.show()"
   ]
  },
  {
   "cell_type": "markdown",
   "id": "7692638d",
   "metadata": {},
   "source": [
    "По нашим данным мы получили число 30.5 (примем 31). Столько звонков оператор может совершить за рабочую смену. Однако, нельзя говорить, что это граница эффективности. Это скорее показывает норму звонков в день.\n",
    "\n",
    "При этом, по графику мы видим, что основная часть операторов совершает в пределах 10 звонков в день. Между 31 и 10 достаточно большой разрыв.\n",
    "\n",
    "Не будем ориентироваться на большинство операторов. Возьмем некоторое промежуточное значение за графницу эффектиновсти. Определим, что операторы, совершающие меньше 21 звонков в день - неэффективные."
   ]
  },
  {
   "cell_type": "code",
   "execution_count": 94,
   "id": "0e4cf2a2",
   "metadata": {},
   "outputs": [],
   "source": [
    "data_work_both_ = data_both.groupby(['date', 'user_id', 'operator_id']).agg({'calls_count': 'sum', 'full_duration': 'sum'}).reset_index()"
   ]
  },
  {
   "cell_type": "markdown",
   "id": "9e765d61",
   "metadata": {},
   "source": [
    "Для промежуточных колл-центров возьмем границу аналогичную как для входящих колл-центров, так как у нас бОльшее число звонков-исходящие. То есть возьмем время ожидания равное 35 секундам как границу неэффективности."
   ]
  },
  {
   "cell_type": "markdown",
   "id": "164934fa",
   "metadata": {},
   "source": [
    "## На основании п. 5.10-5.11 определим операторов, которые в среднем обработали наименьшее количество звонков среди всех, при этом с большой долей пропусков на единицу звонка и большой долей времени ожидания"
   ]
  },
  {
   "cell_type": "markdown",
   "id": "75af2edc",
   "metadata": {},
   "source": [
    "Итого для промежуточных операторов у нас следующие критерии неэффективности:\n",
    "- количество звонков <= 21\n",
    "- доля пропусков > 0.5\n",
    "- время ожидания >= 35"
   ]
  },
  {
   "cell_type": "code",
   "execution_count": 95,
   "id": "3143cff7",
   "metadata": {},
   "outputs": [],
   "source": [
    "data_both_ = data_both.groupby(['user_id', 'date', 'operator_id']).agg({'calls_count': 'sum', 'total_call_duration': 'sum'}).reset_index()"
   ]
  },
  {
   "cell_type": "code",
   "execution_count": 96,
   "id": "fd9488da",
   "metadata": {},
   "outputs": [
    {
     "data": {
      "text/html": [
       "<div>\n",
       "<style scoped>\n",
       "    .dataframe tbody tr th:only-of-type {\n",
       "        vertical-align: middle;\n",
       "    }\n",
       "\n",
       "    .dataframe tbody tr th {\n",
       "        vertical-align: top;\n",
       "    }\n",
       "\n",
       "    .dataframe thead th {\n",
       "        text-align: right;\n",
       "    }\n",
       "</style>\n",
       "<table border=\"1\" class=\"dataframe\">\n",
       "  <thead>\n",
       "    <tr style=\"text-align: right;\">\n",
       "      <th></th>\n",
       "      <th>user_id</th>\n",
       "      <th>operator_id</th>\n",
       "    </tr>\n",
       "  </thead>\n",
       "  <tbody>\n",
       "    <tr>\n",
       "      <th>0</th>\n",
       "      <td>166503</td>\n",
       "      <td>884412.0</td>\n",
       "    </tr>\n",
       "    <tr>\n",
       "      <th>1</th>\n",
       "      <td>166503</td>\n",
       "      <td>884408.0</td>\n",
       "    </tr>\n",
       "    <tr>\n",
       "      <th>2</th>\n",
       "      <td>166503</td>\n",
       "      <td>884408.0</td>\n",
       "    </tr>\n",
       "    <tr>\n",
       "      <th>5</th>\n",
       "      <td>166503</td>\n",
       "      <td>884412.0</td>\n",
       "    </tr>\n",
       "    <tr>\n",
       "      <th>9</th>\n",
       "      <td>166503</td>\n",
       "      <td>884412.0</td>\n",
       "    </tr>\n",
       "    <tr>\n",
       "      <th>...</th>\n",
       "      <td>...</td>\n",
       "      <td>...</td>\n",
       "    </tr>\n",
       "    <tr>\n",
       "      <th>5624</th>\n",
       "      <td>168601</td>\n",
       "      <td>952916.0</td>\n",
       "    </tr>\n",
       "    <tr>\n",
       "      <th>5626</th>\n",
       "      <td>168601</td>\n",
       "      <td>952916.0</td>\n",
       "    </tr>\n",
       "    <tr>\n",
       "      <th>5628</th>\n",
       "      <td>168601</td>\n",
       "      <td>952914.0</td>\n",
       "    </tr>\n",
       "    <tr>\n",
       "      <th>5629</th>\n",
       "      <td>168601</td>\n",
       "      <td>952914.0</td>\n",
       "    </tr>\n",
       "    <tr>\n",
       "      <th>5633</th>\n",
       "      <td>168601</td>\n",
       "      <td>952914.0</td>\n",
       "    </tr>\n",
       "  </tbody>\n",
       "</table>\n",
       "<p>3553 rows × 2 columns</p>\n",
       "</div>"
      ],
      "text/plain": [
       "      user_id operator_id\n",
       "0      166503    884412.0\n",
       "1      166503    884408.0\n",
       "2      166503    884408.0\n",
       "5      166503    884412.0\n",
       "9      166503    884412.0\n",
       "...       ...         ...\n",
       "5624   168601    952916.0\n",
       "5626   168601    952916.0\n",
       "5628   168601    952914.0\n",
       "5629   168601    952914.0\n",
       "5633   168601    952914.0\n",
       "\n",
       "[3553 rows x 2 columns]"
      ]
     },
     "execution_count": 96,
     "metadata": {},
     "output_type": "execute_result"
    }
   ],
   "source": [
    "# выведем список таких операторов\n",
    "\n",
    "data_both_ = data_both_[((data_both_['calls_count'] <= 21) & (data_both_['total_call_duration'] >= 35))]\n",
    "data_both_ = data_both_[['user_id', 'operator_id']]\n",
    "data_both_ = data_both_.query('operator_id != \"-1\"')\n",
    "data_both_"
   ]
  },
  {
   "cell_type": "code",
   "execution_count": 97,
   "id": "1788d0aa",
   "metadata": {},
   "outputs": [],
   "source": [
    "not_effective_4 = data_both_[['user_id', 'operator_id']]"
   ]
  },
  {
   "cell_type": "markdown",
   "id": "cf7140d3",
   "metadata": {},
   "source": [
    "По пропускам мы выше вывели список not_effective_6."
   ]
  },
  {
   "cell_type": "markdown",
   "id": "0d19e054",
   "metadata": {},
   "source": [
    "## Определить к каким колл-центрам относятся не эффективные операторы"
   ]
  },
  {
   "cell_type": "markdown",
   "id": "c73e9efd",
   "metadata": {},
   "source": [
    "Выведем все таблицы с неэффективными операторами."
   ]
  },
  {
   "cell_type": "code",
   "execution_count": 98,
   "id": "73c1e1de",
   "metadata": {},
   "outputs": [
    {
     "data": {
      "text/html": [
       "<div>\n",
       "<style scoped>\n",
       "    .dataframe tbody tr th:only-of-type {\n",
       "        vertical-align: middle;\n",
       "    }\n",
       "\n",
       "    .dataframe tbody tr th {\n",
       "        vertical-align: top;\n",
       "    }\n",
       "\n",
       "    .dataframe thead th {\n",
       "        text-align: right;\n",
       "    }\n",
       "</style>\n",
       "<table border=\"1\" class=\"dataframe\">\n",
       "  <thead>\n",
       "    <tr style=\"text-align: right;\">\n",
       "      <th></th>\n",
       "      <th>user_id</th>\n",
       "      <th>operator_id</th>\n",
       "    </tr>\n",
       "  </thead>\n",
       "  <tbody>\n",
       "    <tr>\n",
       "      <th>0</th>\n",
       "      <td>166406</td>\n",
       "      <td>879896.0</td>\n",
       "    </tr>\n",
       "    <tr>\n",
       "      <th>1</th>\n",
       "      <td>166406</td>\n",
       "      <td>879898.0</td>\n",
       "    </tr>\n",
       "    <tr>\n",
       "      <th>2</th>\n",
       "      <td>166406</td>\n",
       "      <td>880240.0</td>\n",
       "    </tr>\n",
       "    <tr>\n",
       "      <th>3</th>\n",
       "      <td>166406</td>\n",
       "      <td>879896.0</td>\n",
       "    </tr>\n",
       "    <tr>\n",
       "      <th>4</th>\n",
       "      <td>166406</td>\n",
       "      <td>879898.0</td>\n",
       "    </tr>\n",
       "  </tbody>\n",
       "</table>\n",
       "</div>"
      ],
      "text/plain": [
       "   user_id operator_id\n",
       "0   166406    879896.0\n",
       "1   166406    879898.0\n",
       "2   166406    880240.0\n",
       "3   166406    879896.0\n",
       "4   166406    879898.0"
      ]
     },
     "metadata": {},
     "output_type": "display_data"
    },
    {
     "data": {
      "text/html": [
       "<div>\n",
       "<style scoped>\n",
       "    .dataframe tbody tr th:only-of-type {\n",
       "        vertical-align: middle;\n",
       "    }\n",
       "\n",
       "    .dataframe tbody tr th {\n",
       "        vertical-align: top;\n",
       "    }\n",
       "\n",
       "    .dataframe thead th {\n",
       "        text-align: right;\n",
       "    }\n",
       "</style>\n",
       "<table border=\"1\" class=\"dataframe\">\n",
       "  <thead>\n",
       "    <tr style=\"text-align: right;\">\n",
       "      <th></th>\n",
       "      <th>user_id</th>\n",
       "      <th>operator_id</th>\n",
       "    </tr>\n",
       "  </thead>\n",
       "  <tbody>\n",
       "    <tr>\n",
       "      <th>771</th>\n",
       "      <td>166680</td>\n",
       "      <td>919418.0</td>\n",
       "    </tr>\n",
       "    <tr>\n",
       "      <th>786</th>\n",
       "      <td>166688</td>\n",
       "      <td>890226.0</td>\n",
       "    </tr>\n",
       "    <tr>\n",
       "      <th>972</th>\n",
       "      <td>167580</td>\n",
       "      <td>960674.0</td>\n",
       "    </tr>\n",
       "    <tr>\n",
       "      <th>741</th>\n",
       "      <td>166520</td>\n",
       "      <td>885682.0</td>\n",
       "    </tr>\n",
       "    <tr>\n",
       "      <th>964</th>\n",
       "      <td>167580</td>\n",
       "      <td>937366.0</td>\n",
       "    </tr>\n",
       "  </tbody>\n",
       "</table>\n",
       "</div>"
      ],
      "text/plain": [
       "     user_id operator_id\n",
       "771   166680    919418.0\n",
       "786   166688    890226.0\n",
       "972   167580    960674.0\n",
       "741   166520    885682.0\n",
       "964   167580    937366.0"
      ]
     },
     "metadata": {},
     "output_type": "display_data"
    },
    {
     "data": {
      "text/html": [
       "<div>\n",
       "<style scoped>\n",
       "    .dataframe tbody tr th:only-of-type {\n",
       "        vertical-align: middle;\n",
       "    }\n",
       "\n",
       "    .dataframe tbody tr th {\n",
       "        vertical-align: top;\n",
       "    }\n",
       "\n",
       "    .dataframe thead th {\n",
       "        text-align: right;\n",
       "    }\n",
       "</style>\n",
       "<table border=\"1\" class=\"dataframe\">\n",
       "  <thead>\n",
       "    <tr style=\"text-align: right;\">\n",
       "      <th></th>\n",
       "      <th>user_id</th>\n",
       "      <th>operator_id</th>\n",
       "    </tr>\n",
       "  </thead>\n",
       "  <tbody>\n",
       "    <tr>\n",
       "      <th>23452</th>\n",
       "      <td>168004</td>\n",
       "      <td>934098.0</td>\n",
       "    </tr>\n",
       "  </tbody>\n",
       "</table>\n",
       "</div>"
      ],
      "text/plain": [
       "       user_id operator_id\n",
       "23452   168004    934098.0"
      ]
     },
     "metadata": {},
     "output_type": "display_data"
    },
    {
     "data": {
      "text/html": [
       "<div>\n",
       "<style scoped>\n",
       "    .dataframe tbody tr th:only-of-type {\n",
       "        vertical-align: middle;\n",
       "    }\n",
       "\n",
       "    .dataframe tbody tr th {\n",
       "        vertical-align: top;\n",
       "    }\n",
       "\n",
       "    .dataframe thead th {\n",
       "        text-align: right;\n",
       "    }\n",
       "</style>\n",
       "<table border=\"1\" class=\"dataframe\">\n",
       "  <thead>\n",
       "    <tr style=\"text-align: right;\">\n",
       "      <th></th>\n",
       "      <th>user_id</th>\n",
       "      <th>operator_id</th>\n",
       "    </tr>\n",
       "  </thead>\n",
       "  <tbody>\n",
       "    <tr>\n",
       "      <th>3</th>\n",
       "      <td>166391</td>\n",
       "      <td>882476.0</td>\n",
       "    </tr>\n",
       "    <tr>\n",
       "      <th>7</th>\n",
       "      <td>166391</td>\n",
       "      <td>882478.0</td>\n",
       "    </tr>\n",
       "    <tr>\n",
       "      <th>8</th>\n",
       "      <td>166428</td>\n",
       "      <td>882680.0</td>\n",
       "    </tr>\n",
       "    <tr>\n",
       "      <th>10</th>\n",
       "      <td>166428</td>\n",
       "      <td>882680.0</td>\n",
       "    </tr>\n",
       "    <tr>\n",
       "      <th>16</th>\n",
       "      <td>166428</td>\n",
       "      <td>882680.0</td>\n",
       "    </tr>\n",
       "  </tbody>\n",
       "</table>\n",
       "</div>"
      ],
      "text/plain": [
       "    user_id operator_id\n",
       "3    166391    882476.0\n",
       "7    166391    882478.0\n",
       "8    166428    882680.0\n",
       "10   166428    882680.0\n",
       "16   166428    882680.0"
      ]
     },
     "metadata": {},
     "output_type": "display_data"
    },
    {
     "data": {
      "text/html": [
       "<div>\n",
       "<style scoped>\n",
       "    .dataframe tbody tr th:only-of-type {\n",
       "        vertical-align: middle;\n",
       "    }\n",
       "\n",
       "    .dataframe tbody tr th {\n",
       "        vertical-align: top;\n",
       "    }\n",
       "\n",
       "    .dataframe thead th {\n",
       "        text-align: right;\n",
       "    }\n",
       "</style>\n",
       "<table border=\"1\" class=\"dataframe\">\n",
       "  <thead>\n",
       "    <tr style=\"text-align: right;\">\n",
       "      <th></th>\n",
       "      <th>user_id</th>\n",
       "      <th>operator_id</th>\n",
       "    </tr>\n",
       "  </thead>\n",
       "  <tbody>\n",
       "    <tr>\n",
       "      <th>0</th>\n",
       "      <td>166503</td>\n",
       "      <td>884412.0</td>\n",
       "    </tr>\n",
       "    <tr>\n",
       "      <th>1</th>\n",
       "      <td>166503</td>\n",
       "      <td>884408.0</td>\n",
       "    </tr>\n",
       "    <tr>\n",
       "      <th>2</th>\n",
       "      <td>166503</td>\n",
       "      <td>884408.0</td>\n",
       "    </tr>\n",
       "    <tr>\n",
       "      <th>5</th>\n",
       "      <td>166503</td>\n",
       "      <td>884412.0</td>\n",
       "    </tr>\n",
       "    <tr>\n",
       "      <th>9</th>\n",
       "      <td>166503</td>\n",
       "      <td>884412.0</td>\n",
       "    </tr>\n",
       "  </tbody>\n",
       "</table>\n",
       "</div>"
      ],
      "text/plain": [
       "   user_id operator_id\n",
       "0   166503    884412.0\n",
       "1   166503    884408.0\n",
       "2   166503    884408.0\n",
       "5   166503    884412.0\n",
       "9   166503    884412.0"
      ]
     },
     "metadata": {},
     "output_type": "display_data"
    },
    {
     "data": {
      "text/html": [
       "<div>\n",
       "<style scoped>\n",
       "    .dataframe tbody tr th:only-of-type {\n",
       "        vertical-align: middle;\n",
       "    }\n",
       "\n",
       "    .dataframe tbody tr th {\n",
       "        vertical-align: top;\n",
       "    }\n",
       "\n",
       "    .dataframe thead th {\n",
       "        text-align: right;\n",
       "    }\n",
       "</style>\n",
       "<table border=\"1\" class=\"dataframe\">\n",
       "  <thead>\n",
       "    <tr style=\"text-align: right;\">\n",
       "      <th></th>\n",
       "      <th>user_id</th>\n",
       "      <th>operator_id</th>\n",
       "    </tr>\n",
       "  </thead>\n",
       "  <tbody>\n",
       "    <tr>\n",
       "      <th>2412</th>\n",
       "      <td>166428</td>\n",
       "      <td>882680.0</td>\n",
       "    </tr>\n",
       "    <tr>\n",
       "      <th>2510</th>\n",
       "      <td>166482</td>\n",
       "      <td>934076.0</td>\n",
       "    </tr>\n",
       "    <tr>\n",
       "      <th>5734</th>\n",
       "      <td>166541</td>\n",
       "      <td>908960.0</td>\n",
       "    </tr>\n",
       "    <tr>\n",
       "      <th>5780</th>\n",
       "      <td>166541</td>\n",
       "      <td>908960.0</td>\n",
       "    </tr>\n",
       "    <tr>\n",
       "      <th>5786</th>\n",
       "      <td>166541</td>\n",
       "      <td>908960.0</td>\n",
       "    </tr>\n",
       "  </tbody>\n",
       "</table>\n",
       "</div>"
      ],
      "text/plain": [
       "      user_id operator_id\n",
       "2412   166428    882680.0\n",
       "2510   166482    934076.0\n",
       "5734   166541    908960.0\n",
       "5780   166541    908960.0\n",
       "5786   166541    908960.0"
      ]
     },
     "metadata": {},
     "output_type": "display_data"
    },
    {
     "data": {
      "text/html": [
       "<div>\n",
       "<style scoped>\n",
       "    .dataframe tbody tr th:only-of-type {\n",
       "        vertical-align: middle;\n",
       "    }\n",
       "\n",
       "    .dataframe tbody tr th {\n",
       "        vertical-align: top;\n",
       "    }\n",
       "\n",
       "    .dataframe thead th {\n",
       "        text-align: right;\n",
       "    }\n",
       "</style>\n",
       "<table border=\"1\" class=\"dataframe\">\n",
       "  <thead>\n",
       "    <tr style=\"text-align: right;\">\n",
       "      <th></th>\n",
       "      <th>user_id</th>\n",
       "      <th>operator_id</th>\n",
       "    </tr>\n",
       "  </thead>\n",
       "  <tbody>\n",
       "    <tr>\n",
       "      <th>173</th>\n",
       "      <td>168187</td>\n",
       "      <td>937772.0</td>\n",
       "    </tr>\n",
       "    <tr>\n",
       "      <th>72</th>\n",
       "      <td>167016</td>\n",
       "      <td>962904.0</td>\n",
       "    </tr>\n",
       "    <tr>\n",
       "      <th>87</th>\n",
       "      <td>167122</td>\n",
       "      <td>909308.0</td>\n",
       "    </tr>\n",
       "    <tr>\n",
       "      <th>165</th>\n",
       "      <td>168187</td>\n",
       "      <td>937716.0</td>\n",
       "    </tr>\n",
       "    <tr>\n",
       "      <th>24</th>\n",
       "      <td>166774</td>\n",
       "      <td>891976.0</td>\n",
       "    </tr>\n",
       "  </tbody>\n",
       "</table>\n",
       "</div>"
      ],
      "text/plain": [
       "     user_id operator_id\n",
       "173   168187    937772.0\n",
       "72    167016    962904.0\n",
       "87    167122    909308.0\n",
       "165   168187    937716.0\n",
       "24    166774    891976.0"
      ]
     },
     "execution_count": 98,
     "metadata": {},
     "output_type": "execute_result"
    }
   ],
   "source": [
    "display(not_effective.head())\n",
    "display(not_effective_1.head())\n",
    "display(not_effective_2.head())\n",
    "display(not_effective_3.head())\n",
    "display(not_effective_4.head())\n",
    "display(not_effective_5.head())\n",
    "not_effective_6.head()"
   ]
  },
  {
   "cell_type": "markdown",
   "id": "13dd3673",
   "metadata": {},
   "source": [
    "Сделаем одну общую таблицу по всем неэффективным операторам."
   ]
  },
  {
   "cell_type": "code",
   "execution_count": 99,
   "id": "ea284339",
   "metadata": {},
   "outputs": [
    {
     "data": {
      "text/html": [
       "<div>\n",
       "<style scoped>\n",
       "    .dataframe tbody tr th:only-of-type {\n",
       "        vertical-align: middle;\n",
       "    }\n",
       "\n",
       "    .dataframe tbody tr th {\n",
       "        vertical-align: top;\n",
       "    }\n",
       "\n",
       "    .dataframe thead th {\n",
       "        text-align: right;\n",
       "    }\n",
       "</style>\n",
       "<table border=\"1\" class=\"dataframe\">\n",
       "  <thead>\n",
       "    <tr style=\"text-align: right;\">\n",
       "      <th></th>\n",
       "      <th>user_id</th>\n",
       "      <th>operator_id</th>\n",
       "    </tr>\n",
       "  </thead>\n",
       "  <tbody>\n",
       "    <tr>\n",
       "      <th>0</th>\n",
       "      <td>166406</td>\n",
       "      <td>879896.0</td>\n",
       "    </tr>\n",
       "    <tr>\n",
       "      <th>1</th>\n",
       "      <td>166406</td>\n",
       "      <td>879898.0</td>\n",
       "    </tr>\n",
       "    <tr>\n",
       "      <th>2</th>\n",
       "      <td>166406</td>\n",
       "      <td>880240.0</td>\n",
       "    </tr>\n",
       "    <tr>\n",
       "      <th>3</th>\n",
       "      <td>166406</td>\n",
       "      <td>879896.0</td>\n",
       "    </tr>\n",
       "    <tr>\n",
       "      <th>4</th>\n",
       "      <td>166406</td>\n",
       "      <td>879898.0</td>\n",
       "    </tr>\n",
       "    <tr>\n",
       "      <th>...</th>\n",
       "      <td>...</td>\n",
       "      <td>...</td>\n",
       "    </tr>\n",
       "    <tr>\n",
       "      <th>115</th>\n",
       "      <td>167479</td>\n",
       "      <td>915556.0</td>\n",
       "    </tr>\n",
       "    <tr>\n",
       "      <th>189</th>\n",
       "      <td>168187</td>\n",
       "      <td>937870.0</td>\n",
       "    </tr>\n",
       "    <tr>\n",
       "      <th>52</th>\n",
       "      <td>166941</td>\n",
       "      <td>896386.0</td>\n",
       "    </tr>\n",
       "    <tr>\n",
       "      <th>232</th>\n",
       "      <td>168252</td>\n",
       "      <td>961064.0</td>\n",
       "    </tr>\n",
       "    <tr>\n",
       "      <th>85</th>\n",
       "      <td>167112</td>\n",
       "      <td>951648.0</td>\n",
       "    </tr>\n",
       "  </tbody>\n",
       "</table>\n",
       "<p>12605 rows × 2 columns</p>\n",
       "</div>"
      ],
      "text/plain": [
       "     user_id operator_id\n",
       "0     166406    879896.0\n",
       "1     166406    879898.0\n",
       "2     166406    880240.0\n",
       "3     166406    879896.0\n",
       "4     166406    879898.0\n",
       "..       ...         ...\n",
       "115   167479    915556.0\n",
       "189   168187    937870.0\n",
       "52    166941    896386.0\n",
       "232   168252    961064.0\n",
       "85    167112    951648.0\n",
       "\n",
       "[12605 rows x 2 columns]"
      ]
     },
     "execution_count": 99,
     "metadata": {},
     "output_type": "execute_result"
    }
   ],
   "source": [
    "final = not_effective.append(not_effective_1)\n",
    "final = final.append(not_effective_2)\n",
    "final = final.append(not_effective_3)\n",
    "final = final.append(not_effective_4)\n",
    "final = final.append(not_effective_5)\n",
    "final = final.append(not_effective_6)\n",
    "final"
   ]
  },
  {
   "cell_type": "code",
   "execution_count": 100,
   "id": "8d50a232",
   "metadata": {
    "scrolled": true
   },
   "outputs": [
    {
     "data": {
      "text/html": [
       "<div>\n",
       "<style scoped>\n",
       "    .dataframe tbody tr th:only-of-type {\n",
       "        vertical-align: middle;\n",
       "    }\n",
       "\n",
       "    .dataframe tbody tr th {\n",
       "        vertical-align: top;\n",
       "    }\n",
       "\n",
       "    .dataframe thead th {\n",
       "        text-align: right;\n",
       "    }\n",
       "</style>\n",
       "<table border=\"1\" class=\"dataframe\">\n",
       "  <thead>\n",
       "    <tr style=\"text-align: right;\">\n",
       "      <th></th>\n",
       "      <th>user_id</th>\n",
       "      <th>operator_id</th>\n",
       "    </tr>\n",
       "  </thead>\n",
       "  <tbody>\n",
       "    <tr>\n",
       "      <th>0</th>\n",
       "      <td>166406</td>\n",
       "      <td>879896.0</td>\n",
       "    </tr>\n",
       "    <tr>\n",
       "      <th>1</th>\n",
       "      <td>166406</td>\n",
       "      <td>879898.0</td>\n",
       "    </tr>\n",
       "    <tr>\n",
       "      <th>2</th>\n",
       "      <td>166406</td>\n",
       "      <td>880240.0</td>\n",
       "    </tr>\n",
       "    <tr>\n",
       "      <th>3</th>\n",
       "      <td>166377</td>\n",
       "      <td>880020.0</td>\n",
       "    </tr>\n",
       "    <tr>\n",
       "      <th>4</th>\n",
       "      <td>166377</td>\n",
       "      <td>880022.0</td>\n",
       "    </tr>\n",
       "    <tr>\n",
       "      <th>...</th>\n",
       "      <td>...</td>\n",
       "      <td>...</td>\n",
       "    </tr>\n",
       "    <tr>\n",
       "      <th>1051</th>\n",
       "      <td>168252</td>\n",
       "      <td>939718.0</td>\n",
       "    </tr>\n",
       "    <tr>\n",
       "      <th>1052</th>\n",
       "      <td>167112</td>\n",
       "      <td>933452.0</td>\n",
       "    </tr>\n",
       "    <tr>\n",
       "      <th>1053</th>\n",
       "      <td>168187</td>\n",
       "      <td>937898.0</td>\n",
       "    </tr>\n",
       "    <tr>\n",
       "      <th>1054</th>\n",
       "      <td>166941</td>\n",
       "      <td>896386.0</td>\n",
       "    </tr>\n",
       "    <tr>\n",
       "      <th>1055</th>\n",
       "      <td>167112</td>\n",
       "      <td>951648.0</td>\n",
       "    </tr>\n",
       "  </tbody>\n",
       "</table>\n",
       "<p>1056 rows × 2 columns</p>\n",
       "</div>"
      ],
      "text/plain": [
       "      user_id operator_id\n",
       "0      166406    879896.0\n",
       "1      166406    879898.0\n",
       "2      166406    880240.0\n",
       "3      166377    880020.0\n",
       "4      166377    880022.0\n",
       "...       ...         ...\n",
       "1051   168252    939718.0\n",
       "1052   167112    933452.0\n",
       "1053   168187    937898.0\n",
       "1054   166941    896386.0\n",
       "1055   167112    951648.0\n",
       "\n",
       "[1056 rows x 2 columns]"
      ]
     },
     "execution_count": 100,
     "metadata": {},
     "output_type": "execute_result"
    }
   ],
   "source": [
    "final = final.drop_duplicates().reset_index(drop=True) # удалим дубликаты\n",
    "final"
   ]
  },
  {
   "cell_type": "code",
   "execution_count": 101,
   "id": "0e5e30a8",
   "metadata": {},
   "outputs": [
    {
     "data": {
      "text/html": [
       "<div>\n",
       "<style scoped>\n",
       "    .dataframe tbody tr th:only-of-type {\n",
       "        vertical-align: middle;\n",
       "    }\n",
       "\n",
       "    .dataframe tbody tr th {\n",
       "        vertical-align: top;\n",
       "    }\n",
       "\n",
       "    .dataframe thead th {\n",
       "        text-align: right;\n",
       "    }\n",
       "</style>\n",
       "<table border=\"1\" class=\"dataframe\">\n",
       "  <thead>\n",
       "    <tr style=\"text-align: right;\">\n",
       "      <th></th>\n",
       "      <th>user_id</th>\n",
       "      <th>operator_id</th>\n",
       "    </tr>\n",
       "  </thead>\n",
       "  <tbody>\n",
       "    <tr>\n",
       "      <th>21</th>\n",
       "      <td>166658</td>\n",
       "      <td>-1</td>\n",
       "    </tr>\n",
       "    <tr>\n",
       "      <th>73</th>\n",
       "      <td>167011</td>\n",
       "      <td>-1</td>\n",
       "    </tr>\n",
       "    <tr>\n",
       "      <th>77</th>\n",
       "      <td>167125</td>\n",
       "      <td>-1</td>\n",
       "    </tr>\n",
       "    <tr>\n",
       "      <th>115</th>\n",
       "      <td>166997</td>\n",
       "      <td>-1</td>\n",
       "    </tr>\n",
       "    <tr>\n",
       "      <th>134</th>\n",
       "      <td>167109</td>\n",
       "      <td>-1</td>\n",
       "    </tr>\n",
       "  </tbody>\n",
       "</table>\n",
       "</div>"
      ],
      "text/plain": [
       "     user_id operator_id\n",
       "21    166658          -1\n",
       "73    167011          -1\n",
       "77    167125          -1\n",
       "115   166997          -1\n",
       "134   167109          -1"
      ]
     },
     "execution_count": 101,
     "metadata": {},
     "output_type": "execute_result"
    }
   ],
   "source": [
    "final.query('operator_id == \"-1\"').head()"
   ]
  },
  {
   "cell_type": "markdown",
   "id": "c01d78af",
   "metadata": {},
   "source": [
    "К сожалению, мы достоверно не знаем, являлся ли пропуск=одному сотруднику, поэтому нельзя говорить об эффективности его. Правильнее будет исключить эти данные из окончательных результатов."
   ]
  },
  {
   "cell_type": "code",
   "execution_count": 102,
   "id": "93903c4f",
   "metadata": {},
   "outputs": [
    {
     "data": {
      "text/html": [
       "<div>\n",
       "<style scoped>\n",
       "    .dataframe tbody tr th:only-of-type {\n",
       "        vertical-align: middle;\n",
       "    }\n",
       "\n",
       "    .dataframe tbody tr th {\n",
       "        vertical-align: top;\n",
       "    }\n",
       "\n",
       "    .dataframe thead th {\n",
       "        text-align: right;\n",
       "    }\n",
       "</style>\n",
       "<table border=\"1\" class=\"dataframe\">\n",
       "  <thead>\n",
       "    <tr style=\"text-align: right;\">\n",
       "      <th></th>\n",
       "      <th>user_id</th>\n",
       "      <th>operator_id</th>\n",
       "    </tr>\n",
       "  </thead>\n",
       "  <tbody>\n",
       "    <tr>\n",
       "      <th>0</th>\n",
       "      <td>166406</td>\n",
       "      <td>879896.0</td>\n",
       "    </tr>\n",
       "    <tr>\n",
       "      <th>1</th>\n",
       "      <td>166406</td>\n",
       "      <td>879898.0</td>\n",
       "    </tr>\n",
       "    <tr>\n",
       "      <th>2</th>\n",
       "      <td>166406</td>\n",
       "      <td>880240.0</td>\n",
       "    </tr>\n",
       "    <tr>\n",
       "      <th>3</th>\n",
       "      <td>166377</td>\n",
       "      <td>880020.0</td>\n",
       "    </tr>\n",
       "    <tr>\n",
       "      <th>4</th>\n",
       "      <td>166377</td>\n",
       "      <td>880022.0</td>\n",
       "    </tr>\n",
       "    <tr>\n",
       "      <th>...</th>\n",
       "      <td>...</td>\n",
       "      <td>...</td>\n",
       "    </tr>\n",
       "    <tr>\n",
       "      <th>1051</th>\n",
       "      <td>168252</td>\n",
       "      <td>939718.0</td>\n",
       "    </tr>\n",
       "    <tr>\n",
       "      <th>1052</th>\n",
       "      <td>167112</td>\n",
       "      <td>933452.0</td>\n",
       "    </tr>\n",
       "    <tr>\n",
       "      <th>1053</th>\n",
       "      <td>168187</td>\n",
       "      <td>937898.0</td>\n",
       "    </tr>\n",
       "    <tr>\n",
       "      <th>1054</th>\n",
       "      <td>166941</td>\n",
       "      <td>896386.0</td>\n",
       "    </tr>\n",
       "    <tr>\n",
       "      <th>1055</th>\n",
       "      <td>167112</td>\n",
       "      <td>951648.0</td>\n",
       "    </tr>\n",
       "  </tbody>\n",
       "</table>\n",
       "<p>1029 rows × 2 columns</p>\n",
       "</div>"
      ],
      "text/plain": [
       "      user_id operator_id\n",
       "0      166406    879896.0\n",
       "1      166406    879898.0\n",
       "2      166406    880240.0\n",
       "3      166377    880020.0\n",
       "4      166377    880022.0\n",
       "...       ...         ...\n",
       "1051   168252    939718.0\n",
       "1052   167112    933452.0\n",
       "1053   168187    937898.0\n",
       "1054   166941    896386.0\n",
       "1055   167112    951648.0\n",
       "\n",
       "[1029 rows x 2 columns]"
      ]
     },
     "execution_count": 102,
     "metadata": {},
     "output_type": "execute_result"
    }
   ],
   "source": [
    "final = final.query('operator_id != \"-1\"')\n",
    "final"
   ]
  },
  {
   "cell_type": "code",
   "execution_count": 103,
   "id": "fa9b5c64",
   "metadata": {},
   "outputs": [
    {
     "data": {
      "text/html": [
       "<div>\n",
       "<style scoped>\n",
       "    .dataframe tbody tr th:only-of-type {\n",
       "        vertical-align: middle;\n",
       "    }\n",
       "\n",
       "    .dataframe tbody tr th {\n",
       "        vertical-align: top;\n",
       "    }\n",
       "\n",
       "    .dataframe thead th {\n",
       "        text-align: right;\n",
       "    }\n",
       "</style>\n",
       "<table border=\"1\" class=\"dataframe\">\n",
       "  <thead>\n",
       "    <tr style=\"text-align: right;\">\n",
       "      <th></th>\n",
       "      <th>user_id</th>\n",
       "      <th>operator_id</th>\n",
       "    </tr>\n",
       "  </thead>\n",
       "  <tbody>\n",
       "    <tr>\n",
       "      <th>248</th>\n",
       "      <td>168187</td>\n",
       "      <td>50</td>\n",
       "    </tr>\n",
       "    <tr>\n",
       "      <th>168</th>\n",
       "      <td>167626</td>\n",
       "      <td>44</td>\n",
       "    </tr>\n",
       "    <tr>\n",
       "      <th>255</th>\n",
       "      <td>168252</td>\n",
       "      <td>28</td>\n",
       "    </tr>\n",
       "    <tr>\n",
       "      <th>155</th>\n",
       "      <td>167497</td>\n",
       "      <td>28</td>\n",
       "    </tr>\n",
       "    <tr>\n",
       "      <th>233</th>\n",
       "      <td>168062</td>\n",
       "      <td>25</td>\n",
       "    </tr>\n",
       "    <tr>\n",
       "      <th>...</th>\n",
       "      <td>...</td>\n",
       "      <td>...</td>\n",
       "    </tr>\n",
       "    <tr>\n",
       "      <th>177</th>\n",
       "      <td>167664</td>\n",
       "      <td>1</td>\n",
       "    </tr>\n",
       "    <tr>\n",
       "      <th>54</th>\n",
       "      <td>166833</td>\n",
       "      <td>1</td>\n",
       "    </tr>\n",
       "    <tr>\n",
       "      <th>173</th>\n",
       "      <td>167646</td>\n",
       "      <td>1</td>\n",
       "    </tr>\n",
       "    <tr>\n",
       "      <th>170</th>\n",
       "      <td>167634</td>\n",
       "      <td>1</td>\n",
       "    </tr>\n",
       "    <tr>\n",
       "      <th>285</th>\n",
       "      <td>168606</td>\n",
       "      <td>1</td>\n",
       "    </tr>\n",
       "  </tbody>\n",
       "</table>\n",
       "<p>286 rows × 2 columns</p>\n",
       "</div>"
      ],
      "text/plain": [
       "     user_id  operator_id\n",
       "248   168187           50\n",
       "168   167626           44\n",
       "255   168252           28\n",
       "155   167497           28\n",
       "233   168062           25\n",
       "..       ...          ...\n",
       "177   167664            1\n",
       "54    166833            1\n",
       "173   167646            1\n",
       "170   167634            1\n",
       "285   168606            1\n",
       "\n",
       "[286 rows x 2 columns]"
      ]
     },
     "execution_count": 103,
     "metadata": {},
     "output_type": "execute_result"
    }
   ],
   "source": [
    "final1 = final.groupby('user_id').agg({'operator_id': 'count'}).reset_index().sort_values('operator_id', ascending=False)\n",
    "final1"
   ]
  },
  {
   "cell_type": "markdown",
   "id": "819035c7",
   "metadata": {},
   "source": [
    "Итого у нас получилось, что 1029 неэффективных оператора приходится на 286 колл-центров. Проверим количество таких операторов от всего числа операторов в каждом колл-центре, где есть неэффективные операторы."
   ]
  },
  {
   "cell_type": "code",
   "execution_count": 104,
   "id": "16fdec61",
   "metadata": {},
   "outputs": [
    {
     "data": {
      "text/html": [
       "<div>\n",
       "<style scoped>\n",
       "    .dataframe tbody tr th:only-of-type {\n",
       "        vertical-align: middle;\n",
       "    }\n",
       "\n",
       "    .dataframe tbody tr th {\n",
       "        vertical-align: top;\n",
       "    }\n",
       "\n",
       "    .dataframe thead th {\n",
       "        text-align: right;\n",
       "    }\n",
       "</style>\n",
       "<table border=\"1\" class=\"dataframe\">\n",
       "  <thead>\n",
       "    <tr style=\"text-align: right;\">\n",
       "      <th></th>\n",
       "      <th>user_id</th>\n",
       "      <th>operator_id</th>\n",
       "    </tr>\n",
       "  </thead>\n",
       "  <tbody>\n",
       "    <tr>\n",
       "      <th>248</th>\n",
       "      <td>168187</td>\n",
       "      <td>2265</td>\n",
       "    </tr>\n",
       "    <tr>\n",
       "      <th>28</th>\n",
       "      <td>166658</td>\n",
       "      <td>1778</td>\n",
       "    </tr>\n",
       "    <tr>\n",
       "      <th>155</th>\n",
       "      <td>167497</td>\n",
       "      <td>1197</td>\n",
       "    </tr>\n",
       "    <tr>\n",
       "      <th>66</th>\n",
       "      <td>166916</td>\n",
       "      <td>1115</td>\n",
       "    </tr>\n",
       "    <tr>\n",
       "      <th>112</th>\n",
       "      <td>167150</td>\n",
       "      <td>999</td>\n",
       "    </tr>\n",
       "    <tr>\n",
       "      <th>...</th>\n",
       "      <td>...</td>\n",
       "      <td>...</td>\n",
       "    </tr>\n",
       "    <tr>\n",
       "      <th>109</th>\n",
       "      <td>167139</td>\n",
       "      <td>1</td>\n",
       "    </tr>\n",
       "    <tr>\n",
       "      <th>271</th>\n",
       "      <td>168459</td>\n",
       "      <td>1</td>\n",
       "    </tr>\n",
       "    <tr>\n",
       "      <th>8</th>\n",
       "      <td>166481</td>\n",
       "      <td>1</td>\n",
       "    </tr>\n",
       "    <tr>\n",
       "      <th>236</th>\n",
       "      <td>168090</td>\n",
       "      <td>1</td>\n",
       "    </tr>\n",
       "    <tr>\n",
       "      <th>20</th>\n",
       "      <td>166548</td>\n",
       "      <td>1</td>\n",
       "    </tr>\n",
       "  </tbody>\n",
       "</table>\n",
       "<p>286 rows × 2 columns</p>\n",
       "</div>"
      ],
      "text/plain": [
       "     user_id  operator_id\n",
       "248   168187         2265\n",
       "28    166658         1778\n",
       "155   167497         1197\n",
       "66    166916         1115\n",
       "112   167150          999\n",
       "..       ...          ...\n",
       "109   167139            1\n",
       "271   168459            1\n",
       "8     166481            1\n",
       "236   168090            1\n",
       "20    166548            1\n",
       "\n",
       "[286 rows x 2 columns]"
      ]
     },
     "execution_count": 104,
     "metadata": {},
     "output_type": "execute_result"
    }
   ],
   "source": [
    "data_ = final.merge(data, on='operator_id')\n",
    "data_ = data_.query('operator_id != \"-1\"')\n",
    "data_ = data_.groupby('user_id_x').agg({'operator_id': 'count'}).reset_index().sort_values('operator_id', ascending=False)\n",
    "data_ = data_.rename(columns={'user_id_x': 'user_id'})\n",
    "data_"
   ]
  },
  {
   "cell_type": "code",
   "execution_count": 105,
   "id": "001063e6",
   "metadata": {
    "scrolled": true
   },
   "outputs": [
    {
     "data": {
      "text/html": [
       "<div>\n",
       "<style scoped>\n",
       "    .dataframe tbody tr th:only-of-type {\n",
       "        vertical-align: middle;\n",
       "    }\n",
       "\n",
       "    .dataframe tbody tr th {\n",
       "        vertical-align: top;\n",
       "    }\n",
       "\n",
       "    .dataframe thead th {\n",
       "        text-align: right;\n",
       "    }\n",
       "</style>\n",
       "<table border=\"1\" class=\"dataframe\">\n",
       "  <thead>\n",
       "    <tr style=\"text-align: right;\">\n",
       "      <th></th>\n",
       "      <th>user_id</th>\n",
       "      <th>operator_id_x</th>\n",
       "      <th>operator_id_y</th>\n",
       "    </tr>\n",
       "  </thead>\n",
       "  <tbody>\n",
       "    <tr>\n",
       "      <th>0</th>\n",
       "      <td>168187</td>\n",
       "      <td>2265</td>\n",
       "      <td>50</td>\n",
       "    </tr>\n",
       "    <tr>\n",
       "      <th>1</th>\n",
       "      <td>166658</td>\n",
       "      <td>1778</td>\n",
       "      <td>16</td>\n",
       "    </tr>\n",
       "    <tr>\n",
       "      <th>2</th>\n",
       "      <td>167497</td>\n",
       "      <td>1197</td>\n",
       "      <td>28</td>\n",
       "    </tr>\n",
       "    <tr>\n",
       "      <th>3</th>\n",
       "      <td>166916</td>\n",
       "      <td>1115</td>\n",
       "      <td>16</td>\n",
       "    </tr>\n",
       "    <tr>\n",
       "      <th>4</th>\n",
       "      <td>167150</td>\n",
       "      <td>999</td>\n",
       "      <td>6</td>\n",
       "    </tr>\n",
       "    <tr>\n",
       "      <th>...</th>\n",
       "      <td>...</td>\n",
       "      <td>...</td>\n",
       "      <td>...</td>\n",
       "    </tr>\n",
       "    <tr>\n",
       "      <th>281</th>\n",
       "      <td>167139</td>\n",
       "      <td>1</td>\n",
       "      <td>1</td>\n",
       "    </tr>\n",
       "    <tr>\n",
       "      <th>282</th>\n",
       "      <td>168459</td>\n",
       "      <td>1</td>\n",
       "      <td>1</td>\n",
       "    </tr>\n",
       "    <tr>\n",
       "      <th>283</th>\n",
       "      <td>166481</td>\n",
       "      <td>1</td>\n",
       "      <td>1</td>\n",
       "    </tr>\n",
       "    <tr>\n",
       "      <th>284</th>\n",
       "      <td>168090</td>\n",
       "      <td>1</td>\n",
       "      <td>1</td>\n",
       "    </tr>\n",
       "    <tr>\n",
       "      <th>285</th>\n",
       "      <td>166548</td>\n",
       "      <td>1</td>\n",
       "      <td>1</td>\n",
       "    </tr>\n",
       "  </tbody>\n",
       "</table>\n",
       "<p>286 rows × 3 columns</p>\n",
       "</div>"
      ],
      "text/plain": [
       "     user_id  operator_id_x  operator_id_y\n",
       "0     168187           2265             50\n",
       "1     166658           1778             16\n",
       "2     167497           1197             28\n",
       "3     166916           1115             16\n",
       "4     167150            999              6\n",
       "..       ...            ...            ...\n",
       "281   167139              1              1\n",
       "282   168459              1              1\n",
       "283   166481              1              1\n",
       "284   168090              1              1\n",
       "285   166548              1              1\n",
       "\n",
       "[286 rows x 3 columns]"
      ]
     },
     "execution_count": 105,
     "metadata": {},
     "output_type": "execute_result"
    }
   ],
   "source": [
    "data_ = data_.merge(final1, on='user_id')\n",
    "data_"
   ]
  },
  {
   "cell_type": "markdown",
   "id": "cbdf4487",
   "metadata": {},
   "source": [
    "Так как строить график по всем 286 колл-центрам накладно, то посмотрим распределение для первых 10, в которых наибольшее количество неэффективных операторов."
   ]
  },
  {
   "cell_type": "code",
   "execution_count": 106,
   "id": "c635f712",
   "metadata": {},
   "outputs": [],
   "source": [
    "plot = data_.head(10)"
   ]
  },
  {
   "cell_type": "code",
   "execution_count": 107,
   "id": "cf13938f",
   "metadata": {},
   "outputs": [
    {
     "data": {
      "image/png": "[encoded data removed]",
      "text/plain": [
       "<Figure size 1080x432 with 1 Axes>"
      ]
     },
     "metadata": {
      "needs_background": "light"
     },
     "output_type": "display_data"
    }
   ],
   "source": [
    "plot.plot(kind='barh', x='user_id', y=['operator_id_x', 'operator_id_y'], figsize=(15,6))\n",
    "plt.title('Соотношение неэффективных операторов ко всему числу операторов в колл-центре')\n",
    "plt.xlabel('Количество операторов')\n",
    "plt.legend(['Общее', 'Неэффективные'], title='Количество операторов', fontsize=12) \n",
    "plt.ylabel('ID колл-центров');"
   ]
  },
  {
   "cell_type": "markdown",
   "id": "bb260e99",
   "metadata": {},
   "source": [
    "На графике мы видим наглядное соотношение всех операторов в колл-центре (синий цвет) к количеству неэффективных операторов (оранжевый). Здесь показаны топ-10 колл-центров с наибольшим числом неэффективных операторов. "
   ]
  },
  {
   "cell_type": "markdown",
   "id": "c773aed4",
   "metadata": {},
   "source": [
    "## Определим долю неэффективных операторов в колл-центрах"
   ]
  },
  {
   "cell_type": "code",
   "execution_count": 108,
   "id": "9fe3b166",
   "metadata": {},
   "outputs": [
    {
     "data": {
      "text/html": [
       "<div>\n",
       "<style scoped>\n",
       "    .dataframe tbody tr th:only-of-type {\n",
       "        vertical-align: middle;\n",
       "    }\n",
       "\n",
       "    .dataframe tbody tr th {\n",
       "        vertical-align: top;\n",
       "    }\n",
       "\n",
       "    .dataframe thead th {\n",
       "        text-align: right;\n",
       "    }\n",
       "</style>\n",
       "<table border=\"1\" class=\"dataframe\">\n",
       "  <thead>\n",
       "    <tr style=\"text-align: right;\">\n",
       "      <th></th>\n",
       "      <th>user_id</th>\n",
       "      <th>operator_id_x</th>\n",
       "      <th>operator_id_y</th>\n",
       "    </tr>\n",
       "  </thead>\n",
       "  <tbody>\n",
       "    <tr>\n",
       "      <th>0</th>\n",
       "      <td>168187</td>\n",
       "      <td>2265</td>\n",
       "      <td>50</td>\n",
       "    </tr>\n",
       "    <tr>\n",
       "      <th>1</th>\n",
       "      <td>166658</td>\n",
       "      <td>1778</td>\n",
       "      <td>16</td>\n",
       "    </tr>\n",
       "    <tr>\n",
       "      <th>2</th>\n",
       "      <td>167497</td>\n",
       "      <td>1197</td>\n",
       "      <td>28</td>\n",
       "    </tr>\n",
       "    <tr>\n",
       "      <th>3</th>\n",
       "      <td>166916</td>\n",
       "      <td>1115</td>\n",
       "      <td>16</td>\n",
       "    </tr>\n",
       "    <tr>\n",
       "      <th>4</th>\n",
       "      <td>167150</td>\n",
       "      <td>999</td>\n",
       "      <td>6</td>\n",
       "    </tr>\n",
       "  </tbody>\n",
       "</table>\n",
       "</div>"
      ],
      "text/plain": [
       "   user_id  operator_id_x  operator_id_y\n",
       "0   168187           2265             50\n",
       "1   166658           1778             16\n",
       "2   167497           1197             28\n",
       "3   166916           1115             16\n",
       "4   167150            999              6"
      ]
     },
     "execution_count": 108,
     "metadata": {},
     "output_type": "execute_result"
    }
   ],
   "source": [
    "data_.head()"
   ]
  },
  {
   "cell_type": "code",
   "execution_count": 109,
   "id": "eedd3346",
   "metadata": {},
   "outputs": [
    {
     "data": {
      "text/html": [
       "<div>\n",
       "<style scoped>\n",
       "    .dataframe tbody tr th:only-of-type {\n",
       "        vertical-align: middle;\n",
       "    }\n",
       "\n",
       "    .dataframe tbody tr th {\n",
       "        vertical-align: top;\n",
       "    }\n",
       "\n",
       "    .dataframe thead th {\n",
       "        text-align: right;\n",
       "    }\n",
       "</style>\n",
       "<table border=\"1\" class=\"dataframe\">\n",
       "  <thead>\n",
       "    <tr style=\"text-align: right;\">\n",
       "      <th></th>\n",
       "      <th>user_id</th>\n",
       "      <th>operator_id_x</th>\n",
       "      <th>operator_id_y</th>\n",
       "      <th>ratio</th>\n",
       "    </tr>\n",
       "  </thead>\n",
       "  <tbody>\n",
       "    <tr>\n",
       "      <th>0</th>\n",
       "      <td>168187</td>\n",
       "      <td>2265</td>\n",
       "      <td>50</td>\n",
       "      <td>0.022075</td>\n",
       "    </tr>\n",
       "    <tr>\n",
       "      <th>1</th>\n",
       "      <td>166658</td>\n",
       "      <td>1778</td>\n",
       "      <td>16</td>\n",
       "      <td>0.008999</td>\n",
       "    </tr>\n",
       "    <tr>\n",
       "      <th>2</th>\n",
       "      <td>167497</td>\n",
       "      <td>1197</td>\n",
       "      <td>28</td>\n",
       "      <td>0.023392</td>\n",
       "    </tr>\n",
       "    <tr>\n",
       "      <th>3</th>\n",
       "      <td>166916</td>\n",
       "      <td>1115</td>\n",
       "      <td>16</td>\n",
       "      <td>0.014350</td>\n",
       "    </tr>\n",
       "    <tr>\n",
       "      <th>4</th>\n",
       "      <td>167150</td>\n",
       "      <td>999</td>\n",
       "      <td>6</td>\n",
       "      <td>0.006006</td>\n",
       "    </tr>\n",
       "    <tr>\n",
       "      <th>...</th>\n",
       "      <td>...</td>\n",
       "      <td>...</td>\n",
       "      <td>...</td>\n",
       "      <td>...</td>\n",
       "    </tr>\n",
       "    <tr>\n",
       "      <th>281</th>\n",
       "      <td>167139</td>\n",
       "      <td>1</td>\n",
       "      <td>1</td>\n",
       "      <td>1.000000</td>\n",
       "    </tr>\n",
       "    <tr>\n",
       "      <th>282</th>\n",
       "      <td>168459</td>\n",
       "      <td>1</td>\n",
       "      <td>1</td>\n",
       "      <td>1.000000</td>\n",
       "    </tr>\n",
       "    <tr>\n",
       "      <th>283</th>\n",
       "      <td>166481</td>\n",
       "      <td>1</td>\n",
       "      <td>1</td>\n",
       "      <td>1.000000</td>\n",
       "    </tr>\n",
       "    <tr>\n",
       "      <th>284</th>\n",
       "      <td>168090</td>\n",
       "      <td>1</td>\n",
       "      <td>1</td>\n",
       "      <td>1.000000</td>\n",
       "    </tr>\n",
       "    <tr>\n",
       "      <th>285</th>\n",
       "      <td>166548</td>\n",
       "      <td>1</td>\n",
       "      <td>1</td>\n",
       "      <td>1.000000</td>\n",
       "    </tr>\n",
       "  </tbody>\n",
       "</table>\n",
       "<p>286 rows × 4 columns</p>\n",
       "</div>"
      ],
      "text/plain": [
       "     user_id  operator_id_x  operator_id_y     ratio\n",
       "0     168187           2265             50  0.022075\n",
       "1     166658           1778             16  0.008999\n",
       "2     167497           1197             28  0.023392\n",
       "3     166916           1115             16  0.014350\n",
       "4     167150            999              6  0.006006\n",
       "..       ...            ...            ...       ...\n",
       "281   167139              1              1  1.000000\n",
       "282   168459              1              1  1.000000\n",
       "283   166481              1              1  1.000000\n",
       "284   168090              1              1  1.000000\n",
       "285   166548              1              1  1.000000\n",
       "\n",
       "[286 rows x 4 columns]"
      ]
     },
     "execution_count": 109,
     "metadata": {},
     "output_type": "execute_result"
    }
   ],
   "source": [
    "data_['ratio'] = data_['operator_id_y'] / data_['operator_id_x']\n",
    "#data_ = data_.rename(columns={'operator_id_x': 'total_operators', 'operator_id_y': 'ineffective_operators'})\n",
    "data_#.sort_values('ratio', ascending=False)"
   ]
  },
  {
   "cell_type": "markdown",
   "id": "67362424",
   "metadata": {},
   "source": [
    "# Проверка гипотез"
   ]
  },
  {
   "cell_type": "markdown",
   "id": "c28eb86d",
   "metadata": {},
   "source": [
    "1)\n",
    "- Нулевая(Н0): Доля неэффективных операторов на тарифе С равна доле неэффективных операторов на тарифе В\n",
    "- Альтернативная(Н1): Доля неэффективных операторов на тарифе В не равна доле неэффективных операторов на тарифе С"
   ]
  },
  {
   "cell_type": "markdown",
   "id": "fbd7fb1c",
   "metadata": {},
   "source": [
    "Для проверки гипотезы мы выбрали именно тарифы В и С, так как эти тарифы имеет бОльшее количество колл-центров (размер выборки у данных тарифов больше)."
   ]
  },
  {
   "cell_type": "code",
   "execution_count": 110,
   "id": "fe0884de",
   "metadata": {},
   "outputs": [
    {
     "data": {
      "text/html": [
       "<div>\n",
       "<style scoped>\n",
       "    .dataframe tbody tr th:only-of-type {\n",
       "        vertical-align: middle;\n",
       "    }\n",
       "\n",
       "    .dataframe tbody tr th {\n",
       "        vertical-align: top;\n",
       "    }\n",
       "\n",
       "    .dataframe thead th {\n",
       "        text-align: right;\n",
       "    }\n",
       "</style>\n",
       "<table border=\"1\" class=\"dataframe\">\n",
       "  <thead>\n",
       "    <tr style=\"text-align: right;\">\n",
       "      <th></th>\n",
       "      <th>tariff_plan</th>\n",
       "      <th>total_operators</th>\n",
       "      <th>ineffective_operators</th>\n",
       "    </tr>\n",
       "  </thead>\n",
       "  <tbody>\n",
       "    <tr>\n",
       "      <th>0</th>\n",
       "      <td>A</td>\n",
       "      <td>10410</td>\n",
       "      <td>293</td>\n",
       "    </tr>\n",
       "    <tr>\n",
       "      <th>1</th>\n",
       "      <td>B</td>\n",
       "      <td>13728</td>\n",
       "      <td>365</td>\n",
       "    </tr>\n",
       "    <tr>\n",
       "      <th>2</th>\n",
       "      <td>C</td>\n",
       "      <td>14218</td>\n",
       "      <td>371</td>\n",
       "    </tr>\n",
       "  </tbody>\n",
       "</table>\n",
       "</div>"
      ],
      "text/plain": [
       "  tariff_plan  total_operators  ineffective_operators\n",
       "0           A            10410                    293\n",
       "1           B            13728                    365\n",
       "2           C            14218                    371"
      ]
     },
     "execution_count": 110,
     "metadata": {},
     "output_type": "execute_result"
    }
   ],
   "source": [
    "#выделим для анализа гипотезы столбец с долями неэффективных операторов в тарифе В и С соответственно\n",
    "\n",
    "Hip1 = data_.merge(data_clients, on='user_id')\n",
    "Hip1 = Hip1.rename(columns={'operator_id_x': 'total_operators', 'operator_id_y': 'ineffective_operators'})\n",
    "Hip1 = Hip1.groupby('tariff_plan').agg({'total_operators': 'sum', 'ineffective_operators': 'sum'}).reset_index()\n",
    "Hip1"
   ]
  },
  {
   "cell_type": "code",
   "execution_count": 111,
   "id": "19f9205e",
   "metadata": {},
   "outputs": [],
   "source": [
    "def test(B_not_eff, C_not_eff, B_total, C_total, alpha=.05): \n",
    "    p1 = B_not_eff / B_total \n",
    "    p2 = C_not_eff / C_total \n",
    "    \n",
    "    difference = p1 - p2\n",
    "    p_combined = (B_not_eff + C_not_eff) / (B_total+C_total) \n",
    "    z_value = difference / mth.sqrt(p_combined * (1 - p_combined) * (1 / B_total + 1 / C_total))\n",
    "    distr = st.norm(0, 1)\n",
    "    p_value = (1 - distr.cdf(abs(z_value))) * 2\n",
    "   \n",
    "    print('p-значение: ', p_value)\n",
    "    if (p_value < alpha):\n",
    "        print(\"Отвергаем нулевую гипотезу\")\n",
    "    else:\n",
    "        print(\"Не получилось отвергнуть нулевую гипотезу\")"
   ]
  },
  {
   "cell_type": "code",
   "execution_count": 112,
   "id": "be1bf258",
   "metadata": {},
   "outputs": [
    {
     "name": "stdout",
     "output_type": "stream",
     "text": [
      "p-значение:  0.796425084930001\n",
      "Не получилось отвергнуть нулевую гипотезу\n"
     ]
    }
   ],
   "source": [
    "test(Hip1.loc[1][2], Hip1.loc[2][2], Hip1.loc[1][1], Hip1.loc[2][1])"
   ]
  },
  {
   "cell_type": "markdown",
   "id": "217163f1",
   "metadata": {},
   "source": [
    "2)\n",
    "- Нулевая(Н0): Доля неэффективных операторов в период с 16-17 ноября 2019 года равна доле неэффективных операторов в период 18-22 ноября 2019 года\n",
    "- Альбернативная(Н1): Доля неэффективных операторов в период с 16-17 ноября 2019 года не равна доле неэффективных операторов в период 18-22 ноября 2019 года"
   ]
  },
  {
   "cell_type": "markdown",
   "id": "928c32c4",
   "metadata": {},
   "source": [
    "У нас данные для анализа в период с 02.08.2019 по 28.11.2019. Мы хотим проанализировать различие долей неэффективных операторов в будние дни и в выходные. Для проверки гипотезы взяли временной отрезов ближе к концу периода анализа, так как в это время уже представлено наибольшее число зарегистрированных колл-центров, нежели в начале анализируемого периода (например, август\\сентябрь). Опять же из-за размера выборки."
   ]
  },
  {
   "cell_type": "code",
   "execution_count": 113,
   "id": "89c67571",
   "metadata": {},
   "outputs": [
    {
     "data": {
      "text/plain": [
       "404"
      ]
     },
     "execution_count": 113,
     "metadata": {},
     "output_type": "execute_result"
    }
   ],
   "source": [
    "Hip2_16_17_ne = final.merge(data, on='operator_id') # найдем колтичество неэффективных операторов\n",
    "Hip2_16_17_ne = Hip2_16_17_ne.groupby('date').agg({'operator_id': 'count'}).reset_index()\n",
    "Hip2_16_17_ne = Hip2_16_17_ne.query('date == \"2019-11-16\" or date == \"2019-11-17\"')\n",
    "Hip2_16_17_ne = Hip2_16_17_ne['operator_id'].sum()\n",
    "Hip2_16_17_ne"
   ]
  },
  {
   "cell_type": "code",
   "execution_count": 114,
   "id": "7cb8607f",
   "metadata": {},
   "outputs": [
    {
     "data": {
      "text/plain": [
       "567"
      ]
     },
     "execution_count": 114,
     "metadata": {},
     "output_type": "execute_result"
    }
   ],
   "source": [
    "Hip2_16_17 = data.groupby('date').agg({'operator_id': 'count'}).reset_index() # найдем общее количество операторов в эти дни\n",
    "Hip2_16_17 = Hip2_16_17.query('date == \"2019-11-16\" or date == \"2019-11-17\"')\n",
    "Hip2_16_17 = Hip2_16_17['operator_id'].sum()\n",
    "Hip2_16_17"
   ]
  },
  {
   "cell_type": "code",
   "execution_count": 115,
   "id": "bbda2719",
   "metadata": {},
   "outputs": [
    {
     "data": {
      "text/plain": [
       "4361"
      ]
     },
     "execution_count": 115,
     "metadata": {},
     "output_type": "execute_result"
    }
   ],
   "source": [
    "Hip2_18_22_ne = final.merge(data, on='operator_id') # найдем количество неэффективных операторов\n",
    "Hip2_18_22_ne = Hip2_18_22_ne.groupby('date').agg({'operator_id': 'count'}).reset_index()\n",
    "Hip2_18_22_ne = Hip2_18_22_ne.query('date == \"2019-11-18\" or date == \"2019-11-19\" or date == \"2019-11-20\" or date == \"2019-11-21\" or date == \"2019-11-22\"')\n",
    "Hip2_18_22_ne = Hip2_18_22_ne['operator_id'].sum()\n",
    "Hip2_18_22_ne"
   ]
  },
  {
   "cell_type": "code",
   "execution_count": 116,
   "id": "5974eeb7",
   "metadata": {},
   "outputs": [
    {
     "data": {
      "text/plain": [
       "5063"
      ]
     },
     "execution_count": 116,
     "metadata": {},
     "output_type": "execute_result"
    }
   ],
   "source": [
    "Hip2_18_22 = data.groupby('date').agg({'operator_id': 'count'}).reset_index() # найдем общее количество операторов в эти дни\n",
    "Hip2_18_22 = Hip2_18_22.query('date == \"2019-11-18\" or date == \"2019-11-19\" or date == \"2019-11-20\" or date == \"2019-11-21\" or date == \"2019-11-22\"')\n",
    "Hip2_18_22 = Hip2_18_22['operator_id'].sum()\n",
    "Hip2_18_22"
   ]
  },
  {
   "cell_type": "code",
   "execution_count": 117,
   "id": "1133a0bc",
   "metadata": {},
   "outputs": [
    {
     "name": "stdout",
     "output_type": "stream",
     "text": [
      "p-значение:  0.0\n",
      "Отвергаем нулевую гипотезу\n"
     ]
    }
   ],
   "source": [
    "test(Hip2_16_17_ne, Hip2_18_22_ne, Hip2_16_17, Hip2_18_22)"
   ]
  },
  {
   "cell_type": "markdown",
   "id": "96d6898f",
   "metadata": {},
   "source": [
    "Вывод по гипотезам:\n",
    "- средняя доля неэффективных пользователей в будние дни и в выходные различна, как и ожидалось\n",
    "- напротив, средние доли в тарифах В и С не сильно отличаются. С вероятностью 20% можно получить одинаковые доли в среднем"
   ]
  },
  {
   "cell_type": "markdown",
   "id": "34283ecc",
   "metadata": {},
   "source": [
    "# Выводы"
   ]
  },
  {
   "cell_type": "markdown",
   "id": "2e876720",
   "metadata": {},
   "source": [
    "## Перечислим колл-центры с долей неэффектиных операторов в них, опишем по каким признакам их определяли"
   ]
  },
  {
   "cell_type": "markdown",
   "id": "6b09d25a",
   "metadata": {},
   "source": [
    "У нас получилось достаточное большое количество колл-центров с неэффектиными операторами.В общем сложности 256 колл-центров. В каждом из них есть от 100% до 0.1% неэффективных операторов от числа всех сотрудников. Есть коллцентры, в которых работает всего 1 оператор, и тот не является эффективным.\n",
    "\n",
    "Выведем таблицу с такими колл-центрами."
   ]
  },
  {
   "cell_type": "code",
   "execution_count": 118,
   "id": "5d17bf3c",
   "metadata": {},
   "outputs": [
    {
     "data": {
      "text/html": [
       "<div>\n",
       "<style scoped>\n",
       "    .dataframe tbody tr th:only-of-type {\n",
       "        vertical-align: middle;\n",
       "    }\n",
       "\n",
       "    .dataframe tbody tr th {\n",
       "        vertical-align: top;\n",
       "    }\n",
       "\n",
       "    .dataframe thead th {\n",
       "        text-align: right;\n",
       "    }\n",
       "</style>\n",
       "<table border=\"1\" class=\"dataframe\">\n",
       "  <thead>\n",
       "    <tr style=\"text-align: right;\">\n",
       "      <th></th>\n",
       "      <th>user_id</th>\n",
       "      <th>operator_id_x</th>\n",
       "      <th>operator_id_y</th>\n",
       "      <th>ratio</th>\n",
       "    </tr>\n",
       "  </thead>\n",
       "  <tbody>\n",
       "    <tr>\n",
       "      <th>285</th>\n",
       "      <td>166548</td>\n",
       "      <td>1</td>\n",
       "      <td>1</td>\n",
       "      <td>1.000000</td>\n",
       "    </tr>\n",
       "    <tr>\n",
       "      <th>277</th>\n",
       "      <td>168366</td>\n",
       "      <td>2</td>\n",
       "      <td>2</td>\n",
       "      <td>1.000000</td>\n",
       "    </tr>\n",
       "    <tr>\n",
       "      <th>284</th>\n",
       "      <td>168090</td>\n",
       "      <td>1</td>\n",
       "      <td>1</td>\n",
       "      <td>1.000000</td>\n",
       "    </tr>\n",
       "    <tr>\n",
       "      <th>283</th>\n",
       "      <td>166481</td>\n",
       "      <td>1</td>\n",
       "      <td>1</td>\n",
       "      <td>1.000000</td>\n",
       "    </tr>\n",
       "    <tr>\n",
       "      <th>282</th>\n",
       "      <td>168459</td>\n",
       "      <td>1</td>\n",
       "      <td>1</td>\n",
       "      <td>1.000000</td>\n",
       "    </tr>\n",
       "    <tr>\n",
       "      <th>...</th>\n",
       "      <td>...</td>\n",
       "      <td>...</td>\n",
       "      <td>...</td>\n",
       "      <td>...</td>\n",
       "    </tr>\n",
       "    <tr>\n",
       "      <th>60</th>\n",
       "      <td>167235</td>\n",
       "      <td>174</td>\n",
       "      <td>1</td>\n",
       "      <td>0.005747</td>\n",
       "    </tr>\n",
       "    <tr>\n",
       "      <th>54</th>\n",
       "      <td>166725</td>\n",
       "      <td>199</td>\n",
       "      <td>1</td>\n",
       "      <td>0.005025</td>\n",
       "    </tr>\n",
       "    <tr>\n",
       "      <th>52</th>\n",
       "      <td>166708</td>\n",
       "      <td>205</td>\n",
       "      <td>1</td>\n",
       "      <td>0.004878</td>\n",
       "    </tr>\n",
       "    <tr>\n",
       "      <th>50</th>\n",
       "      <td>166833</td>\n",
       "      <td>221</td>\n",
       "      <td>1</td>\n",
       "      <td>0.004525</td>\n",
       "    </tr>\n",
       "    <tr>\n",
       "      <th>9</th>\n",
       "      <td>166511</td>\n",
       "      <td>700</td>\n",
       "      <td>3</td>\n",
       "      <td>0.004286</td>\n",
       "    </tr>\n",
       "  </tbody>\n",
       "</table>\n",
       "<p>286 rows × 4 columns</p>\n",
       "</div>"
      ],
      "text/plain": [
       "     user_id  operator_id_x  operator_id_y     ratio\n",
       "285   166548              1              1  1.000000\n",
       "277   168366              2              2  1.000000\n",
       "284   168090              1              1  1.000000\n",
       "283   166481              1              1  1.000000\n",
       "282   168459              1              1  1.000000\n",
       "..       ...            ...            ...       ...\n",
       "60    167235            174              1  0.005747\n",
       "54    166725            199              1  0.005025\n",
       "52    166708            205              1  0.004878\n",
       "50    166833            221              1  0.004525\n",
       "9     166511            700              3  0.004286\n",
       "\n",
       "[286 rows x 4 columns]"
      ]
     },
     "execution_count": 118,
     "metadata": {},
     "output_type": "execute_result"
    }
   ],
   "source": [
    "data_.sort_values('ratio', ascending=False)"
   ]
  },
  {
   "cell_type": "markdown",
   "id": "8e4fb831",
   "metadata": {},
   "source": [
    "## Дадим оценку целесообразности разработки автоматизированный системы по определению неэффектиных операторов"
   ]
  },
  {
   "cell_type": "markdown",
   "id": "1858f67a",
   "metadata": {},
   "source": [
    "Для оценки неэффективности операторов мы использовали различные параметры: например, доля пропущенных звонков, количество входящих\\исходящих звонков в среднем, продолжительность ожидания для клиента в среднем. Мы опирались на данные в период от 02.08.2019 по 28.11.2019.\n",
    "\n",
    "При анализе данных было обнаружено следующее:\n",
    "\n",
    "Найдено 8172 из 53902 записей, в которых отсутствуют данные об id оператора. Без данного показателя нельзя наверняка сказать, эффективный оператор или нет, так как это единственный показатель, связывающий с конкретным сотрудником. \n",
    "\n",
    "В столбце, определяющим был ли звонок внутренним было также обнаружено 117 пропусков. Эти даннные нам пришлось удалить, так как их было < 1% и нельзя было их как-то однозначно заполнить.\n",
    "\n",
    "Также, были найдены записи о пропущенных звонках, где длительность звонка была больше ноля. Это не корректно. Если вызов пропущен, то длительность звонка должна быть 0. Такие данные нам тоже пришлось исключить, как ошибку при выгрузке данных.\n",
    "\n",
    "Информацию следует передать тех.специалистам для проверки корректности заполнения данных.\n",
    "\n",
    "Мы разделили все колл-центры на три категории, чтобы как-то стандартизировать критерии для работы операторов:\n",
    "- входящие колл-центры (кол-во входящих звонков > кол-ва исходящих)\n",
    "- исходящие колл-центры (кол-во исходящих звонков > кол-ва входящих)\n",
    "- промежуточные (разница между кол-вом входящих и исходящих вызовов в пределах 30%)\n",
    "\n",
    "Для определения эффективности работы операторов для каждого типа колл-центра мы использовали свои критерии:\n",
    "\n",
    "1) Для оценки работы операторов колл-центров типа входящие \n",
    "- число обработанных звонков < 12\n",
    "- большое время ожидания > 35 \n",
    "- большое кол-во пропущенных вызовов, доля > 0.3\n",
    "\n",
    "2) Для оценки работы операторов колл-центров типа исходящие\n",
    "- небольшое число совершенных вызовов < 19\n",
    "- большое кол-во пропущенных вызовов, доля > 0.5\n",
    "\n",
    "3) Для оценки работы операторов колл-центра типа промежуточные\n",
    "- небольшое число обработанных вызовов < 21\n",
    "- большое время ожидания > 35\n",
    "- большое кол-во пропущенных вызовов, доля > 0.5\n",
    "\n",
    "В итоге по результатам анализа мы получили:\n",
    "\n",
    "- 1029 неэффективных оператора\n",
    "- работающих в 286 колл-центрах\n",
    "- доля неэффектиных операторов в каждом колл-центре имеет разброс от 0.1 до 100%\n",
    "\n",
    "Такое большое количество неэффективных операторов объясняется большим количеством операторов, совершивших за весь период по 1-2 звонка. \n",
    "\n",
    "При проверки статистических гипотез мы воявили, что операторы работают с разной эффективностью в будни и в выходные. Однако, при сравнении средней доли неэффективных операторов в тарифах В и С обнаружили, что с вероятностью 20% можно получить одинаковые доли.\n",
    "\n",
    "Причинами появления неэффективных операторов может быть:\n",
    "\n",
    "- специфика работы - возможно, некоторые вопросы клиентов требуют более детальной проработки вопроса, в связи с этим долгое ожидание. В таком случае можно подумать над оптимизацией процессов (например, написание различных инструкций или создание базы данных ответов на вопросы пользователей)\n",
    "\n",
    "- личные качества сотрудника. Возможно ему действительно сложно по каким-то причинам обрабатывать или совершать звонки и стоит подумать о смене сферы деятельности\n",
    "\n",
    "Рекомендации:\n",
    "\n",
    "- добавить всплывающее окно с кратким резюме по итогу разговора (обработан клиент\\нет, сорвался звонок, проведена консультация и т.д.). Данное решение сильно упростило бы анализ работы сотрудников, так как было бы понимание итога разговора\n",
    "\n",
    "- с учетом того, что у нас получилась довольно большая доля неэффективных операторов, можно смело рекомендовать разбработку софта для регулярного анализа эффективности работы сотрудников. Благодаря этому клиенты колл-центра будут обслужены лучшим образом, а сами колл-центры смогут понимать аналитику работы их операторов (для начисления з\\п, бонусов\\штрафов и т.д.)"
   ]
  },
  {
   "cell_type": "code",
   "execution_count": null,
   "id": "28424eb5",
   "metadata": {},
   "outputs": [],
   "source": []
  }
 ],
 "metadata": {
  "ExecuteTimeLog": [
   {
    "duration": 258,
    "start_time": "2022-08-29T13:39:36.348Z"
   },
   {
    "duration": 1283,
    "start_time": "2022-08-29T13:50:47.137Z"
   },
   {
    "duration": 107,
    "start_time": "2022-08-29T13:50:48.422Z"
   },
   {
    "duration": 16,
    "start_time": "2022-08-29T13:50:48.531Z"
   },
   {
    "duration": 20,
    "start_time": "2022-08-29T13:50:48.549Z"
   },
   {
    "duration": 27,
    "start_time": "2022-08-29T13:50:48.571Z"
   },
   {
    "duration": 59,
    "start_time": "2022-08-29T13:50:48.599Z"
   },
   {
    "duration": 14,
    "start_time": "2022-08-29T13:50:48.659Z"
   },
   {
    "duration": 9,
    "start_time": "2022-08-29T13:50:48.674Z"
   },
   {
    "duration": 12,
    "start_time": "2022-08-29T13:50:48.685Z"
   },
   {
    "duration": 20,
    "start_time": "2022-08-29T13:50:48.699Z"
   },
   {
    "duration": 18,
    "start_time": "2022-08-29T13:50:48.756Z"
   },
   {
    "duration": 25,
    "start_time": "2022-08-29T13:50:48.776Z"
   },
   {
    "duration": 31,
    "start_time": "2022-08-29T13:50:48.803Z"
   },
   {
    "duration": 46,
    "start_time": "2022-08-29T13:50:48.835Z"
   },
   {
    "duration": 20,
    "start_time": "2022-08-29T13:50:48.883Z"
   },
   {
    "duration": 125,
    "start_time": "2022-08-29T13:50:48.905Z"
   },
   {
    "duration": 106,
    "start_time": "2022-08-29T13:50:49.032Z"
   },
   {
    "duration": 95,
    "start_time": "2022-08-29T13:50:49.140Z"
   },
   {
    "duration": 28,
    "start_time": "2022-08-29T13:50:49.236Z"
   },
   {
    "duration": 18,
    "start_time": "2022-08-29T13:50:49.265Z"
   },
   {
    "duration": 16,
    "start_time": "2022-08-29T13:50:49.284Z"
   },
   {
    "duration": 22,
    "start_time": "2022-08-29T13:50:49.301Z"
   },
   {
    "duration": 36,
    "start_time": "2022-08-29T13:50:49.325Z"
   },
   {
    "duration": 4,
    "start_time": "2022-08-29T13:50:49.362Z"
   },
   {
    "duration": 21,
    "start_time": "2022-08-29T13:50:49.367Z"
   },
   {
    "duration": 34,
    "start_time": "2022-08-29T13:50:49.390Z"
   },
   {
    "duration": 53,
    "start_time": "2022-08-29T13:50:49.426Z"
   },
   {
    "duration": 31,
    "start_time": "2022-08-29T13:50:49.483Z"
   },
   {
    "duration": 18,
    "start_time": "2022-08-29T13:50:49.515Z"
   },
   {
    "duration": 37,
    "start_time": "2022-08-29T13:50:49.534Z"
   },
   {
    "duration": 19,
    "start_time": "2022-08-29T13:50:49.572Z"
   },
   {
    "duration": 16,
    "start_time": "2022-08-29T13:50:49.593Z"
   },
   {
    "duration": 231,
    "start_time": "2022-08-29T13:50:49.610Z"
   },
   {
    "duration": 18,
    "start_time": "2022-08-29T13:50:49.843Z"
   },
   {
    "duration": 25,
    "start_time": "2022-08-29T13:50:49.863Z"
   },
   {
    "duration": 225,
    "start_time": "2022-08-29T13:50:49.890Z"
   },
   {
    "duration": 10,
    "start_time": "2022-08-29T13:50:50.116Z"
   },
   {
    "duration": 14,
    "start_time": "2022-08-29T13:50:50.128Z"
   },
   {
    "duration": 11,
    "start_time": "2022-08-29T13:50:50.154Z"
   },
   {
    "duration": 18,
    "start_time": "2022-08-29T13:50:50.167Z"
   },
   {
    "duration": 8,
    "start_time": "2022-08-29T13:50:50.186Z"
   },
   {
    "duration": 15,
    "start_time": "2022-08-29T13:50:50.195Z"
   },
   {
    "duration": 11,
    "start_time": "2022-08-29T13:50:50.212Z"
   },
   {
    "duration": 11,
    "start_time": "2022-08-29T13:50:50.255Z"
   },
   {
    "duration": 20,
    "start_time": "2022-08-29T13:50:50.268Z"
   },
   {
    "duration": 7,
    "start_time": "2022-08-29T13:50:50.292Z"
   },
   {
    "duration": 13,
    "start_time": "2022-08-29T13:50:50.301Z"
   },
   {
    "duration": 43,
    "start_time": "2022-08-29T13:50:50.315Z"
   },
   {
    "duration": 12,
    "start_time": "2022-08-29T13:50:50.360Z"
   },
   {
    "duration": 140,
    "start_time": "2022-08-29T13:50:50.374Z"
   },
   {
    "duration": 217,
    "start_time": "2022-08-29T13:50:50.516Z"
   },
   {
    "duration": 145,
    "start_time": "2022-08-29T13:50:50.735Z"
   },
   {
    "duration": 11,
    "start_time": "2022-08-29T13:50:50.882Z"
   },
   {
    "duration": 11,
    "start_time": "2022-08-29T13:50:50.895Z"
   },
   {
    "duration": 19,
    "start_time": "2022-08-29T13:50:50.908Z"
   },
   {
    "duration": 27,
    "start_time": "2022-08-29T13:50:50.929Z"
   },
   {
    "duration": 32,
    "start_time": "2022-08-29T13:50:50.957Z"
   },
   {
    "duration": 9,
    "start_time": "2022-08-29T13:50:50.991Z"
   },
   {
    "duration": 9,
    "start_time": "2022-08-29T13:50:51.002Z"
   },
   {
    "duration": 57,
    "start_time": "2022-08-29T13:50:51.013Z"
   },
   {
    "duration": 20,
    "start_time": "2022-08-29T13:50:51.072Z"
   },
   {
    "duration": 14,
    "start_time": "2022-08-29T13:50:51.093Z"
   },
   {
    "duration": 150,
    "start_time": "2022-08-29T13:50:51.109Z"
   },
   {
    "duration": 156,
    "start_time": "2022-08-29T13:50:51.261Z"
   },
   {
    "duration": 141,
    "start_time": "2022-08-29T13:50:51.419Z"
   },
   {
    "duration": 20,
    "start_time": "2022-08-29T13:50:51.563Z"
   },
   {
    "duration": 12,
    "start_time": "2022-08-29T13:50:51.585Z"
   },
   {
    "duration": 6,
    "start_time": "2022-08-29T13:50:51.598Z"
   },
   {
    "duration": 52,
    "start_time": "2022-08-29T13:50:51.606Z"
   },
   {
    "duration": 4,
    "start_time": "2022-08-29T13:50:51.660Z"
   },
   {
    "duration": 13,
    "start_time": "2022-08-29T13:50:51.665Z"
   },
   {
    "duration": 11,
    "start_time": "2022-08-29T13:50:51.679Z"
   },
   {
    "duration": 11,
    "start_time": "2022-08-29T13:50:51.692Z"
   },
   {
    "duration": 13,
    "start_time": "2022-08-29T13:50:51.704Z"
   },
   {
    "duration": 37,
    "start_time": "2022-08-29T13:50:51.719Z"
   },
   {
    "duration": 4,
    "start_time": "2022-08-29T13:50:51.757Z"
   },
   {
    "duration": 196,
    "start_time": "2022-08-29T13:50:51.763Z"
   },
   {
    "duration": 6,
    "start_time": "2022-08-29T13:50:51.961Z"
   },
   {
    "duration": 17,
    "start_time": "2022-08-29T13:50:51.969Z"
   },
   {
    "duration": 17,
    "start_time": "2022-08-29T13:50:51.988Z"
   },
   {
    "duration": 13,
    "start_time": "2022-08-29T13:50:52.006Z"
   },
   {
    "duration": 5,
    "start_time": "2022-08-29T13:50:52.054Z"
   },
   {
    "duration": 119,
    "start_time": "2022-08-29T13:50:52.060Z"
   },
   {
    "duration": 0,
    "start_time": "2022-08-29T13:50:52.181Z"
   },
   {
    "duration": 0,
    "start_time": "2022-08-29T13:50:52.182Z"
   },
   {
    "duration": 0,
    "start_time": "2022-08-29T13:50:52.183Z"
   },
   {
    "duration": 3,
    "start_time": "2022-08-29T13:56:55.242Z"
   },
   {
    "duration": 136,
    "start_time": "2022-08-29T13:56:55.247Z"
   },
   {
    "duration": 16,
    "start_time": "2022-08-29T13:56:55.385Z"
   },
   {
    "duration": 48,
    "start_time": "2022-08-29T13:56:55.403Z"
   },
   {
    "duration": 36,
    "start_time": "2022-08-29T13:56:55.456Z"
   },
   {
    "duration": 78,
    "start_time": "2022-08-29T13:56:55.493Z"
   },
   {
    "duration": 17,
    "start_time": "2022-08-29T13:56:55.573Z"
   },
   {
    "duration": 35,
    "start_time": "2022-08-29T13:56:55.592Z"
   },
   {
    "duration": 27,
    "start_time": "2022-08-29T13:56:55.628Z"
   },
   {
    "duration": 40,
    "start_time": "2022-08-29T13:56:55.657Z"
   },
   {
    "duration": 36,
    "start_time": "2022-08-29T13:56:55.700Z"
   },
   {
    "duration": 30,
    "start_time": "2022-08-29T13:56:55.737Z"
   },
   {
    "duration": 56,
    "start_time": "2022-08-29T13:56:55.768Z"
   },
   {
    "duration": 33,
    "start_time": "2022-08-29T13:56:55.826Z"
   },
   {
    "duration": 49,
    "start_time": "2022-08-29T13:56:55.861Z"
   },
   {
    "duration": 127,
    "start_time": "2022-08-29T13:56:55.911Z"
   },
   {
    "duration": 100,
    "start_time": "2022-08-29T13:56:56.039Z"
   },
   {
    "duration": 104,
    "start_time": "2022-08-29T13:56:56.141Z"
   },
   {
    "duration": 24,
    "start_time": "2022-08-29T13:56:56.246Z"
   },
   {
    "duration": 27,
    "start_time": "2022-08-29T13:56:56.272Z"
   },
   {
    "duration": 21,
    "start_time": "2022-08-29T13:56:56.300Z"
   },
   {
    "duration": 49,
    "start_time": "2022-08-29T13:56:56.323Z"
   },
   {
    "duration": 19,
    "start_time": "2022-08-29T13:56:56.375Z"
   },
   {
    "duration": 7,
    "start_time": "2022-08-29T13:56:56.397Z"
   },
   {
    "duration": 47,
    "start_time": "2022-08-29T13:56:56.406Z"
   },
   {
    "duration": 68,
    "start_time": "2022-08-29T13:56:56.455Z"
   },
   {
    "duration": 40,
    "start_time": "2022-08-29T13:56:56.524Z"
   },
   {
    "duration": 33,
    "start_time": "2022-08-29T13:56:56.565Z"
   },
   {
    "duration": 18,
    "start_time": "2022-08-29T13:56:56.602Z"
   },
   {
    "duration": 35,
    "start_time": "2022-08-29T13:56:56.621Z"
   },
   {
    "duration": 29,
    "start_time": "2022-08-29T13:56:56.658Z"
   },
   {
    "duration": 25,
    "start_time": "2022-08-29T13:56:56.688Z"
   },
   {
    "duration": 251,
    "start_time": "2022-08-29T13:56:56.714Z"
   },
   {
    "duration": 11,
    "start_time": "2022-08-29T13:56:56.966Z"
   },
   {
    "duration": 64,
    "start_time": "2022-08-29T13:56:56.979Z"
   },
   {
    "duration": 320,
    "start_time": "2022-08-29T13:56:57.045Z"
   },
   {
    "duration": 11,
    "start_time": "2022-08-29T13:56:57.367Z"
   },
   {
    "duration": 47,
    "start_time": "2022-08-29T13:56:57.379Z"
   },
   {
    "duration": 44,
    "start_time": "2022-08-29T13:56:57.428Z"
   },
   {
    "duration": 60,
    "start_time": "2022-08-29T13:56:57.474Z"
   },
   {
    "duration": 11,
    "start_time": "2022-08-29T13:56:57.537Z"
   },
   {
    "duration": 49,
    "start_time": "2022-08-29T13:56:57.549Z"
   },
   {
    "duration": 25,
    "start_time": "2022-08-29T13:56:57.600Z"
   },
   {
    "duration": 36,
    "start_time": "2022-08-29T13:56:57.627Z"
   },
   {
    "duration": 47,
    "start_time": "2022-08-29T13:56:57.666Z"
   },
   {
    "duration": 18,
    "start_time": "2022-08-29T13:56:57.715Z"
   },
   {
    "duration": 49,
    "start_time": "2022-08-29T13:56:57.735Z"
   },
   {
    "duration": 27,
    "start_time": "2022-08-29T13:56:57.786Z"
   },
   {
    "duration": 19,
    "start_time": "2022-08-29T13:56:57.814Z"
   },
   {
    "duration": 152,
    "start_time": "2022-08-29T13:56:57.835Z"
   },
   {
    "duration": 172,
    "start_time": "2022-08-29T13:56:57.989Z"
   },
   {
    "duration": 135,
    "start_time": "2022-08-29T13:56:58.162Z"
   },
   {
    "duration": 11,
    "start_time": "2022-08-29T13:56:58.298Z"
   },
   {
    "duration": 17,
    "start_time": "2022-08-29T13:56:58.311Z"
   },
   {
    "duration": 29,
    "start_time": "2022-08-29T13:56:58.330Z"
   },
   {
    "duration": 11,
    "start_time": "2022-08-29T13:56:58.361Z"
   },
   {
    "duration": 31,
    "start_time": "2022-08-29T13:56:58.373Z"
   },
   {
    "duration": 8,
    "start_time": "2022-08-29T13:56:58.405Z"
   },
   {
    "duration": 9,
    "start_time": "2022-08-29T13:56:58.414Z"
   },
   {
    "duration": 37,
    "start_time": "2022-08-29T13:56:58.424Z"
   },
   {
    "duration": 25,
    "start_time": "2022-08-29T13:56:58.463Z"
   },
   {
    "duration": 11,
    "start_time": "2022-08-29T13:56:58.490Z"
   },
   {
    "duration": 137,
    "start_time": "2022-08-29T13:56:58.503Z"
   },
   {
    "duration": 134,
    "start_time": "2022-08-29T13:56:58.641Z"
   },
   {
    "duration": 122,
    "start_time": "2022-08-29T13:56:58.776Z"
   },
   {
    "duration": 15,
    "start_time": "2022-08-29T13:56:58.900Z"
   },
   {
    "duration": 12,
    "start_time": "2022-08-29T13:56:58.916Z"
   },
   {
    "duration": 16,
    "start_time": "2022-08-29T13:56:58.930Z"
   },
   {
    "duration": 23,
    "start_time": "2022-08-29T13:56:58.947Z"
   },
   {
    "duration": 3,
    "start_time": "2022-08-29T13:56:58.971Z"
   },
   {
    "duration": 17,
    "start_time": "2022-08-29T13:56:58.975Z"
   },
   {
    "duration": 19,
    "start_time": "2022-08-29T13:56:58.993Z"
   },
   {
    "duration": 10,
    "start_time": "2022-08-29T13:56:59.013Z"
   },
   {
    "duration": 31,
    "start_time": "2022-08-29T13:56:59.024Z"
   },
   {
    "duration": 10,
    "start_time": "2022-08-29T13:56:59.057Z"
   },
   {
    "duration": 3,
    "start_time": "2022-08-29T13:56:59.068Z"
   },
   {
    "duration": 202,
    "start_time": "2022-08-29T13:56:59.072Z"
   },
   {
    "duration": 9,
    "start_time": "2022-08-29T13:56:59.277Z"
   },
   {
    "duration": 20,
    "start_time": "2022-08-29T13:56:59.289Z"
   },
   {
    "duration": 32,
    "start_time": "2022-08-29T13:56:59.311Z"
   },
   {
    "duration": 20,
    "start_time": "2022-08-29T13:56:59.355Z"
   },
   {
    "duration": 9,
    "start_time": "2022-08-29T13:56:59.377Z"
   },
   {
    "duration": 33,
    "start_time": "2022-08-29T13:56:59.393Z"
   },
   {
    "duration": 0,
    "start_time": "2022-08-29T13:56:59.428Z"
   },
   {
    "duration": 0,
    "start_time": "2022-08-29T13:56:59.429Z"
   },
   {
    "duration": 0,
    "start_time": "2022-08-29T13:56:59.431Z"
   },
   {
    "duration": 10,
    "start_time": "2022-08-29T14:09:17.074Z"
   },
   {
    "duration": 1407,
    "start_time": "2022-08-31T16:25:16.731Z"
   },
   {
    "duration": 235,
    "start_time": "2022-08-31T16:25:18.140Z"
   },
   {
    "duration": 24,
    "start_time": "2022-08-31T16:25:18.377Z"
   },
   {
    "duration": 22,
    "start_time": "2022-08-31T16:25:18.403Z"
   },
   {
    "duration": 31,
    "start_time": "2022-08-31T16:25:18.426Z"
   },
   {
    "duration": 89,
    "start_time": "2022-08-31T16:25:18.458Z"
   },
   {
    "duration": 13,
    "start_time": "2022-08-31T16:25:18.549Z"
   },
   {
    "duration": 68,
    "start_time": "2022-08-31T16:25:18.563Z"
   },
   {
    "duration": 54,
    "start_time": "2022-08-31T16:25:18.632Z"
   },
   {
    "duration": 22,
    "start_time": "2022-08-31T16:25:18.689Z"
   },
   {
    "duration": 25,
    "start_time": "2022-08-31T16:25:18.712Z"
   },
   {
    "duration": 62,
    "start_time": "2022-08-31T16:25:18.739Z"
   },
   {
    "duration": 52,
    "start_time": "2022-08-31T16:25:18.803Z"
   },
   {
    "duration": 43,
    "start_time": "2022-08-31T16:25:18.857Z"
   },
   {
    "duration": 129,
    "start_time": "2022-08-31T16:25:18.903Z"
   },
   {
    "duration": 187,
    "start_time": "2022-08-31T16:25:19.033Z"
   },
   {
    "duration": 136,
    "start_time": "2022-08-31T16:25:19.222Z"
   },
   {
    "duration": 32,
    "start_time": "2022-08-31T16:25:19.359Z"
   },
   {
    "duration": 24,
    "start_time": "2022-08-31T16:25:19.393Z"
   },
   {
    "duration": 28,
    "start_time": "2022-08-31T16:25:19.419Z"
   },
   {
    "duration": 59,
    "start_time": "2022-08-31T16:25:19.449Z"
   },
   {
    "duration": 16,
    "start_time": "2022-08-31T16:25:19.510Z"
   },
   {
    "duration": 5,
    "start_time": "2022-08-31T16:25:19.528Z"
   },
   {
    "duration": 28,
    "start_time": "2022-08-31T16:25:19.535Z"
   },
   {
    "duration": 45,
    "start_time": "2022-08-31T16:25:19.585Z"
   },
   {
    "duration": 54,
    "start_time": "2022-08-31T16:25:19.631Z"
   },
   {
    "duration": 48,
    "start_time": "2022-08-31T16:25:19.688Z"
   },
   {
    "duration": 165,
    "start_time": "2022-08-31T16:25:19.742Z"
   },
   {
    "duration": 30,
    "start_time": "2022-08-31T16:25:19.910Z"
   },
   {
    "duration": 43,
    "start_time": "2022-08-31T16:25:19.943Z"
   },
   {
    "duration": 25,
    "start_time": "2022-08-31T16:25:19.988Z"
   },
   {
    "duration": 19,
    "start_time": "2022-08-31T16:25:20.015Z"
   },
   {
    "duration": 18,
    "start_time": "2022-08-31T16:25:20.036Z"
   },
   {
    "duration": 305,
    "start_time": "2022-08-31T16:25:20.056Z"
   },
   {
    "duration": 364,
    "start_time": "2022-08-31T16:25:20.363Z"
   },
   {
    "duration": 4,
    "start_time": "2022-08-31T16:25:20.729Z"
   },
   {
    "duration": 8,
    "start_time": "2022-08-31T16:25:20.735Z"
   },
   {
    "duration": 22,
    "start_time": "2022-08-31T16:25:20.744Z"
   },
   {
    "duration": 21,
    "start_time": "2022-08-31T16:25:20.768Z"
   },
   {
    "duration": 195,
    "start_time": "2022-08-31T16:25:20.791Z"
   },
   {
    "duration": 20,
    "start_time": "2022-08-31T16:25:20.988Z"
   },
   {
    "duration": 11,
    "start_time": "2022-08-31T16:25:21.010Z"
   },
   {
    "duration": 7,
    "start_time": "2022-08-31T16:25:21.023Z"
   },
   {
    "duration": 18,
    "start_time": "2022-08-31T16:25:21.032Z"
   },
   {
    "duration": 48,
    "start_time": "2022-08-31T16:25:21.053Z"
   },
   {
    "duration": 17,
    "start_time": "2022-08-31T16:25:21.102Z"
   },
   {
    "duration": 13,
    "start_time": "2022-08-31T16:25:21.121Z"
   },
   {
    "duration": 13,
    "start_time": "2022-08-31T16:25:21.136Z"
   },
   {
    "duration": 36,
    "start_time": "2022-08-31T16:25:21.151Z"
   },
   {
    "duration": 17,
    "start_time": "2022-08-31T16:25:21.189Z"
   },
   {
    "duration": 18,
    "start_time": "2022-08-31T16:25:21.208Z"
   },
   {
    "duration": 18,
    "start_time": "2022-08-31T16:25:21.228Z"
   },
   {
    "duration": 14,
    "start_time": "2022-08-31T16:25:21.248Z"
   },
   {
    "duration": 27,
    "start_time": "2022-08-31T16:25:21.264Z"
   },
   {
    "duration": 23,
    "start_time": "2022-08-31T16:25:21.293Z"
   },
   {
    "duration": 10,
    "start_time": "2022-08-31T16:25:21.318Z"
   },
   {
    "duration": 8,
    "start_time": "2022-08-31T16:25:21.330Z"
   },
   {
    "duration": 45,
    "start_time": "2022-08-31T16:25:21.340Z"
   },
   {
    "duration": 13,
    "start_time": "2022-08-31T16:25:21.388Z"
   },
   {
    "duration": 14,
    "start_time": "2022-08-31T16:25:21.404Z"
   },
   {
    "duration": 11,
    "start_time": "2022-08-31T16:25:21.420Z"
   },
   {
    "duration": 23,
    "start_time": "2022-08-31T16:25:21.433Z"
   },
   {
    "duration": 48,
    "start_time": "2022-08-31T16:25:21.458Z"
   },
   {
    "duration": 211,
    "start_time": "2022-08-31T16:25:21.508Z"
   },
   {
    "duration": 198,
    "start_time": "2022-08-31T16:25:21.721Z"
   },
   {
    "duration": 191,
    "start_time": "2022-08-31T16:25:21.921Z"
   },
   {
    "duration": 4,
    "start_time": "2022-08-31T16:25:22.114Z"
   },
   {
    "duration": 23,
    "start_time": "2022-08-31T16:25:22.119Z"
   },
   {
    "duration": 4,
    "start_time": "2022-08-31T16:25:22.144Z"
   },
   {
    "duration": 187,
    "start_time": "2022-08-31T16:25:22.150Z"
   },
   {
    "duration": 13,
    "start_time": "2022-08-31T16:25:22.339Z"
   },
   {
    "duration": 192,
    "start_time": "2022-08-31T16:25:22.354Z"
   },
   {
    "duration": 11,
    "start_time": "2022-08-31T16:25:22.548Z"
   },
   {
    "duration": 7,
    "start_time": "2022-08-31T16:25:22.561Z"
   },
   {
    "duration": 22,
    "start_time": "2022-08-31T16:25:22.585Z"
   },
   {
    "duration": 7,
    "start_time": "2022-08-31T16:25:22.609Z"
   },
   {
    "duration": 16,
    "start_time": "2022-08-31T16:25:22.618Z"
   },
   {
    "duration": 16,
    "start_time": "2022-08-31T16:25:22.635Z"
   },
   {
    "duration": 48,
    "start_time": "2022-08-31T16:25:22.653Z"
   },
   {
    "duration": 14,
    "start_time": "2022-08-31T16:25:22.703Z"
   },
   {
    "duration": 10,
    "start_time": "2022-08-31T16:25:22.719Z"
   },
   {
    "duration": 20,
    "start_time": "2022-08-31T16:25:22.735Z"
   },
   {
    "duration": 32,
    "start_time": "2022-08-31T16:25:22.757Z"
   },
   {
    "duration": 28,
    "start_time": "2022-08-31T16:25:22.791Z"
   },
   {
    "duration": 30,
    "start_time": "2022-08-31T16:25:22.821Z"
   },
   {
    "duration": 38,
    "start_time": "2022-08-31T16:25:22.852Z"
   },
   {
    "duration": 197,
    "start_time": "2022-08-31T16:25:22.892Z"
   },
   {
    "duration": 196,
    "start_time": "2022-08-31T16:25:23.091Z"
   },
   {
    "duration": 171,
    "start_time": "2022-08-31T16:25:23.289Z"
   },
   {
    "duration": 4,
    "start_time": "2022-08-31T16:25:23.462Z"
   },
   {
    "duration": 31,
    "start_time": "2022-08-31T16:25:23.468Z"
   },
   {
    "duration": 11,
    "start_time": "2022-08-31T16:25:23.501Z"
   },
   {
    "duration": 180,
    "start_time": "2022-08-31T16:25:23.514Z"
   },
   {
    "duration": 21,
    "start_time": "2022-08-31T16:25:23.696Z"
   },
   {
    "duration": 15,
    "start_time": "2022-08-31T16:25:23.719Z"
   },
   {
    "duration": 15,
    "start_time": "2022-08-31T16:25:23.736Z"
   },
   {
    "duration": 4,
    "start_time": "2022-08-31T16:25:23.752Z"
   },
   {
    "duration": 34,
    "start_time": "2022-08-31T16:25:23.786Z"
   },
   {
    "duration": 653,
    "start_time": "2022-08-31T16:25:23.821Z"
   },
   {
    "duration": 14,
    "start_time": "2022-08-31T16:25:24.476Z"
   },
   {
    "duration": 24,
    "start_time": "2022-08-31T16:25:24.492Z"
   },
   {
    "duration": 13,
    "start_time": "2022-08-31T16:25:24.518Z"
   },
   {
    "duration": 19,
    "start_time": "2022-08-31T16:25:24.533Z"
   },
   {
    "duration": 75,
    "start_time": "2022-08-31T16:25:24.554Z"
   },
   {
    "duration": 17,
    "start_time": "2022-08-31T16:25:24.632Z"
   },
   {
    "duration": 10,
    "start_time": "2022-08-31T16:25:24.651Z"
   },
   {
    "duration": 320,
    "start_time": "2022-08-31T16:25:24.663Z"
   },
   {
    "duration": 16,
    "start_time": "2022-08-31T16:25:24.985Z"
   },
   {
    "duration": 20,
    "start_time": "2022-08-31T16:25:25.003Z"
   },
   {
    "duration": 40,
    "start_time": "2022-08-31T16:25:25.025Z"
   },
   {
    "duration": 36,
    "start_time": "2022-08-31T16:25:25.067Z"
   },
   {
    "duration": 34,
    "start_time": "2022-08-31T16:25:25.104Z"
   },
   {
    "duration": 49,
    "start_time": "2022-08-31T16:25:25.139Z"
   },
   {
    "duration": 24,
    "start_time": "2022-08-31T16:25:25.190Z"
   },
   {
    "duration": 28,
    "start_time": "2022-08-31T16:25:25.215Z"
   },
   {
    "duration": 14,
    "start_time": "2022-08-31T16:25:25.244Z"
   },
   {
    "duration": 26,
    "start_time": "2022-08-31T16:25:25.260Z"
   },
   {
    "duration": 36,
    "start_time": "2022-08-31T16:25:25.287Z"
   }
  ],
  "kernelspec": {
   "display_name": "Python 3 (ipykernel)",
   "language": "python",
   "name": "python3"
  },
  "language_info": {
   "codemirror_mode": {
    "name": "ipython",
    "version": 3
   },
   "file_extension": ".py",
   "mimetype": "text/x-python",
   "name": "python",
   "nbconvert_exporter": "python",
   "pygments_lexer": "ipython3",
   "version": "3.9.7"
  },
  "toc": {
   "base_numbering": 1,
   "nav_menu": {},
   "number_sections": true,
   "sideBar": true,
   "skip_h1_title": false,
   "title_cell": "Table of Contents",
   "title_sidebar": "Contents",
   "toc_cell": false,
   "toc_position": {
    "height": "calc(100% - 180px)",
    "left": "10px",
    "top": "150px",
    "width": "212.825px"
   },
   "toc_section_display": true,
   "toc_window_display": true
  }
 },
 "nbformat": 4,
 "nbformat_minor": 5
}
