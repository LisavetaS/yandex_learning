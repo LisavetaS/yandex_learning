{
 "cells": [
  {
   "cell_type": "markdown",
   "metadata": {},
   "source": [
    "# Описание проекта Принятие решений в бизнесе\n",
    "\n",
    "Вы — аналитик крупного интернет-магазина. Вместе с отделом маркетинга вы подготовили список гипотез для увеличения выручки.\n",
    "Приоритизируйте гипотезы, запустите A/B-тест и проанализируйте результаты."
   ]
  },
  {
   "cell_type": "markdown",
   "metadata": {},
   "source": [
    "## Приоритизация гипотез"
   ]
  },
  {
   "cell_type": "code",
   "execution_count": 61,
   "metadata": {},
   "outputs": [],
   "source": [
    "# импортируем все нужные библиотеки\n",
    "\n",
    "import pandas as pd\n",
    "import matplotlib.pyplot as plt\n",
    "import seaborn as sns\n",
    "import scipy.stats as stats\n",
    "import datetime as dt\n",
    "import numpy as np"
   ]
  },
  {
   "cell_type": "code",
   "execution_count": 62,
   "metadata": {},
   "outputs": [
    {
     "data": {
      "text/html": [
       "<div>\n",
       "<style scoped>\n",
       "    .dataframe tbody tr th:only-of-type {\n",
       "        vertical-align: middle;\n",
       "    }\n",
       "\n",
       "    .dataframe tbody tr th {\n",
       "        vertical-align: top;\n",
       "    }\n",
       "\n",
       "    .dataframe thead th {\n",
       "        text-align: right;\n",
       "    }\n",
       "</style>\n",
       "<table border=\"1\" class=\"dataframe\">\n",
       "  <thead>\n",
       "    <tr style=\"text-align: right;\">\n",
       "      <th></th>\n",
       "      <th>Hypothesis</th>\n",
       "      <th>Reach</th>\n",
       "      <th>Impact</th>\n",
       "      <th>Confidence</th>\n",
       "      <th>Efforts</th>\n",
       "    </tr>\n",
       "  </thead>\n",
       "  <tbody>\n",
       "    <tr>\n",
       "      <th>0</th>\n",
       "      <td>Добавить два новых канала привлечения трафика, что позволит привлекать на 30% больше пользователей</td>\n",
       "      <td>3</td>\n",
       "      <td>10</td>\n",
       "      <td>8</td>\n",
       "      <td>6</td>\n",
       "    </tr>\n",
       "    <tr>\n",
       "      <th>1</th>\n",
       "      <td>Запустить собственную службу доставки, что сократит срок доставки заказов</td>\n",
       "      <td>2</td>\n",
       "      <td>5</td>\n",
       "      <td>4</td>\n",
       "      <td>10</td>\n",
       "    </tr>\n",
       "    <tr>\n",
       "      <th>2</th>\n",
       "      <td>Добавить блоки рекомендаций товаров на сайт интернет магазина, чтобы повысить конверсию и средний чек заказа</td>\n",
       "      <td>8</td>\n",
       "      <td>3</td>\n",
       "      <td>7</td>\n",
       "      <td>3</td>\n",
       "    </tr>\n",
       "    <tr>\n",
       "      <th>3</th>\n",
       "      <td>Изменить структура категорий, что увеличит конверсию, т.к. пользователи быстрее найдут нужный товар</td>\n",
       "      <td>8</td>\n",
       "      <td>3</td>\n",
       "      <td>3</td>\n",
       "      <td>8</td>\n",
       "    </tr>\n",
       "    <tr>\n",
       "      <th>4</th>\n",
       "      <td>Изменить цвет фона главной страницы, чтобы увеличить вовлеченность пользователей</td>\n",
       "      <td>3</td>\n",
       "      <td>1</td>\n",
       "      <td>1</td>\n",
       "      <td>1</td>\n",
       "    </tr>\n",
       "  </tbody>\n",
       "</table>\n",
       "</div>"
      ],
      "text/plain": [
       "                                                                                                     Hypothesis  \\\n",
       "0            Добавить два новых канала привлечения трафика, что позволит привлекать на 30% больше пользователей   \n",
       "1                                     Запустить собственную службу доставки, что сократит срок доставки заказов   \n",
       "2  Добавить блоки рекомендаций товаров на сайт интернет магазина, чтобы повысить конверсию и средний чек заказа   \n",
       "3           Изменить структура категорий, что увеличит конверсию, т.к. пользователи быстрее найдут нужный товар   \n",
       "4                              Изменить цвет фона главной страницы, чтобы увеличить вовлеченность пользователей   \n",
       "\n",
       "   Reach  Impact  Confidence  Efforts  \n",
       "0      3      10           8        6  \n",
       "1      2       5           4       10  \n",
       "2      8       3           7        3  \n",
       "3      8       3           3        8  \n",
       "4      3       1           1        1  "
      ]
     },
     "execution_count": 62,
     "metadata": {},
     "output_type": "execute_result"
    }
   ],
   "source": [
    "hypothesis = pd.read_csv('/datasets/hypothesis.csv', sep=',') \n",
    "hypothesis.head()"
   ]
  },
  {
   "cell_type": "markdown",
   "metadata": {},
   "source": [
    "Применим фреймворк ICE для приоритизации гипотез. Отсортируем их по убыванию приоритета"
   ]
  },
  {
   "cell_type": "code",
   "execution_count": 63,
   "metadata": {},
   "outputs": [
    {
     "data": {
      "text/html": [
       "<div>\n",
       "<style scoped>\n",
       "    .dataframe tbody tr th:only-of-type {\n",
       "        vertical-align: middle;\n",
       "    }\n",
       "\n",
       "    .dataframe tbody tr th {\n",
       "        vertical-align: top;\n",
       "    }\n",
       "\n",
       "    .dataframe thead th {\n",
       "        text-align: right;\n",
       "    }\n",
       "</style>\n",
       "<table border=\"1\" class=\"dataframe\">\n",
       "  <thead>\n",
       "    <tr style=\"text-align: right;\">\n",
       "      <th></th>\n",
       "      <th>Hypothesis</th>\n",
       "      <th>ICE</th>\n",
       "    </tr>\n",
       "  </thead>\n",
       "  <tbody>\n",
       "    <tr>\n",
       "      <th>8</th>\n",
       "      <td>Запустить акцию, дающую скидку на товар в день рождения</td>\n",
       "      <td>16.200000</td>\n",
       "    </tr>\n",
       "    <tr>\n",
       "      <th>0</th>\n",
       "      <td>Добавить два новых канала привлечения трафика, что позволит привлекать на 30% больше пользователей</td>\n",
       "      <td>13.333333</td>\n",
       "    </tr>\n",
       "    <tr>\n",
       "      <th>7</th>\n",
       "      <td>Добавить форму подписки на все основные страницы, чтобы собрать базу клиентов для email-рассылок</td>\n",
       "      <td>11.200000</td>\n",
       "    </tr>\n",
       "    <tr>\n",
       "      <th>6</th>\n",
       "      <td>Показать на главной странице баннеры с актуальными акциями и распродажами, чтобы увеличить конверсию</td>\n",
       "      <td>8.000000</td>\n",
       "    </tr>\n",
       "    <tr>\n",
       "      <th>2</th>\n",
       "      <td>Добавить блоки рекомендаций товаров на сайт интернет магазина, чтобы повысить конверсию и средний чек заказа</td>\n",
       "      <td>7.000000</td>\n",
       "    </tr>\n",
       "    <tr>\n",
       "      <th>1</th>\n",
       "      <td>Запустить собственную службу доставки, что сократит срок доставки заказов</td>\n",
       "      <td>2.000000</td>\n",
       "    </tr>\n",
       "    <tr>\n",
       "      <th>5</th>\n",
       "      <td>Добавить страницу отзывов клиентов о магазине, что позволит увеличить количество заказов</td>\n",
       "      <td>1.333333</td>\n",
       "    </tr>\n",
       "    <tr>\n",
       "      <th>3</th>\n",
       "      <td>Изменить структура категорий, что увеличит конверсию, т.к. пользователи быстрее найдут нужный товар</td>\n",
       "      <td>1.125000</td>\n",
       "    </tr>\n",
       "    <tr>\n",
       "      <th>4</th>\n",
       "      <td>Изменить цвет фона главной страницы, чтобы увеличить вовлеченность пользователей</td>\n",
       "      <td>1.000000</td>\n",
       "    </tr>\n",
       "  </tbody>\n",
       "</table>\n",
       "</div>"
      ],
      "text/plain": [
       "                                                                                                     Hypothesis  \\\n",
       "8                                                       Запустить акцию, дающую скидку на товар в день рождения   \n",
       "0            Добавить два новых канала привлечения трафика, что позволит привлекать на 30% больше пользователей   \n",
       "7              Добавить форму подписки на все основные страницы, чтобы собрать базу клиентов для email-рассылок   \n",
       "6          Показать на главной странице баннеры с актуальными акциями и распродажами, чтобы увеличить конверсию   \n",
       "2  Добавить блоки рекомендаций товаров на сайт интернет магазина, чтобы повысить конверсию и средний чек заказа   \n",
       "1                                     Запустить собственную службу доставки, что сократит срок доставки заказов   \n",
       "5                      Добавить страницу отзывов клиентов о магазине, что позволит увеличить количество заказов   \n",
       "3           Изменить структура категорий, что увеличит конверсию, т.к. пользователи быстрее найдут нужный товар   \n",
       "4                              Изменить цвет фона главной страницы, чтобы увеличить вовлеченность пользователей   \n",
       "\n",
       "         ICE  \n",
       "8  16.200000  \n",
       "0  13.333333  \n",
       "7  11.200000  \n",
       "6   8.000000  \n",
       "2   7.000000  \n",
       "1   2.000000  \n",
       "5   1.333333  \n",
       "3   1.125000  \n",
       "4   1.000000  "
      ]
     },
     "execution_count": 63,
     "metadata": {},
     "output_type": "execute_result"
    }
   ],
   "source": [
    "hypothesis['ICE'] = hypothesis['Impact'] * hypothesis['Confidence'] / hypothesis['Efforts'] # формула расчета ICE\n",
    "\n",
    "pd.options.display.max_colwidth = 210\n",
    "hypothesis[['Hypothesis', 'ICE']].sort_values(by='ICE', ascending=False)"
   ]
  },
  {
   "cell_type": "markdown",
   "metadata": {},
   "source": [
    "Наиболее перспективные гипотезы - это запуск акции со скидкой, двух новых каналов и добавление формы подписки."
   ]
  },
  {
   "cell_type": "markdown",
   "metadata": {},
   "source": [
    "Применим фреймворк RICE для приоритизации гипотез. Отсортируем их по убыванию приоритета"
   ]
  },
  {
   "cell_type": "code",
   "execution_count": 64,
   "metadata": {},
   "outputs": [
    {
     "data": {
      "text/html": [
       "<div>\n",
       "<style scoped>\n",
       "    .dataframe tbody tr th:only-of-type {\n",
       "        vertical-align: middle;\n",
       "    }\n",
       "\n",
       "    .dataframe tbody tr th {\n",
       "        vertical-align: top;\n",
       "    }\n",
       "\n",
       "    .dataframe thead th {\n",
       "        text-align: right;\n",
       "    }\n",
       "</style>\n",
       "<table border=\"1\" class=\"dataframe\">\n",
       "  <thead>\n",
       "    <tr style=\"text-align: right;\">\n",
       "      <th></th>\n",
       "      <th>Hypothesis</th>\n",
       "      <th>RICE</th>\n",
       "    </tr>\n",
       "  </thead>\n",
       "  <tbody>\n",
       "    <tr>\n",
       "      <th>7</th>\n",
       "      <td>Добавить форму подписки на все основные страницы, чтобы собрать базу клиентов для email-рассылок</td>\n",
       "      <td>112.0</td>\n",
       "    </tr>\n",
       "    <tr>\n",
       "      <th>2</th>\n",
       "      <td>Добавить блоки рекомендаций товаров на сайт интернет магазина, чтобы повысить конверсию и средний чек заказа</td>\n",
       "      <td>56.0</td>\n",
       "    </tr>\n",
       "    <tr>\n",
       "      <th>0</th>\n",
       "      <td>Добавить два новых канала привлечения трафика, что позволит привлекать на 30% больше пользователей</td>\n",
       "      <td>40.0</td>\n",
       "    </tr>\n",
       "    <tr>\n",
       "      <th>6</th>\n",
       "      <td>Показать на главной странице баннеры с актуальными акциями и распродажами, чтобы увеличить конверсию</td>\n",
       "      <td>40.0</td>\n",
       "    </tr>\n",
       "    <tr>\n",
       "      <th>8</th>\n",
       "      <td>Запустить акцию, дающую скидку на товар в день рождения</td>\n",
       "      <td>16.2</td>\n",
       "    </tr>\n",
       "    <tr>\n",
       "      <th>3</th>\n",
       "      <td>Изменить структура категорий, что увеличит конверсию, т.к. пользователи быстрее найдут нужный товар</td>\n",
       "      <td>9.0</td>\n",
       "    </tr>\n",
       "    <tr>\n",
       "      <th>1</th>\n",
       "      <td>Запустить собственную службу доставки, что сократит срок доставки заказов</td>\n",
       "      <td>4.0</td>\n",
       "    </tr>\n",
       "    <tr>\n",
       "      <th>5</th>\n",
       "      <td>Добавить страницу отзывов клиентов о магазине, что позволит увеличить количество заказов</td>\n",
       "      <td>4.0</td>\n",
       "    </tr>\n",
       "    <tr>\n",
       "      <th>4</th>\n",
       "      <td>Изменить цвет фона главной страницы, чтобы увеличить вовлеченность пользователей</td>\n",
       "      <td>3.0</td>\n",
       "    </tr>\n",
       "  </tbody>\n",
       "</table>\n",
       "</div>"
      ],
      "text/plain": [
       "                                                                                                     Hypothesis  \\\n",
       "7              Добавить форму подписки на все основные страницы, чтобы собрать базу клиентов для email-рассылок   \n",
       "2  Добавить блоки рекомендаций товаров на сайт интернет магазина, чтобы повысить конверсию и средний чек заказа   \n",
       "0            Добавить два новых канала привлечения трафика, что позволит привлекать на 30% больше пользователей   \n",
       "6          Показать на главной странице баннеры с актуальными акциями и распродажами, чтобы увеличить конверсию   \n",
       "8                                                       Запустить акцию, дающую скидку на товар в день рождения   \n",
       "3           Изменить структура категорий, что увеличит конверсию, т.к. пользователи быстрее найдут нужный товар   \n",
       "1                                     Запустить собственную службу доставки, что сократит срок доставки заказов   \n",
       "5                      Добавить страницу отзывов клиентов о магазине, что позволит увеличить количество заказов   \n",
       "4                              Изменить цвет фона главной страницы, чтобы увеличить вовлеченность пользователей   \n",
       "\n",
       "    RICE  \n",
       "7  112.0  \n",
       "2   56.0  \n",
       "0   40.0  \n",
       "6   40.0  \n",
       "8   16.2  \n",
       "3    9.0  \n",
       "1    4.0  \n",
       "5    4.0  \n",
       "4    3.0  "
      ]
     },
     "execution_count": 64,
     "metadata": {},
     "output_type": "execute_result"
    }
   ],
   "source": [
    "hypothesis['RICE'] = hypothesis['Reach'] * hypothesis['Impact'] * hypothesis['Confidence'] / hypothesis['Efforts']\n",
    "# формула расчета RICE\n",
    "\n",
    "hypothesis[['Hypothesis', 'RICE']].sort_values(by='RICE', ascending=False)"
   ]
  },
  {
   "cell_type": "code",
   "execution_count": 65,
   "metadata": {},
   "outputs": [
    {
     "data": {
      "text/html": [
       "<div>\n",
       "<style scoped>\n",
       "    .dataframe tbody tr th:only-of-type {\n",
       "        vertical-align: middle;\n",
       "    }\n",
       "\n",
       "    .dataframe tbody tr th {\n",
       "        vertical-align: top;\n",
       "    }\n",
       "\n",
       "    .dataframe thead th {\n",
       "        text-align: right;\n",
       "    }\n",
       "</style>\n",
       "<table border=\"1\" class=\"dataframe\">\n",
       "  <thead>\n",
       "    <tr style=\"text-align: right;\">\n",
       "      <th></th>\n",
       "      <th>Hypothesis</th>\n",
       "      <th>Reach</th>\n",
       "      <th>Impact</th>\n",
       "      <th>Confidence</th>\n",
       "      <th>Efforts</th>\n",
       "      <th>ICE</th>\n",
       "      <th>RICE</th>\n",
       "    </tr>\n",
       "  </thead>\n",
       "  <tbody>\n",
       "    <tr>\n",
       "      <th>7</th>\n",
       "      <td>Добавить форму подписки на все основные страницы, чтобы собрать базу клиентов для email-рассылок</td>\n",
       "      <td>10</td>\n",
       "      <td>7</td>\n",
       "      <td>8</td>\n",
       "      <td>5</td>\n",
       "      <td>11.200000</td>\n",
       "      <td>112.0</td>\n",
       "    </tr>\n",
       "    <tr>\n",
       "      <th>2</th>\n",
       "      <td>Добавить блоки рекомендаций товаров на сайт интернет магазина, чтобы повысить конверсию и средний чек заказа</td>\n",
       "      <td>8</td>\n",
       "      <td>3</td>\n",
       "      <td>7</td>\n",
       "      <td>3</td>\n",
       "      <td>7.000000</td>\n",
       "      <td>56.0</td>\n",
       "    </tr>\n",
       "    <tr>\n",
       "      <th>0</th>\n",
       "      <td>Добавить два новых канала привлечения трафика, что позволит привлекать на 30% больше пользователей</td>\n",
       "      <td>3</td>\n",
       "      <td>10</td>\n",
       "      <td>8</td>\n",
       "      <td>6</td>\n",
       "      <td>13.333333</td>\n",
       "      <td>40.0</td>\n",
       "    </tr>\n",
       "    <tr>\n",
       "      <th>6</th>\n",
       "      <td>Показать на главной странице баннеры с актуальными акциями и распродажами, чтобы увеличить конверсию</td>\n",
       "      <td>5</td>\n",
       "      <td>3</td>\n",
       "      <td>8</td>\n",
       "      <td>3</td>\n",
       "      <td>8.000000</td>\n",
       "      <td>40.0</td>\n",
       "    </tr>\n",
       "    <tr>\n",
       "      <th>8</th>\n",
       "      <td>Запустить акцию, дающую скидку на товар в день рождения</td>\n",
       "      <td>1</td>\n",
       "      <td>9</td>\n",
       "      <td>9</td>\n",
       "      <td>5</td>\n",
       "      <td>16.200000</td>\n",
       "      <td>16.2</td>\n",
       "    </tr>\n",
       "    <tr>\n",
       "      <th>3</th>\n",
       "      <td>Изменить структура категорий, что увеличит конверсию, т.к. пользователи быстрее найдут нужный товар</td>\n",
       "      <td>8</td>\n",
       "      <td>3</td>\n",
       "      <td>3</td>\n",
       "      <td>8</td>\n",
       "      <td>1.125000</td>\n",
       "      <td>9.0</td>\n",
       "    </tr>\n",
       "    <tr>\n",
       "      <th>1</th>\n",
       "      <td>Запустить собственную службу доставки, что сократит срок доставки заказов</td>\n",
       "      <td>2</td>\n",
       "      <td>5</td>\n",
       "      <td>4</td>\n",
       "      <td>10</td>\n",
       "      <td>2.000000</td>\n",
       "      <td>4.0</td>\n",
       "    </tr>\n",
       "    <tr>\n",
       "      <th>5</th>\n",
       "      <td>Добавить страницу отзывов клиентов о магазине, что позволит увеличить количество заказов</td>\n",
       "      <td>3</td>\n",
       "      <td>2</td>\n",
       "      <td>2</td>\n",
       "      <td>3</td>\n",
       "      <td>1.333333</td>\n",
       "      <td>4.0</td>\n",
       "    </tr>\n",
       "    <tr>\n",
       "      <th>4</th>\n",
       "      <td>Изменить цвет фона главной страницы, чтобы увеличить вовлеченность пользователей</td>\n",
       "      <td>3</td>\n",
       "      <td>1</td>\n",
       "      <td>1</td>\n",
       "      <td>1</td>\n",
       "      <td>1.000000</td>\n",
       "      <td>3.0</td>\n",
       "    </tr>\n",
       "  </tbody>\n",
       "</table>\n",
       "</div>"
      ],
      "text/plain": [
       "                                                                                                     Hypothesis  \\\n",
       "7              Добавить форму подписки на все основные страницы, чтобы собрать базу клиентов для email-рассылок   \n",
       "2  Добавить блоки рекомендаций товаров на сайт интернет магазина, чтобы повысить конверсию и средний чек заказа   \n",
       "0            Добавить два новых канала привлечения трафика, что позволит привлекать на 30% больше пользователей   \n",
       "6          Показать на главной странице баннеры с актуальными акциями и распродажами, чтобы увеличить конверсию   \n",
       "8                                                       Запустить акцию, дающую скидку на товар в день рождения   \n",
       "3           Изменить структура категорий, что увеличит конверсию, т.к. пользователи быстрее найдут нужный товар   \n",
       "1                                     Запустить собственную службу доставки, что сократит срок доставки заказов   \n",
       "5                      Добавить страницу отзывов клиентов о магазине, что позволит увеличить количество заказов   \n",
       "4                              Изменить цвет фона главной страницы, чтобы увеличить вовлеченность пользователей   \n",
       "\n",
       "   Reach  Impact  Confidence  Efforts        ICE   RICE  \n",
       "7     10       7           8        5  11.200000  112.0  \n",
       "2      8       3           7        3   7.000000   56.0  \n",
       "0      3      10           8        6  13.333333   40.0  \n",
       "6      5       3           8        3   8.000000   40.0  \n",
       "8      1       9           9        5  16.200000   16.2  \n",
       "3      8       3           3        8   1.125000    9.0  \n",
       "1      2       5           4       10   2.000000    4.0  \n",
       "5      3       2           2        3   1.333333    4.0  \n",
       "4      3       1           1        1   1.000000    3.0  "
      ]
     },
     "execution_count": 65,
     "metadata": {},
     "output_type": "execute_result"
    }
   ],
   "source": [
    "# выведем общую таблицу и отсортируем также по RICE & ICE\n",
    "\n",
    "hypothesis.sort_values(['RICE', 'ICE'], ascending=False)"
   ]
  },
  {
   "cell_type": "markdown",
   "metadata": {},
   "source": [
    "И снова наиболее перспективные гипотезы - добавить форму подписки, два новых канала и появилась еще гипотеза с добавлением блока рекомендаций. Однако, на первом месте теперь гипотеза с формой подписки. Так получилось, потому что ее параметр Reach равен 10, в то время как у других гипотез он меньше."
   ]
  },
  {
   "cell_type": "markdown",
   "metadata": {},
   "source": [
    "## Анализ A/B-теста"
   ]
  },
  {
   "cell_type": "code",
   "execution_count": 66,
   "metadata": {},
   "outputs": [
    {
     "data": {
      "text/html": [
       "<div>\n",
       "<style scoped>\n",
       "    .dataframe tbody tr th:only-of-type {\n",
       "        vertical-align: middle;\n",
       "    }\n",
       "\n",
       "    .dataframe tbody tr th {\n",
       "        vertical-align: top;\n",
       "    }\n",
       "\n",
       "    .dataframe thead th {\n",
       "        text-align: right;\n",
       "    }\n",
       "</style>\n",
       "<table border=\"1\" class=\"dataframe\">\n",
       "  <thead>\n",
       "    <tr style=\"text-align: right;\">\n",
       "      <th></th>\n",
       "      <th>transactionId</th>\n",
       "      <th>visitorId</th>\n",
       "      <th>date</th>\n",
       "      <th>revenue</th>\n",
       "      <th>group</th>\n",
       "    </tr>\n",
       "  </thead>\n",
       "  <tbody>\n",
       "    <tr>\n",
       "      <th>0</th>\n",
       "      <td>3667963787</td>\n",
       "      <td>3312258926</td>\n",
       "      <td>2019-08-15</td>\n",
       "      <td>1650</td>\n",
       "      <td>B</td>\n",
       "    </tr>\n",
       "    <tr>\n",
       "      <th>1</th>\n",
       "      <td>2804400009</td>\n",
       "      <td>3642806036</td>\n",
       "      <td>2019-08-15</td>\n",
       "      <td>730</td>\n",
       "      <td>B</td>\n",
       "    </tr>\n",
       "    <tr>\n",
       "      <th>2</th>\n",
       "      <td>2961555356</td>\n",
       "      <td>4069496402</td>\n",
       "      <td>2019-08-15</td>\n",
       "      <td>400</td>\n",
       "      <td>A</td>\n",
       "    </tr>\n",
       "    <tr>\n",
       "      <th>3</th>\n",
       "      <td>3797467345</td>\n",
       "      <td>1196621759</td>\n",
       "      <td>2019-08-15</td>\n",
       "      <td>9759</td>\n",
       "      <td>B</td>\n",
       "    </tr>\n",
       "    <tr>\n",
       "      <th>4</th>\n",
       "      <td>2282983706</td>\n",
       "      <td>2322279887</td>\n",
       "      <td>2019-08-15</td>\n",
       "      <td>2308</td>\n",
       "      <td>B</td>\n",
       "    </tr>\n",
       "  </tbody>\n",
       "</table>\n",
       "</div>"
      ],
      "text/plain": [
       "   transactionId   visitorId        date  revenue group\n",
       "0     3667963787  3312258926  2019-08-15     1650     B\n",
       "1     2804400009  3642806036  2019-08-15      730     B\n",
       "2     2961555356  4069496402  2019-08-15      400     A\n",
       "3     3797467345  1196621759  2019-08-15     9759     B\n",
       "4     2282983706  2322279887  2019-08-15     2308     B"
      ]
     },
     "metadata": {},
     "output_type": "display_data"
    },
    {
     "data": {
      "text/html": [
       "<div>\n",
       "<style scoped>\n",
       "    .dataframe tbody tr th:only-of-type {\n",
       "        vertical-align: middle;\n",
       "    }\n",
       "\n",
       "    .dataframe tbody tr th {\n",
       "        vertical-align: top;\n",
       "    }\n",
       "\n",
       "    .dataframe thead th {\n",
       "        text-align: right;\n",
       "    }\n",
       "</style>\n",
       "<table border=\"1\" class=\"dataframe\">\n",
       "  <thead>\n",
       "    <tr style=\"text-align: right;\">\n",
       "      <th></th>\n",
       "      <th>date</th>\n",
       "      <th>group</th>\n",
       "      <th>visitors</th>\n",
       "    </tr>\n",
       "  </thead>\n",
       "  <tbody>\n",
       "    <tr>\n",
       "      <th>0</th>\n",
       "      <td>2019-08-01</td>\n",
       "      <td>A</td>\n",
       "      <td>719</td>\n",
       "    </tr>\n",
       "    <tr>\n",
       "      <th>1</th>\n",
       "      <td>2019-08-02</td>\n",
       "      <td>A</td>\n",
       "      <td>619</td>\n",
       "    </tr>\n",
       "    <tr>\n",
       "      <th>2</th>\n",
       "      <td>2019-08-03</td>\n",
       "      <td>A</td>\n",
       "      <td>507</td>\n",
       "    </tr>\n",
       "    <tr>\n",
       "      <th>3</th>\n",
       "      <td>2019-08-04</td>\n",
       "      <td>A</td>\n",
       "      <td>717</td>\n",
       "    </tr>\n",
       "    <tr>\n",
       "      <th>4</th>\n",
       "      <td>2019-08-05</td>\n",
       "      <td>A</td>\n",
       "      <td>756</td>\n",
       "    </tr>\n",
       "  </tbody>\n",
       "</table>\n",
       "</div>"
      ],
      "text/plain": [
       "         date group  visitors\n",
       "0  2019-08-01     A       719\n",
       "1  2019-08-02     A       619\n",
       "2  2019-08-03     A       507\n",
       "3  2019-08-04     A       717\n",
       "4  2019-08-05     A       756"
      ]
     },
     "execution_count": 66,
     "metadata": {},
     "output_type": "execute_result"
    }
   ],
   "source": [
    "orders = pd.read_csv('/datasets/orders.csv', sep=',')\n",
    "visitors = pd.read_csv('/datasets/visitors.csv', sep=',')\n",
    "\n",
    "display(orders.head())\n",
    "visitors.head()"
   ]
  },
  {
   "cell_type": "code",
   "execution_count": 67,
   "metadata": {},
   "outputs": [
    {
     "name": "stdout",
     "output_type": "stream",
     "text": [
      "<class 'pandas.core.frame.DataFrame'>\n",
      "RangeIndex: 1197 entries, 0 to 1196\n",
      "Data columns (total 5 columns):\n",
      " #   Column         Non-Null Count  Dtype \n",
      "---  ------         --------------  ----- \n",
      " 0   transactionId  1197 non-null   int64 \n",
      " 1   visitorId      1197 non-null   int64 \n",
      " 2   date           1197 non-null   object\n",
      " 3   revenue        1197 non-null   int64 \n",
      " 4   group          1197 non-null   object\n",
      "dtypes: int64(3), object(2)\n",
      "memory usage: 46.9+ KB\n"
     ]
    },
    {
     "data": {
      "text/plain": [
       "None"
      ]
     },
     "metadata": {},
     "output_type": "display_data"
    },
    {
     "name": "stdout",
     "output_type": "stream",
     "text": [
      "<class 'pandas.core.frame.DataFrame'>\n",
      "RangeIndex: 62 entries, 0 to 61\n",
      "Data columns (total 3 columns):\n",
      " #   Column    Non-Null Count  Dtype \n",
      "---  ------    --------------  ----- \n",
      " 0   date      62 non-null     object\n",
      " 1   group     62 non-null     object\n",
      " 2   visitors  62 non-null     int64 \n",
      "dtypes: int64(1), object(2)\n",
      "memory usage: 1.6+ KB\n"
     ]
    }
   ],
   "source": [
    "display(orders.info())\n",
    "visitors.info()"
   ]
  },
  {
   "cell_type": "markdown",
   "metadata": {},
   "source": [
    "Приведем столбцы с датой к соответствующему типу."
   ]
  },
  {
   "cell_type": "code",
   "execution_count": 68,
   "metadata": {},
   "outputs": [],
   "source": [
    "orders['date'] = orders['date'].map(\n",
    "    lambda x: dt.datetime.strptime(x, '%Y-%m-%d'))\n",
    "    \n",
    "visitors['date'] = visitors['date'].map(\n",
    "    lambda x: dt.datetime.strptime(x, '%Y-%m-%d'))"
   ]
  },
  {
   "cell_type": "markdown",
   "metadata": {},
   "source": [
    "### Построим график кумулятивной выручки по группам. Сделаем выводы и предположения"
   ]
  },
  {
   "cell_type": "code",
   "execution_count": 69,
   "metadata": {},
   "outputs": [
    {
     "data": {
      "image/png": "[encoded data removed]",
      "text/plain": [
       "<Figure size 1080x432 with 1 Axes>"
      ]
     },
     "metadata": {
      "needs_background": "light"
     },
     "output_type": "display_data"
    }
   ],
   "source": [
    "# создадим массив уникальных пар значений дат и групп теста\n",
    "datesGroups = orders[['date','group']].drop_duplicates()\n",
    "\n",
    "# получаем агрегированные кумулятивные по дням данные о заказах\n",
    "ordersAggregated = datesGroups.apply(lambda x: orders[np.logical_and(orders['date'] <= x['date'], orders['group'] == x['group'])]\\\n",
    ".agg({'date' : 'max', 'group' : 'max', 'visitorId' : 'nunique', 'transactionId' : 'nunique', 'revenue' : 'sum'}), axis=1).sort_values(by=['date','group'])\n",
    "\n",
    "# получаем агрегированные кумулятивные по дням данные о посетителях интернет-магазина \n",
    "visitorsAggregated = datesGroups.apply(lambda x: visitors[np.logical_and(visitors['date'] <= x['date'], visitors['group'] == x['group'])].agg({'date' : 'max', 'group' : 'max', 'visitors' : 'sum'}), axis=1).sort_values(by=['date','group'])\n",
    "\n",
    "# объединяем кумулятивные данные в одной таблице и присваиваем ее столбцам понятные названия\n",
    "cumulativeData = ordersAggregated.merge(visitorsAggregated, left_on=['date', 'group'], right_on=['date', 'group'])\n",
    "cumulativeData.columns = ['date', 'group', 'orders', 'buyers', 'revenue', 'visitors']\n",
    "\n",
    "# датафрейм с кумулятивным количеством заказов и кумулятивной выручкой по дням в группе А\n",
    "cumulativeRevenueA = cumulativeData[cumulativeData['group']=='A'][['date','revenue', 'orders']]\n",
    "\n",
    "# датафрейм с кумулятивным количеством заказов и кумулятивной выручкой по дням в группе B\n",
    "cumulativeRevenueB = cumulativeData[cumulativeData['group']=='B'][['date','revenue', 'orders']]\n",
    "\n",
    "# Строим график выручки группы А\n",
    "plt.plot(cumulativeRevenueA['date'], cumulativeRevenueA['revenue'], label='A', );\n",
    "\n",
    "# Строим график выручки группы B\n",
    "plt.plot(cumulativeRevenueB['date'], cumulativeRevenueB['revenue'], label='B');\n",
    "\n",
    "plt.title('Кумулятивная выручка по группам А и В', fontsize=20)\n",
    "plt.xlabel('Дата', fontsize=14)\n",
    "plt.ylabel('Кумулятивная выручка', fontsize=14)\n",
    "plt.rcParams[\"figure.figsize\"] = (15,6)\n",
    "plt.xticks(rotation = 45)\n",
    "plt.legend()\n",
    "plt.show()"
   ]
  },
  {
   "cell_type": "markdown",
   "metadata": {},
   "source": [
    "В середине теста сегмент В вырвался вперед и продолжал лидировать весь остаток теста. Однако, график группы В в одной точке резко растет. Это может сигнализировать о всплесках числа заказов, либо о появлении очень дорогих заказов в выборке.  "
   ]
  },
  {
   "cell_type": "markdown",
   "metadata": {},
   "source": [
    "### Построим график кумулятивного среднего чека по группам. Сделаем выводы и предположения"
   ]
  },
  {
   "cell_type": "code",
   "execution_count": 70,
   "metadata": {},
   "outputs": [
    {
     "data": {
      "image/png": "[encoded data removed]",
      "text/plain": [
       "<Figure size 1080x432 with 1 Axes>"
      ]
     },
     "metadata": {
      "needs_background": "light"
     },
     "output_type": "display_data"
    }
   ],
   "source": [
    "plt.plot(cumulativeRevenueA['date'], cumulativeRevenueA['revenue']/cumulativeRevenueA['orders'], label='A')\n",
    "plt.plot(cumulativeRevenueB['date'], cumulativeRevenueB['revenue']/cumulativeRevenueB['orders'], label='B')\n",
    "\n",
    "\n",
    "plt.title('Кумулятивный средний чек по группам А и В', fontsize=20)\n",
    "plt.xlabel('Дата', fontsize=14)\n",
    "plt.ylabel('Кумулятивный ср.чек', fontsize=14)\n",
    "plt.rcParams[\"figure.figsize\"] = (15,6)\n",
    "plt.xticks(rotation = 45)\n",
    "plt.legend()\n",
    "plt.show()"
   ]
  },
  {
   "cell_type": "markdown",
   "metadata": {},
   "source": [
    "Кумулятивное значение среднего чека продолжает колебаться. Принимать решение по этой метрике рано, так как по группе В есть значительные колебания. Возможно, в группу B попали крупные заказы (резкий всплеск на графике). Тогда ей нужно больше данных, чтобы прийти к реальному среднему чеку и установиться на его уровне. Требуется дополнительный анализ выбросоов, которые так сильно искажают результат."
   ]
  },
  {
   "cell_type": "markdown",
   "metadata": {},
   "source": [
    "### Построим график относительного изменения кумулятивного среднего чека группы B к группе A. Сделаем выводы и предположения"
   ]
  },
  {
   "cell_type": "code",
   "execution_count": 71,
   "metadata": {},
   "outputs": [
    {
     "data": {
      "image/png": "[encoded data removed]",
      "text/plain": [
       "<Figure size 1080x432 with 1 Axes>"
      ]
     },
     "metadata": {
      "needs_background": "light"
     },
     "output_type": "display_data"
    }
   ],
   "source": [
    "# собираем данные в одном датафрейме\n",
    "mergedCumulativeRevenue = cumulativeRevenueA.merge(cumulativeRevenueB, left_on='date', right_on='date', how='left', suffixes=['A', 'B'])\n",
    "\n",
    "# cтроим отношение средних чеков\n",
    "plt.plot(mergedCumulativeRevenue['date'], (mergedCumulativeRevenue['revenueB']/mergedCumulativeRevenue['ordersB'])/(mergedCumulativeRevenue['revenueA']/mergedCumulativeRevenue['ordersA'])-1)\n",
    "\n",
    "# добавляем ось X\n",
    "plt.axhline(y=0, color='black', linestyle='--')\n",
    "plt.title('Изменение кумулятивного ср.чека группы В к группе А', fontsize=20)\n",
    "plt.xlabel('Дата', fontsize=14)\n",
    "plt.ylabel('Изменение', fontsize=14)\n",
    "plt.rcParams[\"figure.figsize\"] = (15,6)\n",
    "plt.xticks(rotation = 45)\n",
    "plt.show()"
   ]
  },
  {
   "cell_type": "markdown",
   "metadata": {},
   "source": [
    "В нескольких точках график различия между сегментами резко «скачет». Видимо в те даты и были совершены аномальные заказы."
   ]
  },
  {
   "cell_type": "markdown",
   "metadata": {},
   "source": [
    "### Построим график кумулятивной конверсии по группам. Сделаем выводы и предположения"
   ]
  },
  {
   "cell_type": "code",
   "execution_count": 72,
   "metadata": {},
   "outputs": [
    {
     "data": {
      "image/png": "[encoded data removed]",
      "text/plain": [
       "<Figure size 1080x432 with 1 Axes>"
      ]
     },
     "metadata": {
      "needs_background": "light"
     },
     "output_type": "display_data"
    }
   ],
   "source": [
    "# считаем кумулятивную конверсию\n",
    "cumulativeData['conversion'] = cumulativeData['orders']/cumulativeData['visitors']\n",
    "\n",
    "# отделяем данные по группе A\n",
    "cumulativeDataA = cumulativeData[cumulativeData['group']=='A']\n",
    "\n",
    "# отделяем данные по группе B\n",
    "cumulativeDataB = cumulativeData[cumulativeData['group']=='B']\n",
    "\n",
    "# строим графики\n",
    "plt.plot(cumulativeDataA['date'], cumulativeDataA['conversion'], label='A')\n",
    "plt.plot(cumulativeDataB['date'], cumulativeDataB['conversion'], label='B')\n",
    "plt.axis([dt.datetime(2019, 8, 1), dt.datetime(2019, 9, 1), 0, 0.05])\n",
    "plt.title('Кумулятивная конверсия по группам А и В', fontsize=20)\n",
    "plt.xlabel('Дата', fontsize=14)\n",
    "plt.ylabel('Кумулятивная коверсия', fontsize=14)\n",
    "plt.rcParams[\"figure.figsize\"] = (15,6)\n",
    "plt.xticks(rotation = 45)\n",
    "plt.legend()\n",
    "plt.show()"
   ]
  },
  {
   "cell_type": "markdown",
   "metadata": {},
   "source": [
    "Группы колебались в рамках похожих значений, но затем конверсия группы В вырвалась вперёд и зафиксировалась, а конверсия группы А просела и также зафиксировалась."
   ]
  },
  {
   "cell_type": "markdown",
   "metadata": {},
   "source": [
    "### Построим график относительного изменения кумулятивной конверсии группы B к группе A. Сделаем выводы и предположения"
   ]
  },
  {
   "cell_type": "code",
   "execution_count": 73,
   "metadata": {},
   "outputs": [
    {
     "data": {
      "image/png": "[encoded data removed]",
      "text/plain": [
       "<Figure size 1080x432 with 1 Axes>"
      ]
     },
     "metadata": {
      "needs_background": "light"
     },
     "output_type": "display_data"
    }
   ],
   "source": [
    "mergedCumulativeConversions = cumulativeDataA[['date','conversion']].merge(cumulativeDataB[['date','conversion']], left_on='date', right_on='date', how='left', suffixes=['A', 'B'])\n",
    "\n",
    "plt.plot(mergedCumulativeConversions['date'], mergedCumulativeConversions['conversionB']/mergedCumulativeConversions['conversionA']-1, label=\"Относительный прирост конверсии группы B относительно группы A\")\n",
    "plt.legend()\n",
    "\n",
    "plt.axhline(y=0, color='black', linestyle='--')\n",
    "#plt.axhline(y=0.2, color='grey', linestyle='--')\n",
    "plt.axis([dt.datetime(2019, 8, 1), dt.datetime(2019, 9, 1), -0.5, 0.5])\n",
    "plt.title('Изменение кулумятивной конверсии группы В к группе А', fontsize=20)\n",
    "plt.xlabel('Дата', fontsize=14)\n",
    "plt.ylabel('Изменение', fontsize=14)\n",
    "plt.rcParams[\"figure.figsize\"] = (15,6)\n",
    "plt.xticks(rotation = 45)\n",
    "plt.show()"
   ]
  },
  {
   "cell_type": "markdown",
   "metadata": {},
   "source": [
    "Почти с самого начала теста группа В лидирует по конверсии: становится лучше и лучше, к концу теста она чуть просела, но сейчас вновь постепенно растет."
   ]
  },
  {
   "cell_type": "markdown",
   "metadata": {},
   "source": [
    "### Построим точечный график количества заказов по пользователям. Сделаем выводы и предположения"
   ]
  },
  {
   "cell_type": "code",
   "execution_count": 74,
   "metadata": {},
   "outputs": [
    {
     "data": {
      "text/html": [
       "<div>\n",
       "<style scoped>\n",
       "    .dataframe tbody tr th:only-of-type {\n",
       "        vertical-align: middle;\n",
       "    }\n",
       "\n",
       "    .dataframe tbody tr th {\n",
       "        vertical-align: top;\n",
       "    }\n",
       "\n",
       "    .dataframe thead th {\n",
       "        text-align: right;\n",
       "    }\n",
       "</style>\n",
       "<table border=\"1\" class=\"dataframe\">\n",
       "  <thead>\n",
       "    <tr style=\"text-align: right;\">\n",
       "      <th></th>\n",
       "      <th>visitorId</th>\n",
       "      <th>transactionId</th>\n",
       "    </tr>\n",
       "  </thead>\n",
       "  <tbody>\n",
       "    <tr>\n",
       "      <th>1023</th>\n",
       "      <td>4256040402</td>\n",
       "      <td>11</td>\n",
       "    </tr>\n",
       "    <tr>\n",
       "      <th>591</th>\n",
       "      <td>2458001652</td>\n",
       "      <td>11</td>\n",
       "    </tr>\n",
       "    <tr>\n",
       "      <th>569</th>\n",
       "      <td>2378935119</td>\n",
       "      <td>9</td>\n",
       "    </tr>\n",
       "    <tr>\n",
       "      <th>487</th>\n",
       "      <td>2038680547</td>\n",
       "      <td>8</td>\n",
       "    </tr>\n",
       "    <tr>\n",
       "      <th>44</th>\n",
       "      <td>199603092</td>\n",
       "      <td>5</td>\n",
       "    </tr>\n",
       "  </tbody>\n",
       "</table>\n",
       "</div>"
      ],
      "text/plain": [
       "       visitorId  transactionId\n",
       "1023  4256040402             11\n",
       "591   2458001652             11\n",
       "569   2378935119              9\n",
       "487   2038680547              8\n",
       "44     199603092              5"
      ]
     },
     "execution_count": 74,
     "metadata": {},
     "output_type": "execute_result"
    }
   ],
   "source": [
    "# сгруппирует заказы по пользователям, найдем уникальные и отсортируем\n",
    "\n",
    "ordersByUsers = orders.drop(['group', 'revenue', 'date'], axis=1).groupby('visitorId', as_index=False).agg({'transactionId': 'nunique'}).sort_values(by='transactionId',ascending=False) \n",
    "ordersByUsers.head(5)"
   ]
  },
  {
   "cell_type": "code",
   "execution_count": 75,
   "metadata": {},
   "outputs": [
    {
     "data": {
      "image/png": "[encoded data removed]",
      "text/plain": [
       "<Figure size 1080x432 with 1 Axes>"
      ]
     },
     "metadata": {
      "needs_background": "light"
     },
     "output_type": "display_data"
    }
   ],
   "source": [
    "plt.hist(ordersByUsers['transactionId'])\n",
    "plt.show()"
   ]
  },
  {
   "cell_type": "markdown",
   "metadata": {},
   "source": [
    "Большинство пользователей совершили не больше 2 заказов, есть еще те, кто сделал 3 заказа, но их % не так значителен. Однако, не ясно, сколько пользователей сделали больше 3 заказов. Построим диаграмму методом scatter()."
   ]
  },
  {
   "cell_type": "code",
   "execution_count": 76,
   "metadata": {},
   "outputs": [
    {
     "data": {
      "image/png": "[encoded data removed]",
      "text/plain": [
       "<Figure size 1080x432 with 1 Axes>"
      ]
     },
     "metadata": {
      "needs_background": "light"
     },
     "output_type": "display_data"
    }
   ],
   "source": [
    "# серия из чисел от 0 до количества наблюдений в ordersByUsers\n",
    "\n",
    "x_values = pd.Series(range(0, len(ordersByUsers))) # значения по горизонтальной оси\n",
    "plt.scatter(x_values, ordersByUsers['transactionId']) \n",
    "plt.show()"
   ]
  },
  {
   "cell_type": "markdown",
   "metadata": {},
   "source": [
    "Пользователей, заказавших более двух раз совсем мало. По графику можно выбрать границу в 2 закза. Однако принято отсеивать от 1% до 5% наблюдений с крайними значениями. Посчитаем перцентили количества заказов ниже."
   ]
  },
  {
   "cell_type": "markdown",
   "metadata": {},
   "source": [
    "### Посчитаем 95-й и 99-й перцентили количества заказов на пользователя. Выберем границу для определения аномальных пользователей"
   ]
  },
  {
   "cell_type": "code",
   "execution_count": 77,
   "metadata": {},
   "outputs": [
    {
     "data": {
      "text/plain": [
       "array([2., 4.])"
      ]
     },
     "execution_count": 77,
     "metadata": {},
     "output_type": "execute_result"
    }
   ],
   "source": [
    "np.percentile(ordersByUsers['transactionId'], [95, 99])"
   ]
  },
  {
   "cell_type": "markdown",
   "metadata": {},
   "source": [
    "Не более 5% пользовалей совершали более 2-х заказов  и не более 1% - больше 4-х заказов. Разумно выбрать 2 заказа на одного пользователя за нижнюю границу числа заказов, и отсеять аномальных пользователей по ней."
   ]
  },
  {
   "cell_type": "markdown",
   "metadata": {},
   "source": [
    "### Построим точечный график стоимостей заказов. Сделаем выводы и предположения"
   ]
  },
  {
   "cell_type": "code",
   "execution_count": 78,
   "metadata": {},
   "outputs": [
    {
     "data": {
      "image/png": "[encoded data removed]",
      "text/plain": [
       "<Figure size 1080x432 with 1 Axes>"
      ]
     },
     "metadata": {
      "needs_background": "light"
     },
     "output_type": "display_data"
    }
   ],
   "source": [
    "# построим гистограмму распределения выручек\n",
    "\n",
    "plt.hist(orders['revenue'])\n",
    "plt.show()"
   ]
  },
  {
   "cell_type": "markdown",
   "metadata": {},
   "source": [
    "Сумма большинства заказов находится в пределах 100 000 руб. Однако по гистограмме сложно сказать ни о более дорогих заказах, ни о распределении дешевых."
   ]
  },
  {
   "cell_type": "code",
   "execution_count": 79,
   "metadata": {},
   "outputs": [
    {
     "data": {
      "image/png": "[encoded data removed]",
      "text/plain": [
       "<Figure size 1080x432 with 1 Axes>"
      ]
     },
     "metadata": {
      "needs_background": "light"
     },
     "output_type": "display_data"
    }
   ],
   "source": [
    "x_values = pd.Series(range(0, len(orders['revenue']))) # значения по горизонтальной оси\n",
    "plt.scatter(x_values, orders['revenue'])\n",
    "plt.show()"
   ]
  },
  {
   "cell_type": "markdown",
   "metadata": {},
   "source": [
    "Всё, как предполагали: есть немного дорогих заказов. Однако по графикам довольно сложно выбрать границу аномальных заказов. Найдем перцентили."
   ]
  },
  {
   "cell_type": "markdown",
   "metadata": {},
   "source": [
    "### Посчитаем 95-й и 99-й перцентили стоимости заказов. Выберем границу для определения аномальных заказов"
   ]
  },
  {
   "cell_type": "code",
   "execution_count": 80,
   "metadata": {},
   "outputs": [
    {
     "data": {
      "text/plain": [
       "array([28000. , 58233.2])"
      ]
     },
     "execution_count": 80,
     "metadata": {},
     "output_type": "execute_result"
    }
   ],
   "source": [
    "np.percentile(orders['revenue'], [95, 99])"
   ]
  },
  {
   "cell_type": "markdown",
   "metadata": {},
   "source": [
    "Не более, чем у 5% заказов чек дороже 28 000 рублей и не более 1% дороже 58 233 рублей. Разумно выбрать границу в 30 000 руб, а заказы дороже отсеить как аномальные."
   ]
  },
  {
   "cell_type": "markdown",
   "metadata": {},
   "source": [
    "### Посчитаем статистическую значимость различий в конверсии между группами по «сырым» данным. Сделаем выводы и предположения"
   ]
  },
  {
   "cell_type": "markdown",
   "metadata": {},
   "source": [
    "Сформулируем гипотезы. \n",
    "- Нулевая: различий в коверсии между группами нет. \n",
    "- Альтернативная: различия в коверсии между группами есть."
   ]
  },
  {
   "cell_type": "code",
   "execution_count": 81,
   "metadata": {},
   "outputs": [
    {
     "data": {
      "text/html": [
       "<div>\n",
       "<style scoped>\n",
       "    .dataframe tbody tr th:only-of-type {\n",
       "        vertical-align: middle;\n",
       "    }\n",
       "\n",
       "    .dataframe tbody tr th {\n",
       "        vertical-align: top;\n",
       "    }\n",
       "\n",
       "    .dataframe thead th {\n",
       "        text-align: right;\n",
       "    }\n",
       "</style>\n",
       "<table border=\"1\" class=\"dataframe\">\n",
       "  <thead>\n",
       "    <tr style=\"text-align: right;\">\n",
       "      <th></th>\n",
       "      <th>date</th>\n",
       "      <th>ordersPerDateA</th>\n",
       "      <th>revenuePerDateA</th>\n",
       "      <th>ordersPerDateB</th>\n",
       "      <th>revenuePerDateB</th>\n",
       "      <th>ordersCummulativeA</th>\n",
       "      <th>revenueCummulativeA</th>\n",
       "      <th>ordersCummulativeB</th>\n",
       "      <th>revenueCummulativeB</th>\n",
       "      <th>visitorsPerDateA</th>\n",
       "      <th>visitorsPerDateB</th>\n",
       "      <th>visitorsCummulativeA</th>\n",
       "      <th>visitorsCummulativeB</th>\n",
       "    </tr>\n",
       "  </thead>\n",
       "  <tbody>\n",
       "    <tr>\n",
       "      <th>0</th>\n",
       "      <td>2019-08-01</td>\n",
       "      <td>24</td>\n",
       "      <td>148579</td>\n",
       "      <td>21</td>\n",
       "      <td>101217</td>\n",
       "      <td>24</td>\n",
       "      <td>148579</td>\n",
       "      <td>21</td>\n",
       "      <td>101217</td>\n",
       "      <td>719</td>\n",
       "      <td>713</td>\n",
       "      <td>719</td>\n",
       "      <td>713</td>\n",
       "    </tr>\n",
       "    <tr>\n",
       "      <th>1</th>\n",
       "      <td>2019-08-02</td>\n",
       "      <td>20</td>\n",
       "      <td>93822</td>\n",
       "      <td>24</td>\n",
       "      <td>165531</td>\n",
       "      <td>44</td>\n",
       "      <td>242401</td>\n",
       "      <td>45</td>\n",
       "      <td>266748</td>\n",
       "      <td>619</td>\n",
       "      <td>581</td>\n",
       "      <td>1338</td>\n",
       "      <td>1294</td>\n",
       "    </tr>\n",
       "    <tr>\n",
       "      <th>2</th>\n",
       "      <td>2019-08-03</td>\n",
       "      <td>24</td>\n",
       "      <td>112473</td>\n",
       "      <td>16</td>\n",
       "      <td>114248</td>\n",
       "      <td>68</td>\n",
       "      <td>354874</td>\n",
       "      <td>61</td>\n",
       "      <td>380996</td>\n",
       "      <td>507</td>\n",
       "      <td>509</td>\n",
       "      <td>1845</td>\n",
       "      <td>1803</td>\n",
       "    </tr>\n",
       "    <tr>\n",
       "      <th>3</th>\n",
       "      <td>2019-08-04</td>\n",
       "      <td>16</td>\n",
       "      <td>70825</td>\n",
       "      <td>17</td>\n",
       "      <td>108571</td>\n",
       "      <td>84</td>\n",
       "      <td>425699</td>\n",
       "      <td>78</td>\n",
       "      <td>489567</td>\n",
       "      <td>717</td>\n",
       "      <td>770</td>\n",
       "      <td>2562</td>\n",
       "      <td>2573</td>\n",
       "    </tr>\n",
       "    <tr>\n",
       "      <th>4</th>\n",
       "      <td>2019-08-05</td>\n",
       "      <td>25</td>\n",
       "      <td>124218</td>\n",
       "      <td>23</td>\n",
       "      <td>92428</td>\n",
       "      <td>109</td>\n",
       "      <td>549917</td>\n",
       "      <td>101</td>\n",
       "      <td>581995</td>\n",
       "      <td>756</td>\n",
       "      <td>707</td>\n",
       "      <td>3318</td>\n",
       "      <td>3280</td>\n",
       "    </tr>\n",
       "  </tbody>\n",
       "</table>\n",
       "</div>"
      ],
      "text/plain": [
       "        date  ordersPerDateA  revenuePerDateA  ordersPerDateB  \\\n",
       "0 2019-08-01              24           148579              21   \n",
       "1 2019-08-02              20            93822              24   \n",
       "2 2019-08-03              24           112473              16   \n",
       "3 2019-08-04              16            70825              17   \n",
       "4 2019-08-05              25           124218              23   \n",
       "\n",
       "   revenuePerDateB  ordersCummulativeA  revenueCummulativeA  \\\n",
       "0           101217                  24               148579   \n",
       "1           165531                  44               242401   \n",
       "2           114248                  68               354874   \n",
       "3           108571                  84               425699   \n",
       "4            92428                 109               549917   \n",
       "\n",
       "   ordersCummulativeB  revenueCummulativeB  visitorsPerDateA  \\\n",
       "0                  21               101217               719   \n",
       "1                  45               266748               619   \n",
       "2                  61               380996               507   \n",
       "3                  78               489567               717   \n",
       "4                 101               581995               756   \n",
       "\n",
       "   visitorsPerDateB  visitorsCummulativeA  visitorsCummulativeB  \n",
       "0               713                   719                   713  \n",
       "1               581                  1338                  1294  \n",
       "2               509                  1845                  1803  \n",
       "3               770                  2562                  2573  \n",
       "4               707                  3318                  3280  "
      ]
     },
     "execution_count": 81,
     "metadata": {},
     "output_type": "execute_result"
    }
   ],
   "source": [
    "# создадим сводную таблицу данных\n",
    "\n",
    "visitorsADaily = visitors[visitors['group'] == 'A'][['date', 'visitors']]\n",
    "visitorsADaily.columns = ['date', 'visitorsPerDateA']\n",
    "\n",
    "visitorsACummulative = visitorsADaily.apply(\n",
    "    lambda x: visitorsADaily[visitorsADaily['date'] <= x['date']].agg(\n",
    "        {'date': 'max', 'visitorsPerDateA': 'sum'}\n",
    "    ),\n",
    "    axis=1,\n",
    ")\n",
    "visitorsACummulative.columns = ['date', 'visitorsCummulativeA']\n",
    "\n",
    "visitorsBDaily = visitors[visitors['group'] == 'B'][['date', 'visitors']]\n",
    "visitorsBDaily.columns = ['date', 'visitorsPerDateB']\n",
    "\n",
    "visitorsBCummulative = visitorsBDaily.apply(\n",
    "    lambda x: visitorsBDaily[visitorsBDaily['date'] <= x['date']].agg(\n",
    "        {'date': 'max', 'visitorsPerDateB': 'sum'}\n",
    "    ),\n",
    "    axis=1,\n",
    ")\n",
    "visitorsBCummulative.columns = ['date', 'visitorsCummulativeB']\n",
    "\n",
    "ordersADaily = (\n",
    "    orders[orders['group'] == 'A'][['date', 'transactionId', 'visitorId', 'revenue']]\n",
    "    .groupby('date', as_index=False)\n",
    "    .agg({'transactionId': pd.Series.nunique, 'revenue': 'sum'})\n",
    ")\n",
    "ordersADaily.columns = ['date', 'ordersPerDateA', 'revenuePerDateA']\n",
    "\n",
    "ordersACummulative = ordersADaily.apply(\n",
    "    lambda x: ordersADaily[ordersADaily['date'] <= x['date']].agg(\n",
    "        {'date': 'max', 'ordersPerDateA': 'sum', 'revenuePerDateA': 'sum'}\n",
    "    ),\n",
    "    axis=1,\n",
    ").sort_values(by=['date'])\n",
    "ordersACummulative.columns = [\n",
    "    'date',\n",
    "    'ordersCummulativeA',\n",
    "    'revenueCummulativeA',\n",
    "]\n",
    "\n",
    "ordersBDaily = (\n",
    "    orders[orders['group'] == 'B'][['date', 'transactionId', 'visitorId', 'revenue']]\n",
    "    .groupby('date', as_index=False)\n",
    "    .agg({'transactionId': pd.Series.nunique, 'revenue': 'sum'})\n",
    ")\n",
    "ordersBDaily.columns = ['date', 'ordersPerDateB', 'revenuePerDateB']\n",
    "\n",
    "ordersBCummulative = ordersBDaily.apply(\n",
    "    lambda x: ordersBDaily[ordersBDaily['date'] <= x['date']].agg(\n",
    "        {'date': 'max', 'ordersPerDateB': 'sum', 'revenuePerDateB': 'sum'}\n",
    "    ),\n",
    "    axis=1,\n",
    ").sort_values(by=['date'])\n",
    "ordersBCummulative.columns = [\n",
    "    'date',\n",
    "    'ordersCummulativeB',\n",
    "    'revenueCummulativeB',\n",
    "]\n",
    "\n",
    "data = (\n",
    "    ordersADaily.merge(\n",
    "        ordersBDaily, left_on='date', right_on='date', how='left'\n",
    "    )\n",
    "    .merge(ordersACummulative, left_on='date', right_on='date', how='left')\n",
    "    .merge(ordersBCummulative, left_on='date', right_on='date', how='left')\n",
    "    .merge(visitorsADaily, left_on='date', right_on='date', how='left')\n",
    "    .merge(visitorsBDaily, left_on='date', right_on='date', how='left')\n",
    "    .merge(visitorsACummulative, left_on='date', right_on='date', how='left')\n",
    "    .merge(visitorsBCummulative, left_on='date', right_on='date', how='left')\n",
    ")\n",
    "\n",
    "data.head(5)"
   ]
  },
  {
   "cell_type": "code",
   "execution_count": 82,
   "metadata": {},
   "outputs": [
    {
     "data": {
      "text/plain": [
       "'0.017'"
      ]
     },
     "execution_count": 82,
     "metadata": {},
     "output_type": "execute_result"
    }
   ],
   "source": [
    "ordersByUsersA = (\n",
    "    orders[orders['group'] == 'A']\n",
    "    .groupby('visitorId', as_index=False)\n",
    "    .agg({'transactionId': pd.Series.nunique}) # переменная, в которой для пользователей, заказывавших хотя бы 1 раз,\n",
    "                                         # укажем число совершенных заказов\n",
    ")\n",
    "ordersByUsersA.columns = ['userId', 'orders']\n",
    "\n",
    "ordersByUsersB = (\n",
    "    orders[orders['group'] == 'B']\n",
    "    .groupby('visitorId', as_index=False)\n",
    "    .agg({'transactionId': pd.Series.nunique})\n",
    ")\n",
    "ordersByUsersB.columns = ['userId', 'orders']\n",
    "\n",
    "# Объявим переменные sampleA и sampleB, в которых пользователям из разных групп будет соответствовать количество заказов. \n",
    "# Тем, кто ничего не заказал, будут соответствовать нули.\n",
    "\n",
    "sampleA = pd.concat([ordersByUsersA['orders'],pd.Series(0, index=np.arange(data['visitorsPerDateA'].sum() - len(ordersByUsersA['orders'])), name='orders')],axis=0)\n",
    "\n",
    "sampleB = pd.concat([ordersByUsersB['orders'],pd.Series(0, index=np.arange(data['visitorsPerDateB'].sum() - len(ordersByUsersB['orders'])), name='orders')],axis=0)\n",
    "\n",
    "\"{0:.3f}\".format(stats.mannwhitneyu(sampleA, sampleB)[1])"
   ]
  },
  {
   "cell_type": "markdown",
   "metadata": {},
   "source": [
    "Вывод: По «сырым» данным различия в конверсии групп A и B есть. Отвергаем нулевую гипотезу."
   ]
  },
  {
   "cell_type": "markdown",
   "metadata": {},
   "source": [
    "### Посчитаем статистическую значимость различий в среднем чеке заказа между группами по «сырым» данным. Сделаем выводы и предположения"
   ]
  },
  {
   "cell_type": "markdown",
   "metadata": {},
   "source": [
    "- Нулевая гипотеза: различий в среднем чеке между группами нет. \n",
    "- Альтернативная гипотеза: различия в среднем чеке между группами есть."
   ]
  },
  {
   "cell_type": "code",
   "execution_count": 83,
   "metadata": {},
   "outputs": [
    {
     "data": {
      "text/plain": [
       "'0.729'"
      ]
     },
     "execution_count": 83,
     "metadata": {},
     "output_type": "execute_result"
    }
   ],
   "source": [
    "'{0:.3f}'.format(stats.mannwhitneyu(orders[orders['group']=='A']['revenue'], orders[orders['group']=='B']['revenue'])[1])"
   ]
  },
  {
   "cell_type": "markdown",
   "metadata": {},
   "source": [
    "P-value значительно больше 0.05. Значит, причин отвергать нулевую гипотезу и считать, что в среднем чеке есть различия, нет. "
   ]
  },
  {
   "cell_type": "markdown",
   "metadata": {},
   "source": [
    "### Посчитаем статистическую значимость различий в конверсии между группами по «очищенным» данным. Сделаем выводы и предположения"
   ]
  },
  {
   "cell_type": "markdown",
   "metadata": {},
   "source": [
    "Примем за аномальных пользователей тех, кто совершил от 3 заказов или совершил заказ дороже 30 000 рублей. Так мы уберём 5% пользователей с наибольшим числом заказов и до 5% пользователей с дорогими заказами. Сделаем срезы пользователей с числом заказов больше 2 — usersWithManyOrders и пользователей, совершивших заказы дороже 30 000 — usersWithExpensiveOrders. Объединим их в таблице abnormalUsers."
   ]
  },
  {
   "cell_type": "code",
   "execution_count": 84,
   "metadata": {},
   "outputs": [
    {
     "data": {
      "text/plain": [
       "568     113298937\n",
       "1099    148427295\n",
       "461     154576532\n",
       "928     204675465\n",
       "684     358944393\n",
       "dtype: int64"
      ]
     },
     "metadata": {},
     "output_type": "display_data"
    },
    {
     "data": {
      "text/plain": [
       "86"
      ]
     },
     "execution_count": 84,
     "metadata": {},
     "output_type": "execute_result"
    }
   ],
   "source": [
    "usersWithManyOrders = pd.concat(\n",
    "    [\n",
    "        ordersByUsersA[ordersByUsersA['orders'] > 4]['userId'],\n",
    "        ordersByUsersB[ordersByUsersB['orders'] > 4]['userId'],\n",
    "    ],\n",
    "    axis=0,\n",
    ")\n",
    "usersWithExpensiveOrders = orders[orders['revenue'] > 20000]['visitorId']\n",
    "abnormalUsers = (\n",
    "    pd.concat([usersWithManyOrders, usersWithExpensiveOrders], axis=0)\n",
    "    .drop_duplicates()\n",
    "    .sort_values()\n",
    ")\n",
    "display(abnormalUsers.head(5))\n",
    "abnormalUsers.shape[0]"
   ]
  },
  {
   "cell_type": "markdown",
   "metadata": {},
   "source": [
    "У нас получилось 86 аномальных пользователей. Исключим их из данных и посмотрим как их действия повлияли на результаты теста. Подготовим выборки количества заказов по пользователям по группам теста:"
   ]
  },
  {
   "cell_type": "code",
   "execution_count": 85,
   "metadata": {},
   "outputs": [
    {
     "data": {
      "text/plain": [
       "'0.023'"
      ]
     },
     "execution_count": 85,
     "metadata": {},
     "output_type": "execute_result"
    }
   ],
   "source": [
    "sampleAFiltered = pd.concat(\n",
    "    [ordersByUsersA[np.logical_not(ordersByUsersA['userId'].isin(abnormalUsers))]['orders'],\n",
    "        pd.Series(0,\n",
    "            index=np.arange(\n",
    "                data['visitorsPerDateA'].sum() - len(ordersByUsersA['orders'])),\n",
    "            name='orders')], axis=0)\n",
    "\n",
    "sampleBFiltered = pd.concat(\n",
    "    [ordersByUsersB[np.logical_not(ordersByUsersB['userId'].isin(abnormalUsers))]['orders'],\n",
    "        pd.Series(0,\n",
    "            index=np.arange(\n",
    "                data['visitorsPerDateB'].sum() - len(ordersByUsersB['orders'])),\n",
    "            name='orders')], axis=0)\n",
    "\n",
    "'{0:.3f}'.format(stats.mannwhitneyu(sampleAFiltered, sampleBFiltered)[1])"
   ]
  },
  {
   "cell_type": "markdown",
   "metadata": {},
   "source": [
    "Результаты по конверсии почти не изменились, стали лишь не намного лучше."
   ]
  },
  {
   "cell_type": "markdown",
   "metadata": {},
   "source": [
    "### Посчитаем статистическую значимость различий в среднем чеке заказа между группами по «очищенным» данным. Сделаем выводы и предположения"
   ]
  },
  {
   "cell_type": "code",
   "execution_count": 86,
   "metadata": {},
   "outputs": [
    {
     "data": {
      "text/plain": [
       "'0.866'"
      ]
     },
     "execution_count": 86,
     "metadata": {},
     "output_type": "execute_result"
    }
   ],
   "source": [
    "'{0:.3f}'.format(\n",
    "        stats.mannwhitneyu(\n",
    "            orders[np.logical_and(\n",
    "                    orders['group'] == 'A',\n",
    "                    np.logical_not(orders['visitorId'].isin(abnormalUsers)))]['revenue'],\n",
    "            orders[np.logical_and(\n",
    "                    orders['group'] == 'B',\n",
    "                    np.logical_not(orders['visitorId'].isin(abnormalUsers)))]['revenue'])[1])"
   ]
  },
  {
   "cell_type": "markdown",
   "metadata": {},
   "source": [
    "Результаты по среднему чеку заказа также улучшились. Хотя общие выводы по результатам теста не изменились, но мы наглядно увидели, как сильно аномалии могут влиять на результаты A/B-теста."
   ]
  },
  {
   "cell_type": "markdown",
   "metadata": {},
   "source": [
    "### Примем решение по результатам теста и объясним его"
   ]
  },
  {
   "cell_type": "markdown",
   "metadata": {},
   "source": [
    "Выявленные данные по результатам теста:\n",
    "\n",
    "- Есть статистически значимое различие по конверсии заказов между группами как по «сырым», так и по данным после фильтрации аномалий\n",
    "- Нет статистически значимого различия по среднему чеку между группами ни по «сырым», ни по данным после фильтрации аномалий\n",
    "- График различия конверсии между группами сообщает, что результаты группы B стабильно лучше группы A \n",
    "- График различия среднего чека говорит о том, что результаты группы B лучше результатов группы А\n",
    "\n",
    "Исходя из обнаруженных фактов, тест можно продолжить на некоторое время, чтобы сделать однозначные выводы по среднему чеку группы В. Пока что видно, что конверсия В стабильно лучше А, однако по ср.чеку нельзя сказать определенно. Из-за аномальных заказов средний чек еще не остановился на своем уровне, тест можно продолжить еще в течение месяца, чтобы определить, отвечает ли второй критерий \"успешности\" теста."
   ]
  }
 ],
 "metadata": {
  "ExecuteTimeLog": [
   {
    "duration": 1394,
    "start_time": "2022-06-20T13:52:42.720Z"
   },
   {
    "duration": 4,
    "start_time": "2022-06-20T13:55:52.452Z"
   },
   {
    "duration": 4,
    "start_time": "2022-06-20T13:56:00.520Z"
   },
   {
    "duration": 73,
    "start_time": "2022-06-20T13:56:46.263Z"
   },
   {
    "duration": 34,
    "start_time": "2022-06-20T13:57:06.062Z"
   },
   {
    "duration": 38,
    "start_time": "2022-06-20T13:57:23.620Z"
   },
   {
    "duration": 13,
    "start_time": "2022-06-20T14:03:04.059Z"
   },
   {
    "duration": 56,
    "start_time": "2022-06-20T14:05:28.156Z"
   },
   {
    "duration": 129,
    "start_time": "2022-06-20T14:07:12.051Z"
   },
   {
    "duration": 12,
    "start_time": "2022-06-20T14:07:33.842Z"
   },
   {
    "duration": 48,
    "start_time": "2022-06-21T09:59:21.555Z"
   },
   {
    "duration": 1456,
    "start_time": "2022-06-21T09:59:25.822Z"
   },
   {
    "duration": 84,
    "start_time": "2022-06-21T09:59:27.280Z"
   },
   {
    "duration": 12,
    "start_time": "2022-06-21T09:59:27.366Z"
   },
   {
    "duration": 37,
    "start_time": "2022-06-21T09:59:27.380Z"
   },
   {
    "duration": 146,
    "start_time": "2022-06-21T09:59:27.418Z"
   },
   {
    "duration": 22,
    "start_time": "2022-06-21T10:00:57.946Z"
   },
   {
    "duration": 74,
    "start_time": "2022-06-21T10:02:29.591Z"
   },
   {
    "duration": 83,
    "start_time": "2022-06-21T10:02:55.938Z"
   },
   {
    "duration": 75,
    "start_time": "2022-06-21T10:03:40.319Z"
   },
   {
    "duration": 78,
    "start_time": "2022-06-21T10:03:49.902Z"
   },
   {
    "duration": 15,
    "start_time": "2022-06-21T10:04:11.532Z"
   },
   {
    "duration": 18,
    "start_time": "2022-06-21T10:04:19.115Z"
   },
   {
    "duration": 5,
    "start_time": "2022-06-21T10:05:49.088Z"
   },
   {
    "duration": 552,
    "start_time": "2022-06-21T10:14:47.128Z"
   },
   {
    "duration": 458,
    "start_time": "2022-06-21T10:14:58.114Z"
   },
   {
    "duration": 179,
    "start_time": "2022-06-21T10:20:44.508Z"
   },
   {
    "duration": 166,
    "start_time": "2022-06-21T10:20:52.472Z"
   },
   {
    "duration": 316,
    "start_time": "2022-06-21T10:27:19.932Z"
   },
   {
    "duration": 368,
    "start_time": "2022-06-21T10:27:26.450Z"
   },
   {
    "duration": 272,
    "start_time": "2022-06-21T10:27:30.494Z"
   },
   {
    "duration": 284,
    "start_time": "2022-06-21T10:31:00.761Z"
   },
   {
    "duration": 212,
    "start_time": "2022-06-21T10:31:08.667Z"
   },
   {
    "duration": 354,
    "start_time": "2022-06-21T10:32:48.360Z"
   },
   {
    "duration": 380,
    "start_time": "2022-06-21T10:33:09.457Z"
   },
   {
    "duration": 371,
    "start_time": "2022-06-21T10:33:59.669Z"
   },
   {
    "duration": 425,
    "start_time": "2022-06-21T10:34:39.062Z"
   },
   {
    "duration": 3,
    "start_time": "2022-06-21T10:34:46.839Z"
   },
   {
    "duration": 41,
    "start_time": "2022-06-21T10:34:46.844Z"
   },
   {
    "duration": 13,
    "start_time": "2022-06-21T10:34:46.887Z"
   },
   {
    "duration": 14,
    "start_time": "2022-06-21T10:34:46.902Z"
   },
   {
    "duration": 72,
    "start_time": "2022-06-21T10:34:46.919Z"
   },
   {
    "duration": 22,
    "start_time": "2022-06-21T10:34:46.993Z"
   },
   {
    "duration": 15,
    "start_time": "2022-06-21T10:34:47.016Z"
   },
   {
    "duration": 519,
    "start_time": "2022-06-21T10:34:47.033Z"
   },
   {
    "duration": 305,
    "start_time": "2022-06-21T10:34:47.554Z"
   },
   {
    "duration": 271,
    "start_time": "2022-06-21T10:34:47.861Z"
   },
   {
    "duration": 432,
    "start_time": "2022-06-21T10:34:48.134Z"
   },
   {
    "duration": 424,
    "start_time": "2022-06-21T10:35:06.613Z"
   },
   {
    "duration": 363,
    "start_time": "2022-06-21T10:35:15.994Z"
   },
   {
    "duration": 284,
    "start_time": "2022-06-21T10:35:59.868Z"
   },
   {
    "duration": 251,
    "start_time": "2022-06-21T10:36:42.314Z"
   },
   {
    "duration": 197,
    "start_time": "2022-06-21T10:37:12.538Z"
   },
   {
    "duration": 291,
    "start_time": "2022-06-21T10:37:22.455Z"
   },
   {
    "duration": 290,
    "start_time": "2022-06-21T10:37:29.650Z"
   },
   {
    "duration": 231,
    "start_time": "2022-06-21T10:37:35.848Z"
   },
   {
    "duration": 193,
    "start_time": "2022-06-21T10:37:39.610Z"
   },
   {
    "duration": 211,
    "start_time": "2022-06-21T10:37:50.479Z"
   },
   {
    "duration": 259,
    "start_time": "2022-06-21T10:38:11.159Z"
   },
   {
    "duration": 367,
    "start_time": "2022-06-21T10:42:46.579Z"
   },
   {
    "duration": 318,
    "start_time": "2022-06-21T10:43:21.423Z"
   },
   {
    "duration": 133,
    "start_time": "2022-06-21T10:53:50.355Z"
   },
   {
    "duration": 165,
    "start_time": "2022-06-21T10:53:56.703Z"
   },
   {
    "duration": 335,
    "start_time": "2022-06-21T10:54:07.380Z"
   },
   {
    "duration": 1286,
    "start_time": "2022-06-21T14:40:29.546Z"
   },
   {
    "duration": 78,
    "start_time": "2022-06-21T14:40:30.835Z"
   },
   {
    "duration": 15,
    "start_time": "2022-06-21T14:40:30.915Z"
   },
   {
    "duration": 20,
    "start_time": "2022-06-21T14:40:30.932Z"
   },
   {
    "duration": 170,
    "start_time": "2022-06-21T14:40:30.954Z"
   },
   {
    "duration": 20,
    "start_time": "2022-06-21T14:40:31.125Z"
   },
   {
    "duration": 14,
    "start_time": "2022-06-21T14:40:31.147Z"
   },
   {
    "duration": 581,
    "start_time": "2022-06-21T14:40:31.163Z"
   },
   {
    "duration": 197,
    "start_time": "2022-06-21T14:40:31.745Z"
   },
   {
    "duration": 346,
    "start_time": "2022-06-21T14:40:31.943Z"
   },
   {
    "duration": 181,
    "start_time": "2022-06-21T14:40:32.291Z"
   },
   {
    "duration": 296,
    "start_time": "2022-06-21T14:40:32.474Z"
   },
   {
    "duration": 154,
    "start_time": "2022-06-21T14:40:32.772Z"
   },
   {
    "duration": 114,
    "start_time": "2022-06-21T14:40:32.929Z"
   },
   {
    "duration": 193,
    "start_time": "2022-06-21T14:40:40.701Z"
   },
   {
    "duration": 11,
    "start_time": "2022-06-21T14:48:22.974Z"
   },
   {
    "duration": 10,
    "start_time": "2022-06-21T14:48:27.772Z"
   },
   {
    "duration": 12,
    "start_time": "2022-06-21T14:48:46.677Z"
   },
   {
    "duration": 98,
    "start_time": "2022-06-21T14:50:22.021Z"
   },
   {
    "duration": 185,
    "start_time": "2022-06-21T14:50:29.325Z"
   },
   {
    "duration": 94,
    "start_time": "2022-06-21T14:50:34.003Z"
   },
   {
    "duration": 117,
    "start_time": "2022-06-21T14:54:52.980Z"
   },
   {
    "duration": 110,
    "start_time": "2022-06-21T14:55:00.071Z"
   },
   {
    "duration": 5,
    "start_time": "2022-06-21T15:08:10.028Z"
   },
   {
    "duration": 123,
    "start_time": "2022-06-21T15:15:13.279Z"
   },
   {
    "duration": 48,
    "start_time": "2022-06-21T15:18:50.472Z"
   },
   {
    "duration": 128,
    "start_time": "2022-06-21T15:20:02.103Z"
   },
   {
    "duration": 137,
    "start_time": "2022-06-21T15:20:07.514Z"
   },
   {
    "duration": 2,
    "start_time": "2022-06-21T15:27:15.158Z"
   },
   {
    "duration": 6,
    "start_time": "2022-06-21T15:28:12.759Z"
   },
   {
    "duration": 232,
    "start_time": "2022-06-21T15:54:00.161Z"
   },
   {
    "duration": 159,
    "start_time": "2022-06-21T16:00:36.509Z"
   },
   {
    "duration": 173,
    "start_time": "2022-06-21T16:04:40.223Z"
   },
   {
    "duration": 8,
    "start_time": "2022-06-21T16:14:45.841Z"
   },
   {
    "duration": 12,
    "start_time": "2022-06-21T16:21:37.786Z"
   },
   {
    "duration": 28,
    "start_time": "2022-06-21T16:26:22.698Z"
   },
   {
    "duration": 9,
    "start_time": "2022-06-21T16:31:58.343Z"
   },
   {
    "duration": 1798,
    "start_time": "2022-06-22T14:50:32.145Z"
   },
   {
    "duration": 64,
    "start_time": "2022-06-22T14:50:33.945Z"
   },
   {
    "duration": 11,
    "start_time": "2022-06-22T14:50:34.010Z"
   },
   {
    "duration": 10,
    "start_time": "2022-06-22T14:50:34.023Z"
   },
   {
    "duration": 133,
    "start_time": "2022-06-22T14:50:34.034Z"
   },
   {
    "duration": 18,
    "start_time": "2022-06-22T14:50:34.169Z"
   },
   {
    "duration": 13,
    "start_time": "2022-06-22T14:50:34.189Z"
   },
   {
    "duration": 936,
    "start_time": "2022-06-22T14:50:34.203Z"
   },
   {
    "duration": 514,
    "start_time": "2022-06-22T14:50:35.141Z"
   },
   {
    "duration": 904,
    "start_time": "2022-06-22T14:50:35.727Z"
   },
   {
    "duration": 394,
    "start_time": "2022-06-22T14:50:36.632Z"
   },
   {
    "duration": 414,
    "start_time": "2022-06-22T14:50:37.028Z"
   },
   {
    "duration": 12,
    "start_time": "2022-06-22T14:50:37.444Z"
   },
   {
    "duration": 270,
    "start_time": "2022-06-22T14:50:37.458Z"
   },
   {
    "duration": 210,
    "start_time": "2022-06-22T14:50:37.730Z"
   },
   {
    "duration": 6,
    "start_time": "2022-06-22T14:50:37.941Z"
   },
   {
    "duration": 585,
    "start_time": "2022-06-22T14:50:37.949Z"
   },
   {
    "duration": 296,
    "start_time": "2022-06-22T14:50:38.535Z"
   },
   {
    "duration": 5,
    "start_time": "2022-06-22T14:50:38.832Z"
   },
   {
    "duration": 318,
    "start_time": "2022-06-22T14:50:38.839Z"
   },
   {
    "duration": 246,
    "start_time": "2022-06-22T14:50:39.159Z"
   },
   {
    "duration": 20,
    "start_time": "2022-06-22T14:50:39.407Z"
   },
   {
    "duration": 12,
    "start_time": "2022-06-22T14:50:39.428Z"
   },
   {
    "duration": 28,
    "start_time": "2022-06-22T14:50:39.441Z"
   },
   {
    "duration": 64,
    "start_time": "2022-06-22T14:50:39.471Z"
   },
   {
    "duration": 607,
    "start_time": "2022-06-22T15:37:29.313Z"
   },
   {
    "duration": 196,
    "start_time": "2022-06-22T15:39:14.233Z"
   },
   {
    "duration": 168,
    "start_time": "2022-06-22T15:39:18.087Z"
   },
   {
    "duration": 196,
    "start_time": "2022-06-22T15:43:36.107Z"
   },
   {
    "duration": 268,
    "start_time": "2022-06-22T15:44:17.479Z"
   },
   {
    "duration": 300,
    "start_time": "2022-06-22T15:44:25.786Z"
   },
   {
    "duration": 212,
    "start_time": "2022-06-22T15:44:32.689Z"
   },
   {
    "duration": 210,
    "start_time": "2022-06-22T15:44:41.939Z"
   },
   {
    "duration": 188,
    "start_time": "2022-06-22T15:44:52.919Z"
   },
   {
    "duration": 1486,
    "start_time": "2022-06-22T15:49:33.498Z"
   },
   {
    "duration": 192,
    "start_time": "2022-06-22T15:49:40.367Z"
   },
   {
    "duration": 9,
    "start_time": "2022-06-22T15:49:45.195Z"
   },
   {
    "duration": 127,
    "start_time": "2022-06-22T15:50:25.067Z"
   },
   {
    "duration": 1869,
    "start_time": "2022-06-30T06:20:45.422Z"
   },
   {
    "duration": 69,
    "start_time": "2022-06-30T06:20:47.293Z"
   },
   {
    "duration": 17,
    "start_time": "2022-06-30T06:20:47.364Z"
   },
   {
    "duration": 4,
    "start_time": "2022-06-30T06:20:53.561Z"
   },
   {
    "duration": 9,
    "start_time": "2022-06-30T06:21:02.646Z"
   },
   {
    "duration": 12,
    "start_time": "2022-06-30T06:21:12.997Z"
   },
   {
    "duration": 160,
    "start_time": "2022-06-30T06:24:33.277Z"
   },
   {
    "duration": 4,
    "start_time": "2022-06-30T06:24:38.666Z"
   },
   {
    "duration": 52,
    "start_time": "2022-06-30T06:24:38.673Z"
   },
   {
    "duration": 76,
    "start_time": "2022-06-30T06:24:38.729Z"
   },
   {
    "duration": 23,
    "start_time": "2022-06-30T06:24:38.807Z"
   },
   {
    "duration": 12,
    "start_time": "2022-06-30T06:24:41.712Z"
   },
   {
    "duration": 18,
    "start_time": "2022-06-30T06:26:29.650Z"
   },
   {
    "duration": 4,
    "start_time": "2022-06-30T06:30:43.174Z"
   },
   {
    "duration": 31,
    "start_time": "2022-06-30T06:30:43.180Z"
   },
   {
    "duration": 21,
    "start_time": "2022-06-30T06:30:43.213Z"
   },
   {
    "duration": 71,
    "start_time": "2022-06-30T06:30:43.236Z"
   },
   {
    "duration": 23,
    "start_time": "2022-06-30T06:30:43.309Z"
   },
   {
    "duration": 154,
    "start_time": "2022-06-30T06:30:43.336Z"
   },
   {
    "duration": 23,
    "start_time": "2022-06-30T06:30:43.492Z"
   },
   {
    "duration": 18,
    "start_time": "2022-06-30T06:30:43.517Z"
   },
   {
    "duration": 711,
    "start_time": "2022-06-30T06:30:50.573Z"
   },
   {
    "duration": 566,
    "start_time": "2022-06-30T06:30:57.572Z"
   },
   {
    "duration": 237,
    "start_time": "2022-06-30T06:31:27.880Z"
   },
   {
    "duration": 409,
    "start_time": "2022-06-30T06:31:43.912Z"
   },
   {
    "duration": 286,
    "start_time": "2022-06-30T06:31:57.120Z"
   },
   {
    "duration": 402,
    "start_time": "2022-06-30T06:32:03.606Z"
   },
   {
    "duration": 58,
    "start_time": "2022-06-30T09:41:25.041Z"
   },
   {
    "duration": 75,
    "start_time": "2022-06-30T09:41:57.716Z"
   },
   {
    "duration": 576,
    "start_time": "2022-06-30T09:46:46.165Z"
   },
   {
    "duration": 564,
    "start_time": "2022-06-30T09:46:51.366Z"
   },
   {
    "duration": 3,
    "start_time": "2022-06-30T09:46:59.634Z"
   },
   {
    "duration": 40,
    "start_time": "2022-06-30T09:46:59.639Z"
   },
   {
    "duration": 13,
    "start_time": "2022-06-30T09:46:59.681Z"
   },
   {
    "duration": 29,
    "start_time": "2022-06-30T09:46:59.695Z"
   },
   {
    "duration": 20,
    "start_time": "2022-06-30T09:46:59.727Z"
   },
   {
    "duration": 40,
    "start_time": "2022-06-30T09:46:59.749Z"
   },
   {
    "duration": 25,
    "start_time": "2022-06-30T09:46:59.791Z"
   },
   {
    "duration": 21,
    "start_time": "2022-06-30T09:46:59.818Z"
   },
   {
    "duration": 502,
    "start_time": "2022-06-30T09:47:04.542Z"
   },
   {
    "duration": 479,
    "start_time": "2022-06-30T09:47:39.119Z"
   },
   {
    "duration": 478,
    "start_time": "2022-06-30T09:47:55.025Z"
   },
   {
    "duration": 3,
    "start_time": "2022-06-30T09:48:11.326Z"
   },
   {
    "duration": 47,
    "start_time": "2022-06-30T09:48:11.333Z"
   },
   {
    "duration": 12,
    "start_time": "2022-06-30T09:48:11.382Z"
   },
   {
    "duration": 22,
    "start_time": "2022-06-30T09:48:11.398Z"
   },
   {
    "duration": 30,
    "start_time": "2022-06-30T09:48:11.423Z"
   },
   {
    "duration": 54,
    "start_time": "2022-06-30T09:48:11.455Z"
   },
   {
    "duration": 22,
    "start_time": "2022-06-30T09:48:11.511Z"
   },
   {
    "duration": 17,
    "start_time": "2022-06-30T09:48:11.534Z"
   },
   {
    "duration": 478,
    "start_time": "2022-06-30T09:48:11.553Z"
   },
   {
    "duration": 485,
    "start_time": "2022-06-30T09:48:14.445Z"
   },
   {
    "duration": 473,
    "start_time": "2022-06-30T09:48:47.232Z"
   },
   {
    "duration": 5,
    "start_time": "2022-06-30T09:48:53.459Z"
   },
   {
    "duration": 29,
    "start_time": "2022-06-30T09:48:53.467Z"
   },
   {
    "duration": 17,
    "start_time": "2022-06-30T09:48:53.498Z"
   },
   {
    "duration": 19,
    "start_time": "2022-06-30T09:48:53.518Z"
   },
   {
    "duration": 17,
    "start_time": "2022-06-30T09:48:53.539Z"
   },
   {
    "duration": 40,
    "start_time": "2022-06-30T09:48:53.558Z"
   },
   {
    "duration": 21,
    "start_time": "2022-06-30T09:48:53.599Z"
   },
   {
    "duration": 14,
    "start_time": "2022-06-30T09:48:53.621Z"
   },
   {
    "duration": 495,
    "start_time": "2022-06-30T09:48:57.689Z"
   },
   {
    "duration": 481,
    "start_time": "2022-06-30T09:49:14.693Z"
   },
   {
    "duration": 470,
    "start_time": "2022-06-30T09:50:12.855Z"
   },
   {
    "duration": 486,
    "start_time": "2022-06-30T09:50:19.711Z"
   },
   {
    "duration": 543,
    "start_time": "2022-06-30T09:50:26.910Z"
   },
   {
    "duration": 481,
    "start_time": "2022-06-30T09:51:20.439Z"
   },
   {
    "duration": 521,
    "start_time": "2022-06-30T09:53:02.638Z"
   },
   {
    "duration": 455,
    "start_time": "2022-06-30T09:53:30.461Z"
   },
   {
    "duration": 453,
    "start_time": "2022-06-30T09:55:37.516Z"
   },
   {
    "duration": 461,
    "start_time": "2022-06-30T09:55:51.676Z"
   },
   {
    "duration": 437,
    "start_time": "2022-06-30T09:55:57.990Z"
   },
   {
    "duration": 502,
    "start_time": "2022-06-30T09:56:01.939Z"
   },
   {
    "duration": 480,
    "start_time": "2022-06-30T09:58:00.298Z"
   },
   {
    "duration": 489,
    "start_time": "2022-06-30T09:58:24.171Z"
   },
   {
    "duration": 438,
    "start_time": "2022-06-30T09:58:39.382Z"
   },
   {
    "duration": 517,
    "start_time": "2022-06-30T10:05:10.742Z"
   },
   {
    "duration": 439,
    "start_time": "2022-06-30T10:06:25.620Z"
   },
   {
    "duration": 500,
    "start_time": "2022-06-30T10:07:07.077Z"
   },
   {
    "duration": 370,
    "start_time": "2022-06-30T10:11:58.090Z"
   },
   {
    "duration": 710,
    "start_time": "2022-06-30T10:12:14.206Z"
   },
   {
    "duration": 187,
    "start_time": "2022-06-30T10:13:04.378Z"
   },
   {
    "duration": 50,
    "start_time": "2022-06-30T10:13:09.515Z"
   },
   {
    "duration": 200,
    "start_time": "2022-06-30T10:13:15.180Z"
   },
   {
    "duration": 476,
    "start_time": "2022-06-30T10:14:51.021Z"
   },
   {
    "duration": 305,
    "start_time": "2022-06-30T10:18:26.264Z"
   },
   {
    "duration": 267,
    "start_time": "2022-06-30T10:19:35.267Z"
   },
   {
    "duration": 3,
    "start_time": "2022-06-30T10:19:52.814Z"
   },
   {
    "duration": 26,
    "start_time": "2022-06-30T10:19:52.819Z"
   },
   {
    "duration": 10,
    "start_time": "2022-06-30T10:19:52.847Z"
   },
   {
    "duration": 15,
    "start_time": "2022-06-30T10:19:52.863Z"
   },
   {
    "duration": 18,
    "start_time": "2022-06-30T10:19:52.880Z"
   },
   {
    "duration": 42,
    "start_time": "2022-06-30T10:19:52.899Z"
   },
   {
    "duration": 15,
    "start_time": "2022-06-30T10:19:52.943Z"
   },
   {
    "duration": 11,
    "start_time": "2022-06-30T10:19:52.960Z"
   },
   {
    "duration": 270,
    "start_time": "2022-06-30T10:19:55.237Z"
   },
   {
    "duration": 271,
    "start_time": "2022-06-30T10:21:11.429Z"
   },
   {
    "duration": 299,
    "start_time": "2022-06-30T10:21:45.159Z"
   },
   {
    "duration": 469,
    "start_time": "2022-06-30T10:22:02.332Z"
   },
   {
    "duration": 571,
    "start_time": "2022-06-30T10:28:18.303Z"
   },
   {
    "duration": 214,
    "start_time": "2022-06-30T10:29:12.718Z"
   },
   {
    "duration": 197,
    "start_time": "2022-06-30T10:29:17.899Z"
   },
   {
    "duration": 305,
    "start_time": "2022-06-30T10:33:17.339Z"
   },
   {
    "duration": 61,
    "start_time": "2022-06-30T10:34:03.282Z"
   },
   {
    "duration": 472,
    "start_time": "2022-06-30T10:41:55.517Z"
   },
   {
    "duration": 4,
    "start_time": "2022-06-30T10:43:10.625Z"
   },
   {
    "duration": 31,
    "start_time": "2022-06-30T10:43:10.631Z"
   },
   {
    "duration": 12,
    "start_time": "2022-06-30T10:43:10.664Z"
   },
   {
    "duration": 15,
    "start_time": "2022-06-30T10:43:10.677Z"
   },
   {
    "duration": 14,
    "start_time": "2022-06-30T10:43:10.694Z"
   },
   {
    "duration": 41,
    "start_time": "2022-06-30T10:43:10.710Z"
   },
   {
    "duration": 19,
    "start_time": "2022-06-30T10:43:10.753Z"
   },
   {
    "duration": 20,
    "start_time": "2022-06-30T10:43:10.775Z"
   },
   {
    "duration": 472,
    "start_time": "2022-06-30T10:43:13.507Z"
   },
   {
    "duration": 473,
    "start_time": "2022-06-30T10:43:34.059Z"
   },
   {
    "duration": 493,
    "start_time": "2022-06-30T10:43:38.456Z"
   },
   {
    "duration": 444,
    "start_time": "2022-06-30T10:43:45.132Z"
   },
   {
    "duration": 505,
    "start_time": "2022-06-30T10:43:48.837Z"
   },
   {
    "duration": 1425,
    "start_time": "2022-07-03T05:56:22.721Z"
   },
   {
    "duration": 83,
    "start_time": "2022-07-03T05:56:24.149Z"
   },
   {
    "duration": 12,
    "start_time": "2022-07-03T05:56:24.236Z"
   },
   {
    "duration": 19,
    "start_time": "2022-07-03T05:56:24.250Z"
   },
   {
    "duration": 46,
    "start_time": "2022-07-03T05:56:24.272Z"
   },
   {
    "duration": 177,
    "start_time": "2022-07-03T05:56:24.320Z"
   },
   {
    "duration": 35,
    "start_time": "2022-07-03T05:56:24.498Z"
   },
   {
    "duration": 32,
    "start_time": "2022-07-03T05:56:24.534Z"
   },
   {
    "duration": 733,
    "start_time": "2022-07-03T05:56:24.571Z"
   },
   {
    "duration": 243,
    "start_time": "2022-07-03T05:56:25.306Z"
   },
   {
    "duration": 415,
    "start_time": "2022-07-03T05:56:25.550Z"
   },
   {
    "duration": 215,
    "start_time": "2022-07-03T05:56:25.966Z"
   },
   {
    "duration": 316,
    "start_time": "2022-07-03T05:56:26.183Z"
   },
   {
    "duration": 111,
    "start_time": "2022-07-03T05:56:28.986Z"
   },
   {
    "duration": 9,
    "start_time": "2022-07-03T05:56:49.186Z"
   },
   {
    "duration": 19,
    "start_time": "2022-07-03T05:56:53.684Z"
   },
   {
    "duration": 1289,
    "start_time": "2022-09-04T12:21:45.616Z"
   },
   {
    "duration": 83,
    "start_time": "2022-09-04T12:21:46.906Z"
   },
   {
    "duration": 13,
    "start_time": "2022-09-04T12:21:46.990Z"
   },
   {
    "duration": 12,
    "start_time": "2022-09-04T12:21:47.006Z"
   },
   {
    "duration": 24,
    "start_time": "2022-09-04T12:21:47.019Z"
   },
   {
    "duration": 139,
    "start_time": "2022-09-04T12:21:47.045Z"
   },
   {
    "duration": 18,
    "start_time": "2022-09-04T12:21:47.186Z"
   },
   {
    "duration": 12,
    "start_time": "2022-09-04T12:21:47.206Z"
   },
   {
    "duration": 569,
    "start_time": "2022-09-04T12:21:47.219Z"
   },
   {
    "duration": 207,
    "start_time": "2022-09-04T12:21:47.791Z"
   },
   {
    "duration": 334,
    "start_time": "2022-09-04T12:21:47.999Z"
   },
   {
    "duration": 200,
    "start_time": "2022-09-04T12:21:48.335Z"
   },
   {
    "duration": 321,
    "start_time": "2022-09-04T12:21:48.536Z"
   },
   {
    "duration": 8,
    "start_time": "2022-09-04T12:21:48.858Z"
   },
   {
    "duration": 93,
    "start_time": "2022-09-04T12:21:48.868Z"
   },
   {
    "duration": 0,
    "start_time": "2022-09-04T12:21:48.963Z"
   },
   {
    "duration": 0,
    "start_time": "2022-09-04T12:21:48.964Z"
   },
   {
    "duration": 0,
    "start_time": "2022-09-04T12:21:48.965Z"
   },
   {
    "duration": 0,
    "start_time": "2022-09-04T12:21:48.966Z"
   },
   {
    "duration": 0,
    "start_time": "2022-09-04T12:21:48.967Z"
   },
   {
    "duration": 0,
    "start_time": "2022-09-04T12:21:48.968Z"
   },
   {
    "duration": 0,
    "start_time": "2022-09-04T12:21:48.969Z"
   },
   {
    "duration": 0,
    "start_time": "2022-09-04T12:21:48.970Z"
   },
   {
    "duration": 0,
    "start_time": "2022-09-04T12:21:48.971Z"
   },
   {
    "duration": 0,
    "start_time": "2022-09-04T12:21:48.972Z"
   },
   {
    "duration": 0,
    "start_time": "2022-09-04T12:21:48.973Z"
   },
   {
    "duration": 2,
    "start_time": "2022-09-04T12:22:30.418Z"
   },
   {
    "duration": 54,
    "start_time": "2022-09-04T12:22:30.424Z"
   },
   {
    "duration": 11,
    "start_time": "2022-09-04T12:22:30.480Z"
   },
   {
    "duration": 27,
    "start_time": "2022-09-04T12:22:30.493Z"
   },
   {
    "duration": 27,
    "start_time": "2022-09-04T12:22:30.522Z"
   },
   {
    "duration": 77,
    "start_time": "2022-09-04T12:22:30.551Z"
   },
   {
    "duration": 18,
    "start_time": "2022-09-04T12:22:30.630Z"
   },
   {
    "duration": 24,
    "start_time": "2022-09-04T12:22:30.650Z"
   },
   {
    "duration": 457,
    "start_time": "2022-09-04T12:22:30.676Z"
   },
   {
    "duration": 268,
    "start_time": "2022-09-04T12:22:31.134Z"
   },
   {
    "duration": 270,
    "start_time": "2022-09-04T12:22:31.404Z"
   },
   {
    "duration": 194,
    "start_time": "2022-09-04T12:22:31.675Z"
   },
   {
    "duration": 289,
    "start_time": "2022-09-04T12:22:31.870Z"
   },
   {
    "duration": 7,
    "start_time": "2022-09-04T12:22:32.161Z"
   },
   {
    "duration": 45,
    "start_time": "2022-09-04T12:22:32.169Z"
   },
   {
    "duration": 20,
    "start_time": "2022-09-04T12:22:32.215Z"
   },
   {
    "duration": 0,
    "start_time": "2022-09-04T12:22:32.237Z"
   },
   {
    "duration": 0,
    "start_time": "2022-09-04T12:22:32.238Z"
   },
   {
    "duration": 0,
    "start_time": "2022-09-04T12:22:32.238Z"
   },
   {
    "duration": 0,
    "start_time": "2022-09-04T12:22:32.239Z"
   },
   {
    "duration": 0,
    "start_time": "2022-09-04T12:22:32.240Z"
   },
   {
    "duration": 0,
    "start_time": "2022-09-04T12:22:32.241Z"
   },
   {
    "duration": 0,
    "start_time": "2022-09-04T12:22:32.242Z"
   },
   {
    "duration": 0,
    "start_time": "2022-09-04T12:22:32.243Z"
   },
   {
    "duration": 0,
    "start_time": "2022-09-04T12:22:32.244Z"
   },
   {
    "duration": 0,
    "start_time": "2022-09-04T12:22:32.245Z"
   }
  ],
  "kernelspec": {
   "display_name": "Python 3 (ipykernel)",
   "language": "python",
   "name": "python3"
  },
  "language_info": {
   "codemirror_mode": {
    "name": "ipython",
    "version": 3
   },
   "file_extension": ".py",
   "mimetype": "text/x-python",
   "name": "python",
   "nbconvert_exporter": "python",
   "pygments_lexer": "ipython3",
   "version": "3.9.7"
  },
  "toc": {
   "base_numbering": 1,
   "nav_menu": {},
   "number_sections": true,
   "sideBar": true,
   "skip_h1_title": true,
   "title_cell": "Table of Contents",
   "title_sidebar": "Contents",
   "toc_cell": false,
   "toc_position": {},
   "toc_section_display": true,
   "toc_window_display": true
  }
 },
 "nbformat": 4,
 "nbformat_minor": 2
}
